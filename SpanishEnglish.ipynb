{
  "cells": [
    {
      "cell_type": "code",
      "execution_count": null,
      "id": "78b56971-1057-45a8-b991-5d167453e601",
      "metadata": {
        "id": "78b56971-1057-45a8-b991-5d167453e601"
      },
      "outputs": [],
      "source": [
        "import pandas as pd\n",
        "import numpy as np\n",
        "import matplotlib.pyplot as plt\n",
        "import seaborn as sns"
      ]
    },
    {
      "cell_type": "code",
      "execution_count": null,
      "id": "4cdf8bf4-9c3d-4ea7-92f1-ca03f2367bc0",
      "metadata": {
        "id": "4cdf8bf4-9c3d-4ea7-92f1-ca03f2367bc0"
      },
      "outputs": [],
      "source": [
        "pd.set_option('display.max_columns', None)"
      ]
    },
    {
      "cell_type": "code",
      "source": [
        "def hash_prompt(sentence):\n",
        "  hash = 0\n",
        "  for word in sentence:\n",
        "    for c in word:\n",
        "      hash = ord(c) + (hash << 2) - 3*hash\n",
        "  return hash"
      ],
      "metadata": {
        "id": "rCNhOc2qJzyd"
      },
      "id": "rCNhOc2qJzyd",
      "execution_count": null,
      "outputs": []
    },
    {
      "cell_type": "code",
      "source": [
        "def hash_token(token):\n",
        "  hash = 0\n",
        "  for c in token:\n",
        "    hash = ord(c) + (hash << 2) - 3*hash\n",
        "  return hash"
      ],
      "metadata": {
        "id": "6izBTyKkSLVc"
      },
      "id": "6izBTyKkSLVc",
      "execution_count": null,
      "outputs": []
    },
    {
      "cell_type": "code",
      "execution_count": null,
      "id": "991a7e4a-288d-4c39-b4e0-f7637372fb69",
      "metadata": {
        "id": "991a7e4a-288d-4c39-b4e0-f7637372fb69"
      },
      "outputs": [],
      "source": [
        "train = pd.read_csv('TransformedData/es.csv', low_memory = False)"
      ]
    },
    {
      "cell_type": "code",
      "execution_count": null,
      "id": "20c6f35f-e630-4bef-b5a6-17bc2e4b02ef",
      "metadata": {
        "id": "20c6f35f-e630-4bef-b5a6-17bc2e4b02ef",
        "colab": {
          "base_uri": "https://localhost:8080/",
          "height": 243
        },
        "outputId": "4542c347-6e6c-481b-e5e0-88d50750d291"
      },
      "outputs": [
        {
          "output_type": "execute_result",
          "data": {
            "text/plain": [
              "                prompt      user countries   days   session  \\\n",
              "52787                   nCtV8omH     AU|PE  6.499  practice   \n",
              "52788                   nCtV8omH     AU|PE  6.501  practice   \n",
              "52789  You eat cheese.  nCtV8omH     AU|PE  6.501  practice   \n",
              "52790                   nCtV8omH     AU|PE  6.501  practice   \n",
              "52791          Our cat  nCtV8omH     AU|PE  6.504  practice   \n",
              "\n",
              "                  format  time  token_1  pos_1 morf_1 case_1 gender_1  \\\n",
              "52787             listen   6.0      Los    DET    det    NaN     Masc   \n",
              "52788             listen   3.0       La    DET    det    NaN      Fem   \n",
              "52789        reverse_tap  12.0       Tú  PROPN  nsubj    NaN      NaN   \n",
              "52790             listen   3.0       La    DET    det    NaN      Fem   \n",
              "52791  reverse_translate  13.0  Nuestro    DET    det    NaN     Masc   \n",
              "\n",
              "      number_1  person_1 tense_1 pronType_1 token_2 pos_2 morf_2 case_2  \\\n",
              "52787     Plur       NaN     NaN        Art   niños  NOUN  nsubj    NaN   \n",
              "52788     Sing       NaN     NaN        Art   carne  NOUN   ROOT    NaN   \n",
              "52789      NaN       NaN     NaN        NaN   comes  VERB   ROOT    NaN   \n",
              "52790     Sing       NaN     NaN        Art  comida  NOUN   ROOT    NaN   \n",
              "52791     Plur       NaN     NaN        Prs     NaN   NaN    NaN    NaN   \n",
              "\n",
              "      gender_2 number_2  person_2 tense_2 pronType_2 token_3 pos_3 morf_3  \\\n",
              "52787     Masc     Plur       NaN     NaN        NaN    leen  VERB   ROOT   \n",
              "52788      Fem     Sing       NaN     NaN        NaN     NaN   NaN    NaN   \n",
              "52789      NaN     Plur       NaN     NaN        NaN   queso  NOUN   dobj   \n",
              "52790      Fem     Sing       NaN     NaN        NaN     NaN   NaN    NaN   \n",
              "52791      NaN      NaN       NaN     NaN        NaN     NaN   NaN    NaN   \n",
              "\n",
              "      case_3 gender_3 number_3  person_3 tense_3 pronType_3 token_4 pos_4  \\\n",
              "52787    NaN      NaN     Plur       3.0    Pres        NaN     NaN   NaN   \n",
              "52788    NaN      NaN      NaN       NaN     NaN        NaN     NaN   NaN   \n",
              "52789    NaN     Masc     Sing       NaN     NaN        NaN     NaN   NaN   \n",
              "52790    NaN      NaN      NaN       NaN     NaN        NaN     NaN   NaN   \n",
              "52791    NaN      NaN      NaN       NaN     NaN        NaN     NaN   NaN   \n",
              "\n",
              "      morf_4 case_4 gender_4 number_4  person_4 tense_4 pronType_4 token_5  \\\n",
              "52787    NaN    NaN      NaN      NaN       NaN     NaN        NaN     NaN   \n",
              "52788    NaN    NaN      NaN      NaN       NaN     NaN        NaN     NaN   \n",
              "52789    NaN    NaN      NaN      NaN       NaN     NaN        NaN     NaN   \n",
              "52790    NaN    NaN      NaN      NaN       NaN     NaN        NaN     NaN   \n",
              "52791    NaN    NaN      NaN      NaN       NaN     NaN        NaN     NaN   \n",
              "\n",
              "      pos_5 morf_5 case_5 gender_5 number_5  person_5 tense_5 pronType_5  \\\n",
              "52787   NaN    NaN    NaN      NaN      NaN       NaN     NaN        NaN   \n",
              "52788   NaN    NaN    NaN      NaN      NaN       NaN     NaN        NaN   \n",
              "52789   NaN    NaN    NaN      NaN      NaN       NaN     NaN        NaN   \n",
              "52790   NaN    NaN    NaN      NaN      NaN       NaN     NaN        NaN   \n",
              "52791   NaN    NaN    NaN      NaN      NaN       NaN     NaN        NaN   \n",
              "\n",
              "      token_6 pos_6 morf_6 case_6 gender_6 number_6  person_6 tense_6  \\\n",
              "52787     NaN   NaN    NaN    NaN      NaN      NaN       NaN     NaN   \n",
              "52788     NaN   NaN    NaN    NaN      NaN      NaN       NaN     NaN   \n",
              "52789     NaN   NaN    NaN    NaN      NaN      NaN       NaN     NaN   \n",
              "52790     NaN   NaN    NaN    NaN      NaN      NaN       NaN     NaN   \n",
              "52791     NaN   NaN    NaN    NaN      NaN      NaN       NaN     NaN   \n",
              "\n",
              "      pronType_6 token_7 pos_7 morf_7 case_7 gender_7 number_7  person_7  \\\n",
              "52787        NaN     NaN   NaN    NaN    NaN      NaN      NaN       NaN   \n",
              "52788        NaN     NaN   NaN    NaN    NaN      NaN      NaN       NaN   \n",
              "52789        NaN     NaN   NaN    NaN    NaN      NaN      NaN       NaN   \n",
              "52790        NaN     NaN   NaN    NaN    NaN      NaN      NaN       NaN   \n",
              "52791        NaN     NaN   NaN    NaN    NaN      NaN      NaN       NaN   \n",
              "\n",
              "      tense_7 pronType_7 token_8 pos_8 morf_8  case_8 gender_8 number_8  \\\n",
              "52787     NaN        NaN     NaN   NaN    NaN     NaN      NaN      NaN   \n",
              "52788     NaN        NaN     NaN   NaN    NaN     NaN      NaN      NaN   \n",
              "52789     NaN        NaN     NaN   NaN    NaN     NaN      NaN      NaN   \n",
              "52790     NaN        NaN     NaN   NaN    NaN     NaN      NaN      NaN   \n",
              "52791     NaN        NaN     NaN   NaN    NaN     NaN      NaN      NaN   \n",
              "\n",
              "       person_8 tense_8 pronType_8 token_9 pos_9 morf_9  case_9 gender_9  \\\n",
              "52787       NaN     NaN        NaN     NaN   NaN    NaN     NaN      NaN   \n",
              "52788       NaN     NaN        NaN     NaN   NaN    NaN     NaN      NaN   \n",
              "52789       NaN     NaN        NaN     NaN   NaN    NaN     NaN      NaN   \n",
              "52790       NaN     NaN        NaN     NaN   NaN    NaN     NaN      NaN   \n",
              "52791       NaN     NaN        NaN     NaN   NaN    NaN     NaN      NaN   \n",
              "\n",
              "      number_9  person_9  tense_9 pronType_9 token_10 pos_10 morf_10  case_10  \\\n",
              "52787      NaN       NaN      NaN        NaN      NaN    NaN     NaN      NaN   \n",
              "52788      NaN       NaN      NaN        NaN      NaN    NaN     NaN      NaN   \n",
              "52789      NaN       NaN      NaN        NaN      NaN    NaN     NaN      NaN   \n",
              "52790      NaN       NaN      NaN        NaN      NaN    NaN     NaN      NaN   \n",
              "52791      NaN       NaN      NaN        NaN      NaN    NaN     NaN      NaN   \n",
              "\n",
              "      gender_10 number_10  person_10  tense_10  pronType_10 token_11 pos_11  \\\n",
              "52787       NaN       NaN        NaN       NaN          NaN      NaN    NaN   \n",
              "52788       NaN       NaN        NaN       NaN          NaN      NaN    NaN   \n",
              "52789       NaN       NaN        NaN       NaN          NaN      NaN    NaN   \n",
              "52790       NaN       NaN        NaN       NaN          NaN      NaN    NaN   \n",
              "52791       NaN       NaN        NaN       NaN          NaN      NaN    NaN   \n",
              "\n",
              "      morf_11  case_11  gender_11 number_11  person_11  tense_11 pronType_11  \\\n",
              "52787     NaN      NaN        NaN       NaN        NaN       NaN         NaN   \n",
              "52788     NaN      NaN        NaN       NaN        NaN       NaN         NaN   \n",
              "52789     NaN      NaN        NaN       NaN        NaN       NaN         NaN   \n",
              "52790     NaN      NaN        NaN       NaN        NaN       NaN         NaN   \n",
              "52791     NaN      NaN        NaN       NaN        NaN       NaN         NaN   \n",
              "\n",
              "      token_12 pos_12 morf_12  case_12 gender_12 number_12  person_12  \\\n",
              "52787      NaN    NaN     NaN      NaN       NaN       NaN        NaN   \n",
              "52788      NaN    NaN     NaN      NaN       NaN       NaN        NaN   \n",
              "52789      NaN    NaN     NaN      NaN       NaN       NaN        NaN   \n",
              "52790      NaN    NaN     NaN      NaN       NaN       NaN        NaN   \n",
              "52791      NaN    NaN     NaN      NaN       NaN       NaN        NaN   \n",
              "\n",
              "       tense_12  pronType_12  acc_sum  \n",
              "52787       NaN          NaN      1.0  \n",
              "52788       NaN          NaN      0.0  \n",
              "52789       NaN          NaN      0.0  \n",
              "52790       NaN          NaN      0.0  \n",
              "52791       NaN          NaN      1.0  "
            ],
            "text/html": [
              "\n",
              "  <div id=\"df-ea3da7d3-b0a9-4928-a215-2261a5cd78d4\" class=\"colab-df-container\">\n",
              "    <div>\n",
              "<style scoped>\n",
              "    .dataframe tbody tr th:only-of-type {\n",
              "        vertical-align: middle;\n",
              "    }\n",
              "\n",
              "    .dataframe tbody tr th {\n",
              "        vertical-align: top;\n",
              "    }\n",
              "\n",
              "    .dataframe thead th {\n",
              "        text-align: right;\n",
              "    }\n",
              "</style>\n",
              "<table border=\"1\" class=\"dataframe\">\n",
              "  <thead>\n",
              "    <tr style=\"text-align: right;\">\n",
              "      <th></th>\n",
              "      <th>prompt</th>\n",
              "      <th>user</th>\n",
              "      <th>countries</th>\n",
              "      <th>days</th>\n",
              "      <th>session</th>\n",
              "      <th>format</th>\n",
              "      <th>time</th>\n",
              "      <th>token_1</th>\n",
              "      <th>pos_1</th>\n",
              "      <th>morf_1</th>\n",
              "      <th>case_1</th>\n",
              "      <th>gender_1</th>\n",
              "      <th>number_1</th>\n",
              "      <th>person_1</th>\n",
              "      <th>tense_1</th>\n",
              "      <th>pronType_1</th>\n",
              "      <th>token_2</th>\n",
              "      <th>pos_2</th>\n",
              "      <th>morf_2</th>\n",
              "      <th>case_2</th>\n",
              "      <th>gender_2</th>\n",
              "      <th>number_2</th>\n",
              "      <th>person_2</th>\n",
              "      <th>tense_2</th>\n",
              "      <th>pronType_2</th>\n",
              "      <th>token_3</th>\n",
              "      <th>pos_3</th>\n",
              "      <th>morf_3</th>\n",
              "      <th>case_3</th>\n",
              "      <th>gender_3</th>\n",
              "      <th>number_3</th>\n",
              "      <th>person_3</th>\n",
              "      <th>tense_3</th>\n",
              "      <th>pronType_3</th>\n",
              "      <th>token_4</th>\n",
              "      <th>pos_4</th>\n",
              "      <th>morf_4</th>\n",
              "      <th>case_4</th>\n",
              "      <th>gender_4</th>\n",
              "      <th>number_4</th>\n",
              "      <th>person_4</th>\n",
              "      <th>tense_4</th>\n",
              "      <th>pronType_4</th>\n",
              "      <th>token_5</th>\n",
              "      <th>pos_5</th>\n",
              "      <th>morf_5</th>\n",
              "      <th>case_5</th>\n",
              "      <th>gender_5</th>\n",
              "      <th>number_5</th>\n",
              "      <th>person_5</th>\n",
              "      <th>tense_5</th>\n",
              "      <th>pronType_5</th>\n",
              "      <th>token_6</th>\n",
              "      <th>pos_6</th>\n",
              "      <th>morf_6</th>\n",
              "      <th>case_6</th>\n",
              "      <th>gender_6</th>\n",
              "      <th>number_6</th>\n",
              "      <th>person_6</th>\n",
              "      <th>tense_6</th>\n",
              "      <th>pronType_6</th>\n",
              "      <th>token_7</th>\n",
              "      <th>pos_7</th>\n",
              "      <th>morf_7</th>\n",
              "      <th>case_7</th>\n",
              "      <th>gender_7</th>\n",
              "      <th>number_7</th>\n",
              "      <th>person_7</th>\n",
              "      <th>tense_7</th>\n",
              "      <th>pronType_7</th>\n",
              "      <th>token_8</th>\n",
              "      <th>pos_8</th>\n",
              "      <th>morf_8</th>\n",
              "      <th>case_8</th>\n",
              "      <th>gender_8</th>\n",
              "      <th>number_8</th>\n",
              "      <th>person_8</th>\n",
              "      <th>tense_8</th>\n",
              "      <th>pronType_8</th>\n",
              "      <th>token_9</th>\n",
              "      <th>pos_9</th>\n",
              "      <th>morf_9</th>\n",
              "      <th>case_9</th>\n",
              "      <th>gender_9</th>\n",
              "      <th>number_9</th>\n",
              "      <th>person_9</th>\n",
              "      <th>tense_9</th>\n",
              "      <th>pronType_9</th>\n",
              "      <th>token_10</th>\n",
              "      <th>pos_10</th>\n",
              "      <th>morf_10</th>\n",
              "      <th>case_10</th>\n",
              "      <th>gender_10</th>\n",
              "      <th>number_10</th>\n",
              "      <th>person_10</th>\n",
              "      <th>tense_10</th>\n",
              "      <th>pronType_10</th>\n",
              "      <th>token_11</th>\n",
              "      <th>pos_11</th>\n",
              "      <th>morf_11</th>\n",
              "      <th>case_11</th>\n",
              "      <th>gender_11</th>\n",
              "      <th>number_11</th>\n",
              "      <th>person_11</th>\n",
              "      <th>tense_11</th>\n",
              "      <th>pronType_11</th>\n",
              "      <th>token_12</th>\n",
              "      <th>pos_12</th>\n",
              "      <th>morf_12</th>\n",
              "      <th>case_12</th>\n",
              "      <th>gender_12</th>\n",
              "      <th>number_12</th>\n",
              "      <th>person_12</th>\n",
              "      <th>tense_12</th>\n",
              "      <th>pronType_12</th>\n",
              "      <th>acc_sum</th>\n",
              "    </tr>\n",
              "  </thead>\n",
              "  <tbody>\n",
              "    <tr>\n",
              "      <th>52787</th>\n",
              "      <td></td>\n",
              "      <td>nCtV8omH</td>\n",
              "      <td>AU|PE</td>\n",
              "      <td>6.499</td>\n",
              "      <td>practice</td>\n",
              "      <td>listen</td>\n",
              "      <td>6.0</td>\n",
              "      <td>Los</td>\n",
              "      <td>DET</td>\n",
              "      <td>det</td>\n",
              "      <td>NaN</td>\n",
              "      <td>Masc</td>\n",
              "      <td>Plur</td>\n",
              "      <td>NaN</td>\n",
              "      <td>NaN</td>\n",
              "      <td>Art</td>\n",
              "      <td>niños</td>\n",
              "      <td>NOUN</td>\n",
              "      <td>nsubj</td>\n",
              "      <td>NaN</td>\n",
              "      <td>Masc</td>\n",
              "      <td>Plur</td>\n",
              "      <td>NaN</td>\n",
              "      <td>NaN</td>\n",
              "      <td>NaN</td>\n",
              "      <td>leen</td>\n",
              "      <td>VERB</td>\n",
              "      <td>ROOT</td>\n",
              "      <td>NaN</td>\n",
              "      <td>NaN</td>\n",
              "      <td>Plur</td>\n",
              "      <td>3.0</td>\n",
              "      <td>Pres</td>\n",
              "      <td>NaN</td>\n",
              "      <td>NaN</td>\n",
              "      <td>NaN</td>\n",
              "      <td>NaN</td>\n",
              "      <td>NaN</td>\n",
              "      <td>NaN</td>\n",
              "      <td>NaN</td>\n",
              "      <td>NaN</td>\n",
              "      <td>NaN</td>\n",
              "      <td>NaN</td>\n",
              "      <td>NaN</td>\n",
              "      <td>NaN</td>\n",
              "      <td>NaN</td>\n",
              "      <td>NaN</td>\n",
              "      <td>NaN</td>\n",
              "      <td>NaN</td>\n",
              "      <td>NaN</td>\n",
              "      <td>NaN</td>\n",
              "      <td>NaN</td>\n",
              "      <td>NaN</td>\n",
              "      <td>NaN</td>\n",
              "      <td>NaN</td>\n",
              "      <td>NaN</td>\n",
              "      <td>NaN</td>\n",
              "      <td>NaN</td>\n",
              "      <td>NaN</td>\n",
              "      <td>NaN</td>\n",
              "      <td>NaN</td>\n",
              "      <td>NaN</td>\n",
              "      <td>NaN</td>\n",
              "      <td>NaN</td>\n",
              "      <td>NaN</td>\n",
              "      <td>NaN</td>\n",
              "      <td>NaN</td>\n",
              "      <td>NaN</td>\n",
              "      <td>NaN</td>\n",
              "      <td>NaN</td>\n",
              "      <td>NaN</td>\n",
              "      <td>NaN</td>\n",
              "      <td>NaN</td>\n",
              "      <td>NaN</td>\n",
              "      <td>NaN</td>\n",
              "      <td>NaN</td>\n",
              "      <td>NaN</td>\n",
              "      <td>NaN</td>\n",
              "      <td>NaN</td>\n",
              "      <td>NaN</td>\n",
              "      <td>NaN</td>\n",
              "      <td>NaN</td>\n",
              "      <td>NaN</td>\n",
              "      <td>NaN</td>\n",
              "      <td>NaN</td>\n",
              "      <td>NaN</td>\n",
              "      <td>NaN</td>\n",
              "      <td>NaN</td>\n",
              "      <td>NaN</td>\n",
              "      <td>NaN</td>\n",
              "      <td>NaN</td>\n",
              "      <td>NaN</td>\n",
              "      <td>NaN</td>\n",
              "      <td>NaN</td>\n",
              "      <td>NaN</td>\n",
              "      <td>NaN</td>\n",
              "      <td>NaN</td>\n",
              "      <td>NaN</td>\n",
              "      <td>NaN</td>\n",
              "      <td>NaN</td>\n",
              "      <td>NaN</td>\n",
              "      <td>NaN</td>\n",
              "      <td>NaN</td>\n",
              "      <td>NaN</td>\n",
              "      <td>NaN</td>\n",
              "      <td>NaN</td>\n",
              "      <td>NaN</td>\n",
              "      <td>NaN</td>\n",
              "      <td>NaN</td>\n",
              "      <td>NaN</td>\n",
              "      <td>NaN</td>\n",
              "      <td>NaN</td>\n",
              "      <td>NaN</td>\n",
              "      <td>NaN</td>\n",
              "      <td>NaN</td>\n",
              "      <td>1.0</td>\n",
              "    </tr>\n",
              "    <tr>\n",
              "      <th>52788</th>\n",
              "      <td></td>\n",
              "      <td>nCtV8omH</td>\n",
              "      <td>AU|PE</td>\n",
              "      <td>6.501</td>\n",
              "      <td>practice</td>\n",
              "      <td>listen</td>\n",
              "      <td>3.0</td>\n",
              "      <td>La</td>\n",
              "      <td>DET</td>\n",
              "      <td>det</td>\n",
              "      <td>NaN</td>\n",
              "      <td>Fem</td>\n",
              "      <td>Sing</td>\n",
              "      <td>NaN</td>\n",
              "      <td>NaN</td>\n",
              "      <td>Art</td>\n",
              "      <td>carne</td>\n",
              "      <td>NOUN</td>\n",
              "      <td>ROOT</td>\n",
              "      <td>NaN</td>\n",
              "      <td>Fem</td>\n",
              "      <td>Sing</td>\n",
              "      <td>NaN</td>\n",
              "      <td>NaN</td>\n",
              "      <td>NaN</td>\n",
              "      <td>NaN</td>\n",
              "      <td>NaN</td>\n",
              "      <td>NaN</td>\n",
              "      <td>NaN</td>\n",
              "      <td>NaN</td>\n",
              "      <td>NaN</td>\n",
              "      <td>NaN</td>\n",
              "      <td>NaN</td>\n",
              "      <td>NaN</td>\n",
              "      <td>NaN</td>\n",
              "      <td>NaN</td>\n",
              "      <td>NaN</td>\n",
              "      <td>NaN</td>\n",
              "      <td>NaN</td>\n",
              "      <td>NaN</td>\n",
              "      <td>NaN</td>\n",
              "      <td>NaN</td>\n",
              "      <td>NaN</td>\n",
              "      <td>NaN</td>\n",
              "      <td>NaN</td>\n",
              "      <td>NaN</td>\n",
              "      <td>NaN</td>\n",
              "      <td>NaN</td>\n",
              "      <td>NaN</td>\n",
              "      <td>NaN</td>\n",
              "      <td>NaN</td>\n",
              "      <td>NaN</td>\n",
              "      <td>NaN</td>\n",
              "      <td>NaN</td>\n",
              "      <td>NaN</td>\n",
              "      <td>NaN</td>\n",
              "      <td>NaN</td>\n",
              "      <td>NaN</td>\n",
              "      <td>NaN</td>\n",
              "      <td>NaN</td>\n",
              "      <td>NaN</td>\n",
              "      <td>NaN</td>\n",
              "      <td>NaN</td>\n",
              "      <td>NaN</td>\n",
              "      <td>NaN</td>\n",
              "      <td>NaN</td>\n",
              "      <td>NaN</td>\n",
              "      <td>NaN</td>\n",
              "      <td>NaN</td>\n",
              "      <td>NaN</td>\n",
              "      <td>NaN</td>\n",
              "      <td>NaN</td>\n",
              "      <td>NaN</td>\n",
              "      <td>NaN</td>\n",
              "      <td>NaN</td>\n",
              "      <td>NaN</td>\n",
              "      <td>NaN</td>\n",
              "      <td>NaN</td>\n",
              "      <td>NaN</td>\n",
              "      <td>NaN</td>\n",
              "      <td>NaN</td>\n",
              "      <td>NaN</td>\n",
              "      <td>NaN</td>\n",
              "      <td>NaN</td>\n",
              "      <td>NaN</td>\n",
              "      <td>NaN</td>\n",
              "      <td>NaN</td>\n",
              "      <td>NaN</td>\n",
              "      <td>NaN</td>\n",
              "      <td>NaN</td>\n",
              "      <td>NaN</td>\n",
              "      <td>NaN</td>\n",
              "      <td>NaN</td>\n",
              "      <td>NaN</td>\n",
              "      <td>NaN</td>\n",
              "      <td>NaN</td>\n",
              "      <td>NaN</td>\n",
              "      <td>NaN</td>\n",
              "      <td>NaN</td>\n",
              "      <td>NaN</td>\n",
              "      <td>NaN</td>\n",
              "      <td>NaN</td>\n",
              "      <td>NaN</td>\n",
              "      <td>NaN</td>\n",
              "      <td>NaN</td>\n",
              "      <td>NaN</td>\n",
              "      <td>NaN</td>\n",
              "      <td>NaN</td>\n",
              "      <td>NaN</td>\n",
              "      <td>NaN</td>\n",
              "      <td>NaN</td>\n",
              "      <td>NaN</td>\n",
              "      <td>NaN</td>\n",
              "      <td>NaN</td>\n",
              "      <td>NaN</td>\n",
              "      <td>0.0</td>\n",
              "    </tr>\n",
              "    <tr>\n",
              "      <th>52789</th>\n",
              "      <td>You eat cheese.</td>\n",
              "      <td>nCtV8omH</td>\n",
              "      <td>AU|PE</td>\n",
              "      <td>6.501</td>\n",
              "      <td>practice</td>\n",
              "      <td>reverse_tap</td>\n",
              "      <td>12.0</td>\n",
              "      <td>Tú</td>\n",
              "      <td>PROPN</td>\n",
              "      <td>nsubj</td>\n",
              "      <td>NaN</td>\n",
              "      <td>NaN</td>\n",
              "      <td>NaN</td>\n",
              "      <td>NaN</td>\n",
              "      <td>NaN</td>\n",
              "      <td>NaN</td>\n",
              "      <td>comes</td>\n",
              "      <td>VERB</td>\n",
              "      <td>ROOT</td>\n",
              "      <td>NaN</td>\n",
              "      <td>NaN</td>\n",
              "      <td>Plur</td>\n",
              "      <td>NaN</td>\n",
              "      <td>NaN</td>\n",
              "      <td>NaN</td>\n",
              "      <td>queso</td>\n",
              "      <td>NOUN</td>\n",
              "      <td>dobj</td>\n",
              "      <td>NaN</td>\n",
              "      <td>Masc</td>\n",
              "      <td>Sing</td>\n",
              "      <td>NaN</td>\n",
              "      <td>NaN</td>\n",
              "      <td>NaN</td>\n",
              "      <td>NaN</td>\n",
              "      <td>NaN</td>\n",
              "      <td>NaN</td>\n",
              "      <td>NaN</td>\n",
              "      <td>NaN</td>\n",
              "      <td>NaN</td>\n",
              "      <td>NaN</td>\n",
              "      <td>NaN</td>\n",
              "      <td>NaN</td>\n",
              "      <td>NaN</td>\n",
              "      <td>NaN</td>\n",
              "      <td>NaN</td>\n",
              "      <td>NaN</td>\n",
              "      <td>NaN</td>\n",
              "      <td>NaN</td>\n",
              "      <td>NaN</td>\n",
              "      <td>NaN</td>\n",
              "      <td>NaN</td>\n",
              "      <td>NaN</td>\n",
              "      <td>NaN</td>\n",
              "      <td>NaN</td>\n",
              "      <td>NaN</td>\n",
              "      <td>NaN</td>\n",
              "      <td>NaN</td>\n",
              "      <td>NaN</td>\n",
              "      <td>NaN</td>\n",
              "      <td>NaN</td>\n",
              "      <td>NaN</td>\n",
              "      <td>NaN</td>\n",
              "      <td>NaN</td>\n",
              "      <td>NaN</td>\n",
              "      <td>NaN</td>\n",
              "      <td>NaN</td>\n",
              "      <td>NaN</td>\n",
              "      <td>NaN</td>\n",
              "      <td>NaN</td>\n",
              "      <td>NaN</td>\n",
              "      <td>NaN</td>\n",
              "      <td>NaN</td>\n",
              "      <td>NaN</td>\n",
              "      <td>NaN</td>\n",
              "      <td>NaN</td>\n",
              "      <td>NaN</td>\n",
              "      <td>NaN</td>\n",
              "      <td>NaN</td>\n",
              "      <td>NaN</td>\n",
              "      <td>NaN</td>\n",
              "      <td>NaN</td>\n",
              "      <td>NaN</td>\n",
              "      <td>NaN</td>\n",
              "      <td>NaN</td>\n",
              "      <td>NaN</td>\n",
              "      <td>NaN</td>\n",
              "      <td>NaN</td>\n",
              "      <td>NaN</td>\n",
              "      <td>NaN</td>\n",
              "      <td>NaN</td>\n",
              "      <td>NaN</td>\n",
              "      <td>NaN</td>\n",
              "      <td>NaN</td>\n",
              "      <td>NaN</td>\n",
              "      <td>NaN</td>\n",
              "      <td>NaN</td>\n",
              "      <td>NaN</td>\n",
              "      <td>NaN</td>\n",
              "      <td>NaN</td>\n",
              "      <td>NaN</td>\n",
              "      <td>NaN</td>\n",
              "      <td>NaN</td>\n",
              "      <td>NaN</td>\n",
              "      <td>NaN</td>\n",
              "      <td>NaN</td>\n",
              "      <td>NaN</td>\n",
              "      <td>NaN</td>\n",
              "      <td>NaN</td>\n",
              "      <td>NaN</td>\n",
              "      <td>NaN</td>\n",
              "      <td>NaN</td>\n",
              "      <td>NaN</td>\n",
              "      <td>NaN</td>\n",
              "      <td>NaN</td>\n",
              "      <td>0.0</td>\n",
              "    </tr>\n",
              "    <tr>\n",
              "      <th>52790</th>\n",
              "      <td></td>\n",
              "      <td>nCtV8omH</td>\n",
              "      <td>AU|PE</td>\n",
              "      <td>6.501</td>\n",
              "      <td>practice</td>\n",
              "      <td>listen</td>\n",
              "      <td>3.0</td>\n",
              "      <td>La</td>\n",
              "      <td>DET</td>\n",
              "      <td>det</td>\n",
              "      <td>NaN</td>\n",
              "      <td>Fem</td>\n",
              "      <td>Sing</td>\n",
              "      <td>NaN</td>\n",
              "      <td>NaN</td>\n",
              "      <td>Art</td>\n",
              "      <td>comida</td>\n",
              "      <td>NOUN</td>\n",
              "      <td>ROOT</td>\n",
              "      <td>NaN</td>\n",
              "      <td>Fem</td>\n",
              "      <td>Sing</td>\n",
              "      <td>NaN</td>\n",
              "      <td>NaN</td>\n",
              "      <td>NaN</td>\n",
              "      <td>NaN</td>\n",
              "      <td>NaN</td>\n",
              "      <td>NaN</td>\n",
              "      <td>NaN</td>\n",
              "      <td>NaN</td>\n",
              "      <td>NaN</td>\n",
              "      <td>NaN</td>\n",
              "      <td>NaN</td>\n",
              "      <td>NaN</td>\n",
              "      <td>NaN</td>\n",
              "      <td>NaN</td>\n",
              "      <td>NaN</td>\n",
              "      <td>NaN</td>\n",
              "      <td>NaN</td>\n",
              "      <td>NaN</td>\n",
              "      <td>NaN</td>\n",
              "      <td>NaN</td>\n",
              "      <td>NaN</td>\n",
              "      <td>NaN</td>\n",
              "      <td>NaN</td>\n",
              "      <td>NaN</td>\n",
              "      <td>NaN</td>\n",
              "      <td>NaN</td>\n",
              "      <td>NaN</td>\n",
              "      <td>NaN</td>\n",
              "      <td>NaN</td>\n",
              "      <td>NaN</td>\n",
              "      <td>NaN</td>\n",
              "      <td>NaN</td>\n",
              "      <td>NaN</td>\n",
              "      <td>NaN</td>\n",
              "      <td>NaN</td>\n",
              "      <td>NaN</td>\n",
              "      <td>NaN</td>\n",
              "      <td>NaN</td>\n",
              "      <td>NaN</td>\n",
              "      <td>NaN</td>\n",
              "      <td>NaN</td>\n",
              "      <td>NaN</td>\n",
              "      <td>NaN</td>\n",
              "      <td>NaN</td>\n",
              "      <td>NaN</td>\n",
              "      <td>NaN</td>\n",
              "      <td>NaN</td>\n",
              "      <td>NaN</td>\n",
              "      <td>NaN</td>\n",
              "      <td>NaN</td>\n",
              "      <td>NaN</td>\n",
              "      <td>NaN</td>\n",
              "      <td>NaN</td>\n",
              "      <td>NaN</td>\n",
              "      <td>NaN</td>\n",
              "      <td>NaN</td>\n",
              "      <td>NaN</td>\n",
              "      <td>NaN</td>\n",
              "      <td>NaN</td>\n",
              "      <td>NaN</td>\n",
              "      <td>NaN</td>\n",
              "      <td>NaN</td>\n",
              "      <td>NaN</td>\n",
              "      <td>NaN</td>\n",
              "      <td>NaN</td>\n",
              "      <td>NaN</td>\n",
              "      <td>NaN</td>\n",
              "      <td>NaN</td>\n",
              "      <td>NaN</td>\n",
              "      <td>NaN</td>\n",
              "      <td>NaN</td>\n",
              "      <td>NaN</td>\n",
              "      <td>NaN</td>\n",
              "      <td>NaN</td>\n",
              "      <td>NaN</td>\n",
              "      <td>NaN</td>\n",
              "      <td>NaN</td>\n",
              "      <td>NaN</td>\n",
              "      <td>NaN</td>\n",
              "      <td>NaN</td>\n",
              "      <td>NaN</td>\n",
              "      <td>NaN</td>\n",
              "      <td>NaN</td>\n",
              "      <td>NaN</td>\n",
              "      <td>NaN</td>\n",
              "      <td>NaN</td>\n",
              "      <td>NaN</td>\n",
              "      <td>NaN</td>\n",
              "      <td>NaN</td>\n",
              "      <td>NaN</td>\n",
              "      <td>NaN</td>\n",
              "      <td>NaN</td>\n",
              "      <td>NaN</td>\n",
              "      <td>0.0</td>\n",
              "    </tr>\n",
              "    <tr>\n",
              "      <th>52791</th>\n",
              "      <td>Our cat</td>\n",
              "      <td>nCtV8omH</td>\n",
              "      <td>AU|PE</td>\n",
              "      <td>6.504</td>\n",
              "      <td>practice</td>\n",
              "      <td>reverse_translate</td>\n",
              "      <td>13.0</td>\n",
              "      <td>Nuestro</td>\n",
              "      <td>DET</td>\n",
              "      <td>det</td>\n",
              "      <td>NaN</td>\n",
              "      <td>Masc</td>\n",
              "      <td>Plur</td>\n",
              "      <td>NaN</td>\n",
              "      <td>NaN</td>\n",
              "      <td>Prs</td>\n",
              "      <td>NaN</td>\n",
              "      <td>NaN</td>\n",
              "      <td>NaN</td>\n",
              "      <td>NaN</td>\n",
              "      <td>NaN</td>\n",
              "      <td>NaN</td>\n",
              "      <td>NaN</td>\n",
              "      <td>NaN</td>\n",
              "      <td>NaN</td>\n",
              "      <td>NaN</td>\n",
              "      <td>NaN</td>\n",
              "      <td>NaN</td>\n",
              "      <td>NaN</td>\n",
              "      <td>NaN</td>\n",
              "      <td>NaN</td>\n",
              "      <td>NaN</td>\n",
              "      <td>NaN</td>\n",
              "      <td>NaN</td>\n",
              "      <td>NaN</td>\n",
              "      <td>NaN</td>\n",
              "      <td>NaN</td>\n",
              "      <td>NaN</td>\n",
              "      <td>NaN</td>\n",
              "      <td>NaN</td>\n",
              "      <td>NaN</td>\n",
              "      <td>NaN</td>\n",
              "      <td>NaN</td>\n",
              "      <td>NaN</td>\n",
              "      <td>NaN</td>\n",
              "      <td>NaN</td>\n",
              "      <td>NaN</td>\n",
              "      <td>NaN</td>\n",
              "      <td>NaN</td>\n",
              "      <td>NaN</td>\n",
              "      <td>NaN</td>\n",
              "      <td>NaN</td>\n",
              "      <td>NaN</td>\n",
              "      <td>NaN</td>\n",
              "      <td>NaN</td>\n",
              "      <td>NaN</td>\n",
              "      <td>NaN</td>\n",
              "      <td>NaN</td>\n",
              "      <td>NaN</td>\n",
              "      <td>NaN</td>\n",
              "      <td>NaN</td>\n",
              "      <td>NaN</td>\n",
              "      <td>NaN</td>\n",
              "      <td>NaN</td>\n",
              "      <td>NaN</td>\n",
              "      <td>NaN</td>\n",
              "      <td>NaN</td>\n",
              "      <td>NaN</td>\n",
              "      <td>NaN</td>\n",
              "      <td>NaN</td>\n",
              "      <td>NaN</td>\n",
              "      <td>NaN</td>\n",
              "      <td>NaN</td>\n",
              "      <td>NaN</td>\n",
              "      <td>NaN</td>\n",
              "      <td>NaN</td>\n",
              "      <td>NaN</td>\n",
              "      <td>NaN</td>\n",
              "      <td>NaN</td>\n",
              "      <td>NaN</td>\n",
              "      <td>NaN</td>\n",
              "      <td>NaN</td>\n",
              "      <td>NaN</td>\n",
              "      <td>NaN</td>\n",
              "      <td>NaN</td>\n",
              "      <td>NaN</td>\n",
              "      <td>NaN</td>\n",
              "      <td>NaN</td>\n",
              "      <td>NaN</td>\n",
              "      <td>NaN</td>\n",
              "      <td>NaN</td>\n",
              "      <td>NaN</td>\n",
              "      <td>NaN</td>\n",
              "      <td>NaN</td>\n",
              "      <td>NaN</td>\n",
              "      <td>NaN</td>\n",
              "      <td>NaN</td>\n",
              "      <td>NaN</td>\n",
              "      <td>NaN</td>\n",
              "      <td>NaN</td>\n",
              "      <td>NaN</td>\n",
              "      <td>NaN</td>\n",
              "      <td>NaN</td>\n",
              "      <td>NaN</td>\n",
              "      <td>NaN</td>\n",
              "      <td>NaN</td>\n",
              "      <td>NaN</td>\n",
              "      <td>NaN</td>\n",
              "      <td>NaN</td>\n",
              "      <td>NaN</td>\n",
              "      <td>NaN</td>\n",
              "      <td>NaN</td>\n",
              "      <td>NaN</td>\n",
              "      <td>NaN</td>\n",
              "      <td>NaN</td>\n",
              "      <td>1.0</td>\n",
              "    </tr>\n",
              "  </tbody>\n",
              "</table>\n",
              "</div>\n",
              "    <div class=\"colab-df-buttons\">\n",
              "\n",
              "  <div class=\"colab-df-container\">\n",
              "    <button class=\"colab-df-convert\" onclick=\"convertToInteractive('df-ea3da7d3-b0a9-4928-a215-2261a5cd78d4')\"\n",
              "            title=\"Convert this dataframe to an interactive table.\"\n",
              "            style=\"display:none;\">\n",
              "\n",
              "  <svg xmlns=\"http://www.w3.org/2000/svg\" height=\"24px\" viewBox=\"0 -960 960 960\">\n",
              "    <path d=\"M120-120v-720h720v720H120Zm60-500h600v-160H180v160Zm220 220h160v-160H400v160Zm0 220h160v-160H400v160ZM180-400h160v-160H180v160Zm440 0h160v-160H620v160ZM180-180h160v-160H180v160Zm440 0h160v-160H620v160Z\"/>\n",
              "  </svg>\n",
              "    </button>\n",
              "\n",
              "  <style>\n",
              "    .colab-df-container {\n",
              "      display:flex;\n",
              "      gap: 12px;\n",
              "    }\n",
              "\n",
              "    .colab-df-convert {\n",
              "      background-color: #E8F0FE;\n",
              "      border: none;\n",
              "      border-radius: 50%;\n",
              "      cursor: pointer;\n",
              "      display: none;\n",
              "      fill: #1967D2;\n",
              "      height: 32px;\n",
              "      padding: 0 0 0 0;\n",
              "      width: 32px;\n",
              "    }\n",
              "\n",
              "    .colab-df-convert:hover {\n",
              "      background-color: #E2EBFA;\n",
              "      box-shadow: 0px 1px 2px rgba(60, 64, 67, 0.3), 0px 1px 3px 1px rgba(60, 64, 67, 0.15);\n",
              "      fill: #174EA6;\n",
              "    }\n",
              "\n",
              "    .colab-df-buttons div {\n",
              "      margin-bottom: 4px;\n",
              "    }\n",
              "\n",
              "    [theme=dark] .colab-df-convert {\n",
              "      background-color: #3B4455;\n",
              "      fill: #D2E3FC;\n",
              "    }\n",
              "\n",
              "    [theme=dark] .colab-df-convert:hover {\n",
              "      background-color: #434B5C;\n",
              "      box-shadow: 0px 1px 3px 1px rgba(0, 0, 0, 0.15);\n",
              "      filter: drop-shadow(0px 1px 2px rgba(0, 0, 0, 0.3));\n",
              "      fill: #FFFFFF;\n",
              "    }\n",
              "  </style>\n",
              "\n",
              "    <script>\n",
              "      const buttonEl =\n",
              "        document.querySelector('#df-ea3da7d3-b0a9-4928-a215-2261a5cd78d4 button.colab-df-convert');\n",
              "      buttonEl.style.display =\n",
              "        google.colab.kernel.accessAllowed ? 'block' : 'none';\n",
              "\n",
              "      async function convertToInteractive(key) {\n",
              "        const element = document.querySelector('#df-ea3da7d3-b0a9-4928-a215-2261a5cd78d4');\n",
              "        const dataTable =\n",
              "          await google.colab.kernel.invokeFunction('convertToInteractive',\n",
              "                                                    [key], {});\n",
              "        if (!dataTable) return;\n",
              "\n",
              "        const docLinkHtml = 'Like what you see? Visit the ' +\n",
              "          '<a target=\"_blank\" href=https://colab.research.google.com/notebooks/data_table.ipynb>data table notebook</a>'\n",
              "          + ' to learn more about interactive tables.';\n",
              "        element.innerHTML = '';\n",
              "        dataTable['output_type'] = 'display_data';\n",
              "        await google.colab.output.renderOutput(dataTable, element);\n",
              "        const docLink = document.createElement('div');\n",
              "        docLink.innerHTML = docLinkHtml;\n",
              "        element.appendChild(docLink);\n",
              "      }\n",
              "    </script>\n",
              "  </div>\n",
              "\n",
              "\n",
              "<div id=\"df-a6fd16e1-518b-4798-8ae4-82125e5171c5\">\n",
              "  <button class=\"colab-df-quickchart\" onclick=\"quickchart('df-a6fd16e1-518b-4798-8ae4-82125e5171c5')\"\n",
              "            title=\"Suggest charts\"\n",
              "            style=\"display:none;\">\n",
              "\n",
              "<svg xmlns=\"http://www.w3.org/2000/svg\" height=\"24px\"viewBox=\"0 0 24 24\"\n",
              "     width=\"24px\">\n",
              "    <g>\n",
              "        <path d=\"M19 3H5c-1.1 0-2 .9-2 2v14c0 1.1.9 2 2 2h14c1.1 0 2-.9 2-2V5c0-1.1-.9-2-2-2zM9 17H7v-7h2v7zm4 0h-2V7h2v10zm4 0h-2v-4h2v4z\"/>\n",
              "    </g>\n",
              "</svg>\n",
              "  </button>\n",
              "\n",
              "<style>\n",
              "  .colab-df-quickchart {\n",
              "      --bg-color: #E8F0FE;\n",
              "      --fill-color: #1967D2;\n",
              "      --hover-bg-color: #E2EBFA;\n",
              "      --hover-fill-color: #174EA6;\n",
              "      --disabled-fill-color: #AAA;\n",
              "      --disabled-bg-color: #DDD;\n",
              "  }\n",
              "\n",
              "  [theme=dark] .colab-df-quickchart {\n",
              "      --bg-color: #3B4455;\n",
              "      --fill-color: #D2E3FC;\n",
              "      --hover-bg-color: #434B5C;\n",
              "      --hover-fill-color: #FFFFFF;\n",
              "      --disabled-bg-color: #3B4455;\n",
              "      --disabled-fill-color: #666;\n",
              "  }\n",
              "\n",
              "  .colab-df-quickchart {\n",
              "    background-color: var(--bg-color);\n",
              "    border: none;\n",
              "    border-radius: 50%;\n",
              "    cursor: pointer;\n",
              "    display: none;\n",
              "    fill: var(--fill-color);\n",
              "    height: 32px;\n",
              "    padding: 0;\n",
              "    width: 32px;\n",
              "  }\n",
              "\n",
              "  .colab-df-quickchart:hover {\n",
              "    background-color: var(--hover-bg-color);\n",
              "    box-shadow: 0 1px 2px rgba(60, 64, 67, 0.3), 0 1px 3px 1px rgba(60, 64, 67, 0.15);\n",
              "    fill: var(--button-hover-fill-color);\n",
              "  }\n",
              "\n",
              "  .colab-df-quickchart-complete:disabled,\n",
              "  .colab-df-quickchart-complete:disabled:hover {\n",
              "    background-color: var(--disabled-bg-color);\n",
              "    fill: var(--disabled-fill-color);\n",
              "    box-shadow: none;\n",
              "  }\n",
              "\n",
              "  .colab-df-spinner {\n",
              "    border: 2px solid var(--fill-color);\n",
              "    border-color: transparent;\n",
              "    border-bottom-color: var(--fill-color);\n",
              "    animation:\n",
              "      spin 1s steps(1) infinite;\n",
              "  }\n",
              "\n",
              "  @keyframes spin {\n",
              "    0% {\n",
              "      border-color: transparent;\n",
              "      border-bottom-color: var(--fill-color);\n",
              "      border-left-color: var(--fill-color);\n",
              "    }\n",
              "    20% {\n",
              "      border-color: transparent;\n",
              "      border-left-color: var(--fill-color);\n",
              "      border-top-color: var(--fill-color);\n",
              "    }\n",
              "    30% {\n",
              "      border-color: transparent;\n",
              "      border-left-color: var(--fill-color);\n",
              "      border-top-color: var(--fill-color);\n",
              "      border-right-color: var(--fill-color);\n",
              "    }\n",
              "    40% {\n",
              "      border-color: transparent;\n",
              "      border-right-color: var(--fill-color);\n",
              "      border-top-color: var(--fill-color);\n",
              "    }\n",
              "    60% {\n",
              "      border-color: transparent;\n",
              "      border-right-color: var(--fill-color);\n",
              "    }\n",
              "    80% {\n",
              "      border-color: transparent;\n",
              "      border-right-color: var(--fill-color);\n",
              "      border-bottom-color: var(--fill-color);\n",
              "    }\n",
              "    90% {\n",
              "      border-color: transparent;\n",
              "      border-bottom-color: var(--fill-color);\n",
              "    }\n",
              "  }\n",
              "</style>\n",
              "\n",
              "  <script>\n",
              "    async function quickchart(key) {\n",
              "      const quickchartButtonEl =\n",
              "        document.querySelector('#' + key + ' button');\n",
              "      quickchartButtonEl.disabled = true;  // To prevent multiple clicks.\n",
              "      quickchartButtonEl.classList.add('colab-df-spinner');\n",
              "      try {\n",
              "        const charts = await google.colab.kernel.invokeFunction(\n",
              "            'suggestCharts', [key], {});\n",
              "      } catch (error) {\n",
              "        console.error('Error during call to suggestCharts:', error);\n",
              "      }\n",
              "      quickchartButtonEl.classList.remove('colab-df-spinner');\n",
              "      quickchartButtonEl.classList.add('colab-df-quickchart-complete');\n",
              "    }\n",
              "    (() => {\n",
              "      let quickchartButtonEl =\n",
              "        document.querySelector('#df-a6fd16e1-518b-4798-8ae4-82125e5171c5 button');\n",
              "      quickchartButtonEl.style.display =\n",
              "        google.colab.kernel.accessAllowed ? 'block' : 'none';\n",
              "    })();\n",
              "  </script>\n",
              "</div>\n",
              "    </div>\n",
              "  </div>\n"
            ],
            "application/vnd.google.colaboratory.intrinsic+json": {
              "type": "dataframe"
            }
          },
          "metadata": {},
          "execution_count": 6
        }
      ],
      "source": [
        "train.tail(5)"
      ]
    },
    {
      "cell_type": "code",
      "execution_count": null,
      "id": "0053e883-f9a9-448b-b1bd-2c524275c81f",
      "metadata": {
        "colab": {
          "base_uri": "https://localhost:8080/",
          "height": 226
        },
        "id": "0053e883-f9a9-448b-b1bd-2c524275c81f",
        "outputId": "9debd57f-7bce-4ed4-e9ef-47750d4b6a7d"
      },
      "outputs": [
        {
          "output_type": "execute_result",
          "data": {
            "text/plain": [
              "   prompt  user  countries   days  session  format  time  token_1  pos_1  \\\n",
              "0      32   543        132  0.009      660     655   9.0      177    221   \n",
              "1      32   543        132  0.009      660     655   8.0      177    221   \n",
              "2     831   543        132  0.009      660    1833   8.0      177    221   \n",
              "3      32   543        132  0.012      660     655   9.0      529    303   \n",
              "4     802   543        132  0.012      660    1833  11.0      871    319   \n",
              "\n",
              "   morf_1  case_1  gender_1  number_1 person_1  tense_1  pronType_1  token_2  \\\n",
              "0     317      48       388       401        0       48         295      319   \n",
              "1     317      48       388       401        0       48         295      414   \n",
              "2     317      48       388       401        0       48         295      319   \n",
              "3     324      48        48       419      1.0      408          48      763   \n",
              "4     546      48       388       419        0       48          48      733   \n",
              "\n",
              "   pos_2  morf_2  case_2  gender_2  number_2 person_2  tense_2  pronType_2  \\\n",
              "0    320     324      48       388       401        0       48          48   \n",
              "1    320     324      48       280       401        0       48          48   \n",
              "2    320     324      48       388       401        0       48          48   \n",
              "3    320     415      48       280       419        0       48          48   \n",
              "4    303     324      48        48       419        0       48          48   \n",
              "\n",
              "   token_3  pos_3  morf_3  case_3  gender_3  number_3 person_3  tense_3  \\\n",
              "0       48     48      48      48        48        48        0       48   \n",
              "1       48     48      48      48        48        48        0       48   \n",
              "2       48     48      48      48        48        48        0       48   \n",
              "3       48     48      48      48        48        48        0       48   \n",
              "4       48     48      48      48        48        48        0       48   \n",
              "\n",
              "   pronType_3  token_4  pos_4  morf_4  case_4  gender_4  number_4 person_4  \\\n",
              "0          48       48     48      48      48        48        48        0   \n",
              "1          48       48     48      48      48        48        48        0   \n",
              "2          48       48     48      48      48        48        48        0   \n",
              "3          48       48     48      48      48        48        48        0   \n",
              "4          48       48     48      48      48        48        48        0   \n",
              "\n",
              "   tense_4  pronType_4  token_5  pos_5  morf_5  case_5  gender_5  number_5  \\\n",
              "0       48          48       48     48      48      48        48        48   \n",
              "1       48          48       48     48      48      48        48        48   \n",
              "2       48          48       48     48      48      48        48        48   \n",
              "3       48          48       48     48      48      48        48        48   \n",
              "4       48          48       48     48      48      48        48        48   \n",
              "\n",
              "  person_5  tense_5  pronType_5  token_6  pos_6  morf_6  case_6  gender_6  \\\n",
              "0        0       48          48       48     48      48      48        48   \n",
              "1        0       48          48       48     48      48      48        48   \n",
              "2        0       48          48       48     48      48      48        48   \n",
              "3        0       48          48       48     48      48      48        48   \n",
              "4        0       48          48       48     48      48      48        48   \n",
              "\n",
              "   number_6 person_6  tense_6  pronType_6  token_7  pos_7  morf_7  case_7  \\\n",
              "0        48        0       48          48       48     48      48      48   \n",
              "1        48        0       48          48       48     48      48      48   \n",
              "2        48        0       48          48       48     48      48      48   \n",
              "3        48        0       48          48       48     48      48      48   \n",
              "4        48        0       48          48       48     48      48      48   \n",
              "\n",
              "   gender_7  number_7 person_7  tense_7  pronType_7  token_8  pos_8  morf_8  \\\n",
              "0        48        48        0       48          48       48     48      48   \n",
              "1        48        48        0       48          48       48     48      48   \n",
              "2        48        48        0       48          48       48     48      48   \n",
              "3        48        48        0       48          48       48     48      48   \n",
              "4        48        48        0       48          48       48     48      48   \n",
              "\n",
              "   case_8  gender_8  number_8 person_8  tense_8  pronType_8  token_9  pos_9  \\\n",
              "0      48        48        48        0       48          48       48     48   \n",
              "1      48        48        48        0       48          48       48     48   \n",
              "2      48        48        48        0       48          48       48     48   \n",
              "3      48        48        48        0       48          48       48     48   \n",
              "4      48        48        48        0       48          48       48     48   \n",
              "\n",
              "   morf_9  case_9  gender_9  number_9 person_9  tense_9  pronType_9  token_10  \\\n",
              "0      48      48        48        48        0       48          48        48   \n",
              "1      48      48        48        48        0       48          48        48   \n",
              "2      48      48        48        48        0       48          48        48   \n",
              "3      48      48        48        48        0       48          48        48   \n",
              "4      48      48        48        48        0       48          48        48   \n",
              "\n",
              "   pos_10  morf_10  case_10  gender_10  number_10 person_10  tense_10  \\\n",
              "0      48       48       48         48         48         0        48   \n",
              "1      48       48       48         48         48         0        48   \n",
              "2      48       48       48         48         48         0        48   \n",
              "3      48       48       48         48         48         0        48   \n",
              "4      48       48       48         48         48         0        48   \n",
              "\n",
              "   pronType_10  token_11  pos_11  morf_11  case_11  gender_11  number_11  \\\n",
              "0           48        48      48       48       48         48         48   \n",
              "1           48        48      48       48       48         48         48   \n",
              "2           48        48      48       48       48         48         48   \n",
              "3           48        48      48       48       48         48         48   \n",
              "4           48        48      48       48       48         48         48   \n",
              "\n",
              "  person_11  tense_11  pronType_11  token_12  pos_12  morf_12  case_12  \\\n",
              "0         0        48           48        48      48       48       48   \n",
              "1         0        48           48        48      48       48       48   \n",
              "2         0        48           48        48      48       48       48   \n",
              "3         0        48           48        48      48       48       48   \n",
              "4         0        48           48        48      48       48       48   \n",
              "\n",
              "   gender_12  number_12 person_12  tense_12  pronType_12  acc_sum  \n",
              "0         48         48         0        48           48        0  \n",
              "1         48         48         0        48           48        0  \n",
              "2         48         48         0        48           48        0  \n",
              "3         48         48         0        48           48        0  \n",
              "4         48         48         0        48           48        0  "
            ],
            "text/html": [
              "\n",
              "  <div id=\"df-654666e5-d962-4419-a709-88b2d1075ac7\" class=\"colab-df-container\">\n",
              "    <div>\n",
              "<style scoped>\n",
              "    .dataframe tbody tr th:only-of-type {\n",
              "        vertical-align: middle;\n",
              "    }\n",
              "\n",
              "    .dataframe tbody tr th {\n",
              "        vertical-align: top;\n",
              "    }\n",
              "\n",
              "    .dataframe thead th {\n",
              "        text-align: right;\n",
              "    }\n",
              "</style>\n",
              "<table border=\"1\" class=\"dataframe\">\n",
              "  <thead>\n",
              "    <tr style=\"text-align: right;\">\n",
              "      <th></th>\n",
              "      <th>prompt</th>\n",
              "      <th>user</th>\n",
              "      <th>countries</th>\n",
              "      <th>days</th>\n",
              "      <th>session</th>\n",
              "      <th>format</th>\n",
              "      <th>time</th>\n",
              "      <th>token_1</th>\n",
              "      <th>pos_1</th>\n",
              "      <th>morf_1</th>\n",
              "      <th>case_1</th>\n",
              "      <th>gender_1</th>\n",
              "      <th>number_1</th>\n",
              "      <th>person_1</th>\n",
              "      <th>tense_1</th>\n",
              "      <th>pronType_1</th>\n",
              "      <th>token_2</th>\n",
              "      <th>pos_2</th>\n",
              "      <th>morf_2</th>\n",
              "      <th>case_2</th>\n",
              "      <th>gender_2</th>\n",
              "      <th>number_2</th>\n",
              "      <th>person_2</th>\n",
              "      <th>tense_2</th>\n",
              "      <th>pronType_2</th>\n",
              "      <th>token_3</th>\n",
              "      <th>pos_3</th>\n",
              "      <th>morf_3</th>\n",
              "      <th>case_3</th>\n",
              "      <th>gender_3</th>\n",
              "      <th>number_3</th>\n",
              "      <th>person_3</th>\n",
              "      <th>tense_3</th>\n",
              "      <th>pronType_3</th>\n",
              "      <th>token_4</th>\n",
              "      <th>pos_4</th>\n",
              "      <th>morf_4</th>\n",
              "      <th>case_4</th>\n",
              "      <th>gender_4</th>\n",
              "      <th>number_4</th>\n",
              "      <th>person_4</th>\n",
              "      <th>tense_4</th>\n",
              "      <th>pronType_4</th>\n",
              "      <th>token_5</th>\n",
              "      <th>pos_5</th>\n",
              "      <th>morf_5</th>\n",
              "      <th>case_5</th>\n",
              "      <th>gender_5</th>\n",
              "      <th>number_5</th>\n",
              "      <th>person_5</th>\n",
              "      <th>tense_5</th>\n",
              "      <th>pronType_5</th>\n",
              "      <th>token_6</th>\n",
              "      <th>pos_6</th>\n",
              "      <th>morf_6</th>\n",
              "      <th>case_6</th>\n",
              "      <th>gender_6</th>\n",
              "      <th>number_6</th>\n",
              "      <th>person_6</th>\n",
              "      <th>tense_6</th>\n",
              "      <th>pronType_6</th>\n",
              "      <th>token_7</th>\n",
              "      <th>pos_7</th>\n",
              "      <th>morf_7</th>\n",
              "      <th>case_7</th>\n",
              "      <th>gender_7</th>\n",
              "      <th>number_7</th>\n",
              "      <th>person_7</th>\n",
              "      <th>tense_7</th>\n",
              "      <th>pronType_7</th>\n",
              "      <th>token_8</th>\n",
              "      <th>pos_8</th>\n",
              "      <th>morf_8</th>\n",
              "      <th>case_8</th>\n",
              "      <th>gender_8</th>\n",
              "      <th>number_8</th>\n",
              "      <th>person_8</th>\n",
              "      <th>tense_8</th>\n",
              "      <th>pronType_8</th>\n",
              "      <th>token_9</th>\n",
              "      <th>pos_9</th>\n",
              "      <th>morf_9</th>\n",
              "      <th>case_9</th>\n",
              "      <th>gender_9</th>\n",
              "      <th>number_9</th>\n",
              "      <th>person_9</th>\n",
              "      <th>tense_9</th>\n",
              "      <th>pronType_9</th>\n",
              "      <th>token_10</th>\n",
              "      <th>pos_10</th>\n",
              "      <th>morf_10</th>\n",
              "      <th>case_10</th>\n",
              "      <th>gender_10</th>\n",
              "      <th>number_10</th>\n",
              "      <th>person_10</th>\n",
              "      <th>tense_10</th>\n",
              "      <th>pronType_10</th>\n",
              "      <th>token_11</th>\n",
              "      <th>pos_11</th>\n",
              "      <th>morf_11</th>\n",
              "      <th>case_11</th>\n",
              "      <th>gender_11</th>\n",
              "      <th>number_11</th>\n",
              "      <th>person_11</th>\n",
              "      <th>tense_11</th>\n",
              "      <th>pronType_11</th>\n",
              "      <th>token_12</th>\n",
              "      <th>pos_12</th>\n",
              "      <th>morf_12</th>\n",
              "      <th>case_12</th>\n",
              "      <th>gender_12</th>\n",
              "      <th>number_12</th>\n",
              "      <th>person_12</th>\n",
              "      <th>tense_12</th>\n",
              "      <th>pronType_12</th>\n",
              "      <th>acc_sum</th>\n",
              "    </tr>\n",
              "  </thead>\n",
              "  <tbody>\n",
              "    <tr>\n",
              "      <th>0</th>\n",
              "      <td>32</td>\n",
              "      <td>543</td>\n",
              "      <td>132</td>\n",
              "      <td>0.009</td>\n",
              "      <td>660</td>\n",
              "      <td>655</td>\n",
              "      <td>9.0</td>\n",
              "      <td>177</td>\n",
              "      <td>221</td>\n",
              "      <td>317</td>\n",
              "      <td>48</td>\n",
              "      <td>388</td>\n",
              "      <td>401</td>\n",
              "      <td>0</td>\n",
              "      <td>48</td>\n",
              "      <td>295</td>\n",
              "      <td>319</td>\n",
              "      <td>320</td>\n",
              "      <td>324</td>\n",
              "      <td>48</td>\n",
              "      <td>388</td>\n",
              "      <td>401</td>\n",
              "      <td>0</td>\n",
              "      <td>48</td>\n",
              "      <td>48</td>\n",
              "      <td>48</td>\n",
              "      <td>48</td>\n",
              "      <td>48</td>\n",
              "      <td>48</td>\n",
              "      <td>48</td>\n",
              "      <td>48</td>\n",
              "      <td>0</td>\n",
              "      <td>48</td>\n",
              "      <td>48</td>\n",
              "      <td>48</td>\n",
              "      <td>48</td>\n",
              "      <td>48</td>\n",
              "      <td>48</td>\n",
              "      <td>48</td>\n",
              "      <td>48</td>\n",
              "      <td>0</td>\n",
              "      <td>48</td>\n",
              "      <td>48</td>\n",
              "      <td>48</td>\n",
              "      <td>48</td>\n",
              "      <td>48</td>\n",
              "      <td>48</td>\n",
              "      <td>48</td>\n",
              "      <td>48</td>\n",
              "      <td>0</td>\n",
              "      <td>48</td>\n",
              "      <td>48</td>\n",
              "      <td>48</td>\n",
              "      <td>48</td>\n",
              "      <td>48</td>\n",
              "      <td>48</td>\n",
              "      <td>48</td>\n",
              "      <td>48</td>\n",
              "      <td>0</td>\n",
              "      <td>48</td>\n",
              "      <td>48</td>\n",
              "      <td>48</td>\n",
              "      <td>48</td>\n",
              "      <td>48</td>\n",
              "      <td>48</td>\n",
              "      <td>48</td>\n",
              "      <td>48</td>\n",
              "      <td>0</td>\n",
              "      <td>48</td>\n",
              "      <td>48</td>\n",
              "      <td>48</td>\n",
              "      <td>48</td>\n",
              "      <td>48</td>\n",
              "      <td>48</td>\n",
              "      <td>48</td>\n",
              "      <td>48</td>\n",
              "      <td>0</td>\n",
              "      <td>48</td>\n",
              "      <td>48</td>\n",
              "      <td>48</td>\n",
              "      <td>48</td>\n",
              "      <td>48</td>\n",
              "      <td>48</td>\n",
              "      <td>48</td>\n",
              "      <td>48</td>\n",
              "      <td>0</td>\n",
              "      <td>48</td>\n",
              "      <td>48</td>\n",
              "      <td>48</td>\n",
              "      <td>48</td>\n",
              "      <td>48</td>\n",
              "      <td>48</td>\n",
              "      <td>48</td>\n",
              "      <td>48</td>\n",
              "      <td>0</td>\n",
              "      <td>48</td>\n",
              "      <td>48</td>\n",
              "      <td>48</td>\n",
              "      <td>48</td>\n",
              "      <td>48</td>\n",
              "      <td>48</td>\n",
              "      <td>48</td>\n",
              "      <td>48</td>\n",
              "      <td>0</td>\n",
              "      <td>48</td>\n",
              "      <td>48</td>\n",
              "      <td>48</td>\n",
              "      <td>48</td>\n",
              "      <td>48</td>\n",
              "      <td>48</td>\n",
              "      <td>48</td>\n",
              "      <td>48</td>\n",
              "      <td>0</td>\n",
              "      <td>48</td>\n",
              "      <td>48</td>\n",
              "      <td>0</td>\n",
              "    </tr>\n",
              "    <tr>\n",
              "      <th>1</th>\n",
              "      <td>32</td>\n",
              "      <td>543</td>\n",
              "      <td>132</td>\n",
              "      <td>0.009</td>\n",
              "      <td>660</td>\n",
              "      <td>655</td>\n",
              "      <td>8.0</td>\n",
              "      <td>177</td>\n",
              "      <td>221</td>\n",
              "      <td>317</td>\n",
              "      <td>48</td>\n",
              "      <td>388</td>\n",
              "      <td>401</td>\n",
              "      <td>0</td>\n",
              "      <td>48</td>\n",
              "      <td>295</td>\n",
              "      <td>414</td>\n",
              "      <td>320</td>\n",
              "      <td>324</td>\n",
              "      <td>48</td>\n",
              "      <td>280</td>\n",
              "      <td>401</td>\n",
              "      <td>0</td>\n",
              "      <td>48</td>\n",
              "      <td>48</td>\n",
              "      <td>48</td>\n",
              "      <td>48</td>\n",
              "      <td>48</td>\n",
              "      <td>48</td>\n",
              "      <td>48</td>\n",
              "      <td>48</td>\n",
              "      <td>0</td>\n",
              "      <td>48</td>\n",
              "      <td>48</td>\n",
              "      <td>48</td>\n",
              "      <td>48</td>\n",
              "      <td>48</td>\n",
              "      <td>48</td>\n",
              "      <td>48</td>\n",
              "      <td>48</td>\n",
              "      <td>0</td>\n",
              "      <td>48</td>\n",
              "      <td>48</td>\n",
              "      <td>48</td>\n",
              "      <td>48</td>\n",
              "      <td>48</td>\n",
              "      <td>48</td>\n",
              "      <td>48</td>\n",
              "      <td>48</td>\n",
              "      <td>0</td>\n",
              "      <td>48</td>\n",
              "      <td>48</td>\n",
              "      <td>48</td>\n",
              "      <td>48</td>\n",
              "      <td>48</td>\n",
              "      <td>48</td>\n",
              "      <td>48</td>\n",
              "      <td>48</td>\n",
              "      <td>0</td>\n",
              "      <td>48</td>\n",
              "      <td>48</td>\n",
              "      <td>48</td>\n",
              "      <td>48</td>\n",
              "      <td>48</td>\n",
              "      <td>48</td>\n",
              "      <td>48</td>\n",
              "      <td>48</td>\n",
              "      <td>0</td>\n",
              "      <td>48</td>\n",
              "      <td>48</td>\n",
              "      <td>48</td>\n",
              "      <td>48</td>\n",
              "      <td>48</td>\n",
              "      <td>48</td>\n",
              "      <td>48</td>\n",
              "      <td>48</td>\n",
              "      <td>0</td>\n",
              "      <td>48</td>\n",
              "      <td>48</td>\n",
              "      <td>48</td>\n",
              "      <td>48</td>\n",
              "      <td>48</td>\n",
              "      <td>48</td>\n",
              "      <td>48</td>\n",
              "      <td>48</td>\n",
              "      <td>0</td>\n",
              "      <td>48</td>\n",
              "      <td>48</td>\n",
              "      <td>48</td>\n",
              "      <td>48</td>\n",
              "      <td>48</td>\n",
              "      <td>48</td>\n",
              "      <td>48</td>\n",
              "      <td>48</td>\n",
              "      <td>0</td>\n",
              "      <td>48</td>\n",
              "      <td>48</td>\n",
              "      <td>48</td>\n",
              "      <td>48</td>\n",
              "      <td>48</td>\n",
              "      <td>48</td>\n",
              "      <td>48</td>\n",
              "      <td>48</td>\n",
              "      <td>0</td>\n",
              "      <td>48</td>\n",
              "      <td>48</td>\n",
              "      <td>48</td>\n",
              "      <td>48</td>\n",
              "      <td>48</td>\n",
              "      <td>48</td>\n",
              "      <td>48</td>\n",
              "      <td>48</td>\n",
              "      <td>0</td>\n",
              "      <td>48</td>\n",
              "      <td>48</td>\n",
              "      <td>0</td>\n",
              "    </tr>\n",
              "    <tr>\n",
              "      <th>2</th>\n",
              "      <td>831</td>\n",
              "      <td>543</td>\n",
              "      <td>132</td>\n",
              "      <td>0.009</td>\n",
              "      <td>660</td>\n",
              "      <td>1833</td>\n",
              "      <td>8.0</td>\n",
              "      <td>177</td>\n",
              "      <td>221</td>\n",
              "      <td>317</td>\n",
              "      <td>48</td>\n",
              "      <td>388</td>\n",
              "      <td>401</td>\n",
              "      <td>0</td>\n",
              "      <td>48</td>\n",
              "      <td>295</td>\n",
              "      <td>319</td>\n",
              "      <td>320</td>\n",
              "      <td>324</td>\n",
              "      <td>48</td>\n",
              "      <td>388</td>\n",
              "      <td>401</td>\n",
              "      <td>0</td>\n",
              "      <td>48</td>\n",
              "      <td>48</td>\n",
              "      <td>48</td>\n",
              "      <td>48</td>\n",
              "      <td>48</td>\n",
              "      <td>48</td>\n",
              "      <td>48</td>\n",
              "      <td>48</td>\n",
              "      <td>0</td>\n",
              "      <td>48</td>\n",
              "      <td>48</td>\n",
              "      <td>48</td>\n",
              "      <td>48</td>\n",
              "      <td>48</td>\n",
              "      <td>48</td>\n",
              "      <td>48</td>\n",
              "      <td>48</td>\n",
              "      <td>0</td>\n",
              "      <td>48</td>\n",
              "      <td>48</td>\n",
              "      <td>48</td>\n",
              "      <td>48</td>\n",
              "      <td>48</td>\n",
              "      <td>48</td>\n",
              "      <td>48</td>\n",
              "      <td>48</td>\n",
              "      <td>0</td>\n",
              "      <td>48</td>\n",
              "      <td>48</td>\n",
              "      <td>48</td>\n",
              "      <td>48</td>\n",
              "      <td>48</td>\n",
              "      <td>48</td>\n",
              "      <td>48</td>\n",
              "      <td>48</td>\n",
              "      <td>0</td>\n",
              "      <td>48</td>\n",
              "      <td>48</td>\n",
              "      <td>48</td>\n",
              "      <td>48</td>\n",
              "      <td>48</td>\n",
              "      <td>48</td>\n",
              "      <td>48</td>\n",
              "      <td>48</td>\n",
              "      <td>0</td>\n",
              "      <td>48</td>\n",
              "      <td>48</td>\n",
              "      <td>48</td>\n",
              "      <td>48</td>\n",
              "      <td>48</td>\n",
              "      <td>48</td>\n",
              "      <td>48</td>\n",
              "      <td>48</td>\n",
              "      <td>0</td>\n",
              "      <td>48</td>\n",
              "      <td>48</td>\n",
              "      <td>48</td>\n",
              "      <td>48</td>\n",
              "      <td>48</td>\n",
              "      <td>48</td>\n",
              "      <td>48</td>\n",
              "      <td>48</td>\n",
              "      <td>0</td>\n",
              "      <td>48</td>\n",
              "      <td>48</td>\n",
              "      <td>48</td>\n",
              "      <td>48</td>\n",
              "      <td>48</td>\n",
              "      <td>48</td>\n",
              "      <td>48</td>\n",
              "      <td>48</td>\n",
              "      <td>0</td>\n",
              "      <td>48</td>\n",
              "      <td>48</td>\n",
              "      <td>48</td>\n",
              "      <td>48</td>\n",
              "      <td>48</td>\n",
              "      <td>48</td>\n",
              "      <td>48</td>\n",
              "      <td>48</td>\n",
              "      <td>0</td>\n",
              "      <td>48</td>\n",
              "      <td>48</td>\n",
              "      <td>48</td>\n",
              "      <td>48</td>\n",
              "      <td>48</td>\n",
              "      <td>48</td>\n",
              "      <td>48</td>\n",
              "      <td>48</td>\n",
              "      <td>0</td>\n",
              "      <td>48</td>\n",
              "      <td>48</td>\n",
              "      <td>0</td>\n",
              "    </tr>\n",
              "    <tr>\n",
              "      <th>3</th>\n",
              "      <td>32</td>\n",
              "      <td>543</td>\n",
              "      <td>132</td>\n",
              "      <td>0.012</td>\n",
              "      <td>660</td>\n",
              "      <td>655</td>\n",
              "      <td>9.0</td>\n",
              "      <td>529</td>\n",
              "      <td>303</td>\n",
              "      <td>324</td>\n",
              "      <td>48</td>\n",
              "      <td>48</td>\n",
              "      <td>419</td>\n",
              "      <td>1.0</td>\n",
              "      <td>408</td>\n",
              "      <td>48</td>\n",
              "      <td>763</td>\n",
              "      <td>320</td>\n",
              "      <td>415</td>\n",
              "      <td>48</td>\n",
              "      <td>280</td>\n",
              "      <td>419</td>\n",
              "      <td>0</td>\n",
              "      <td>48</td>\n",
              "      <td>48</td>\n",
              "      <td>48</td>\n",
              "      <td>48</td>\n",
              "      <td>48</td>\n",
              "      <td>48</td>\n",
              "      <td>48</td>\n",
              "      <td>48</td>\n",
              "      <td>0</td>\n",
              "      <td>48</td>\n",
              "      <td>48</td>\n",
              "      <td>48</td>\n",
              "      <td>48</td>\n",
              "      <td>48</td>\n",
              "      <td>48</td>\n",
              "      <td>48</td>\n",
              "      <td>48</td>\n",
              "      <td>0</td>\n",
              "      <td>48</td>\n",
              "      <td>48</td>\n",
              "      <td>48</td>\n",
              "      <td>48</td>\n",
              "      <td>48</td>\n",
              "      <td>48</td>\n",
              "      <td>48</td>\n",
              "      <td>48</td>\n",
              "      <td>0</td>\n",
              "      <td>48</td>\n",
              "      <td>48</td>\n",
              "      <td>48</td>\n",
              "      <td>48</td>\n",
              "      <td>48</td>\n",
              "      <td>48</td>\n",
              "      <td>48</td>\n",
              "      <td>48</td>\n",
              "      <td>0</td>\n",
              "      <td>48</td>\n",
              "      <td>48</td>\n",
              "      <td>48</td>\n",
              "      <td>48</td>\n",
              "      <td>48</td>\n",
              "      <td>48</td>\n",
              "      <td>48</td>\n",
              "      <td>48</td>\n",
              "      <td>0</td>\n",
              "      <td>48</td>\n",
              "      <td>48</td>\n",
              "      <td>48</td>\n",
              "      <td>48</td>\n",
              "      <td>48</td>\n",
              "      <td>48</td>\n",
              "      <td>48</td>\n",
              "      <td>48</td>\n",
              "      <td>0</td>\n",
              "      <td>48</td>\n",
              "      <td>48</td>\n",
              "      <td>48</td>\n",
              "      <td>48</td>\n",
              "      <td>48</td>\n",
              "      <td>48</td>\n",
              "      <td>48</td>\n",
              "      <td>48</td>\n",
              "      <td>0</td>\n",
              "      <td>48</td>\n",
              "      <td>48</td>\n",
              "      <td>48</td>\n",
              "      <td>48</td>\n",
              "      <td>48</td>\n",
              "      <td>48</td>\n",
              "      <td>48</td>\n",
              "      <td>48</td>\n",
              "      <td>0</td>\n",
              "      <td>48</td>\n",
              "      <td>48</td>\n",
              "      <td>48</td>\n",
              "      <td>48</td>\n",
              "      <td>48</td>\n",
              "      <td>48</td>\n",
              "      <td>48</td>\n",
              "      <td>48</td>\n",
              "      <td>0</td>\n",
              "      <td>48</td>\n",
              "      <td>48</td>\n",
              "      <td>48</td>\n",
              "      <td>48</td>\n",
              "      <td>48</td>\n",
              "      <td>48</td>\n",
              "      <td>48</td>\n",
              "      <td>48</td>\n",
              "      <td>0</td>\n",
              "      <td>48</td>\n",
              "      <td>48</td>\n",
              "      <td>0</td>\n",
              "    </tr>\n",
              "    <tr>\n",
              "      <th>4</th>\n",
              "      <td>802</td>\n",
              "      <td>543</td>\n",
              "      <td>132</td>\n",
              "      <td>0.012</td>\n",
              "      <td>660</td>\n",
              "      <td>1833</td>\n",
              "      <td>11.0</td>\n",
              "      <td>871</td>\n",
              "      <td>319</td>\n",
              "      <td>546</td>\n",
              "      <td>48</td>\n",
              "      <td>388</td>\n",
              "      <td>419</td>\n",
              "      <td>0</td>\n",
              "      <td>48</td>\n",
              "      <td>48</td>\n",
              "      <td>733</td>\n",
              "      <td>303</td>\n",
              "      <td>324</td>\n",
              "      <td>48</td>\n",
              "      <td>48</td>\n",
              "      <td>419</td>\n",
              "      <td>0</td>\n",
              "      <td>48</td>\n",
              "      <td>48</td>\n",
              "      <td>48</td>\n",
              "      <td>48</td>\n",
              "      <td>48</td>\n",
              "      <td>48</td>\n",
              "      <td>48</td>\n",
              "      <td>48</td>\n",
              "      <td>0</td>\n",
              "      <td>48</td>\n",
              "      <td>48</td>\n",
              "      <td>48</td>\n",
              "      <td>48</td>\n",
              "      <td>48</td>\n",
              "      <td>48</td>\n",
              "      <td>48</td>\n",
              "      <td>48</td>\n",
              "      <td>0</td>\n",
              "      <td>48</td>\n",
              "      <td>48</td>\n",
              "      <td>48</td>\n",
              "      <td>48</td>\n",
              "      <td>48</td>\n",
              "      <td>48</td>\n",
              "      <td>48</td>\n",
              "      <td>48</td>\n",
              "      <td>0</td>\n",
              "      <td>48</td>\n",
              "      <td>48</td>\n",
              "      <td>48</td>\n",
              "      <td>48</td>\n",
              "      <td>48</td>\n",
              "      <td>48</td>\n",
              "      <td>48</td>\n",
              "      <td>48</td>\n",
              "      <td>0</td>\n",
              "      <td>48</td>\n",
              "      <td>48</td>\n",
              "      <td>48</td>\n",
              "      <td>48</td>\n",
              "      <td>48</td>\n",
              "      <td>48</td>\n",
              "      <td>48</td>\n",
              "      <td>48</td>\n",
              "      <td>0</td>\n",
              "      <td>48</td>\n",
              "      <td>48</td>\n",
              "      <td>48</td>\n",
              "      <td>48</td>\n",
              "      <td>48</td>\n",
              "      <td>48</td>\n",
              "      <td>48</td>\n",
              "      <td>48</td>\n",
              "      <td>0</td>\n",
              "      <td>48</td>\n",
              "      <td>48</td>\n",
              "      <td>48</td>\n",
              "      <td>48</td>\n",
              "      <td>48</td>\n",
              "      <td>48</td>\n",
              "      <td>48</td>\n",
              "      <td>48</td>\n",
              "      <td>0</td>\n",
              "      <td>48</td>\n",
              "      <td>48</td>\n",
              "      <td>48</td>\n",
              "      <td>48</td>\n",
              "      <td>48</td>\n",
              "      <td>48</td>\n",
              "      <td>48</td>\n",
              "      <td>48</td>\n",
              "      <td>0</td>\n",
              "      <td>48</td>\n",
              "      <td>48</td>\n",
              "      <td>48</td>\n",
              "      <td>48</td>\n",
              "      <td>48</td>\n",
              "      <td>48</td>\n",
              "      <td>48</td>\n",
              "      <td>48</td>\n",
              "      <td>0</td>\n",
              "      <td>48</td>\n",
              "      <td>48</td>\n",
              "      <td>48</td>\n",
              "      <td>48</td>\n",
              "      <td>48</td>\n",
              "      <td>48</td>\n",
              "      <td>48</td>\n",
              "      <td>48</td>\n",
              "      <td>0</td>\n",
              "      <td>48</td>\n",
              "      <td>48</td>\n",
              "      <td>0</td>\n",
              "    </tr>\n",
              "  </tbody>\n",
              "</table>\n",
              "</div>\n",
              "    <div class=\"colab-df-buttons\">\n",
              "\n",
              "  <div class=\"colab-df-container\">\n",
              "    <button class=\"colab-df-convert\" onclick=\"convertToInteractive('df-654666e5-d962-4419-a709-88b2d1075ac7')\"\n",
              "            title=\"Convert this dataframe to an interactive table.\"\n",
              "            style=\"display:none;\">\n",
              "\n",
              "  <svg xmlns=\"http://www.w3.org/2000/svg\" height=\"24px\" viewBox=\"0 -960 960 960\">\n",
              "    <path d=\"M120-120v-720h720v720H120Zm60-500h600v-160H180v160Zm220 220h160v-160H400v160Zm0 220h160v-160H400v160ZM180-400h160v-160H180v160Zm440 0h160v-160H620v160ZM180-180h160v-160H180v160Zm440 0h160v-160H620v160Z\"/>\n",
              "  </svg>\n",
              "    </button>\n",
              "\n",
              "  <style>\n",
              "    .colab-df-container {\n",
              "      display:flex;\n",
              "      gap: 12px;\n",
              "    }\n",
              "\n",
              "    .colab-df-convert {\n",
              "      background-color: #E8F0FE;\n",
              "      border: none;\n",
              "      border-radius: 50%;\n",
              "      cursor: pointer;\n",
              "      display: none;\n",
              "      fill: #1967D2;\n",
              "      height: 32px;\n",
              "      padding: 0 0 0 0;\n",
              "      width: 32px;\n",
              "    }\n",
              "\n",
              "    .colab-df-convert:hover {\n",
              "      background-color: #E2EBFA;\n",
              "      box-shadow: 0px 1px 2px rgba(60, 64, 67, 0.3), 0px 1px 3px 1px rgba(60, 64, 67, 0.15);\n",
              "      fill: #174EA6;\n",
              "    }\n",
              "\n",
              "    .colab-df-buttons div {\n",
              "      margin-bottom: 4px;\n",
              "    }\n",
              "\n",
              "    [theme=dark] .colab-df-convert {\n",
              "      background-color: #3B4455;\n",
              "      fill: #D2E3FC;\n",
              "    }\n",
              "\n",
              "    [theme=dark] .colab-df-convert:hover {\n",
              "      background-color: #434B5C;\n",
              "      box-shadow: 0px 1px 3px 1px rgba(0, 0, 0, 0.15);\n",
              "      filter: drop-shadow(0px 1px 2px rgba(0, 0, 0, 0.3));\n",
              "      fill: #FFFFFF;\n",
              "    }\n",
              "  </style>\n",
              "\n",
              "    <script>\n",
              "      const buttonEl =\n",
              "        document.querySelector('#df-654666e5-d962-4419-a709-88b2d1075ac7 button.colab-df-convert');\n",
              "      buttonEl.style.display =\n",
              "        google.colab.kernel.accessAllowed ? 'block' : 'none';\n",
              "\n",
              "      async function convertToInteractive(key) {\n",
              "        const element = document.querySelector('#df-654666e5-d962-4419-a709-88b2d1075ac7');\n",
              "        const dataTable =\n",
              "          await google.colab.kernel.invokeFunction('convertToInteractive',\n",
              "                                                    [key], {});\n",
              "        if (!dataTable) return;\n",
              "\n",
              "        const docLinkHtml = 'Like what you see? Visit the ' +\n",
              "          '<a target=\"_blank\" href=https://colab.research.google.com/notebooks/data_table.ipynb>data table notebook</a>'\n",
              "          + ' to learn more about interactive tables.';\n",
              "        element.innerHTML = '';\n",
              "        dataTable['output_type'] = 'display_data';\n",
              "        await google.colab.output.renderOutput(dataTable, element);\n",
              "        const docLink = document.createElement('div');\n",
              "        docLink.innerHTML = docLinkHtml;\n",
              "        element.appendChild(docLink);\n",
              "      }\n",
              "    </script>\n",
              "  </div>\n",
              "\n",
              "\n",
              "<div id=\"df-8222150c-dcfb-4347-a637-859f70a91450\">\n",
              "  <button class=\"colab-df-quickchart\" onclick=\"quickchart('df-8222150c-dcfb-4347-a637-859f70a91450')\"\n",
              "            title=\"Suggest charts\"\n",
              "            style=\"display:none;\">\n",
              "\n",
              "<svg xmlns=\"http://www.w3.org/2000/svg\" height=\"24px\"viewBox=\"0 0 24 24\"\n",
              "     width=\"24px\">\n",
              "    <g>\n",
              "        <path d=\"M19 3H5c-1.1 0-2 .9-2 2v14c0 1.1.9 2 2 2h14c1.1 0 2-.9 2-2V5c0-1.1-.9-2-2-2zM9 17H7v-7h2v7zm4 0h-2V7h2v10zm4 0h-2v-4h2v4z\"/>\n",
              "    </g>\n",
              "</svg>\n",
              "  </button>\n",
              "\n",
              "<style>\n",
              "  .colab-df-quickchart {\n",
              "      --bg-color: #E8F0FE;\n",
              "      --fill-color: #1967D2;\n",
              "      --hover-bg-color: #E2EBFA;\n",
              "      --hover-fill-color: #174EA6;\n",
              "      --disabled-fill-color: #AAA;\n",
              "      --disabled-bg-color: #DDD;\n",
              "  }\n",
              "\n",
              "  [theme=dark] .colab-df-quickchart {\n",
              "      --bg-color: #3B4455;\n",
              "      --fill-color: #D2E3FC;\n",
              "      --hover-bg-color: #434B5C;\n",
              "      --hover-fill-color: #FFFFFF;\n",
              "      --disabled-bg-color: #3B4455;\n",
              "      --disabled-fill-color: #666;\n",
              "  }\n",
              "\n",
              "  .colab-df-quickchart {\n",
              "    background-color: var(--bg-color);\n",
              "    border: none;\n",
              "    border-radius: 50%;\n",
              "    cursor: pointer;\n",
              "    display: none;\n",
              "    fill: var(--fill-color);\n",
              "    height: 32px;\n",
              "    padding: 0;\n",
              "    width: 32px;\n",
              "  }\n",
              "\n",
              "  .colab-df-quickchart:hover {\n",
              "    background-color: var(--hover-bg-color);\n",
              "    box-shadow: 0 1px 2px rgba(60, 64, 67, 0.3), 0 1px 3px 1px rgba(60, 64, 67, 0.15);\n",
              "    fill: var(--button-hover-fill-color);\n",
              "  }\n",
              "\n",
              "  .colab-df-quickchart-complete:disabled,\n",
              "  .colab-df-quickchart-complete:disabled:hover {\n",
              "    background-color: var(--disabled-bg-color);\n",
              "    fill: var(--disabled-fill-color);\n",
              "    box-shadow: none;\n",
              "  }\n",
              "\n",
              "  .colab-df-spinner {\n",
              "    border: 2px solid var(--fill-color);\n",
              "    border-color: transparent;\n",
              "    border-bottom-color: var(--fill-color);\n",
              "    animation:\n",
              "      spin 1s steps(1) infinite;\n",
              "  }\n",
              "\n",
              "  @keyframes spin {\n",
              "    0% {\n",
              "      border-color: transparent;\n",
              "      border-bottom-color: var(--fill-color);\n",
              "      border-left-color: var(--fill-color);\n",
              "    }\n",
              "    20% {\n",
              "      border-color: transparent;\n",
              "      border-left-color: var(--fill-color);\n",
              "      border-top-color: var(--fill-color);\n",
              "    }\n",
              "    30% {\n",
              "      border-color: transparent;\n",
              "      border-left-color: var(--fill-color);\n",
              "      border-top-color: var(--fill-color);\n",
              "      border-right-color: var(--fill-color);\n",
              "    }\n",
              "    40% {\n",
              "      border-color: transparent;\n",
              "      border-right-color: var(--fill-color);\n",
              "      border-top-color: var(--fill-color);\n",
              "    }\n",
              "    60% {\n",
              "      border-color: transparent;\n",
              "      border-right-color: var(--fill-color);\n",
              "    }\n",
              "    80% {\n",
              "      border-color: transparent;\n",
              "      border-right-color: var(--fill-color);\n",
              "      border-bottom-color: var(--fill-color);\n",
              "    }\n",
              "    90% {\n",
              "      border-color: transparent;\n",
              "      border-bottom-color: var(--fill-color);\n",
              "    }\n",
              "  }\n",
              "</style>\n",
              "\n",
              "  <script>\n",
              "    async function quickchart(key) {\n",
              "      const quickchartButtonEl =\n",
              "        document.querySelector('#' + key + ' button');\n",
              "      quickchartButtonEl.disabled = true;  // To prevent multiple clicks.\n",
              "      quickchartButtonEl.classList.add('colab-df-spinner');\n",
              "      try {\n",
              "        const charts = await google.colab.kernel.invokeFunction(\n",
              "            'suggestCharts', [key], {});\n",
              "      } catch (error) {\n",
              "        console.error('Error during call to suggestCharts:', error);\n",
              "      }\n",
              "      quickchartButtonEl.classList.remove('colab-df-spinner');\n",
              "      quickchartButtonEl.classList.add('colab-df-quickchart-complete');\n",
              "    }\n",
              "    (() => {\n",
              "      let quickchartButtonEl =\n",
              "        document.querySelector('#df-8222150c-dcfb-4347-a637-859f70a91450 button');\n",
              "      quickchartButtonEl.style.display =\n",
              "        google.colab.kernel.accessAllowed ? 'block' : 'none';\n",
              "    })();\n",
              "  </script>\n",
              "</div>\n",
              "    </div>\n",
              "  </div>\n"
            ],
            "application/vnd.google.colaboratory.intrinsic+json": {
              "type": "dataframe",
              "variable_name": "train"
            }
          },
          "metadata": {},
          "execution_count": 7
        }
      ],
      "source": [
        "train = train.replace({np.nan: '0'})\n",
        "train['acc_sum'] = train['acc_sum'].astype(int)\n",
        "\n",
        "#hashing\n",
        "train['prompt'] = train['prompt'].apply(hash_prompt)\n",
        "train['user'] = train['user'].apply(hash_token)\n",
        "train['countries'] = train['countries'].apply(hash_token)\n",
        "train['session'] = train['session'].apply(hash_token)\n",
        "train['format'] = train['format'].apply(hash_token)\n",
        "\n",
        "train['token_1'] = train['token_1'].apply(hash_token)\n",
        "train['token_2'] = train['token_2'].apply(hash_token)\n",
        "train['token_3'] = train['token_3'].apply(hash_token)\n",
        "train['token_4'] = train['token_4'].apply(hash_token)\n",
        "train['token_5'] = train['token_5'].apply(hash_token)\n",
        "train['token_6'] = train['token_6'].apply(hash_token)\n",
        "train['token_7'] = train['token_7'].apply(hash_token)\n",
        "train['token_8'] = train['token_8'].apply(hash_token)\n",
        "train['token_9'] = train['token_9'].apply(hash_token)\n",
        "train['token_10'] = train['token_10'].apply(hash_token)\n",
        "train['token_11'] = train['token_11'].apply(hash_token)\n",
        "train['token_12'] = train['token_12'].apply(hash_token)\n",
        "\n",
        "train['morf_1'] = train['morf_1'].apply(hash_token)\n",
        "train['morf_2'] = train['morf_2'].apply(hash_token)\n",
        "train['morf_3'] = train['morf_3'].apply(hash_token)\n",
        "train['morf_4'] = train['morf_4'].apply(hash_token)\n",
        "train['morf_5'] = train['morf_5'].apply(hash_token)\n",
        "train['morf_6'] = train['morf_6'].apply(hash_token)\n",
        "train['morf_7'] = train['morf_7'].apply(hash_token)\n",
        "train['morf_8'] = train['morf_8'].apply(hash_token)\n",
        "train['morf_9'] = train['morf_9'].apply(hash_token)\n",
        "train['morf_10'] = train['morf_10'].apply(hash_token)\n",
        "train['morf_11'] = train['morf_11'].apply(hash_token)\n",
        "train['morf_12'] = train['morf_12'].apply(hash_token)\n",
        "\n",
        "train['pos_1'] = train['pos_1'].apply(hash_token)\n",
        "train['pos_2'] = train['pos_2'].apply(hash_token)\n",
        "train['pos_3'] = train['pos_3'].apply(hash_token)\n",
        "train['pos_4'] = train['pos_4'].apply(hash_token)\n",
        "train['pos_5'] = train['pos_5'].apply(hash_token)\n",
        "train['pos_6'] = train['pos_6'].apply(hash_token)\n",
        "train['pos_7'] = train['pos_7'].apply(hash_token)\n",
        "train['pos_8'] = train['pos_8'].apply(hash_token)\n",
        "train['pos_9'] = train['pos_9'].apply(hash_token)\n",
        "train['pos_10'] = train['pos_10'].apply(hash_token)\n",
        "train['pos_11'] = train['pos_11'].apply(hash_token)\n",
        "train['pos_12'] = train['pos_12'].apply(hash_token)\n",
        "\n",
        "train['case_1'] = train['case_1'].apply(hash_token)\n",
        "train['case_2'] = train['case_2'].apply(hash_token)\n",
        "train['case_3'] = train['case_3'].apply(hash_token)\n",
        "train['case_4'] = train['case_4'].apply(hash_token)\n",
        "train['case_5'] = train['case_5'].apply(hash_token)\n",
        "train['case_6'] = train['case_6'].apply(hash_token)\n",
        "train['case_7'] = train['case_7'].apply(hash_token)\n",
        "train['case_8'] = train['case_8'].apply(hash_token)\n",
        "train['case_9'] = train['case_9'].apply(hash_token)\n",
        "train['case_10'] = train['case_10'].apply(hash_token)\n",
        "train['case_11'] = train['case_11'].apply(hash_token)\n",
        "train['case_12'] = train['case_12'].apply(hash_token)\n",
        "\n",
        "train['gender_1'] = train['gender_1'].apply(hash_token)\n",
        "train['gender_2'] = train['gender_2'].apply(hash_token)\n",
        "train['gender_3'] = train['gender_3'].apply(hash_token)\n",
        "train['gender_4'] = train['gender_4'].apply(hash_token)\n",
        "train['gender_5'] = train['gender_5'].apply(hash_token)\n",
        "train['gender_6'] = train['gender_6'].apply(hash_token)\n",
        "train['gender_7'] = train['gender_7'].apply(hash_token)\n",
        "train['gender_8'] = train['gender_8'].apply(hash_token)\n",
        "train['gender_9'] = train['gender_9'].apply(hash_token)\n",
        "train['gender_10'] = train['gender_10'].apply(hash_token)\n",
        "train['gender_11'] = train['gender_11'].apply(hash_token)\n",
        "train['gender_12'] = train['gender_12'].apply(hash_token)\n",
        "\n",
        "train['tense_1'] = train['tense_1'].apply(hash_token)\n",
        "train['tense_2'] = train['tense_2'].apply(hash_token)\n",
        "train['tense_3'] = train['tense_3'].apply(hash_token)\n",
        "train['tense_4'] = train['tense_4'].apply(hash_token)\n",
        "train['tense_5'] = train['tense_5'].apply(hash_token)\n",
        "train['tense_6'] = train['tense_6'].apply(hash_token)\n",
        "train['tense_7'] = train['tense_7'].apply(hash_token)\n",
        "train['tense_8'] = train['tense_8'].apply(hash_token)\n",
        "train['tense_9'] = train['tense_9'].apply(hash_token)\n",
        "train['tense_10'] = train['tense_10'].apply(hash_token)\n",
        "train['tense_11'] = train['tense_11'].apply(hash_token)\n",
        "train['tense_12'] = train['tense_12'].apply(hash_token)\n",
        "\n",
        "train['pronType_1'] = train['pronType_1'].apply(hash_token)\n",
        "train['pronType_2'] = train['pronType_2'].apply(hash_token)\n",
        "train['pronType_3'] = train['pronType_3'].apply(hash_token)\n",
        "train['pronType_4'] = train['pronType_4'].apply(hash_token)\n",
        "train['pronType_5'] = train['pronType_5'].apply(hash_token)\n",
        "train['pronType_6'] = train['pronType_6'].apply(hash_token)\n",
        "train['pronType_7'] = train['pronType_7'].apply(hash_token)\n",
        "train['pronType_8'] = train['pronType_8'].apply(hash_token)\n",
        "train['pronType_9'] = train['pronType_9'].apply(hash_token)\n",
        "train['pronType_10'] = train['pronType_10'].apply(hash_token)\n",
        "train['pronType_11'] = train['pronType_11'].apply(hash_token)\n",
        "train['pronType_12'] = train['pronType_12'].apply(hash_token)\n",
        "\n",
        "train['number_1'] = train['number_1'].apply(hash_token)\n",
        "train['number_2'] = train['number_2'].apply(hash_token)\n",
        "train['number_3'] = train['number_3'].apply(hash_token)\n",
        "train['number_4'] = train['number_4'].apply(hash_token)\n",
        "train['number_5'] = train['number_5'].apply(hash_token)\n",
        "train['number_6'] = train['number_6'].apply(hash_token)\n",
        "train['number_7'] = train['number_7'].apply(hash_token)\n",
        "train['number_8'] = train['number_8'].apply(hash_token)\n",
        "train['number_9'] = train['number_9'].apply(hash_token)\n",
        "train['number_10'] = train['number_10'].apply(hash_token)\n",
        "train['number_11'] = train['number_11'].apply(hash_token)\n",
        "train['number_12'] = train['number_12'].apply(hash_token)\n",
        "\n",
        "train.head(5)"
      ]
    },
    {
      "cell_type": "code",
      "source": [
        "from sklearn.preprocessing import minmax_scale"
      ],
      "metadata": {
        "id": "q15StRn5g78b"
      },
      "id": "q15StRn5g78b",
      "execution_count": null,
      "outputs": []
    },
    {
      "cell_type": "code",
      "source": [
        "scaler = minmax_scale"
      ],
      "metadata": {
        "id": "P-SPceAZhGXU"
      },
      "id": "P-SPceAZhGXU",
      "execution_count": null,
      "outputs": []
    },
    {
      "cell_type": "code",
      "source": [
        "scaled = train\n",
        "cols_to_scale = ['days', 'time', 'person_1', 'person_2', 'person_3', 'person_4', 'person_5', 'person_6', 'person_7',\n",
        "                 'person_8', 'person_9', 'person_10', 'person_11', 'person_12'\n",
        "                 ]\n",
        "scaled[cols_to_scale] = scaler(train[cols_to_scale])\n",
        "scaled.head(5)"
      ],
      "metadata": {
        "colab": {
          "base_uri": "https://localhost:8080/",
          "height": 226
        },
        "id": "ugGE9NRxhKm3",
        "outputId": "1c5a4614-5d46-49e5-d858-10052aa26363"
      },
      "id": "ugGE9NRxhKm3",
      "execution_count": null,
      "outputs": [
        {
          "output_type": "execute_result",
          "data": {
            "text/plain": [
              "   prompt  user  countries      days  session  format      time  token_1  \\\n",
              "0      32   543        132  0.000329      660     655  0.000097      177   \n",
              "1      32   543        132  0.000329      660     655  0.000086      177   \n",
              "2     831   543        132  0.000329      660    1833  0.000086      177   \n",
              "3      32   543        132  0.000453      660     655  0.000097      529   \n",
              "4     802   543        132  0.000453      660    1833  0.000118      871   \n",
              "\n",
              "   pos_1  morf_1  case_1  gender_1  number_1  person_1  tense_1  pronType_1  \\\n",
              "0    221     317      48       388       401  0.000000       48         295   \n",
              "1    221     317      48       388       401  0.000000       48         295   \n",
              "2    221     317      48       388       401  0.000000       48         295   \n",
              "3    303     324      48        48       419  0.333333      408          48   \n",
              "4    319     546      48       388       419  0.000000       48          48   \n",
              "\n",
              "   token_2  pos_2  morf_2  case_2  gender_2  number_2  person_2  tense_2  \\\n",
              "0      319    320     324      48       388       401       0.0       48   \n",
              "1      414    320     324      48       280       401       0.0       48   \n",
              "2      319    320     324      48       388       401       0.0       48   \n",
              "3      763    320     415      48       280       419       0.0       48   \n",
              "4      733    303     324      48        48       419       0.0       48   \n",
              "\n",
              "   pronType_2  token_3  pos_3  morf_3  case_3  gender_3  number_3  person_3  \\\n",
              "0          48       48     48      48      48        48        48       0.0   \n",
              "1          48       48     48      48      48        48        48       0.0   \n",
              "2          48       48     48      48      48        48        48       0.0   \n",
              "3          48       48     48      48      48        48        48       0.0   \n",
              "4          48       48     48      48      48        48        48       0.0   \n",
              "\n",
              "   tense_3  pronType_3  token_4  pos_4  morf_4  case_4  gender_4  number_4  \\\n",
              "0       48          48       48     48      48      48        48        48   \n",
              "1       48          48       48     48      48      48        48        48   \n",
              "2       48          48       48     48      48      48        48        48   \n",
              "3       48          48       48     48      48      48        48        48   \n",
              "4       48          48       48     48      48      48        48        48   \n",
              "\n",
              "   person_4  tense_4  pronType_4  token_5  pos_5  morf_5  case_5  gender_5  \\\n",
              "0       0.0       48          48       48     48      48      48        48   \n",
              "1       0.0       48          48       48     48      48      48        48   \n",
              "2       0.0       48          48       48     48      48      48        48   \n",
              "3       0.0       48          48       48     48      48      48        48   \n",
              "4       0.0       48          48       48     48      48      48        48   \n",
              "\n",
              "   number_5  person_5  tense_5  pronType_5  token_6  pos_6  morf_6  case_6  \\\n",
              "0        48       0.0       48          48       48     48      48      48   \n",
              "1        48       0.0       48          48       48     48      48      48   \n",
              "2        48       0.0       48          48       48     48      48      48   \n",
              "3        48       0.0       48          48       48     48      48      48   \n",
              "4        48       0.0       48          48       48     48      48      48   \n",
              "\n",
              "   gender_6  number_6  person_6  tense_6  pronType_6  token_7  pos_7  morf_7  \\\n",
              "0        48        48       0.0       48          48       48     48      48   \n",
              "1        48        48       0.0       48          48       48     48      48   \n",
              "2        48        48       0.0       48          48       48     48      48   \n",
              "3        48        48       0.0       48          48       48     48      48   \n",
              "4        48        48       0.0       48          48       48     48      48   \n",
              "\n",
              "   case_7  gender_7  number_7  person_7  tense_7  pronType_7  token_8  pos_8  \\\n",
              "0      48        48        48       0.0       48          48       48     48   \n",
              "1      48        48        48       0.0       48          48       48     48   \n",
              "2      48        48        48       0.0       48          48       48     48   \n",
              "3      48        48        48       0.0       48          48       48     48   \n",
              "4      48        48        48       0.0       48          48       48     48   \n",
              "\n",
              "   morf_8  case_8  gender_8  number_8  person_8  tense_8  pronType_8  token_9  \\\n",
              "0      48      48        48        48       0.0       48          48       48   \n",
              "1      48      48        48        48       0.0       48          48       48   \n",
              "2      48      48        48        48       0.0       48          48       48   \n",
              "3      48      48        48        48       0.0       48          48       48   \n",
              "4      48      48        48        48       0.0       48          48       48   \n",
              "\n",
              "   pos_9  morf_9  case_9  gender_9  number_9  person_9  tense_9  pronType_9  \\\n",
              "0     48      48      48        48        48       0.0       48          48   \n",
              "1     48      48      48        48        48       0.0       48          48   \n",
              "2     48      48      48        48        48       0.0       48          48   \n",
              "3     48      48      48        48        48       0.0       48          48   \n",
              "4     48      48      48        48        48       0.0       48          48   \n",
              "\n",
              "   token_10  pos_10  morf_10  case_10  gender_10  number_10  person_10  \\\n",
              "0        48      48       48       48         48         48        0.0   \n",
              "1        48      48       48       48         48         48        0.0   \n",
              "2        48      48       48       48         48         48        0.0   \n",
              "3        48      48       48       48         48         48        0.0   \n",
              "4        48      48       48       48         48         48        0.0   \n",
              "\n",
              "   tense_10  pronType_10  token_11  pos_11  morf_11  case_11  gender_11  \\\n",
              "0        48           48        48      48       48       48         48   \n",
              "1        48           48        48      48       48       48         48   \n",
              "2        48           48        48      48       48       48         48   \n",
              "3        48           48        48      48       48       48         48   \n",
              "4        48           48        48      48       48       48         48   \n",
              "\n",
              "   number_11  person_11  tense_11  pronType_11  token_12  pos_12  morf_12  \\\n",
              "0         48        0.0        48           48        48      48       48   \n",
              "1         48        0.0        48           48        48      48       48   \n",
              "2         48        0.0        48           48        48      48       48   \n",
              "3         48        0.0        48           48        48      48       48   \n",
              "4         48        0.0        48           48        48      48       48   \n",
              "\n",
              "   case_12  gender_12  number_12  person_12  tense_12  pronType_12  acc_sum  \n",
              "0       48         48         48        0.0        48           48        0  \n",
              "1       48         48         48        0.0        48           48        0  \n",
              "2       48         48         48        0.0        48           48        0  \n",
              "3       48         48         48        0.0        48           48        0  \n",
              "4       48         48         48        0.0        48           48        0  "
            ],
            "text/html": [
              "\n",
              "  <div id=\"df-87427545-bb1b-47d3-8fbe-f606ab7e0adb\" class=\"colab-df-container\">\n",
              "    <div>\n",
              "<style scoped>\n",
              "    .dataframe tbody tr th:only-of-type {\n",
              "        vertical-align: middle;\n",
              "    }\n",
              "\n",
              "    .dataframe tbody tr th {\n",
              "        vertical-align: top;\n",
              "    }\n",
              "\n",
              "    .dataframe thead th {\n",
              "        text-align: right;\n",
              "    }\n",
              "</style>\n",
              "<table border=\"1\" class=\"dataframe\">\n",
              "  <thead>\n",
              "    <tr style=\"text-align: right;\">\n",
              "      <th></th>\n",
              "      <th>prompt</th>\n",
              "      <th>user</th>\n",
              "      <th>countries</th>\n",
              "      <th>days</th>\n",
              "      <th>session</th>\n",
              "      <th>format</th>\n",
              "      <th>time</th>\n",
              "      <th>token_1</th>\n",
              "      <th>pos_1</th>\n",
              "      <th>morf_1</th>\n",
              "      <th>case_1</th>\n",
              "      <th>gender_1</th>\n",
              "      <th>number_1</th>\n",
              "      <th>person_1</th>\n",
              "      <th>tense_1</th>\n",
              "      <th>pronType_1</th>\n",
              "      <th>token_2</th>\n",
              "      <th>pos_2</th>\n",
              "      <th>morf_2</th>\n",
              "      <th>case_2</th>\n",
              "      <th>gender_2</th>\n",
              "      <th>number_2</th>\n",
              "      <th>person_2</th>\n",
              "      <th>tense_2</th>\n",
              "      <th>pronType_2</th>\n",
              "      <th>token_3</th>\n",
              "      <th>pos_3</th>\n",
              "      <th>morf_3</th>\n",
              "      <th>case_3</th>\n",
              "      <th>gender_3</th>\n",
              "      <th>number_3</th>\n",
              "      <th>person_3</th>\n",
              "      <th>tense_3</th>\n",
              "      <th>pronType_3</th>\n",
              "      <th>token_4</th>\n",
              "      <th>pos_4</th>\n",
              "      <th>morf_4</th>\n",
              "      <th>case_4</th>\n",
              "      <th>gender_4</th>\n",
              "      <th>number_4</th>\n",
              "      <th>person_4</th>\n",
              "      <th>tense_4</th>\n",
              "      <th>pronType_4</th>\n",
              "      <th>token_5</th>\n",
              "      <th>pos_5</th>\n",
              "      <th>morf_5</th>\n",
              "      <th>case_5</th>\n",
              "      <th>gender_5</th>\n",
              "      <th>number_5</th>\n",
              "      <th>person_5</th>\n",
              "      <th>tense_5</th>\n",
              "      <th>pronType_5</th>\n",
              "      <th>token_6</th>\n",
              "      <th>pos_6</th>\n",
              "      <th>morf_6</th>\n",
              "      <th>case_6</th>\n",
              "      <th>gender_6</th>\n",
              "      <th>number_6</th>\n",
              "      <th>person_6</th>\n",
              "      <th>tense_6</th>\n",
              "      <th>pronType_6</th>\n",
              "      <th>token_7</th>\n",
              "      <th>pos_7</th>\n",
              "      <th>morf_7</th>\n",
              "      <th>case_7</th>\n",
              "      <th>gender_7</th>\n",
              "      <th>number_7</th>\n",
              "      <th>person_7</th>\n",
              "      <th>tense_7</th>\n",
              "      <th>pronType_7</th>\n",
              "      <th>token_8</th>\n",
              "      <th>pos_8</th>\n",
              "      <th>morf_8</th>\n",
              "      <th>case_8</th>\n",
              "      <th>gender_8</th>\n",
              "      <th>number_8</th>\n",
              "      <th>person_8</th>\n",
              "      <th>tense_8</th>\n",
              "      <th>pronType_8</th>\n",
              "      <th>token_9</th>\n",
              "      <th>pos_9</th>\n",
              "      <th>morf_9</th>\n",
              "      <th>case_9</th>\n",
              "      <th>gender_9</th>\n",
              "      <th>number_9</th>\n",
              "      <th>person_9</th>\n",
              "      <th>tense_9</th>\n",
              "      <th>pronType_9</th>\n",
              "      <th>token_10</th>\n",
              "      <th>pos_10</th>\n",
              "      <th>morf_10</th>\n",
              "      <th>case_10</th>\n",
              "      <th>gender_10</th>\n",
              "      <th>number_10</th>\n",
              "      <th>person_10</th>\n",
              "      <th>tense_10</th>\n",
              "      <th>pronType_10</th>\n",
              "      <th>token_11</th>\n",
              "      <th>pos_11</th>\n",
              "      <th>morf_11</th>\n",
              "      <th>case_11</th>\n",
              "      <th>gender_11</th>\n",
              "      <th>number_11</th>\n",
              "      <th>person_11</th>\n",
              "      <th>tense_11</th>\n",
              "      <th>pronType_11</th>\n",
              "      <th>token_12</th>\n",
              "      <th>pos_12</th>\n",
              "      <th>morf_12</th>\n",
              "      <th>case_12</th>\n",
              "      <th>gender_12</th>\n",
              "      <th>number_12</th>\n",
              "      <th>person_12</th>\n",
              "      <th>tense_12</th>\n",
              "      <th>pronType_12</th>\n",
              "      <th>acc_sum</th>\n",
              "    </tr>\n",
              "  </thead>\n",
              "  <tbody>\n",
              "    <tr>\n",
              "      <th>0</th>\n",
              "      <td>32</td>\n",
              "      <td>543</td>\n",
              "      <td>132</td>\n",
              "      <td>0.000329</td>\n",
              "      <td>660</td>\n",
              "      <td>655</td>\n",
              "      <td>0.000097</td>\n",
              "      <td>177</td>\n",
              "      <td>221</td>\n",
              "      <td>317</td>\n",
              "      <td>48</td>\n",
              "      <td>388</td>\n",
              "      <td>401</td>\n",
              "      <td>0.000000</td>\n",
              "      <td>48</td>\n",
              "      <td>295</td>\n",
              "      <td>319</td>\n",
              "      <td>320</td>\n",
              "      <td>324</td>\n",
              "      <td>48</td>\n",
              "      <td>388</td>\n",
              "      <td>401</td>\n",
              "      <td>0.0</td>\n",
              "      <td>48</td>\n",
              "      <td>48</td>\n",
              "      <td>48</td>\n",
              "      <td>48</td>\n",
              "      <td>48</td>\n",
              "      <td>48</td>\n",
              "      <td>48</td>\n",
              "      <td>48</td>\n",
              "      <td>0.0</td>\n",
              "      <td>48</td>\n",
              "      <td>48</td>\n",
              "      <td>48</td>\n",
              "      <td>48</td>\n",
              "      <td>48</td>\n",
              "      <td>48</td>\n",
              "      <td>48</td>\n",
              "      <td>48</td>\n",
              "      <td>0.0</td>\n",
              "      <td>48</td>\n",
              "      <td>48</td>\n",
              "      <td>48</td>\n",
              "      <td>48</td>\n",
              "      <td>48</td>\n",
              "      <td>48</td>\n",
              "      <td>48</td>\n",
              "      <td>48</td>\n",
              "      <td>0.0</td>\n",
              "      <td>48</td>\n",
              "      <td>48</td>\n",
              "      <td>48</td>\n",
              "      <td>48</td>\n",
              "      <td>48</td>\n",
              "      <td>48</td>\n",
              "      <td>48</td>\n",
              "      <td>48</td>\n",
              "      <td>0.0</td>\n",
              "      <td>48</td>\n",
              "      <td>48</td>\n",
              "      <td>48</td>\n",
              "      <td>48</td>\n",
              "      <td>48</td>\n",
              "      <td>48</td>\n",
              "      <td>48</td>\n",
              "      <td>48</td>\n",
              "      <td>0.0</td>\n",
              "      <td>48</td>\n",
              "      <td>48</td>\n",
              "      <td>48</td>\n",
              "      <td>48</td>\n",
              "      <td>48</td>\n",
              "      <td>48</td>\n",
              "      <td>48</td>\n",
              "      <td>48</td>\n",
              "      <td>0.0</td>\n",
              "      <td>48</td>\n",
              "      <td>48</td>\n",
              "      <td>48</td>\n",
              "      <td>48</td>\n",
              "      <td>48</td>\n",
              "      <td>48</td>\n",
              "      <td>48</td>\n",
              "      <td>48</td>\n",
              "      <td>0.0</td>\n",
              "      <td>48</td>\n",
              "      <td>48</td>\n",
              "      <td>48</td>\n",
              "      <td>48</td>\n",
              "      <td>48</td>\n",
              "      <td>48</td>\n",
              "      <td>48</td>\n",
              "      <td>48</td>\n",
              "      <td>0.0</td>\n",
              "      <td>48</td>\n",
              "      <td>48</td>\n",
              "      <td>48</td>\n",
              "      <td>48</td>\n",
              "      <td>48</td>\n",
              "      <td>48</td>\n",
              "      <td>48</td>\n",
              "      <td>48</td>\n",
              "      <td>0.0</td>\n",
              "      <td>48</td>\n",
              "      <td>48</td>\n",
              "      <td>48</td>\n",
              "      <td>48</td>\n",
              "      <td>48</td>\n",
              "      <td>48</td>\n",
              "      <td>48</td>\n",
              "      <td>48</td>\n",
              "      <td>0.0</td>\n",
              "      <td>48</td>\n",
              "      <td>48</td>\n",
              "      <td>0</td>\n",
              "    </tr>\n",
              "    <tr>\n",
              "      <th>1</th>\n",
              "      <td>32</td>\n",
              "      <td>543</td>\n",
              "      <td>132</td>\n",
              "      <td>0.000329</td>\n",
              "      <td>660</td>\n",
              "      <td>655</td>\n",
              "      <td>0.000086</td>\n",
              "      <td>177</td>\n",
              "      <td>221</td>\n",
              "      <td>317</td>\n",
              "      <td>48</td>\n",
              "      <td>388</td>\n",
              "      <td>401</td>\n",
              "      <td>0.000000</td>\n",
              "      <td>48</td>\n",
              "      <td>295</td>\n",
              "      <td>414</td>\n",
              "      <td>320</td>\n",
              "      <td>324</td>\n",
              "      <td>48</td>\n",
              "      <td>280</td>\n",
              "      <td>401</td>\n",
              "      <td>0.0</td>\n",
              "      <td>48</td>\n",
              "      <td>48</td>\n",
              "      <td>48</td>\n",
              "      <td>48</td>\n",
              "      <td>48</td>\n",
              "      <td>48</td>\n",
              "      <td>48</td>\n",
              "      <td>48</td>\n",
              "      <td>0.0</td>\n",
              "      <td>48</td>\n",
              "      <td>48</td>\n",
              "      <td>48</td>\n",
              "      <td>48</td>\n",
              "      <td>48</td>\n",
              "      <td>48</td>\n",
              "      <td>48</td>\n",
              "      <td>48</td>\n",
              "      <td>0.0</td>\n",
              "      <td>48</td>\n",
              "      <td>48</td>\n",
              "      <td>48</td>\n",
              "      <td>48</td>\n",
              "      <td>48</td>\n",
              "      <td>48</td>\n",
              "      <td>48</td>\n",
              "      <td>48</td>\n",
              "      <td>0.0</td>\n",
              "      <td>48</td>\n",
              "      <td>48</td>\n",
              "      <td>48</td>\n",
              "      <td>48</td>\n",
              "      <td>48</td>\n",
              "      <td>48</td>\n",
              "      <td>48</td>\n",
              "      <td>48</td>\n",
              "      <td>0.0</td>\n",
              "      <td>48</td>\n",
              "      <td>48</td>\n",
              "      <td>48</td>\n",
              "      <td>48</td>\n",
              "      <td>48</td>\n",
              "      <td>48</td>\n",
              "      <td>48</td>\n",
              "      <td>48</td>\n",
              "      <td>0.0</td>\n",
              "      <td>48</td>\n",
              "      <td>48</td>\n",
              "      <td>48</td>\n",
              "      <td>48</td>\n",
              "      <td>48</td>\n",
              "      <td>48</td>\n",
              "      <td>48</td>\n",
              "      <td>48</td>\n",
              "      <td>0.0</td>\n",
              "      <td>48</td>\n",
              "      <td>48</td>\n",
              "      <td>48</td>\n",
              "      <td>48</td>\n",
              "      <td>48</td>\n",
              "      <td>48</td>\n",
              "      <td>48</td>\n",
              "      <td>48</td>\n",
              "      <td>0.0</td>\n",
              "      <td>48</td>\n",
              "      <td>48</td>\n",
              "      <td>48</td>\n",
              "      <td>48</td>\n",
              "      <td>48</td>\n",
              "      <td>48</td>\n",
              "      <td>48</td>\n",
              "      <td>48</td>\n",
              "      <td>0.0</td>\n",
              "      <td>48</td>\n",
              "      <td>48</td>\n",
              "      <td>48</td>\n",
              "      <td>48</td>\n",
              "      <td>48</td>\n",
              "      <td>48</td>\n",
              "      <td>48</td>\n",
              "      <td>48</td>\n",
              "      <td>0.0</td>\n",
              "      <td>48</td>\n",
              "      <td>48</td>\n",
              "      <td>48</td>\n",
              "      <td>48</td>\n",
              "      <td>48</td>\n",
              "      <td>48</td>\n",
              "      <td>48</td>\n",
              "      <td>48</td>\n",
              "      <td>0.0</td>\n",
              "      <td>48</td>\n",
              "      <td>48</td>\n",
              "      <td>0</td>\n",
              "    </tr>\n",
              "    <tr>\n",
              "      <th>2</th>\n",
              "      <td>831</td>\n",
              "      <td>543</td>\n",
              "      <td>132</td>\n",
              "      <td>0.000329</td>\n",
              "      <td>660</td>\n",
              "      <td>1833</td>\n",
              "      <td>0.000086</td>\n",
              "      <td>177</td>\n",
              "      <td>221</td>\n",
              "      <td>317</td>\n",
              "      <td>48</td>\n",
              "      <td>388</td>\n",
              "      <td>401</td>\n",
              "      <td>0.000000</td>\n",
              "      <td>48</td>\n",
              "      <td>295</td>\n",
              "      <td>319</td>\n",
              "      <td>320</td>\n",
              "      <td>324</td>\n",
              "      <td>48</td>\n",
              "      <td>388</td>\n",
              "      <td>401</td>\n",
              "      <td>0.0</td>\n",
              "      <td>48</td>\n",
              "      <td>48</td>\n",
              "      <td>48</td>\n",
              "      <td>48</td>\n",
              "      <td>48</td>\n",
              "      <td>48</td>\n",
              "      <td>48</td>\n",
              "      <td>48</td>\n",
              "      <td>0.0</td>\n",
              "      <td>48</td>\n",
              "      <td>48</td>\n",
              "      <td>48</td>\n",
              "      <td>48</td>\n",
              "      <td>48</td>\n",
              "      <td>48</td>\n",
              "      <td>48</td>\n",
              "      <td>48</td>\n",
              "      <td>0.0</td>\n",
              "      <td>48</td>\n",
              "      <td>48</td>\n",
              "      <td>48</td>\n",
              "      <td>48</td>\n",
              "      <td>48</td>\n",
              "      <td>48</td>\n",
              "      <td>48</td>\n",
              "      <td>48</td>\n",
              "      <td>0.0</td>\n",
              "      <td>48</td>\n",
              "      <td>48</td>\n",
              "      <td>48</td>\n",
              "      <td>48</td>\n",
              "      <td>48</td>\n",
              "      <td>48</td>\n",
              "      <td>48</td>\n",
              "      <td>48</td>\n",
              "      <td>0.0</td>\n",
              "      <td>48</td>\n",
              "      <td>48</td>\n",
              "      <td>48</td>\n",
              "      <td>48</td>\n",
              "      <td>48</td>\n",
              "      <td>48</td>\n",
              "      <td>48</td>\n",
              "      <td>48</td>\n",
              "      <td>0.0</td>\n",
              "      <td>48</td>\n",
              "      <td>48</td>\n",
              "      <td>48</td>\n",
              "      <td>48</td>\n",
              "      <td>48</td>\n",
              "      <td>48</td>\n",
              "      <td>48</td>\n",
              "      <td>48</td>\n",
              "      <td>0.0</td>\n",
              "      <td>48</td>\n",
              "      <td>48</td>\n",
              "      <td>48</td>\n",
              "      <td>48</td>\n",
              "      <td>48</td>\n",
              "      <td>48</td>\n",
              "      <td>48</td>\n",
              "      <td>48</td>\n",
              "      <td>0.0</td>\n",
              "      <td>48</td>\n",
              "      <td>48</td>\n",
              "      <td>48</td>\n",
              "      <td>48</td>\n",
              "      <td>48</td>\n",
              "      <td>48</td>\n",
              "      <td>48</td>\n",
              "      <td>48</td>\n",
              "      <td>0.0</td>\n",
              "      <td>48</td>\n",
              "      <td>48</td>\n",
              "      <td>48</td>\n",
              "      <td>48</td>\n",
              "      <td>48</td>\n",
              "      <td>48</td>\n",
              "      <td>48</td>\n",
              "      <td>48</td>\n",
              "      <td>0.0</td>\n",
              "      <td>48</td>\n",
              "      <td>48</td>\n",
              "      <td>48</td>\n",
              "      <td>48</td>\n",
              "      <td>48</td>\n",
              "      <td>48</td>\n",
              "      <td>48</td>\n",
              "      <td>48</td>\n",
              "      <td>0.0</td>\n",
              "      <td>48</td>\n",
              "      <td>48</td>\n",
              "      <td>0</td>\n",
              "    </tr>\n",
              "    <tr>\n",
              "      <th>3</th>\n",
              "      <td>32</td>\n",
              "      <td>543</td>\n",
              "      <td>132</td>\n",
              "      <td>0.000453</td>\n",
              "      <td>660</td>\n",
              "      <td>655</td>\n",
              "      <td>0.000097</td>\n",
              "      <td>529</td>\n",
              "      <td>303</td>\n",
              "      <td>324</td>\n",
              "      <td>48</td>\n",
              "      <td>48</td>\n",
              "      <td>419</td>\n",
              "      <td>0.333333</td>\n",
              "      <td>408</td>\n",
              "      <td>48</td>\n",
              "      <td>763</td>\n",
              "      <td>320</td>\n",
              "      <td>415</td>\n",
              "      <td>48</td>\n",
              "      <td>280</td>\n",
              "      <td>419</td>\n",
              "      <td>0.0</td>\n",
              "      <td>48</td>\n",
              "      <td>48</td>\n",
              "      <td>48</td>\n",
              "      <td>48</td>\n",
              "      <td>48</td>\n",
              "      <td>48</td>\n",
              "      <td>48</td>\n",
              "      <td>48</td>\n",
              "      <td>0.0</td>\n",
              "      <td>48</td>\n",
              "      <td>48</td>\n",
              "      <td>48</td>\n",
              "      <td>48</td>\n",
              "      <td>48</td>\n",
              "      <td>48</td>\n",
              "      <td>48</td>\n",
              "      <td>48</td>\n",
              "      <td>0.0</td>\n",
              "      <td>48</td>\n",
              "      <td>48</td>\n",
              "      <td>48</td>\n",
              "      <td>48</td>\n",
              "      <td>48</td>\n",
              "      <td>48</td>\n",
              "      <td>48</td>\n",
              "      <td>48</td>\n",
              "      <td>0.0</td>\n",
              "      <td>48</td>\n",
              "      <td>48</td>\n",
              "      <td>48</td>\n",
              "      <td>48</td>\n",
              "      <td>48</td>\n",
              "      <td>48</td>\n",
              "      <td>48</td>\n",
              "      <td>48</td>\n",
              "      <td>0.0</td>\n",
              "      <td>48</td>\n",
              "      <td>48</td>\n",
              "      <td>48</td>\n",
              "      <td>48</td>\n",
              "      <td>48</td>\n",
              "      <td>48</td>\n",
              "      <td>48</td>\n",
              "      <td>48</td>\n",
              "      <td>0.0</td>\n",
              "      <td>48</td>\n",
              "      <td>48</td>\n",
              "      <td>48</td>\n",
              "      <td>48</td>\n",
              "      <td>48</td>\n",
              "      <td>48</td>\n",
              "      <td>48</td>\n",
              "      <td>48</td>\n",
              "      <td>0.0</td>\n",
              "      <td>48</td>\n",
              "      <td>48</td>\n",
              "      <td>48</td>\n",
              "      <td>48</td>\n",
              "      <td>48</td>\n",
              "      <td>48</td>\n",
              "      <td>48</td>\n",
              "      <td>48</td>\n",
              "      <td>0.0</td>\n",
              "      <td>48</td>\n",
              "      <td>48</td>\n",
              "      <td>48</td>\n",
              "      <td>48</td>\n",
              "      <td>48</td>\n",
              "      <td>48</td>\n",
              "      <td>48</td>\n",
              "      <td>48</td>\n",
              "      <td>0.0</td>\n",
              "      <td>48</td>\n",
              "      <td>48</td>\n",
              "      <td>48</td>\n",
              "      <td>48</td>\n",
              "      <td>48</td>\n",
              "      <td>48</td>\n",
              "      <td>48</td>\n",
              "      <td>48</td>\n",
              "      <td>0.0</td>\n",
              "      <td>48</td>\n",
              "      <td>48</td>\n",
              "      <td>48</td>\n",
              "      <td>48</td>\n",
              "      <td>48</td>\n",
              "      <td>48</td>\n",
              "      <td>48</td>\n",
              "      <td>48</td>\n",
              "      <td>0.0</td>\n",
              "      <td>48</td>\n",
              "      <td>48</td>\n",
              "      <td>0</td>\n",
              "    </tr>\n",
              "    <tr>\n",
              "      <th>4</th>\n",
              "      <td>802</td>\n",
              "      <td>543</td>\n",
              "      <td>132</td>\n",
              "      <td>0.000453</td>\n",
              "      <td>660</td>\n",
              "      <td>1833</td>\n",
              "      <td>0.000118</td>\n",
              "      <td>871</td>\n",
              "      <td>319</td>\n",
              "      <td>546</td>\n",
              "      <td>48</td>\n",
              "      <td>388</td>\n",
              "      <td>419</td>\n",
              "      <td>0.000000</td>\n",
              "      <td>48</td>\n",
              "      <td>48</td>\n",
              "      <td>733</td>\n",
              "      <td>303</td>\n",
              "      <td>324</td>\n",
              "      <td>48</td>\n",
              "      <td>48</td>\n",
              "      <td>419</td>\n",
              "      <td>0.0</td>\n",
              "      <td>48</td>\n",
              "      <td>48</td>\n",
              "      <td>48</td>\n",
              "      <td>48</td>\n",
              "      <td>48</td>\n",
              "      <td>48</td>\n",
              "      <td>48</td>\n",
              "      <td>48</td>\n",
              "      <td>0.0</td>\n",
              "      <td>48</td>\n",
              "      <td>48</td>\n",
              "      <td>48</td>\n",
              "      <td>48</td>\n",
              "      <td>48</td>\n",
              "      <td>48</td>\n",
              "      <td>48</td>\n",
              "      <td>48</td>\n",
              "      <td>0.0</td>\n",
              "      <td>48</td>\n",
              "      <td>48</td>\n",
              "      <td>48</td>\n",
              "      <td>48</td>\n",
              "      <td>48</td>\n",
              "      <td>48</td>\n",
              "      <td>48</td>\n",
              "      <td>48</td>\n",
              "      <td>0.0</td>\n",
              "      <td>48</td>\n",
              "      <td>48</td>\n",
              "      <td>48</td>\n",
              "      <td>48</td>\n",
              "      <td>48</td>\n",
              "      <td>48</td>\n",
              "      <td>48</td>\n",
              "      <td>48</td>\n",
              "      <td>0.0</td>\n",
              "      <td>48</td>\n",
              "      <td>48</td>\n",
              "      <td>48</td>\n",
              "      <td>48</td>\n",
              "      <td>48</td>\n",
              "      <td>48</td>\n",
              "      <td>48</td>\n",
              "      <td>48</td>\n",
              "      <td>0.0</td>\n",
              "      <td>48</td>\n",
              "      <td>48</td>\n",
              "      <td>48</td>\n",
              "      <td>48</td>\n",
              "      <td>48</td>\n",
              "      <td>48</td>\n",
              "      <td>48</td>\n",
              "      <td>48</td>\n",
              "      <td>0.0</td>\n",
              "      <td>48</td>\n",
              "      <td>48</td>\n",
              "      <td>48</td>\n",
              "      <td>48</td>\n",
              "      <td>48</td>\n",
              "      <td>48</td>\n",
              "      <td>48</td>\n",
              "      <td>48</td>\n",
              "      <td>0.0</td>\n",
              "      <td>48</td>\n",
              "      <td>48</td>\n",
              "      <td>48</td>\n",
              "      <td>48</td>\n",
              "      <td>48</td>\n",
              "      <td>48</td>\n",
              "      <td>48</td>\n",
              "      <td>48</td>\n",
              "      <td>0.0</td>\n",
              "      <td>48</td>\n",
              "      <td>48</td>\n",
              "      <td>48</td>\n",
              "      <td>48</td>\n",
              "      <td>48</td>\n",
              "      <td>48</td>\n",
              "      <td>48</td>\n",
              "      <td>48</td>\n",
              "      <td>0.0</td>\n",
              "      <td>48</td>\n",
              "      <td>48</td>\n",
              "      <td>48</td>\n",
              "      <td>48</td>\n",
              "      <td>48</td>\n",
              "      <td>48</td>\n",
              "      <td>48</td>\n",
              "      <td>48</td>\n",
              "      <td>0.0</td>\n",
              "      <td>48</td>\n",
              "      <td>48</td>\n",
              "      <td>0</td>\n",
              "    </tr>\n",
              "  </tbody>\n",
              "</table>\n",
              "</div>\n",
              "    <div class=\"colab-df-buttons\">\n",
              "\n",
              "  <div class=\"colab-df-container\">\n",
              "    <button class=\"colab-df-convert\" onclick=\"convertToInteractive('df-87427545-bb1b-47d3-8fbe-f606ab7e0adb')\"\n",
              "            title=\"Convert this dataframe to an interactive table.\"\n",
              "            style=\"display:none;\">\n",
              "\n",
              "  <svg xmlns=\"http://www.w3.org/2000/svg\" height=\"24px\" viewBox=\"0 -960 960 960\">\n",
              "    <path d=\"M120-120v-720h720v720H120Zm60-500h600v-160H180v160Zm220 220h160v-160H400v160Zm0 220h160v-160H400v160ZM180-400h160v-160H180v160Zm440 0h160v-160H620v160ZM180-180h160v-160H180v160Zm440 0h160v-160H620v160Z\"/>\n",
              "  </svg>\n",
              "    </button>\n",
              "\n",
              "  <style>\n",
              "    .colab-df-container {\n",
              "      display:flex;\n",
              "      gap: 12px;\n",
              "    }\n",
              "\n",
              "    .colab-df-convert {\n",
              "      background-color: #E8F0FE;\n",
              "      border: none;\n",
              "      border-radius: 50%;\n",
              "      cursor: pointer;\n",
              "      display: none;\n",
              "      fill: #1967D2;\n",
              "      height: 32px;\n",
              "      padding: 0 0 0 0;\n",
              "      width: 32px;\n",
              "    }\n",
              "\n",
              "    .colab-df-convert:hover {\n",
              "      background-color: #E2EBFA;\n",
              "      box-shadow: 0px 1px 2px rgba(60, 64, 67, 0.3), 0px 1px 3px 1px rgba(60, 64, 67, 0.15);\n",
              "      fill: #174EA6;\n",
              "    }\n",
              "\n",
              "    .colab-df-buttons div {\n",
              "      margin-bottom: 4px;\n",
              "    }\n",
              "\n",
              "    [theme=dark] .colab-df-convert {\n",
              "      background-color: #3B4455;\n",
              "      fill: #D2E3FC;\n",
              "    }\n",
              "\n",
              "    [theme=dark] .colab-df-convert:hover {\n",
              "      background-color: #434B5C;\n",
              "      box-shadow: 0px 1px 3px 1px rgba(0, 0, 0, 0.15);\n",
              "      filter: drop-shadow(0px 1px 2px rgba(0, 0, 0, 0.3));\n",
              "      fill: #FFFFFF;\n",
              "    }\n",
              "  </style>\n",
              "\n",
              "    <script>\n",
              "      const buttonEl =\n",
              "        document.querySelector('#df-87427545-bb1b-47d3-8fbe-f606ab7e0adb button.colab-df-convert');\n",
              "      buttonEl.style.display =\n",
              "        google.colab.kernel.accessAllowed ? 'block' : 'none';\n",
              "\n",
              "      async function convertToInteractive(key) {\n",
              "        const element = document.querySelector('#df-87427545-bb1b-47d3-8fbe-f606ab7e0adb');\n",
              "        const dataTable =\n",
              "          await google.colab.kernel.invokeFunction('convertToInteractive',\n",
              "                                                    [key], {});\n",
              "        if (!dataTable) return;\n",
              "\n",
              "        const docLinkHtml = 'Like what you see? Visit the ' +\n",
              "          '<a target=\"_blank\" href=https://colab.research.google.com/notebooks/data_table.ipynb>data table notebook</a>'\n",
              "          + ' to learn more about interactive tables.';\n",
              "        element.innerHTML = '';\n",
              "        dataTable['output_type'] = 'display_data';\n",
              "        await google.colab.output.renderOutput(dataTable, element);\n",
              "        const docLink = document.createElement('div');\n",
              "        docLink.innerHTML = docLinkHtml;\n",
              "        element.appendChild(docLink);\n",
              "      }\n",
              "    </script>\n",
              "  </div>\n",
              "\n",
              "\n",
              "<div id=\"df-7174c404-b365-4679-8c4a-8540f3a6f367\">\n",
              "  <button class=\"colab-df-quickchart\" onclick=\"quickchart('df-7174c404-b365-4679-8c4a-8540f3a6f367')\"\n",
              "            title=\"Suggest charts\"\n",
              "            style=\"display:none;\">\n",
              "\n",
              "<svg xmlns=\"http://www.w3.org/2000/svg\" height=\"24px\"viewBox=\"0 0 24 24\"\n",
              "     width=\"24px\">\n",
              "    <g>\n",
              "        <path d=\"M19 3H5c-1.1 0-2 .9-2 2v14c0 1.1.9 2 2 2h14c1.1 0 2-.9 2-2V5c0-1.1-.9-2-2-2zM9 17H7v-7h2v7zm4 0h-2V7h2v10zm4 0h-2v-4h2v4z\"/>\n",
              "    </g>\n",
              "</svg>\n",
              "  </button>\n",
              "\n",
              "<style>\n",
              "  .colab-df-quickchart {\n",
              "      --bg-color: #E8F0FE;\n",
              "      --fill-color: #1967D2;\n",
              "      --hover-bg-color: #E2EBFA;\n",
              "      --hover-fill-color: #174EA6;\n",
              "      --disabled-fill-color: #AAA;\n",
              "      --disabled-bg-color: #DDD;\n",
              "  }\n",
              "\n",
              "  [theme=dark] .colab-df-quickchart {\n",
              "      --bg-color: #3B4455;\n",
              "      --fill-color: #D2E3FC;\n",
              "      --hover-bg-color: #434B5C;\n",
              "      --hover-fill-color: #FFFFFF;\n",
              "      --disabled-bg-color: #3B4455;\n",
              "      --disabled-fill-color: #666;\n",
              "  }\n",
              "\n",
              "  .colab-df-quickchart {\n",
              "    background-color: var(--bg-color);\n",
              "    border: none;\n",
              "    border-radius: 50%;\n",
              "    cursor: pointer;\n",
              "    display: none;\n",
              "    fill: var(--fill-color);\n",
              "    height: 32px;\n",
              "    padding: 0;\n",
              "    width: 32px;\n",
              "  }\n",
              "\n",
              "  .colab-df-quickchart:hover {\n",
              "    background-color: var(--hover-bg-color);\n",
              "    box-shadow: 0 1px 2px rgba(60, 64, 67, 0.3), 0 1px 3px 1px rgba(60, 64, 67, 0.15);\n",
              "    fill: var(--button-hover-fill-color);\n",
              "  }\n",
              "\n",
              "  .colab-df-quickchart-complete:disabled,\n",
              "  .colab-df-quickchart-complete:disabled:hover {\n",
              "    background-color: var(--disabled-bg-color);\n",
              "    fill: var(--disabled-fill-color);\n",
              "    box-shadow: none;\n",
              "  }\n",
              "\n",
              "  .colab-df-spinner {\n",
              "    border: 2px solid var(--fill-color);\n",
              "    border-color: transparent;\n",
              "    border-bottom-color: var(--fill-color);\n",
              "    animation:\n",
              "      spin 1s steps(1) infinite;\n",
              "  }\n",
              "\n",
              "  @keyframes spin {\n",
              "    0% {\n",
              "      border-color: transparent;\n",
              "      border-bottom-color: var(--fill-color);\n",
              "      border-left-color: var(--fill-color);\n",
              "    }\n",
              "    20% {\n",
              "      border-color: transparent;\n",
              "      border-left-color: var(--fill-color);\n",
              "      border-top-color: var(--fill-color);\n",
              "    }\n",
              "    30% {\n",
              "      border-color: transparent;\n",
              "      border-left-color: var(--fill-color);\n",
              "      border-top-color: var(--fill-color);\n",
              "      border-right-color: var(--fill-color);\n",
              "    }\n",
              "    40% {\n",
              "      border-color: transparent;\n",
              "      border-right-color: var(--fill-color);\n",
              "      border-top-color: var(--fill-color);\n",
              "    }\n",
              "    60% {\n",
              "      border-color: transparent;\n",
              "      border-right-color: var(--fill-color);\n",
              "    }\n",
              "    80% {\n",
              "      border-color: transparent;\n",
              "      border-right-color: var(--fill-color);\n",
              "      border-bottom-color: var(--fill-color);\n",
              "    }\n",
              "    90% {\n",
              "      border-color: transparent;\n",
              "      border-bottom-color: var(--fill-color);\n",
              "    }\n",
              "  }\n",
              "</style>\n",
              "\n",
              "  <script>\n",
              "    async function quickchart(key) {\n",
              "      const quickchartButtonEl =\n",
              "        document.querySelector('#' + key + ' button');\n",
              "      quickchartButtonEl.disabled = true;  // To prevent multiple clicks.\n",
              "      quickchartButtonEl.classList.add('colab-df-spinner');\n",
              "      try {\n",
              "        const charts = await google.colab.kernel.invokeFunction(\n",
              "            'suggestCharts', [key], {});\n",
              "      } catch (error) {\n",
              "        console.error('Error during call to suggestCharts:', error);\n",
              "      }\n",
              "      quickchartButtonEl.classList.remove('colab-df-spinner');\n",
              "      quickchartButtonEl.classList.add('colab-df-quickchart-complete');\n",
              "    }\n",
              "    (() => {\n",
              "      let quickchartButtonEl =\n",
              "        document.querySelector('#df-7174c404-b365-4679-8c4a-8540f3a6f367 button');\n",
              "      quickchartButtonEl.style.display =\n",
              "        google.colab.kernel.accessAllowed ? 'block' : 'none';\n",
              "    })();\n",
              "  </script>\n",
              "</div>\n",
              "    </div>\n",
              "  </div>\n"
            ],
            "application/vnd.google.colaboratory.intrinsic+json": {
              "type": "dataframe",
              "variable_name": "scaled"
            }
          },
          "metadata": {},
          "execution_count": 11
        }
      ]
    },
    {
      "cell_type": "markdown",
      "id": "8030d41f-9015-4ac6-8f44-c09ab4bf70aa",
      "metadata": {
        "id": "8030d41f-9015-4ac6-8f44-c09ab4bf70aa"
      },
      "source": [
        "Resampling"
      ]
    },
    {
      "cell_type": "code",
      "execution_count": null,
      "id": "f0a3487f-3b25-48ca-9fdc-77e639f41720",
      "metadata": {
        "id": "f0a3487f-3b25-48ca-9fdc-77e639f41720"
      },
      "outputs": [],
      "source": [
        "X = train.drop('acc_sum', axis = 1)\n",
        "y = train['acc_sum'].astype(int)"
      ]
    },
    {
      "cell_type": "code",
      "source": [
        "print('Total values:', train.shape[0])\n",
        "print('Classes:')\n",
        "print(y.value_counts())\n",
        "y.value_counts(normalize = True) *100"
      ],
      "metadata": {
        "colab": {
          "base_uri": "https://localhost:8080/"
        },
        "id": "-5rYyI4UDM3i",
        "outputId": "99963536-6ba1-4af0-817a-4706c6bd2929"
      },
      "id": "-5rYyI4UDM3i",
      "execution_count": null,
      "outputs": [
        {
          "output_type": "stream",
          "name": "stdout",
          "text": [
            "Total values: 52792\n",
            "Classes:\n",
            "acc_sum\n",
            "0    38037\n",
            "1    14755\n",
            "Name: count, dtype: int64\n"
          ]
        },
        {
          "output_type": "execute_result",
          "data": {
            "text/plain": [
              "acc_sum\n",
              "0    72.050689\n",
              "1    27.949311\n",
              "Name: proportion, dtype: float64"
            ]
          },
          "metadata": {},
          "execution_count": 13
        }
      ]
    },
    {
      "cell_type": "code",
      "source": [
        "X_scaled = scaled.drop('acc_sum', axis = 1)\n",
        "y_scaled = scaled['acc_sum'].astype(int)"
      ],
      "metadata": {
        "id": "QLHTLcj0hbtO"
      },
      "id": "QLHTLcj0hbtO",
      "execution_count": null,
      "outputs": []
    },
    {
      "cell_type": "code",
      "source": [
        "print('Total values:', scaled.shape[0])\n",
        "print('Classes:')\n",
        "print(y_scaled.value_counts())\n",
        "y_scaled.value_counts(normalize = True) *100"
      ],
      "metadata": {
        "colab": {
          "base_uri": "https://localhost:8080/"
        },
        "id": "aqRK5jaAht3p",
        "outputId": "2d309d42-99f8-4d28-90ee-d37460efb9fc"
      },
      "id": "aqRK5jaAht3p",
      "execution_count": null,
      "outputs": [
        {
          "output_type": "stream",
          "name": "stdout",
          "text": [
            "Total values: 52792\n",
            "Classes:\n",
            "acc_sum\n",
            "0    38037\n",
            "1    14755\n",
            "Name: count, dtype: int64\n"
          ]
        },
        {
          "output_type": "execute_result",
          "data": {
            "text/plain": [
              "acc_sum\n",
              "0    72.050689\n",
              "1    27.949311\n",
              "Name: proportion, dtype: float64"
            ]
          },
          "metadata": {},
          "execution_count": 15
        }
      ]
    },
    {
      "cell_type": "code",
      "source": [
        "from sklearn.model_selection import train_test_split"
      ],
      "metadata": {
        "id": "8oZiWGr4Eoef"
      },
      "id": "8oZiWGr4Eoef",
      "execution_count": null,
      "outputs": []
    },
    {
      "cell_type": "code",
      "execution_count": null,
      "id": "ccdefd35-0dca-48ab-9f1b-76b658c481a6",
      "metadata": {
        "id": "ccdefd35-0dca-48ab-9f1b-76b658c481a6"
      },
      "outputs": [],
      "source": [
        "X_train, X_test, y_train, y_test = train_test_split(X,\n",
        "                                                    y, test_size = 0.20,\n",
        "                                                    random_state = 24)"
      ]
    },
    {
      "cell_type": "code",
      "source": [
        "print('Total values:', X_train.shape[0])\n",
        "print('Classes:')\n",
        "print(y_train.value_counts())\n",
        "y_train.value_counts(normalize = True) *100"
      ],
      "metadata": {
        "colab": {
          "base_uri": "https://localhost:8080/"
        },
        "id": "-EN1f071llUf",
        "outputId": "489a68ac-8bfa-4eda-a110-a1df0a265da6"
      },
      "id": "-EN1f071llUf",
      "execution_count": null,
      "outputs": [
        {
          "output_type": "stream",
          "name": "stdout",
          "text": [
            "Total values: 42233\n",
            "Classes:\n",
            "acc_sum\n",
            "0    30375\n",
            "1    11858\n",
            "Name: count, dtype: int64\n"
          ]
        },
        {
          "output_type": "execute_result",
          "data": {
            "text/plain": [
              "acc_sum\n",
              "0    71.92243\n",
              "1    28.07757\n",
              "Name: proportion, dtype: float64"
            ]
          },
          "metadata": {},
          "execution_count": 18
        }
      ]
    },
    {
      "cell_type": "code",
      "source": [
        "y_train.value_counts().plot(kind = 'bar', title = 'Spanish-English training dataset')"
      ],
      "metadata": {
        "colab": {
          "base_uri": "https://localhost:8080/",
          "height": 484
        },
        "id": "Msx-xnJAduBo",
        "outputId": "994433fe-95c4-4bdd-90af-f0cc6b9dcb7d"
      },
      "id": "Msx-xnJAduBo",
      "execution_count": null,
      "outputs": [
        {
          "output_type": "execute_result",
          "data": {
            "text/plain": [
              "<Axes: title={'center': 'Spanish-English training dataset'}, xlabel='acc_sum'>"
            ]
          },
          "metadata": {},
          "execution_count": 36
        },
        {
          "output_type": "display_data",
          "data": {
            "text/plain": [
              "<Figure size 640x480 with 1 Axes>"
            ],
            "image/png": "[encoded data removed]"
          },
          "metadata": {}
        }
      ]
    },
    {
      "cell_type": "code",
      "source": [
        "print('Total values:', X_test.shape[0])\n",
        "print('Classes:')\n",
        "y_test.value_counts()"
      ],
      "metadata": {
        "colab": {
          "base_uri": "https://localhost:8080/"
        },
        "id": "V16NnoAZmtiU",
        "outputId": "05ca2ef3-36a8-4f80-80cb-5881ee89459e"
      },
      "id": "V16NnoAZmtiU",
      "execution_count": null,
      "outputs": [
        {
          "output_type": "stream",
          "name": "stdout",
          "text": [
            "Total values: 10559\n",
            "Classes:\n"
          ]
        },
        {
          "output_type": "execute_result",
          "data": {
            "text/plain": [
              "acc_sum\n",
              "0    7662\n",
              "1    2897\n",
              "Name: count, dtype: int64"
            ]
          },
          "metadata": {},
          "execution_count": 20
        }
      ]
    },
    {
      "cell_type": "code",
      "source": [
        "Xs_train, Xs_test, ys_train, ys_test = train_test_split(X_scaled,\n",
        "                                                    y_scaled, test_size = 0.20,\n",
        "                                                    random_state = 24)"
      ],
      "metadata": {
        "id": "u92yXgt3h56K"
      },
      "id": "u92yXgt3h56K",
      "execution_count": null,
      "outputs": []
    },
    {
      "cell_type": "code",
      "source": [
        "print('Total values:', Xs_train.shape[0])\n",
        "print('Classes:')\n",
        "ys_train.value_counts()"
      ],
      "metadata": {
        "colab": {
          "base_uri": "https://localhost:8080/"
        },
        "id": "u0prDvO3h_5L",
        "outputId": "0312ae5b-919d-4747-ca1f-11949c34af17"
      },
      "id": "u0prDvO3h_5L",
      "execution_count": null,
      "outputs": [
        {
          "output_type": "stream",
          "name": "stdout",
          "text": [
            "Total values: 42233\n",
            "Classes:\n"
          ]
        },
        {
          "output_type": "execute_result",
          "data": {
            "text/plain": [
              "acc_sum\n",
              "0    30375\n",
              "1    11858\n",
              "Name: count, dtype: int64"
            ]
          },
          "metadata": {},
          "execution_count": 22
        }
      ]
    },
    {
      "cell_type": "code",
      "source": [
        "print('Total values:', Xs_test.shape[0])\n",
        "print('Classes:')\n",
        "ys_test.value_counts()"
      ],
      "metadata": {
        "colab": {
          "base_uri": "https://localhost:8080/"
        },
        "id": "OLWEGxH8iHFD",
        "outputId": "e0288237-4a72-4ef6-8a31-8fc885e1f9e4"
      },
      "id": "OLWEGxH8iHFD",
      "execution_count": null,
      "outputs": [
        {
          "output_type": "stream",
          "name": "stdout",
          "text": [
            "Total values: 10559\n",
            "Classes:\n"
          ]
        },
        {
          "output_type": "execute_result",
          "data": {
            "text/plain": [
              "acc_sum\n",
              "0    7662\n",
              "1    2897\n",
              "Name: count, dtype: int64"
            ]
          },
          "metadata": {},
          "execution_count": 23
        }
      ]
    },
    {
      "cell_type": "code",
      "execution_count": null,
      "id": "0a1f7fba-30bf-45b8-a9de-a55a3d34f957",
      "metadata": {
        "colab": {
          "base_uri": "https://localhost:8080/"
        },
        "id": "0a1f7fba-30bf-45b8-a9de-a55a3d34f957",
        "outputId": "bea20bc8-c332-4848-e784-d02dfe4eeb24"
      },
      "outputs": [
        {
          "output_type": "stream",
          "name": "stdout",
          "text": [
            "Collecting imblearn\n",
            "  Downloading imblearn-0.0-py2.py3-none-any.whl (1.9 kB)\n",
            "Requirement already satisfied: imbalanced-learn in /usr/local/lib/python3.10/dist-packages (from imblearn) (0.10.1)\n",
            "Requirement already satisfied: numpy>=1.17.3 in /usr/local/lib/python3.10/dist-packages (from imbalanced-learn->imblearn) (1.25.2)\n",
            "Requirement already satisfied: scipy>=1.3.2 in /usr/local/lib/python3.10/dist-packages (from imbalanced-learn->imblearn) (1.11.4)\n",
            "Requirement already satisfied: scikit-learn>=1.0.2 in /usr/local/lib/python3.10/dist-packages (from imbalanced-learn->imblearn) (1.2.2)\n",
            "Requirement already satisfied: joblib>=1.1.1 in /usr/local/lib/python3.10/dist-packages (from imbalanced-learn->imblearn) (1.4.2)\n",
            "Requirement already satisfied: threadpoolctl>=2.0.0 in /usr/local/lib/python3.10/dist-packages (from imbalanced-learn->imblearn) (3.5.0)\n",
            "Installing collected packages: imblearn\n",
            "Successfully installed imblearn-0.0\n"
          ]
        }
      ],
      "source": [
        "!pip install imblearn"
      ]
    },
    {
      "cell_type": "markdown",
      "source": [
        "Oversampling"
      ],
      "metadata": {
        "id": "L5MjZlBz-WA9"
      },
      "id": "L5MjZlBz-WA9"
    },
    {
      "cell_type": "code",
      "execution_count": null,
      "id": "zB1e1do0NCOY",
      "metadata": {
        "id": "zB1e1do0NCOY"
      },
      "outputs": [],
      "source": [
        "from imblearn.over_sampling import RandomOverSampler"
      ]
    },
    {
      "cell_type": "code",
      "execution_count": null,
      "id": "IJKDK_HENFJ_",
      "metadata": {
        "id": "IJKDK_HENFJ_"
      },
      "outputs": [],
      "source": [
        "ros = RandomOverSampler(sampling_strategy = \"not majority\")"
      ]
    },
    {
      "cell_type": "code",
      "execution_count": null,
      "id": "GAwe4rCvNIPK",
      "metadata": {
        "id": "GAwe4rCvNIPK"
      },
      "outputs": [],
      "source": [
        "X_over, y_over = ros.fit_resample(X_train, y_train)"
      ]
    },
    {
      "cell_type": "code",
      "source": [
        "print('Total values:', X_over.shape[0])\n",
        "print('Classes:')\n",
        "y_over.value_counts()"
      ],
      "metadata": {
        "colab": {
          "base_uri": "https://localhost:8080/"
        },
        "id": "9g50A33CltMA",
        "outputId": "62732004-3096-4058-de89-be81a0e98096"
      },
      "id": "9g50A33CltMA",
      "execution_count": null,
      "outputs": [
        {
          "output_type": "stream",
          "name": "stdout",
          "text": [
            "Total values: 60750\n",
            "Classes:\n"
          ]
        },
        {
          "output_type": "execute_result",
          "data": {
            "text/plain": [
              "acc_sum\n",
              "0    30375\n",
              "1    30375\n",
              "Name: count, dtype: int64"
            ]
          },
          "metadata": {},
          "execution_count": 28
        }
      ]
    },
    {
      "cell_type": "code",
      "execution_count": null,
      "id": "f1e402b8-48e0-45f2-ae3f-5b6211002fc9",
      "metadata": {
        "colab": {
          "base_uri": "https://localhost:8080/",
          "height": 484
        },
        "id": "f1e402b8-48e0-45f2-ae3f-5b6211002fc9",
        "outputId": "4c955bf0-0de9-4663-9716-e8e88940b125"
      },
      "outputs": [
        {
          "output_type": "execute_result",
          "data": {
            "text/plain": [
              "<Axes: title={'center': 'Oversampled training es-en dataset'}, xlabel='acc_sum'>"
            ]
          },
          "metadata": {},
          "execution_count": 37
        },
        {
          "output_type": "display_data",
          "data": {
            "text/plain": [
              "<Figure size 640x480 with 1 Axes>"
            ],
            "image/png": "[encoded data removed]"
          },
          "metadata": {}
        }
      ],
      "source": [
        "y_over.value_counts().plot(kind = 'bar', title = 'Oversampled training es-en dataset')"
      ]
    },
    {
      "cell_type": "code",
      "source": [
        "Xs_over, ys_over = ros.fit_resample(Xs_train, ys_train)\n",
        "print('Total values:', Xs_over.shape[0])\n",
        "print('Classes:')\n",
        "ys_over.value_counts()"
      ],
      "metadata": {
        "colab": {
          "base_uri": "https://localhost:8080/"
        },
        "id": "ZEY4X7LEiSIW",
        "outputId": "6130c713-23ee-46cc-f9d1-bf543f0deb02"
      },
      "id": "ZEY4X7LEiSIW",
      "execution_count": null,
      "outputs": [
        {
          "output_type": "stream",
          "name": "stdout",
          "text": [
            "Total values: 60750\n",
            "Classes:\n"
          ]
        },
        {
          "output_type": "execute_result",
          "data": {
            "text/plain": [
              "acc_sum\n",
              "0    30375\n",
              "1    30375\n",
              "Name: count, dtype: int64"
            ]
          },
          "metadata": {},
          "execution_count": 30
        }
      ]
    },
    {
      "cell_type": "markdown",
      "source": [
        "Undersampling"
      ],
      "metadata": {
        "id": "_QfvODre-ahw"
      },
      "id": "_QfvODre-ahw"
    },
    {
      "cell_type": "code",
      "execution_count": null,
      "id": "6e23c8dc-da03-4ecd-851a-0a2472142516",
      "metadata": {
        "id": "6e23c8dc-da03-4ecd-851a-0a2472142516"
      },
      "outputs": [],
      "source": [
        "from imblearn.under_sampling import RandomUnderSampler"
      ]
    },
    {
      "cell_type": "code",
      "source": [
        "rus = RandomUnderSampler(sampling_strategy = \"not minority\")"
      ],
      "metadata": {
        "id": "XJaaxMgb-r5K"
      },
      "id": "XJaaxMgb-r5K",
      "execution_count": null,
      "outputs": []
    },
    {
      "cell_type": "code",
      "execution_count": null,
      "id": "2642eca7-0995-4239-96f5-6505feff3b3a",
      "metadata": {
        "id": "2642eca7-0995-4239-96f5-6505feff3b3a"
      },
      "outputs": [],
      "source": [
        "X_under, y_under = rus.fit_resample(X_train, y_train)"
      ]
    },
    {
      "cell_type": "code",
      "source": [
        "print('Total values:', X_under.shape[0])\n",
        "print('Classes:')\n",
        "y_under.value_counts()"
      ],
      "metadata": {
        "colab": {
          "base_uri": "https://localhost:8080/"
        },
        "id": "BNllL7H4lxCY",
        "outputId": "124221fb-3a3d-436d-dd60-d9d842a590b0"
      },
      "id": "BNllL7H4lxCY",
      "execution_count": null,
      "outputs": [
        {
          "output_type": "stream",
          "name": "stdout",
          "text": [
            "Total values: 23716\n",
            "Classes:\n"
          ]
        },
        {
          "output_type": "execute_result",
          "data": {
            "text/plain": [
              "acc_sum\n",
              "0    11858\n",
              "1    11858\n",
              "Name: count, dtype: int64"
            ]
          },
          "metadata": {},
          "execution_count": 34
        }
      ]
    },
    {
      "cell_type": "code",
      "source": [
        "y_under.value_counts().plot(kind = 'bar', title = 'Undersampled training es-en dataset')"
      ],
      "metadata": {
        "colab": {
          "base_uri": "https://localhost:8080/",
          "height": 484
        },
        "id": "gnrVSUwy-uOD",
        "outputId": "2987d5aa-9e70-427e-c735-9e1872f1363c"
      },
      "id": "gnrVSUwy-uOD",
      "execution_count": null,
      "outputs": [
        {
          "output_type": "execute_result",
          "data": {
            "text/plain": [
              "<Axes: title={'center': 'Undersampled training es-en dataset'}, xlabel='acc_sum'>"
            ]
          },
          "metadata": {},
          "execution_count": 38
        },
        {
          "output_type": "display_data",
          "data": {
            "text/plain": [
              "<Figure size 640x480 with 1 Axes>"
            ],
            "image/png": "[encoded data removed]"
          },
          "metadata": {}
        }
      ]
    },
    {
      "cell_type": "code",
      "source": [
        "Xs_under, ys_under = rus.fit_resample(Xs_train, ys_train)\n",
        "print('Total values:', Xs_under.shape[0])\n",
        "print('Classes:')\n",
        "ys_under.value_counts()"
      ],
      "metadata": {
        "colab": {
          "base_uri": "https://localhost:8080/"
        },
        "id": "D1q9PrvfihxF",
        "outputId": "e231eb80-c5d2-4d37-9121-43a3ff0645cf"
      },
      "id": "D1q9PrvfihxF",
      "execution_count": null,
      "outputs": [
        {
          "output_type": "stream",
          "name": "stdout",
          "text": [
            "Total values: 23716\n",
            "Classes:\n"
          ]
        },
        {
          "output_type": "execute_result",
          "data": {
            "text/plain": [
              "acc_sum\n",
              "0    11858\n",
              "1    11858\n",
              "Name: count, dtype: int64"
            ]
          },
          "metadata": {},
          "execution_count": 39
        }
      ]
    },
    {
      "cell_type": "markdown",
      "source": [
        "Decision Tree model - oversampled dataset"
      ],
      "metadata": {
        "id": "fNRBBxCVA4Da"
      },
      "id": "fNRBBxCVA4Da"
    },
    {
      "cell_type": "code",
      "execution_count": null,
      "id": "48cbddae-c0e1-4691-9e92-9e6cbbe9fc40",
      "metadata": {
        "id": "48cbddae-c0e1-4691-9e92-9e6cbbe9fc40"
      },
      "outputs": [],
      "source": [
        "from sklearn.tree import DecisionTreeClassifier\n",
        "from sklearn import metrics"
      ]
    },
    {
      "cell_type": "code",
      "source": [
        "parameter = {\n",
        "    'criterion' :['entropy', 'gini', 'log_loss'],\n",
        "    'max_depth':[30, 40, 50, 60],\n",
        "    'max_features':['sqrt', 'log2'],\n",
        "    'min_samples_split':[10, 20, 30, 40, 50],\n",
        "    'min_samples_leaf': [10, 20, 30, 40, 50]\n",
        "}\n",
        "\n",
        "model = DecisionTreeClassifier()\n",
        "from sklearn.model_selection import RandomizedSearchCV\n",
        "cv = RandomizedSearchCV(model, param_distributions = parameter, n_iter = 50)"
      ],
      "metadata": {
        "id": "eLaxVmLsEO6C"
      },
      "id": "eLaxVmLsEO6C",
      "execution_count": null,
      "outputs": []
    },
    {
      "cell_type": "code",
      "source": [
        "cv.fit(X_over, y_over)\n",
        "cv.score(X_over, y_over)\n",
        "cv.best_params_"
      ],
      "metadata": {
        "colab": {
          "base_uri": "https://localhost:8080/"
        },
        "id": "tnk1ApWVEZP-",
        "outputId": "34ead559-c54b-4900-f9af-118959432eb8"
      },
      "id": "tnk1ApWVEZP-",
      "execution_count": null,
      "outputs": [
        {
          "output_type": "execute_result",
          "data": {
            "text/plain": [
              "{'min_samples_split': 10,\n",
              " 'min_samples_leaf': 10,\n",
              " 'max_features': 'sqrt',\n",
              " 'max_depth': 30,\n",
              " 'criterion': 'gini'}"
            ]
          },
          "metadata": {},
          "execution_count": 42
        }
      ]
    },
    {
      "cell_type": "code",
      "execution_count": null,
      "id": "1c4f62ce-ee3a-45a3-8cfb-ac6577e58232",
      "metadata": {
        "id": "1c4f62ce-ee3a-45a3-8cfb-ac6577e58232"
      },
      "outputs": [],
      "source": [
        "dt_o = DecisionTreeClassifier(criterion = 'gini',\n",
        "                                 max_depth = 30,\n",
        "                                 max_features = 'sqrt',\n",
        "                                 min_samples_leaf = 10,\n",
        "                                 min_samples_split = 10\n",
        "                                 )"
      ]
    },
    {
      "cell_type": "code",
      "execution_count": null,
      "id": "1c3d08f9-03c5-416e-836d-a05d7402e63c",
      "metadata": {
        "colab": {
          "base_uri": "https://localhost:8080/",
          "height": 92
        },
        "id": "1c3d08f9-03c5-416e-836d-a05d7402e63c",
        "outputId": "244f4ef0-5a95-4110-e497-31bc8cdb2948"
      },
      "outputs": [
        {
          "output_type": "execute_result",
          "data": {
            "text/plain": [
              "DecisionTreeClassifier(max_depth=30, max_features='sqrt', min_samples_leaf=10,\n",
              "                       min_samples_split=10)"
            ],
            "text/html": [
              "<style>#sk-container-id-1 {color: black;background-color: white;}#sk-container-id-1 pre{padding: 0;}#sk-container-id-1 div.sk-toggleable {background-color: white;}#sk-container-id-1 label.sk-toggleable__label {cursor: pointer;display: block;width: 100%;margin-bottom: 0;padding: 0.3em;box-sizing: border-box;text-align: center;}#sk-container-id-1 label.sk-toggleable__label-arrow:before {content: \"▸\";float: left;margin-right: 0.25em;color: #696969;}#sk-container-id-1 label.sk-toggleable__label-arrow:hover:before {color: black;}#sk-container-id-1 div.sk-estimator:hover label.sk-toggleable__label-arrow:before {color: black;}#sk-container-id-1 div.sk-toggleable__content {max-height: 0;max-width: 0;overflow: hidden;text-align: left;background-color: #f0f8ff;}#sk-container-id-1 div.sk-toggleable__content pre {margin: 0.2em;color: black;border-radius: 0.25em;background-color: #f0f8ff;}#sk-container-id-1 input.sk-toggleable__control:checked~div.sk-toggleable__content {max-height: 200px;max-width: 100%;overflow: auto;}#sk-container-id-1 input.sk-toggleable__control:checked~label.sk-toggleable__label-arrow:before {content: \"▾\";}#sk-container-id-1 div.sk-estimator input.sk-toggleable__control:checked~label.sk-toggleable__label {background-color: #d4ebff;}#sk-container-id-1 div.sk-label input.sk-toggleable__control:checked~label.sk-toggleable__label {background-color: #d4ebff;}#sk-container-id-1 input.sk-hidden--visually {border: 0;clip: rect(1px 1px 1px 1px);clip: rect(1px, 1px, 1px, 1px);height: 1px;margin: -1px;overflow: hidden;padding: 0;position: absolute;width: 1px;}#sk-container-id-1 div.sk-estimator {font-family: monospace;background-color: #f0f8ff;border: 1px dotted black;border-radius: 0.25em;box-sizing: border-box;margin-bottom: 0.5em;}#sk-container-id-1 div.sk-estimator:hover {background-color: #d4ebff;}#sk-container-id-1 div.sk-parallel-item::after {content: \"\";width: 100%;border-bottom: 1px solid gray;flex-grow: 1;}#sk-container-id-1 div.sk-label:hover label.sk-toggleable__label {background-color: #d4ebff;}#sk-container-id-1 div.sk-serial::before {content: \"\";position: absolute;border-left: 1px solid gray;box-sizing: border-box;top: 0;bottom: 0;left: 50%;z-index: 0;}#sk-container-id-1 div.sk-serial {display: flex;flex-direction: column;align-items: center;background-color: white;padding-right: 0.2em;padding-left: 0.2em;position: relative;}#sk-container-id-1 div.sk-item {position: relative;z-index: 1;}#sk-container-id-1 div.sk-parallel {display: flex;align-items: stretch;justify-content: center;background-color: white;position: relative;}#sk-container-id-1 div.sk-item::before, #sk-container-id-1 div.sk-parallel-item::before {content: \"\";position: absolute;border-left: 1px solid gray;box-sizing: border-box;top: 0;bottom: 0;left: 50%;z-index: -1;}#sk-container-id-1 div.sk-parallel-item {display: flex;flex-direction: column;z-index: 1;position: relative;background-color: white;}#sk-container-id-1 div.sk-parallel-item:first-child::after {align-self: flex-end;width: 50%;}#sk-container-id-1 div.sk-parallel-item:last-child::after {align-self: flex-start;width: 50%;}#sk-container-id-1 div.sk-parallel-item:only-child::after {width: 0;}#sk-container-id-1 div.sk-dashed-wrapped {border: 1px dashed gray;margin: 0 0.4em 0.5em 0.4em;box-sizing: border-box;padding-bottom: 0.4em;background-color: white;}#sk-container-id-1 div.sk-label label {font-family: monospace;font-weight: bold;display: inline-block;line-height: 1.2em;}#sk-container-id-1 div.sk-label-container {text-align: center;}#sk-container-id-1 div.sk-container {/* jupyter's `normalize.less` sets `[hidden] { display: none; }` but bootstrap.min.css set `[hidden] { display: none !important; }` so we also need the `!important` here to be able to override the default hidden behavior on the sphinx rendered scikit-learn.org. See: https://github.com/scikit-learn/scikit-learn/issues/21755 */display: inline-block !important;position: relative;}#sk-container-id-1 div.sk-text-repr-fallback {display: none;}</style><div id=\"sk-container-id-1\" class=\"sk-top-container\"><div class=\"sk-text-repr-fallback\"><pre>DecisionTreeClassifier(max_depth=30, max_features=&#x27;sqrt&#x27;, min_samples_leaf=10,\n",
              "                       min_samples_split=10)</pre><b>In a Jupyter environment, please rerun this cell to show the HTML representation or trust the notebook. <br />On GitHub, the HTML representation is unable to render, please try loading this page with nbviewer.org.</b></div><div class=\"sk-container\" hidden><div class=\"sk-item\"><div class=\"sk-estimator sk-toggleable\"><input class=\"sk-toggleable__control sk-hidden--visually\" id=\"sk-estimator-id-1\" type=\"checkbox\" checked><label for=\"sk-estimator-id-1\" class=\"sk-toggleable__label sk-toggleable__label-arrow\">DecisionTreeClassifier</label><div class=\"sk-toggleable__content\"><pre>DecisionTreeClassifier(max_depth=30, max_features=&#x27;sqrt&#x27;, min_samples_leaf=10,\n",
              "                       min_samples_split=10)</pre></div></div></div></div></div>"
            ]
          },
          "metadata": {},
          "execution_count": 44
        }
      ],
      "source": [
        "dt_o.fit(X_over, y_over)"
      ]
    },
    {
      "cell_type": "code",
      "execution_count": null,
      "id": "b7dce8a3-03bf-40ef-9358-515ce82c5038",
      "metadata": {
        "id": "b7dce8a3-03bf-40ef-9358-515ce82c5038"
      },
      "outputs": [],
      "source": [
        "y_o_dt = dt_o.predict(X_test)"
      ]
    },
    {
      "cell_type": "code",
      "execution_count": null,
      "id": "3f474eef-9fb0-4cbb-807f-09787f814a65",
      "metadata": {
        "id": "3f474eef-9fb0-4cbb-807f-09787f814a65"
      },
      "outputs": [],
      "source": [
        "from sklearn.metrics import classification_report"
      ]
    },
    {
      "cell_type": "code",
      "execution_count": null,
      "id": "80a18455-c74b-49df-983c-cc6c9331b468",
      "metadata": {
        "colab": {
          "base_uri": "https://localhost:8080/"
        },
        "id": "80a18455-c74b-49df-983c-cc6c9331b468",
        "outputId": "1db68c04-1e51-4d4e-ab79-3384b6ceac1b"
      },
      "outputs": [
        {
          "output_type": "stream",
          "name": "stdout",
          "text": [
            "              precision    recall  f1-score   support\n",
            "\n",
            "           0       0.82      0.67      0.74      7662\n",
            "           1       0.41      0.60      0.49      2897\n",
            "\n",
            "    accuracy                           0.65     10559\n",
            "   macro avg       0.61      0.64      0.61     10559\n",
            "weighted avg       0.70      0.65      0.67     10559\n",
            "\n"
          ]
        }
      ],
      "source": [
        "print(classification_report(y_test, y_o_dt))"
      ]
    },
    {
      "cell_type": "code",
      "execution_count": null,
      "id": "ea5ca264-9717-499d-b5b3-33b43abe715a",
      "metadata": {
        "id": "ea5ca264-9717-499d-b5b3-33b43abe715a"
      },
      "outputs": [],
      "source": [
        "from sklearn.metrics import accuracy_score, confusion_matrix, roc_auc_score, roc_curve"
      ]
    },
    {
      "cell_type": "code",
      "source": [
        "y_prob_o = dt_o.predict_proba(X_test)[:, 1]"
      ],
      "metadata": {
        "id": "lnd2E-Ry05n3"
      },
      "id": "lnd2E-Ry05n3",
      "execution_count": null,
      "outputs": []
    },
    {
      "cell_type": "code",
      "execution_count": null,
      "id": "6d94647b-97a0-40e7-87df-aad02116a8f9",
      "metadata": {
        "colab": {
          "base_uri": "https://localhost:8080/"
        },
        "id": "6d94647b-97a0-40e7-87df-aad02116a8f9",
        "outputId": "fc2cc254-eae7-4d1a-93d7-099a02fa3306"
      },
      "outputs": [
        {
          "output_type": "execute_result",
          "data": {
            "text/plain": [
              "0.686899277526946"
            ]
          },
          "metadata": {},
          "execution_count": 50
        }
      ],
      "source": [
        "roc_auc_score(y_test, y_prob_o)"
      ]
    },
    {
      "cell_type": "code",
      "execution_count": null,
      "id": "Wp8gmuDP8bcP",
      "metadata": {
        "id": "Wp8gmuDP8bcP"
      },
      "outputs": [],
      "source": [
        "fpr_o, tpr_o, _ = roc_curve(y_test,  y_prob_o)"
      ]
    },
    {
      "cell_type": "code",
      "execution_count": null,
      "id": "GMvs0HZt9N4l",
      "metadata": {
        "colab": {
          "base_uri": "https://localhost:8080/",
          "height": 472
        },
        "id": "GMvs0HZt9N4l",
        "outputId": "bb7fa29c-8e65-46ff-85c1-8eaae5c610c8"
      },
      "outputs": [
        {
          "output_type": "display_data",
          "data": {
            "text/plain": [
              "<Figure size 640x480 with 1 Axes>"
            ],
            "image/png": "[encoded data removed]"
          },
          "metadata": {}
        }
      ],
      "source": [
        "plt.plot(fpr_o, tpr_o)\n",
        "plt.ylabel('True Positive Rate')\n",
        "plt.xlabel('False Positive Rate')\n",
        "plt.title('Decision Tree, Oversampled es-en dataset')\n",
        "plt.show()"
      ]
    },
    {
      "cell_type": "code",
      "execution_count": null,
      "id": "bcf49f5c-5d11-45f3-ac01-cc11e7dc4730",
      "metadata": {
        "id": "bcf49f5c-5d11-45f3-ac01-cc11e7dc4730"
      },
      "outputs": [],
      "source": [
        "confusion_matrix_oversampled = confusion_matrix(y_test, y_o_dt)"
      ]
    },
    {
      "cell_type": "code",
      "execution_count": null,
      "id": "11a85485-d117-4797-b1fe-21e4aef3e94a",
      "metadata": {
        "colab": {
          "base_uri": "https://localhost:8080/"
        },
        "id": "11a85485-d117-4797-b1fe-21e4aef3e94a",
        "outputId": "46f57920-8c4e-460d-f2a2-9a8a4b5858ec"
      },
      "outputs": [
        {
          "output_type": "stream",
          "name": "stdout",
          "text": [
            "[[5154 2508]\n",
            " [1160 1737]]\n"
          ]
        }
      ],
      "source": [
        "print(confusion_matrix_oversampled)"
      ]
    },
    {
      "cell_type": "markdown",
      "source": [
        "Decision Tree - Undersampled dataset"
      ],
      "metadata": {
        "id": "7RvQKXpABrUP"
      },
      "id": "7RvQKXpABrUP"
    },
    {
      "cell_type": "code",
      "source": [
        "cv.fit(X_under, y_under)\n",
        "cv.score(X_under, y_under)\n",
        "cv.best_params_"
      ],
      "metadata": {
        "id": "jJh2IQpI3Xbk",
        "outputId": "94298c2b-0be2-42b0-b34c-421436cbb0d3",
        "colab": {
          "base_uri": "https://localhost:8080/"
        }
      },
      "id": "jJh2IQpI3Xbk",
      "execution_count": null,
      "outputs": [
        {
          "output_type": "execute_result",
          "data": {
            "text/plain": [
              "{'min_samples_split': 50,\n",
              " 'min_samples_leaf': 30,\n",
              " 'max_features': 'sqrt',\n",
              " 'max_depth': 60,\n",
              " 'criterion': 'log_loss'}"
            ]
          },
          "metadata": {},
          "execution_count": 55
        }
      ]
    },
    {
      "cell_type": "code",
      "source": [
        "dt_u = DecisionTreeClassifier(criterion = 'log_loss',\n",
        "                                 max_depth = 60,\n",
        "                                 max_features = 'sqrt',\n",
        "                                 min_samples_leaf = 30,\n",
        "                                 min_samples_split = 50\n",
        "                                 )"
      ],
      "metadata": {
        "id": "Omr0b06yBvBm"
      },
      "id": "Omr0b06yBvBm",
      "execution_count": null,
      "outputs": []
    },
    {
      "cell_type": "code",
      "source": [
        "dt_u.fit(X_under, y_under)"
      ],
      "metadata": {
        "colab": {
          "base_uri": "https://localhost:8080/",
          "height": 92
        },
        "id": "TQBiCVcPBvE1",
        "outputId": "57941326-ec84-4b5b-dfdd-7cf56c38b99a"
      },
      "id": "TQBiCVcPBvE1",
      "execution_count": null,
      "outputs": [
        {
          "output_type": "execute_result",
          "data": {
            "text/plain": [
              "DecisionTreeClassifier(criterion='log_loss', max_depth=60, max_features='sqrt',\n",
              "                       min_samples_leaf=30, min_samples_split=50)"
            ],
            "text/html": [
              "<style>#sk-container-id-2 {color: black;background-color: white;}#sk-container-id-2 pre{padding: 0;}#sk-container-id-2 div.sk-toggleable {background-color: white;}#sk-container-id-2 label.sk-toggleable__label {cursor: pointer;display: block;width: 100%;margin-bottom: 0;padding: 0.3em;box-sizing: border-box;text-align: center;}#sk-container-id-2 label.sk-toggleable__label-arrow:before {content: \"▸\";float: left;margin-right: 0.25em;color: #696969;}#sk-container-id-2 label.sk-toggleable__label-arrow:hover:before {color: black;}#sk-container-id-2 div.sk-estimator:hover label.sk-toggleable__label-arrow:before {color: black;}#sk-container-id-2 div.sk-toggleable__content {max-height: 0;max-width: 0;overflow: hidden;text-align: left;background-color: #f0f8ff;}#sk-container-id-2 div.sk-toggleable__content pre {margin: 0.2em;color: black;border-radius: 0.25em;background-color: #f0f8ff;}#sk-container-id-2 input.sk-toggleable__control:checked~div.sk-toggleable__content {max-height: 200px;max-width: 100%;overflow: auto;}#sk-container-id-2 input.sk-toggleable__control:checked~label.sk-toggleable__label-arrow:before {content: \"▾\";}#sk-container-id-2 div.sk-estimator input.sk-toggleable__control:checked~label.sk-toggleable__label {background-color: #d4ebff;}#sk-container-id-2 div.sk-label input.sk-toggleable__control:checked~label.sk-toggleable__label {background-color: #d4ebff;}#sk-container-id-2 input.sk-hidden--visually {border: 0;clip: rect(1px 1px 1px 1px);clip: rect(1px, 1px, 1px, 1px);height: 1px;margin: -1px;overflow: hidden;padding: 0;position: absolute;width: 1px;}#sk-container-id-2 div.sk-estimator {font-family: monospace;background-color: #f0f8ff;border: 1px dotted black;border-radius: 0.25em;box-sizing: border-box;margin-bottom: 0.5em;}#sk-container-id-2 div.sk-estimator:hover {background-color: #d4ebff;}#sk-container-id-2 div.sk-parallel-item::after {content: \"\";width: 100%;border-bottom: 1px solid gray;flex-grow: 1;}#sk-container-id-2 div.sk-label:hover label.sk-toggleable__label {background-color: #d4ebff;}#sk-container-id-2 div.sk-serial::before {content: \"\";position: absolute;border-left: 1px solid gray;box-sizing: border-box;top: 0;bottom: 0;left: 50%;z-index: 0;}#sk-container-id-2 div.sk-serial {display: flex;flex-direction: column;align-items: center;background-color: white;padding-right: 0.2em;padding-left: 0.2em;position: relative;}#sk-container-id-2 div.sk-item {position: relative;z-index: 1;}#sk-container-id-2 div.sk-parallel {display: flex;align-items: stretch;justify-content: center;background-color: white;position: relative;}#sk-container-id-2 div.sk-item::before, #sk-container-id-2 div.sk-parallel-item::before {content: \"\";position: absolute;border-left: 1px solid gray;box-sizing: border-box;top: 0;bottom: 0;left: 50%;z-index: -1;}#sk-container-id-2 div.sk-parallel-item {display: flex;flex-direction: column;z-index: 1;position: relative;background-color: white;}#sk-container-id-2 div.sk-parallel-item:first-child::after {align-self: flex-end;width: 50%;}#sk-container-id-2 div.sk-parallel-item:last-child::after {align-self: flex-start;width: 50%;}#sk-container-id-2 div.sk-parallel-item:only-child::after {width: 0;}#sk-container-id-2 div.sk-dashed-wrapped {border: 1px dashed gray;margin: 0 0.4em 0.5em 0.4em;box-sizing: border-box;padding-bottom: 0.4em;background-color: white;}#sk-container-id-2 div.sk-label label {font-family: monospace;font-weight: bold;display: inline-block;line-height: 1.2em;}#sk-container-id-2 div.sk-label-container {text-align: center;}#sk-container-id-2 div.sk-container {/* jupyter's `normalize.less` sets `[hidden] { display: none; }` but bootstrap.min.css set `[hidden] { display: none !important; }` so we also need the `!important` here to be able to override the default hidden behavior on the sphinx rendered scikit-learn.org. See: https://github.com/scikit-learn/scikit-learn/issues/21755 */display: inline-block !important;position: relative;}#sk-container-id-2 div.sk-text-repr-fallback {display: none;}</style><div id=\"sk-container-id-2\" class=\"sk-top-container\"><div class=\"sk-text-repr-fallback\"><pre>DecisionTreeClassifier(criterion=&#x27;log_loss&#x27;, max_depth=60, max_features=&#x27;sqrt&#x27;,\n",
              "                       min_samples_leaf=30, min_samples_split=50)</pre><b>In a Jupyter environment, please rerun this cell to show the HTML representation or trust the notebook. <br />On GitHub, the HTML representation is unable to render, please try loading this page with nbviewer.org.</b></div><div class=\"sk-container\" hidden><div class=\"sk-item\"><div class=\"sk-estimator sk-toggleable\"><input class=\"sk-toggleable__control sk-hidden--visually\" id=\"sk-estimator-id-2\" type=\"checkbox\" checked><label for=\"sk-estimator-id-2\" class=\"sk-toggleable__label sk-toggleable__label-arrow\">DecisionTreeClassifier</label><div class=\"sk-toggleable__content\"><pre>DecisionTreeClassifier(criterion=&#x27;log_loss&#x27;, max_depth=60, max_features=&#x27;sqrt&#x27;,\n",
              "                       min_samples_leaf=30, min_samples_split=50)</pre></div></div></div></div></div>"
            ]
          },
          "metadata": {},
          "execution_count": 57
        }
      ]
    },
    {
      "cell_type": "code",
      "source": [
        "y_u_dt = dt_u.predict(X_test)"
      ],
      "metadata": {
        "id": "oc06vZBCBvHx"
      },
      "id": "oc06vZBCBvHx",
      "execution_count": null,
      "outputs": []
    },
    {
      "cell_type": "code",
      "source": [
        "print(classification_report(y_test, y_u_dt))"
      ],
      "metadata": {
        "colab": {
          "base_uri": "https://localhost:8080/"
        },
        "id": "Hvdddp_FBvJ7",
        "outputId": "5fa4ab83-9117-480e-b4df-44e5fd6bea9c"
      },
      "id": "Hvdddp_FBvJ7",
      "execution_count": null,
      "outputs": [
        {
          "output_type": "stream",
          "name": "stdout",
          "text": [
            "              precision    recall  f1-score   support\n",
            "\n",
            "           0       0.84      0.62      0.71      7662\n",
            "           1       0.40      0.67      0.51      2897\n",
            "\n",
            "    accuracy                           0.64     10559\n",
            "   macro avg       0.62      0.65      0.61     10559\n",
            "weighted avg       0.72      0.64      0.66     10559\n",
            "\n"
          ]
        }
      ]
    },
    {
      "cell_type": "code",
      "source": [
        "y_prob_u = dt_u.predict_proba(X_test)[:, 1]"
      ],
      "metadata": {
        "id": "NRH3w5sr6Qsk"
      },
      "id": "NRH3w5sr6Qsk",
      "execution_count": null,
      "outputs": []
    },
    {
      "cell_type": "code",
      "source": [
        "roc_auc_score(y_test, y_prob_u)"
      ],
      "metadata": {
        "colab": {
          "base_uri": "https://localhost:8080/"
        },
        "id": "AokQdVQfBvMu",
        "outputId": "eaa978aa-6fe6-4de7-8e16-48f420f8e049"
      },
      "id": "AokQdVQfBvMu",
      "execution_count": null,
      "outputs": [
        {
          "output_type": "execute_result",
          "data": {
            "text/plain": [
              "0.7011222421379933"
            ]
          },
          "metadata": {},
          "execution_count": 61
        }
      ]
    },
    {
      "cell_type": "code",
      "source": [
        "fpr_u, tpr_u, _ = roc_curve(y_test,  y_prob_u)"
      ],
      "metadata": {
        "id": "NNYIRPVmBvnZ"
      },
      "id": "NNYIRPVmBvnZ",
      "execution_count": null,
      "outputs": []
    },
    {
      "cell_type": "code",
      "source": [
        "plt.plot(fpr_u, tpr_u)\n",
        "plt.ylabel('True Positive Rate')\n",
        "plt.xlabel('False Positive Rate')\n",
        "plt.title('Decision Tree, Undersampled es-en dataset')\n",
        "plt.show()"
      ],
      "metadata": {
        "colab": {
          "base_uri": "https://localhost:8080/",
          "height": 472
        },
        "id": "RZeEWME-BvqD",
        "outputId": "425339bd-07a8-4677-9992-fa87d0bba506"
      },
      "id": "RZeEWME-BvqD",
      "execution_count": null,
      "outputs": [
        {
          "output_type": "display_data",
          "data": {
            "text/plain": [
              "<Figure size 640x480 with 1 Axes>"
            ],
            "image/png": "[encoded data removed]"
          },
          "metadata": {}
        }
      ]
    },
    {
      "cell_type": "code",
      "source": [
        "confusion_matrix_undersampled = confusion_matrix(y_test, y_u_dt)"
      ],
      "metadata": {
        "id": "4oKf5qp8CrQg"
      },
      "id": "4oKf5qp8CrQg",
      "execution_count": null,
      "outputs": []
    },
    {
      "cell_type": "code",
      "source": [
        "print(confusion_matrix_undersampled)"
      ],
      "metadata": {
        "colab": {
          "base_uri": "https://localhost:8080/"
        },
        "id": "uvOZQVqxCrYN",
        "outputId": "b6348137-638b-43a5-ba35-bb0d9978ec9a"
      },
      "id": "uvOZQVqxCrYN",
      "execution_count": null,
      "outputs": [
        {
          "output_type": "stream",
          "name": "stdout",
          "text": [
            "[[4785 2877]\n",
            " [ 943 1954]]\n"
          ]
        }
      ]
    },
    {
      "cell_type": "code",
      "source": [
        "plt.plot(fpr_o, tpr_o, label= \"Oversampled\")\n",
        "plt.plot(fpr_u, tpr_u, label= \"Undersapled\")\n",
        "plt.legend()\n",
        "plt.ylabel('True Positive Rate')\n",
        "plt.xlabel('False Positive Rate')\n",
        "plt.title('Decision Tree, Spanish-English dataset')\n",
        "plt.show()"
      ],
      "metadata": {
        "colab": {
          "base_uri": "https://localhost:8080/",
          "height": 472
        },
        "id": "6BsOSfZZ-oMo",
        "outputId": "977184f1-c133-46f8-8d4e-30e0946e41eb"
      },
      "id": "6BsOSfZZ-oMo",
      "execution_count": null,
      "outputs": [
        {
          "output_type": "display_data",
          "data": {
            "text/plain": [
              "<Figure size 640x480 with 1 Axes>"
            ],
            "image/png": "[encoded data removed]"
          },
          "metadata": {}
        }
      ]
    },
    {
      "cell_type": "markdown",
      "source": [
        "Gradient Boosted Decision Tree"
      ],
      "metadata": {
        "id": "jogVejgtgLfU"
      },
      "id": "jogVejgtgLfU"
    },
    {
      "cell_type": "code",
      "source": [
        "from sklearn.ensemble import GradientBoostingClassifier"
      ],
      "metadata": {
        "id": "s51Z1mZAgKnt"
      },
      "id": "s51Z1mZAgKnt",
      "execution_count": null,
      "outputs": []
    },
    {
      "cell_type": "code",
      "source": [
        "parameter = {\n",
        "    'n_estimators':[10, 20, 30, 40, 50],\n",
        "    'max_depth':[30, 40, 50, 60],\n",
        "    'max_features':['sqrt', 'log2'],\n",
        "    'min_samples_split':[10, 20, 30, 40, 50],\n",
        "    'min_samples_leaf': [10, 20, 30, 40, 50]\n",
        "}\n",
        "\n",
        "model = GradientBoostingClassifier()\n",
        "from sklearn.model_selection import RandomizedSearchCV\n",
        "cv = RandomizedSearchCV(model, param_distributions = parameter, n_iter = 50)"
      ],
      "metadata": {
        "id": "jF59AsJ9gdth"
      },
      "id": "jF59AsJ9gdth",
      "execution_count": null,
      "outputs": []
    },
    {
      "cell_type": "code",
      "source": [
        "cv.fit(X_over, y_over)\n",
        "cv.score(X_over, y_over)\n",
        "cv.best_params_"
      ],
      "metadata": {
        "colab": {
          "base_uri": "https://localhost:8080/"
        },
        "id": "_tVJ9htygdxM",
        "outputId": "0e3e991c-5acc-46a6-d7b4-3248a3727481"
      },
      "id": "_tVJ9htygdxM",
      "execution_count": null,
      "outputs": [
        {
          "output_type": "execute_result",
          "data": {
            "text/plain": [
              "{'n_estimators': 40,\n",
              " 'min_samples_split': 50,\n",
              " 'min_samples_leaf': 10,\n",
              " 'max_features': 'sqrt',\n",
              " 'max_depth': 40}"
            ]
          },
          "metadata": {},
          "execution_count": 69
        }
      ]
    },
    {
      "cell_type": "code",
      "source": [
        "gbdt_o = GradientBoostingClassifier(n_estimators = 40,\n",
        "                                 max_depth = 40,\n",
        "                                 max_features = 'sqrt',\n",
        "                                 min_samples_leaf = 10,\n",
        "                                 min_samples_split = 50\n",
        "                                 )"
      ],
      "metadata": {
        "id": "s_HF1ds-gdz2"
      },
      "id": "s_HF1ds-gdz2",
      "execution_count": null,
      "outputs": []
    },
    {
      "cell_type": "code",
      "source": [
        "gbdt_o.fit(X_over, y_over)"
      ],
      "metadata": {
        "colab": {
          "base_uri": "https://localhost:8080/",
          "height": 109
        },
        "id": "ocEtFl9agd2N",
        "outputId": "5ce16750-f379-4db0-8b8d-10577938d114"
      },
      "id": "ocEtFl9agd2N",
      "execution_count": null,
      "outputs": [
        {
          "output_type": "execute_result",
          "data": {
            "text/plain": [
              "GradientBoostingClassifier(max_depth=40, max_features='sqrt',\n",
              "                           min_samples_leaf=10, min_samples_split=50,\n",
              "                           n_estimators=40)"
            ],
            "text/html": [
              "<style>#sk-container-id-3 {color: black;background-color: white;}#sk-container-id-3 pre{padding: 0;}#sk-container-id-3 div.sk-toggleable {background-color: white;}#sk-container-id-3 label.sk-toggleable__label {cursor: pointer;display: block;width: 100%;margin-bottom: 0;padding: 0.3em;box-sizing: border-box;text-align: center;}#sk-container-id-3 label.sk-toggleable__label-arrow:before {content: \"▸\";float: left;margin-right: 0.25em;color: #696969;}#sk-container-id-3 label.sk-toggleable__label-arrow:hover:before {color: black;}#sk-container-id-3 div.sk-estimator:hover label.sk-toggleable__label-arrow:before {color: black;}#sk-container-id-3 div.sk-toggleable__content {max-height: 0;max-width: 0;overflow: hidden;text-align: left;background-color: #f0f8ff;}#sk-container-id-3 div.sk-toggleable__content pre {margin: 0.2em;color: black;border-radius: 0.25em;background-color: #f0f8ff;}#sk-container-id-3 input.sk-toggleable__control:checked~div.sk-toggleable__content {max-height: 200px;max-width: 100%;overflow: auto;}#sk-container-id-3 input.sk-toggleable__control:checked~label.sk-toggleable__label-arrow:before {content: \"▾\";}#sk-container-id-3 div.sk-estimator input.sk-toggleable__control:checked~label.sk-toggleable__label {background-color: #d4ebff;}#sk-container-id-3 div.sk-label input.sk-toggleable__control:checked~label.sk-toggleable__label {background-color: #d4ebff;}#sk-container-id-3 input.sk-hidden--visually {border: 0;clip: rect(1px 1px 1px 1px);clip: rect(1px, 1px, 1px, 1px);height: 1px;margin: -1px;overflow: hidden;padding: 0;position: absolute;width: 1px;}#sk-container-id-3 div.sk-estimator {font-family: monospace;background-color: #f0f8ff;border: 1px dotted black;border-radius: 0.25em;box-sizing: border-box;margin-bottom: 0.5em;}#sk-container-id-3 div.sk-estimator:hover {background-color: #d4ebff;}#sk-container-id-3 div.sk-parallel-item::after {content: \"\";width: 100%;border-bottom: 1px solid gray;flex-grow: 1;}#sk-container-id-3 div.sk-label:hover label.sk-toggleable__label {background-color: #d4ebff;}#sk-container-id-3 div.sk-serial::before {content: \"\";position: absolute;border-left: 1px solid gray;box-sizing: border-box;top: 0;bottom: 0;left: 50%;z-index: 0;}#sk-container-id-3 div.sk-serial {display: flex;flex-direction: column;align-items: center;background-color: white;padding-right: 0.2em;padding-left: 0.2em;position: relative;}#sk-container-id-3 div.sk-item {position: relative;z-index: 1;}#sk-container-id-3 div.sk-parallel {display: flex;align-items: stretch;justify-content: center;background-color: white;position: relative;}#sk-container-id-3 div.sk-item::before, #sk-container-id-3 div.sk-parallel-item::before {content: \"\";position: absolute;border-left: 1px solid gray;box-sizing: border-box;top: 0;bottom: 0;left: 50%;z-index: -1;}#sk-container-id-3 div.sk-parallel-item {display: flex;flex-direction: column;z-index: 1;position: relative;background-color: white;}#sk-container-id-3 div.sk-parallel-item:first-child::after {align-self: flex-end;width: 50%;}#sk-container-id-3 div.sk-parallel-item:last-child::after {align-self: flex-start;width: 50%;}#sk-container-id-3 div.sk-parallel-item:only-child::after {width: 0;}#sk-container-id-3 div.sk-dashed-wrapped {border: 1px dashed gray;margin: 0 0.4em 0.5em 0.4em;box-sizing: border-box;padding-bottom: 0.4em;background-color: white;}#sk-container-id-3 div.sk-label label {font-family: monospace;font-weight: bold;display: inline-block;line-height: 1.2em;}#sk-container-id-3 div.sk-label-container {text-align: center;}#sk-container-id-3 div.sk-container {/* jupyter's `normalize.less` sets `[hidden] { display: none; }` but bootstrap.min.css set `[hidden] { display: none !important; }` so we also need the `!important` here to be able to override the default hidden behavior on the sphinx rendered scikit-learn.org. See: https://github.com/scikit-learn/scikit-learn/issues/21755 */display: inline-block !important;position: relative;}#sk-container-id-3 div.sk-text-repr-fallback {display: none;}</style><div id=\"sk-container-id-3\" class=\"sk-top-container\"><div class=\"sk-text-repr-fallback\"><pre>GradientBoostingClassifier(max_depth=40, max_features=&#x27;sqrt&#x27;,\n",
              "                           min_samples_leaf=10, min_samples_split=50,\n",
              "                           n_estimators=40)</pre><b>In a Jupyter environment, please rerun this cell to show the HTML representation or trust the notebook. <br />On GitHub, the HTML representation is unable to render, please try loading this page with nbviewer.org.</b></div><div class=\"sk-container\" hidden><div class=\"sk-item\"><div class=\"sk-estimator sk-toggleable\"><input class=\"sk-toggleable__control sk-hidden--visually\" id=\"sk-estimator-id-3\" type=\"checkbox\" checked><label for=\"sk-estimator-id-3\" class=\"sk-toggleable__label sk-toggleable__label-arrow\">GradientBoostingClassifier</label><div class=\"sk-toggleable__content\"><pre>GradientBoostingClassifier(max_depth=40, max_features=&#x27;sqrt&#x27;,\n",
              "                           min_samples_leaf=10, min_samples_split=50,\n",
              "                           n_estimators=40)</pre></div></div></div></div></div>"
            ]
          },
          "metadata": {},
          "execution_count": 71
        }
      ]
    },
    {
      "cell_type": "code",
      "source": [
        "y_o_gbdt = gbdt_o.predict(X_test)"
      ],
      "metadata": {
        "id": "KPCPvB0Qgd4p"
      },
      "id": "KPCPvB0Qgd4p",
      "execution_count": null,
      "outputs": []
    },
    {
      "cell_type": "code",
      "source": [
        "print(classification_report(y_test, y_o_gbdt))"
      ],
      "metadata": {
        "colab": {
          "base_uri": "https://localhost:8080/"
        },
        "id": "Kk6xRmzpgd6l",
        "outputId": "7350d98d-bccd-44d1-b1f3-ddd4268f9ae4"
      },
      "id": "Kk6xRmzpgd6l",
      "execution_count": null,
      "outputs": [
        {
          "output_type": "stream",
          "name": "stdout",
          "text": [
            "              precision    recall  f1-score   support\n",
            "\n",
            "           0       0.84      0.79      0.81      7662\n",
            "           1       0.51      0.59      0.55      2897\n",
            "\n",
            "    accuracy                           0.73     10559\n",
            "   macro avg       0.67      0.69      0.68     10559\n",
            "weighted avg       0.75      0.73      0.74     10559\n",
            "\n"
          ]
        }
      ]
    },
    {
      "cell_type": "code",
      "source": [
        "y_prob_o = gbdt_o.predict_proba(X_test)[:, 1]\n",
        "roc_auc_score(y_test, y_prob_o)"
      ],
      "metadata": {
        "colab": {
          "base_uri": "https://localhost:8080/"
        },
        "id": "LnuMy8kzj4OE",
        "outputId": "555de569-f973-4fb2-b507-611096add913"
      },
      "id": "LnuMy8kzj4OE",
      "execution_count": null,
      "outputs": [
        {
          "output_type": "execute_result",
          "data": {
            "text/plain": [
              "0.7747501285544853"
            ]
          },
          "metadata": {},
          "execution_count": 74
        }
      ]
    },
    {
      "cell_type": "code",
      "source": [
        "fpr_o, tpr_o, _ = roc_curve(y_test,  y_prob_o)"
      ],
      "metadata": {
        "id": "Se9e-lo2j7ub"
      },
      "id": "Se9e-lo2j7ub",
      "execution_count": null,
      "outputs": []
    },
    {
      "cell_type": "code",
      "source": [
        "plt.plot(fpr_o, tpr_o)\n",
        "plt.ylabel('True Positive Rate')\n",
        "plt.xlabel('False Positive Rate')\n",
        "plt.title('Gradient Boosted Decision Tree, Oversampled es-en dataset')\n",
        "plt.show()"
      ],
      "metadata": {
        "colab": {
          "base_uri": "https://localhost:8080/",
          "height": 472
        },
        "id": "M0BwAGockHDR",
        "outputId": "dab22820-0457-4968-8d66-ca07ce04d14e"
      },
      "id": "M0BwAGockHDR",
      "execution_count": null,
      "outputs": [
        {
          "output_type": "display_data",
          "data": {
            "text/plain": [
              "<Figure size 640x480 with 1 Axes>"
            ],
            "image/png": "[encoded data removed]"
          },
          "metadata": {}
        }
      ]
    },
    {
      "cell_type": "code",
      "source": [
        "confusion_matrix_oversampled = confusion_matrix(y_test, y_o_gbdt)"
      ],
      "metadata": {
        "id": "iBhkXEQMkJbj"
      },
      "id": "iBhkXEQMkJbj",
      "execution_count": null,
      "outputs": []
    },
    {
      "cell_type": "code",
      "source": [
        "print(confusion_matrix_oversampled)"
      ],
      "metadata": {
        "colab": {
          "base_uri": "https://localhost:8080/"
        },
        "id": "X9sKjndUkNNn",
        "outputId": "d8224688-7325-4708-8896-0d7988781c82"
      },
      "id": "X9sKjndUkNNn",
      "execution_count": null,
      "outputs": [
        {
          "output_type": "stream",
          "name": "stdout",
          "text": [
            "[[6023 1639]\n",
            " [1176 1721]]\n"
          ]
        }
      ]
    },
    {
      "cell_type": "markdown",
      "source": [
        "Gradient Boosted Decision Tree - Undersampled"
      ],
      "metadata": {
        "id": "XEyOUTGNkRkS"
      },
      "id": "XEyOUTGNkRkS"
    },
    {
      "cell_type": "code",
      "source": [
        "cv.fit(X_under, y_under)\n",
        "cv.score(X_under, y_under)\n",
        "cv.best_params_"
      ],
      "metadata": {
        "colab": {
          "base_uri": "https://localhost:8080/"
        },
        "id": "USH1_LCWkQSU",
        "outputId": "0b5f897e-704c-4558-dfe7-ce999d5083fd"
      },
      "id": "USH1_LCWkQSU",
      "execution_count": null,
      "outputs": [
        {
          "output_type": "execute_result",
          "data": {
            "text/plain": [
              "{'n_estimators': 50,\n",
              " 'min_samples_split': 50,\n",
              " 'min_samples_leaf': 40,\n",
              " 'max_features': 'sqrt',\n",
              " 'max_depth': 30}"
            ]
          },
          "metadata": {},
          "execution_count": 79
        }
      ]
    },
    {
      "cell_type": "code",
      "source": [
        "gbdt_u = GradientBoostingClassifier(n_estimators = 50,\n",
        "                                 max_depth = 30,\n",
        "                                 max_features = 'sqrt',\n",
        "                                 min_samples_leaf = 40,\n",
        "                                 min_samples_split = 50\n",
        "                                 )"
      ],
      "metadata": {
        "id": "xswMPdVCkXJK"
      },
      "id": "xswMPdVCkXJK",
      "execution_count": null,
      "outputs": []
    },
    {
      "cell_type": "code",
      "source": [
        "gbdt_u.fit(X_under, y_under)"
      ],
      "metadata": {
        "colab": {
          "base_uri": "https://localhost:8080/",
          "height": 109
        },
        "id": "PWYLMURgkbVh",
        "outputId": "600bf408-0068-4406-8bf9-74ff73077fad"
      },
      "id": "PWYLMURgkbVh",
      "execution_count": null,
      "outputs": [
        {
          "output_type": "execute_result",
          "data": {
            "text/plain": [
              "GradientBoostingClassifier(max_depth=30, max_features='sqrt',\n",
              "                           min_samples_leaf=40, min_samples_split=50,\n",
              "                           n_estimators=50)"
            ],
            "text/html": [
              "<style>#sk-container-id-4 {color: black;background-color: white;}#sk-container-id-4 pre{padding: 0;}#sk-container-id-4 div.sk-toggleable {background-color: white;}#sk-container-id-4 label.sk-toggleable__label {cursor: pointer;display: block;width: 100%;margin-bottom: 0;padding: 0.3em;box-sizing: border-box;text-align: center;}#sk-container-id-4 label.sk-toggleable__label-arrow:before {content: \"▸\";float: left;margin-right: 0.25em;color: #696969;}#sk-container-id-4 label.sk-toggleable__label-arrow:hover:before {color: black;}#sk-container-id-4 div.sk-estimator:hover label.sk-toggleable__label-arrow:before {color: black;}#sk-container-id-4 div.sk-toggleable__content {max-height: 0;max-width: 0;overflow: hidden;text-align: left;background-color: #f0f8ff;}#sk-container-id-4 div.sk-toggleable__content pre {margin: 0.2em;color: black;border-radius: 0.25em;background-color: #f0f8ff;}#sk-container-id-4 input.sk-toggleable__control:checked~div.sk-toggleable__content {max-height: 200px;max-width: 100%;overflow: auto;}#sk-container-id-4 input.sk-toggleable__control:checked~label.sk-toggleable__label-arrow:before {content: \"▾\";}#sk-container-id-4 div.sk-estimator input.sk-toggleable__control:checked~label.sk-toggleable__label {background-color: #d4ebff;}#sk-container-id-4 div.sk-label input.sk-toggleable__control:checked~label.sk-toggleable__label {background-color: #d4ebff;}#sk-container-id-4 input.sk-hidden--visually {border: 0;clip: rect(1px 1px 1px 1px);clip: rect(1px, 1px, 1px, 1px);height: 1px;margin: -1px;overflow: hidden;padding: 0;position: absolute;width: 1px;}#sk-container-id-4 div.sk-estimator {font-family: monospace;background-color: #f0f8ff;border: 1px dotted black;border-radius: 0.25em;box-sizing: border-box;margin-bottom: 0.5em;}#sk-container-id-4 div.sk-estimator:hover {background-color: #d4ebff;}#sk-container-id-4 div.sk-parallel-item::after {content: \"\";width: 100%;border-bottom: 1px solid gray;flex-grow: 1;}#sk-container-id-4 div.sk-label:hover label.sk-toggleable__label {background-color: #d4ebff;}#sk-container-id-4 div.sk-serial::before {content: \"\";position: absolute;border-left: 1px solid gray;box-sizing: border-box;top: 0;bottom: 0;left: 50%;z-index: 0;}#sk-container-id-4 div.sk-serial {display: flex;flex-direction: column;align-items: center;background-color: white;padding-right: 0.2em;padding-left: 0.2em;position: relative;}#sk-container-id-4 div.sk-item {position: relative;z-index: 1;}#sk-container-id-4 div.sk-parallel {display: flex;align-items: stretch;justify-content: center;background-color: white;position: relative;}#sk-container-id-4 div.sk-item::before, #sk-container-id-4 div.sk-parallel-item::before {content: \"\";position: absolute;border-left: 1px solid gray;box-sizing: border-box;top: 0;bottom: 0;left: 50%;z-index: -1;}#sk-container-id-4 div.sk-parallel-item {display: flex;flex-direction: column;z-index: 1;position: relative;background-color: white;}#sk-container-id-4 div.sk-parallel-item:first-child::after {align-self: flex-end;width: 50%;}#sk-container-id-4 div.sk-parallel-item:last-child::after {align-self: flex-start;width: 50%;}#sk-container-id-4 div.sk-parallel-item:only-child::after {width: 0;}#sk-container-id-4 div.sk-dashed-wrapped {border: 1px dashed gray;margin: 0 0.4em 0.5em 0.4em;box-sizing: border-box;padding-bottom: 0.4em;background-color: white;}#sk-container-id-4 div.sk-label label {font-family: monospace;font-weight: bold;display: inline-block;line-height: 1.2em;}#sk-container-id-4 div.sk-label-container {text-align: center;}#sk-container-id-4 div.sk-container {/* jupyter's `normalize.less` sets `[hidden] { display: none; }` but bootstrap.min.css set `[hidden] { display: none !important; }` so we also need the `!important` here to be able to override the default hidden behavior on the sphinx rendered scikit-learn.org. See: https://github.com/scikit-learn/scikit-learn/issues/21755 */display: inline-block !important;position: relative;}#sk-container-id-4 div.sk-text-repr-fallback {display: none;}</style><div id=\"sk-container-id-4\" class=\"sk-top-container\"><div class=\"sk-text-repr-fallback\"><pre>GradientBoostingClassifier(max_depth=30, max_features=&#x27;sqrt&#x27;,\n",
              "                           min_samples_leaf=40, min_samples_split=50,\n",
              "                           n_estimators=50)</pre><b>In a Jupyter environment, please rerun this cell to show the HTML representation or trust the notebook. <br />On GitHub, the HTML representation is unable to render, please try loading this page with nbviewer.org.</b></div><div class=\"sk-container\" hidden><div class=\"sk-item\"><div class=\"sk-estimator sk-toggleable\"><input class=\"sk-toggleable__control sk-hidden--visually\" id=\"sk-estimator-id-4\" type=\"checkbox\" checked><label for=\"sk-estimator-id-4\" class=\"sk-toggleable__label sk-toggleable__label-arrow\">GradientBoostingClassifier</label><div class=\"sk-toggleable__content\"><pre>GradientBoostingClassifier(max_depth=30, max_features=&#x27;sqrt&#x27;,\n",
              "                           min_samples_leaf=40, min_samples_split=50,\n",
              "                           n_estimators=50)</pre></div></div></div></div></div>"
            ]
          },
          "metadata": {},
          "execution_count": 81
        }
      ]
    },
    {
      "cell_type": "code",
      "source": [
        "y_u_gbdt = gbdt_u.predict(X_test)"
      ],
      "metadata": {
        "id": "iCtBLyKqtFGJ"
      },
      "id": "iCtBLyKqtFGJ",
      "execution_count": null,
      "outputs": []
    },
    {
      "cell_type": "code",
      "source": [
        "print(classification_report(y_test, y_u_gbdt))"
      ],
      "metadata": {
        "colab": {
          "base_uri": "https://localhost:8080/"
        },
        "id": "4yubsW_Jr99f",
        "outputId": "399373d7-fe3c-443e-8776-510ca102574d"
      },
      "id": "4yubsW_Jr99f",
      "execution_count": null,
      "outputs": [
        {
          "output_type": "stream",
          "name": "stdout",
          "text": [
            "              precision    recall  f1-score   support\n",
            "\n",
            "           0       0.87      0.69      0.77      7662\n",
            "           1       0.47      0.72      0.56      2897\n",
            "\n",
            "    accuracy                           0.70     10559\n",
            "   macro avg       0.67      0.70      0.67     10559\n",
            "weighted avg       0.76      0.70      0.71     10559\n",
            "\n"
          ]
        }
      ]
    },
    {
      "cell_type": "code",
      "source": [
        "y_prob_u = gbdt_u.predict_proba(X_test)[:, 1]\n",
        "roc_auc_score(y_test, y_prob_u)"
      ],
      "metadata": {
        "colab": {
          "base_uri": "https://localhost:8080/"
        },
        "id": "mnSCedI3kg_8",
        "outputId": "2398070c-00da-4a4e-91c2-674af43eee8c"
      },
      "id": "mnSCedI3kg_8",
      "execution_count": null,
      "outputs": [
        {
          "output_type": "execute_result",
          "data": {
            "text/plain": [
              "0.7756267183209268"
            ]
          },
          "metadata": {},
          "execution_count": 84
        }
      ]
    },
    {
      "cell_type": "code",
      "source": [
        "fpr_u, tpr_u, _ = roc_curve(y_test,  y_prob_u)"
      ],
      "metadata": {
        "id": "Fi1Re9sEkmbj"
      },
      "id": "Fi1Re9sEkmbj",
      "execution_count": null,
      "outputs": []
    },
    {
      "cell_type": "code",
      "source": [
        "plt.plot(fpr_u, tpr_u)\n",
        "plt.ylabel('True Positive Rate')\n",
        "plt.xlabel('False Positive Rate')\n",
        "plt.title('Gradient Boosted Decision Tree, Undersampled es-en dataset')\n",
        "plt.show()"
      ],
      "metadata": {
        "colab": {
          "base_uri": "https://localhost:8080/",
          "height": 472
        },
        "id": "y4FeMz32kr-U",
        "outputId": "a20aa8f8-173b-4477-a4ec-176d142d56fd"
      },
      "id": "y4FeMz32kr-U",
      "execution_count": null,
      "outputs": [
        {
          "output_type": "display_data",
          "data": {
            "text/plain": [
              "<Figure size 640x480 with 1 Axes>"
            ],
            "image/png": "[encoded data removed]"
          },
          "metadata": {}
        }
      ]
    },
    {
      "cell_type": "code",
      "source": [
        "confusion_matrix_undersampled = confusion_matrix(y_test, y_u_gbdt)\n",
        "print(confusion_matrix_undersampled)"
      ],
      "metadata": {
        "colab": {
          "base_uri": "https://localhost:8080/"
        },
        "id": "K-Je4UT1kubQ",
        "outputId": "0ea63b55-c39b-4997-f1c9-284f367f870f"
      },
      "id": "K-Je4UT1kubQ",
      "execution_count": null,
      "outputs": [
        {
          "output_type": "stream",
          "name": "stdout",
          "text": [
            "[[5276 2386]\n",
            " [ 818 2079]]\n"
          ]
        }
      ]
    },
    {
      "cell_type": "code",
      "source": [
        "plt.plot(fpr_o, tpr_o, label= \"Oversampled\")\n",
        "plt.plot(fpr_u, tpr_u, label= \"Undersapled\")\n",
        "plt.legend()\n",
        "plt.ylabel('True Positive Rate')\n",
        "plt.xlabel('False Positive Rate')\n",
        "plt.title('Gradient Boosted Decision Tree, Spanish-English dataset')\n",
        "plt.show()"
      ],
      "metadata": {
        "colab": {
          "base_uri": "https://localhost:8080/",
          "height": 472
        },
        "id": "0fdgcSF9kvvP",
        "outputId": "f75799d9-2c01-46fb-c808-b7ab6c2b03a5"
      },
      "id": "0fdgcSF9kvvP",
      "execution_count": null,
      "outputs": [
        {
          "output_type": "display_data",
          "data": {
            "text/plain": [
              "<Figure size 640x480 with 1 Axes>"
            ],
            "image/png": "[encoded data removed]"
          },
          "metadata": {}
        }
      ]
    },
    {
      "cell_type": "markdown",
      "source": [
        "Logistic Regression - oversampled"
      ],
      "metadata": {
        "id": "FT2wh4mUlDGu"
      },
      "id": "FT2wh4mUlDGu"
    },
    {
      "cell_type": "code",
      "source": [
        "from sklearn.linear_model import LogisticRegression"
      ],
      "metadata": {
        "id": "8tggo9EilBKb"
      },
      "id": "8tggo9EilBKb",
      "execution_count": null,
      "outputs": []
    },
    {
      "cell_type": "code",
      "source": [
        "parameter = {\n",
        "    'C':[0.01, 0.1, 1, 10, 100],\n",
        "    'solver':['liblinear'],\n",
        "    'max_iter':[9000],\n",
        "    'penalty':['l1'],\n",
        "}\n",
        "\n",
        "model = LogisticRegression()\n",
        "from sklearn.model_selection import GridSearchCV\n",
        "cv = GridSearchCV(model, param_grid = parameter)"
      ],
      "metadata": {
        "id": "EGDC8MMJq562"
      },
      "id": "EGDC8MMJq562",
      "execution_count": null,
      "outputs": []
    },
    {
      "cell_type": "code",
      "source": [
        "cv.fit(Xs_over, ys_over)\n",
        "cv.score(Xs_over, ys_over)\n",
        "cv.best_params_"
      ],
      "metadata": {
        "id": "nC-cm8HNsIDO",
        "colab": {
          "base_uri": "https://localhost:8080/"
        },
        "outputId": "41a6b228-bc02-4e9f-83e0-710a6b8e7404"
      },
      "id": "nC-cm8HNsIDO",
      "execution_count": null,
      "outputs": [
        {
          "output_type": "execute_result",
          "data": {
            "text/plain": [
              "{'C': 100, 'max_iter': 9000, 'penalty': 'l1', 'solver': 'liblinear'}"
            ]
          },
          "metadata": {},
          "execution_count": 94
        }
      ]
    },
    {
      "cell_type": "code",
      "source": [
        "log_o = LogisticRegression(C = 100, solver = 'liblinear', penalty = 'l1', max_iter = 9000)"
      ],
      "metadata": {
        "id": "4r83-xFAmOYu"
      },
      "id": "4r83-xFAmOYu",
      "execution_count": null,
      "outputs": []
    },
    {
      "cell_type": "code",
      "source": [
        "log_o.fit(Xs_over, ys_over)"
      ],
      "metadata": {
        "id": "UdWKwIv-mWBm",
        "colab": {
          "base_uri": "https://localhost:8080/",
          "height": 74
        },
        "outputId": "711faace-6ee0-4699-cf18-f93d01cc69fe"
      },
      "id": "UdWKwIv-mWBm",
      "execution_count": null,
      "outputs": [
        {
          "output_type": "execute_result",
          "data": {
            "text/plain": [
              "LogisticRegression(C=100, max_iter=9000, penalty='l1', solver='liblinear')"
            ],
            "text/html": [
              "<style>#sk-container-id-5 {color: black;background-color: white;}#sk-container-id-5 pre{padding: 0;}#sk-container-id-5 div.sk-toggleable {background-color: white;}#sk-container-id-5 label.sk-toggleable__label {cursor: pointer;display: block;width: 100%;margin-bottom: 0;padding: 0.3em;box-sizing: border-box;text-align: center;}#sk-container-id-5 label.sk-toggleable__label-arrow:before {content: \"▸\";float: left;margin-right: 0.25em;color: #696969;}#sk-container-id-5 label.sk-toggleable__label-arrow:hover:before {color: black;}#sk-container-id-5 div.sk-estimator:hover label.sk-toggleable__label-arrow:before {color: black;}#sk-container-id-5 div.sk-toggleable__content {max-height: 0;max-width: 0;overflow: hidden;text-align: left;background-color: #f0f8ff;}#sk-container-id-5 div.sk-toggleable__content pre {margin: 0.2em;color: black;border-radius: 0.25em;background-color: #f0f8ff;}#sk-container-id-5 input.sk-toggleable__control:checked~div.sk-toggleable__content {max-height: 200px;max-width: 100%;overflow: auto;}#sk-container-id-5 input.sk-toggleable__control:checked~label.sk-toggleable__label-arrow:before {content: \"▾\";}#sk-container-id-5 div.sk-estimator input.sk-toggleable__control:checked~label.sk-toggleable__label {background-color: #d4ebff;}#sk-container-id-5 div.sk-label input.sk-toggleable__control:checked~label.sk-toggleable__label {background-color: #d4ebff;}#sk-container-id-5 input.sk-hidden--visually {border: 0;clip: rect(1px 1px 1px 1px);clip: rect(1px, 1px, 1px, 1px);height: 1px;margin: -1px;overflow: hidden;padding: 0;position: absolute;width: 1px;}#sk-container-id-5 div.sk-estimator {font-family: monospace;background-color: #f0f8ff;border: 1px dotted black;border-radius: 0.25em;box-sizing: border-box;margin-bottom: 0.5em;}#sk-container-id-5 div.sk-estimator:hover {background-color: #d4ebff;}#sk-container-id-5 div.sk-parallel-item::after {content: \"\";width: 100%;border-bottom: 1px solid gray;flex-grow: 1;}#sk-container-id-5 div.sk-label:hover label.sk-toggleable__label {background-color: #d4ebff;}#sk-container-id-5 div.sk-serial::before {content: \"\";position: absolute;border-left: 1px solid gray;box-sizing: border-box;top: 0;bottom: 0;left: 50%;z-index: 0;}#sk-container-id-5 div.sk-serial {display: flex;flex-direction: column;align-items: center;background-color: white;padding-right: 0.2em;padding-left: 0.2em;position: relative;}#sk-container-id-5 div.sk-item {position: relative;z-index: 1;}#sk-container-id-5 div.sk-parallel {display: flex;align-items: stretch;justify-content: center;background-color: white;position: relative;}#sk-container-id-5 div.sk-item::before, #sk-container-id-5 div.sk-parallel-item::before {content: \"\";position: absolute;border-left: 1px solid gray;box-sizing: border-box;top: 0;bottom: 0;left: 50%;z-index: -1;}#sk-container-id-5 div.sk-parallel-item {display: flex;flex-direction: column;z-index: 1;position: relative;background-color: white;}#sk-container-id-5 div.sk-parallel-item:first-child::after {align-self: flex-end;width: 50%;}#sk-container-id-5 div.sk-parallel-item:last-child::after {align-self: flex-start;width: 50%;}#sk-container-id-5 div.sk-parallel-item:only-child::after {width: 0;}#sk-container-id-5 div.sk-dashed-wrapped {border: 1px dashed gray;margin: 0 0.4em 0.5em 0.4em;box-sizing: border-box;padding-bottom: 0.4em;background-color: white;}#sk-container-id-5 div.sk-label label {font-family: monospace;font-weight: bold;display: inline-block;line-height: 1.2em;}#sk-container-id-5 div.sk-label-container {text-align: center;}#sk-container-id-5 div.sk-container {/* jupyter's `normalize.less` sets `[hidden] { display: none; }` but bootstrap.min.css set `[hidden] { display: none !important; }` so we also need the `!important` here to be able to override the default hidden behavior on the sphinx rendered scikit-learn.org. See: https://github.com/scikit-learn/scikit-learn/issues/21755 */display: inline-block !important;position: relative;}#sk-container-id-5 div.sk-text-repr-fallback {display: none;}</style><div id=\"sk-container-id-5\" class=\"sk-top-container\"><div class=\"sk-text-repr-fallback\"><pre>LogisticRegression(C=100, max_iter=9000, penalty=&#x27;l1&#x27;, solver=&#x27;liblinear&#x27;)</pre><b>In a Jupyter environment, please rerun this cell to show the HTML representation or trust the notebook. <br />On GitHub, the HTML representation is unable to render, please try loading this page with nbviewer.org.</b></div><div class=\"sk-container\" hidden><div class=\"sk-item\"><div class=\"sk-estimator sk-toggleable\"><input class=\"sk-toggleable__control sk-hidden--visually\" id=\"sk-estimator-id-5\" type=\"checkbox\" checked><label for=\"sk-estimator-id-5\" class=\"sk-toggleable__label sk-toggleable__label-arrow\">LogisticRegression</label><div class=\"sk-toggleable__content\"><pre>LogisticRegression(C=100, max_iter=9000, penalty=&#x27;l1&#x27;, solver=&#x27;liblinear&#x27;)</pre></div></div></div></div></div>"
            ]
          },
          "metadata": {},
          "execution_count": 96
        }
      ]
    },
    {
      "cell_type": "code",
      "source": [
        "y_o_log = log_o.predict(Xs_test)"
      ],
      "metadata": {
        "id": "XpOVJDoQmfaF"
      },
      "id": "XpOVJDoQmfaF",
      "execution_count": null,
      "outputs": []
    },
    {
      "cell_type": "code",
      "source": [
        "print(classification_report(ys_test, y_o_log))"
      ],
      "metadata": {
        "id": "2rC7IUwDmoEt",
        "colab": {
          "base_uri": "https://localhost:8080/"
        },
        "outputId": "92e27c75-686b-4e60-f42a-7b131612383e"
      },
      "id": "2rC7IUwDmoEt",
      "execution_count": null,
      "outputs": [
        {
          "output_type": "stream",
          "name": "stdout",
          "text": [
            "              precision    recall  f1-score   support\n",
            "\n",
            "           0       0.82      0.68      0.74      7662\n",
            "           1       0.42      0.60      0.49      2897\n",
            "\n",
            "    accuracy                           0.66     10559\n",
            "   macro avg       0.62      0.64      0.62     10559\n",
            "weighted avg       0.71      0.66      0.68     10559\n",
            "\n"
          ]
        }
      ]
    },
    {
      "cell_type": "code",
      "source": [
        "y_prob_o = log_o.predict_proba(Xs_test)[:, 1]\n",
        "roc_auc_score(ys_test, y_prob_o)"
      ],
      "metadata": {
        "id": "C1uJeZk4mona",
        "colab": {
          "base_uri": "https://localhost:8080/"
        },
        "outputId": "adc2502d-d7de-4040-e4ab-e21d4dec3878"
      },
      "id": "C1uJeZk4mona",
      "execution_count": null,
      "outputs": [
        {
          "output_type": "execute_result",
          "data": {
            "text/plain": [
              "0.682545341867531"
            ]
          },
          "metadata": {},
          "execution_count": 99
        }
      ]
    },
    {
      "cell_type": "code",
      "source": [
        "fpr_o, tpr_o, _ = roc_curve(ys_test,  y_prob_o)"
      ],
      "metadata": {
        "id": "5DXxrYUimsJM"
      },
      "id": "5DXxrYUimsJM",
      "execution_count": null,
      "outputs": []
    },
    {
      "cell_type": "code",
      "source": [
        "plt.plot(fpr_o, tpr_o)\n",
        "plt.ylabel('True Positive Rate')\n",
        "plt.xlabel('False Positive Rate')\n",
        "plt.title('Logistic Regression, Oversampled es-en dataset')\n",
        "plt.show()"
      ],
      "metadata": {
        "id": "imNHfMosnsD2",
        "colab": {
          "base_uri": "https://localhost:8080/",
          "height": 472
        },
        "outputId": "24d5646f-09fa-4489-b676-e9bdd4c8bfc2"
      },
      "id": "imNHfMosnsD2",
      "execution_count": null,
      "outputs": [
        {
          "output_type": "display_data",
          "data": {
            "text/plain": [
              "<Figure size 640x480 with 1 Axes>"
            ],
            "image/png": "[encoded data removed]"
          },
          "metadata": {}
        }
      ]
    },
    {
      "cell_type": "code",
      "source": [
        "confusion_matrix_oversampled = confusion_matrix(ys_test, y_o_log)\n",
        "print(confusion_matrix_oversampled)"
      ],
      "metadata": {
        "id": "cTpLZFJunvMH",
        "colab": {
          "base_uri": "https://localhost:8080/"
        },
        "outputId": "b176d64f-786d-412b-d9cd-75a03d46b6c7"
      },
      "id": "cTpLZFJunvMH",
      "execution_count": null,
      "outputs": [
        {
          "output_type": "stream",
          "name": "stdout",
          "text": [
            "[[5222 2440]\n",
            " [1149 1748]]\n"
          ]
        }
      ]
    },
    {
      "cell_type": "markdown",
      "source": [
        "Logistic Regression - undersampled"
      ],
      "metadata": {
        "id": "iOQe_nB3n4HR"
      },
      "id": "iOQe_nB3n4HR"
    },
    {
      "cell_type": "code",
      "source": [
        "cv.fit(Xs_under, ys_under)\n",
        "cv.score(Xs_under, ys_under)\n",
        "cv.best_params_"
      ],
      "metadata": {
        "id": "IhGHosSin0S1",
        "colab": {
          "base_uri": "https://localhost:8080/"
        },
        "outputId": "8a5e092a-19c2-4c2c-d0ca-496edb2d8bba"
      },
      "id": "IhGHosSin0S1",
      "execution_count": null,
      "outputs": [
        {
          "output_type": "execute_result",
          "data": {
            "text/plain": [
              "{'C': 0.01, 'max_iter': 9000, 'penalty': 'l1', 'solver': 'liblinear'}"
            ]
          },
          "metadata": {},
          "execution_count": 103
        }
      ]
    },
    {
      "cell_type": "code",
      "source": [
        "log_u = LogisticRegression(C = 0.01, solver = 'liblinear', penalty = 'l1', max_iter = 9000)"
      ],
      "metadata": {
        "id": "OzgOAn8Vn_fh"
      },
      "id": "OzgOAn8Vn_fh",
      "execution_count": null,
      "outputs": []
    },
    {
      "cell_type": "code",
      "source": [
        "log_u.fit(Xs_under, ys_under)"
      ],
      "metadata": {
        "id": "xLsJ1nbboDDX",
        "colab": {
          "base_uri": "https://localhost:8080/",
          "height": 74
        },
        "outputId": "7ac3bf6e-60d4-4bd3-af5e-e47197b98c7c"
      },
      "id": "xLsJ1nbboDDX",
      "execution_count": null,
      "outputs": [
        {
          "output_type": "execute_result",
          "data": {
            "text/plain": [
              "LogisticRegression(C=0.01, max_iter=9000, penalty='l1', solver='liblinear')"
            ],
            "text/html": [
              "<style>#sk-container-id-6 {color: black;background-color: white;}#sk-container-id-6 pre{padding: 0;}#sk-container-id-6 div.sk-toggleable {background-color: white;}#sk-container-id-6 label.sk-toggleable__label {cursor: pointer;display: block;width: 100%;margin-bottom: 0;padding: 0.3em;box-sizing: border-box;text-align: center;}#sk-container-id-6 label.sk-toggleable__label-arrow:before {content: \"▸\";float: left;margin-right: 0.25em;color: #696969;}#sk-container-id-6 label.sk-toggleable__label-arrow:hover:before {color: black;}#sk-container-id-6 div.sk-estimator:hover label.sk-toggleable__label-arrow:before {color: black;}#sk-container-id-6 div.sk-toggleable__content {max-height: 0;max-width: 0;overflow: hidden;text-align: left;background-color: #f0f8ff;}#sk-container-id-6 div.sk-toggleable__content pre {margin: 0.2em;color: black;border-radius: 0.25em;background-color: #f0f8ff;}#sk-container-id-6 input.sk-toggleable__control:checked~div.sk-toggleable__content {max-height: 200px;max-width: 100%;overflow: auto;}#sk-container-id-6 input.sk-toggleable__control:checked~label.sk-toggleable__label-arrow:before {content: \"▾\";}#sk-container-id-6 div.sk-estimator input.sk-toggleable__control:checked~label.sk-toggleable__label {background-color: #d4ebff;}#sk-container-id-6 div.sk-label input.sk-toggleable__control:checked~label.sk-toggleable__label {background-color: #d4ebff;}#sk-container-id-6 input.sk-hidden--visually {border: 0;clip: rect(1px 1px 1px 1px);clip: rect(1px, 1px, 1px, 1px);height: 1px;margin: -1px;overflow: hidden;padding: 0;position: absolute;width: 1px;}#sk-container-id-6 div.sk-estimator {font-family: monospace;background-color: #f0f8ff;border: 1px dotted black;border-radius: 0.25em;box-sizing: border-box;margin-bottom: 0.5em;}#sk-container-id-6 div.sk-estimator:hover {background-color: #d4ebff;}#sk-container-id-6 div.sk-parallel-item::after {content: \"\";width: 100%;border-bottom: 1px solid gray;flex-grow: 1;}#sk-container-id-6 div.sk-label:hover label.sk-toggleable__label {background-color: #d4ebff;}#sk-container-id-6 div.sk-serial::before {content: \"\";position: absolute;border-left: 1px solid gray;box-sizing: border-box;top: 0;bottom: 0;left: 50%;z-index: 0;}#sk-container-id-6 div.sk-serial {display: flex;flex-direction: column;align-items: center;background-color: white;padding-right: 0.2em;padding-left: 0.2em;position: relative;}#sk-container-id-6 div.sk-item {position: relative;z-index: 1;}#sk-container-id-6 div.sk-parallel {display: flex;align-items: stretch;justify-content: center;background-color: white;position: relative;}#sk-container-id-6 div.sk-item::before, #sk-container-id-6 div.sk-parallel-item::before {content: \"\";position: absolute;border-left: 1px solid gray;box-sizing: border-box;top: 0;bottom: 0;left: 50%;z-index: -1;}#sk-container-id-6 div.sk-parallel-item {display: flex;flex-direction: column;z-index: 1;position: relative;background-color: white;}#sk-container-id-6 div.sk-parallel-item:first-child::after {align-self: flex-end;width: 50%;}#sk-container-id-6 div.sk-parallel-item:last-child::after {align-self: flex-start;width: 50%;}#sk-container-id-6 div.sk-parallel-item:only-child::after {width: 0;}#sk-container-id-6 div.sk-dashed-wrapped {border: 1px dashed gray;margin: 0 0.4em 0.5em 0.4em;box-sizing: border-box;padding-bottom: 0.4em;background-color: white;}#sk-container-id-6 div.sk-label label {font-family: monospace;font-weight: bold;display: inline-block;line-height: 1.2em;}#sk-container-id-6 div.sk-label-container {text-align: center;}#sk-container-id-6 div.sk-container {/* jupyter's `normalize.less` sets `[hidden] { display: none; }` but bootstrap.min.css set `[hidden] { display: none !important; }` so we also need the `!important` here to be able to override the default hidden behavior on the sphinx rendered scikit-learn.org. See: https://github.com/scikit-learn/scikit-learn/issues/21755 */display: inline-block !important;position: relative;}#sk-container-id-6 div.sk-text-repr-fallback {display: none;}</style><div id=\"sk-container-id-6\" class=\"sk-top-container\"><div class=\"sk-text-repr-fallback\"><pre>LogisticRegression(C=0.01, max_iter=9000, penalty=&#x27;l1&#x27;, solver=&#x27;liblinear&#x27;)</pre><b>In a Jupyter environment, please rerun this cell to show the HTML representation or trust the notebook. <br />On GitHub, the HTML representation is unable to render, please try loading this page with nbviewer.org.</b></div><div class=\"sk-container\" hidden><div class=\"sk-item\"><div class=\"sk-estimator sk-toggleable\"><input class=\"sk-toggleable__control sk-hidden--visually\" id=\"sk-estimator-id-6\" type=\"checkbox\" checked><label for=\"sk-estimator-id-6\" class=\"sk-toggleable__label sk-toggleable__label-arrow\">LogisticRegression</label><div class=\"sk-toggleable__content\"><pre>LogisticRegression(C=0.01, max_iter=9000, penalty=&#x27;l1&#x27;, solver=&#x27;liblinear&#x27;)</pre></div></div></div></div></div>"
            ]
          },
          "metadata": {},
          "execution_count": 107
        }
      ]
    },
    {
      "cell_type": "code",
      "source": [
        "y_u_log = log_u.predict(Xs_test)"
      ],
      "metadata": {
        "id": "RQ5KgSwnoIEp"
      },
      "id": "RQ5KgSwnoIEp",
      "execution_count": null,
      "outputs": []
    },
    {
      "cell_type": "code",
      "source": [
        "print(classification_report(ys_test, y_u_log))"
      ],
      "metadata": {
        "id": "QRdfJwCLoKC0",
        "colab": {
          "base_uri": "https://localhost:8080/"
        },
        "outputId": "212b29ab-24a3-4709-a812-f7920fa9a994"
      },
      "id": "QRdfJwCLoKC0",
      "execution_count": null,
      "outputs": [
        {
          "output_type": "stream",
          "name": "stdout",
          "text": [
            "              precision    recall  f1-score   support\n",
            "\n",
            "           0       0.82      0.69      0.75      7662\n",
            "           1       0.42      0.60      0.49      2897\n",
            "\n",
            "    accuracy                           0.66     10559\n",
            "   macro avg       0.62      0.64      0.62     10559\n",
            "weighted avg       0.71      0.66      0.68     10559\n",
            "\n"
          ]
        }
      ]
    },
    {
      "cell_type": "code",
      "source": [
        "y_prob_u = log_u.predict_proba(Xs_test)[:, 1]\n",
        "roc_auc_score(ys_test, y_prob_u)"
      ],
      "metadata": {
        "id": "zWKJ3KsVoM5M",
        "colab": {
          "base_uri": "https://localhost:8080/"
        },
        "outputId": "a0f9a336-59d3-4364-e291-7d9fddb04b3a"
      },
      "id": "zWKJ3KsVoM5M",
      "execution_count": null,
      "outputs": [
        {
          "output_type": "execute_result",
          "data": {
            "text/plain": [
              "0.6824865045947586"
            ]
          },
          "metadata": {},
          "execution_count": 110
        }
      ]
    },
    {
      "cell_type": "code",
      "source": [
        "fpr_u, tpr_u, _ = roc_curve(ys_test,  y_prob_u)"
      ],
      "metadata": {
        "id": "ljL46BDYocjG"
      },
      "id": "ljL46BDYocjG",
      "execution_count": null,
      "outputs": []
    },
    {
      "cell_type": "code",
      "source": [
        "plt.plot(fpr_u, tpr_u)\n",
        "plt.ylabel('True Positive Rate')\n",
        "plt.xlabel('False Positive Rate')\n",
        "plt.title('Logistic Regression, Undersampled es-en dataset')\n",
        "plt.show()"
      ],
      "metadata": {
        "id": "zqqsyJdFpDSF",
        "colab": {
          "base_uri": "https://localhost:8080/",
          "height": 472
        },
        "outputId": "88afe116-f6a7-4653-8176-60fcda006231"
      },
      "id": "zqqsyJdFpDSF",
      "execution_count": null,
      "outputs": [
        {
          "output_type": "display_data",
          "data": {
            "text/plain": [
              "<Figure size 640x480 with 1 Axes>"
            ],
            "image/png": "[encoded data removed]"
          },
          "metadata": {}
        }
      ]
    },
    {
      "cell_type": "code",
      "source": [
        "confusion_matrix_undersampled = confusion_matrix(ys_test, y_u_log)\n",
        "print(confusion_matrix_undersampled)"
      ],
      "metadata": {
        "id": "NGxH_SQBpG4v",
        "colab": {
          "base_uri": "https://localhost:8080/"
        },
        "outputId": "f6d229b0-e5e2-4785-d6ae-e372f64567f0"
      },
      "id": "NGxH_SQBpG4v",
      "execution_count": null,
      "outputs": [
        {
          "output_type": "stream",
          "name": "stdout",
          "text": [
            "[[5255 2407]\n",
            " [1156 1741]]\n"
          ]
        }
      ]
    },
    {
      "cell_type": "code",
      "source": [
        "plt.plot(fpr_o, tpr_o, label= \"Oversampled\")\n",
        "plt.plot(fpr_u, tpr_u, label= \"Undersapled\")\n",
        "plt.legend()\n",
        "plt.ylabel('True Positive Rate')\n",
        "plt.xlabel('False Positive Rate')\n",
        "plt.title('Logistic Regresssion, Spanish-English dataset')\n",
        "plt.show()"
      ],
      "metadata": {
        "id": "qtWAnNeEpUER",
        "colab": {
          "base_uri": "https://localhost:8080/",
          "height": 472
        },
        "outputId": "4f5034d0-1cdc-42eb-ccaa-7dd025f73b3e"
      },
      "id": "qtWAnNeEpUER",
      "execution_count": null,
      "outputs": [
        {
          "output_type": "display_data",
          "data": {
            "text/plain": [
              "<Figure size 640x480 with 1 Axes>"
            ],
            "image/png": "[encoded data removed]"
          },
          "metadata": {}
        }
      ]
    }
  ],
  "metadata": {
    "colab": {
      "provenance": []
    },
    "kernelspec": {
      "display_name": "Python 3 (ipykernel)",
      "language": "python",
      "name": "python3"
    },
    "language_info": {
      "codemirror_mode": {
        "name": "ipython",
        "version": 3
      },
      "file_extension": ".py",
      "mimetype": "text/x-python",
      "name": "python",
      "nbconvert_exporter": "python",
      "pygments_lexer": "ipython3",
      "version": "3.10.6"
    }
  },
  "nbformat": 4,
  "nbformat_minor": 5
}