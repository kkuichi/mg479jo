{
  "cells": [
    {
      "cell_type": "code",
      "execution_count": 1,
      "id": "78b56971-1057-45a8-b991-5d167453e601",
      "metadata": {
        "id": "78b56971-1057-45a8-b991-5d167453e601"
      },
      "outputs": [],
      "source": [
        "import pandas as pd\n",
        "import numpy as np\n",
        "import matplotlib.pyplot as plt\n",
        "import seaborn as sns"
      ]
    },
    {
      "cell_type": "code",
      "execution_count": 2,
      "id": "4cdf8bf4-9c3d-4ea7-92f1-ca03f2367bc0",
      "metadata": {
        "id": "4cdf8bf4-9c3d-4ea7-92f1-ca03f2367bc0"
      },
      "outputs": [],
      "source": [
        "pd.set_option('display.max_columns', None)"
      ]
    },
    {
      "cell_type": "code",
      "source": [
        "def hash_prompt(sentence):\n",
        "  hash = 0\n",
        "  for word in sentence:\n",
        "    for c in word:\n",
        "      hash = ord(c) + (hash << 2) - 3*hash\n",
        "  return hash"
      ],
      "metadata": {
        "id": "rCNhOc2qJzyd"
      },
      "id": "rCNhOc2qJzyd",
      "execution_count": 3,
      "outputs": []
    },
    {
      "cell_type": "code",
      "source": [
        "def hash_token(token):\n",
        "  hash = 0\n",
        "  for c in token:\n",
        "    hash = ord(c) + (hash << 2) - 3*hash\n",
        "  return hash"
      ],
      "metadata": {
        "id": "6izBTyKkSLVc"
      },
      "id": "6izBTyKkSLVc",
      "execution_count": 4,
      "outputs": []
    },
    {
      "cell_type": "code",
      "execution_count": 6,
      "id": "991a7e4a-288d-4c39-b4e0-f7637372fb69",
      "metadata": {
        "id": "991a7e4a-288d-4c39-b4e0-f7637372fb69"
      },
      "outputs": [],
      "source": [
        "train = pd.read_csv('TransformedData/en.csv', low_memory = False)"
      ]
    },
    {
      "cell_type": "code",
      "execution_count": 8,
      "id": "20c6f35f-e630-4bef-b5a6-17bc2e4b02ef",
      "metadata": {
        "id": "20c6f35f-e630-4bef-b5a6-17bc2e4b02ef",
        "colab": {
          "base_uri": "https://localhost:8080/",
          "height": 330
        },
        "outputId": "9effe17f-26fc-4917-b088-2382bda05a7a"
      },
      "outputs": [
        {
          "output_type": "execute_result",
          "data": {
            "text/plain": [
              "                 prompt      user countries   days session       format  time  \\\n",
              "46506   La misma comida  kqASumTJ        AR  1.179  lesson  reverse_tap   5.0   \n",
              "46507  Él está cansado.  kqASumTJ        AR  1.179  lesson  reverse_tap   3.0   \n",
              "46508     La misma sopa  kqASumTJ        AR  1.179  lesson  reverse_tap   4.0   \n",
              "46509                    kqASumTJ        AR  1.182  lesson       listen  32.0   \n",
              "46510  Fiestas privadas  kqASumTJ        AR  1.182  lesson  reverse_tap  13.0   \n",
              "\n",
              "       token_1 pos_1 morf_1 case_1 gender_1 number_1  person_1 tense_1  \\\n",
              "46506      The   DET    det    NaN      NaN      NaN       NaN     NaN   \n",
              "46507       He  PRON  nsubj    Nom     Masc     Sing       3.0     NaN   \n",
              "46508      The   DET    det    NaN      NaN      NaN       NaN     NaN   \n",
              "46509        I  PRON  nsubj    Nom      NaN     Sing       1.0     NaN   \n",
              "46510  Private  VERB   amod    NaN      NaN      NaN       NaN     NaN   \n",
              "\n",
              "      pronType_1  token_2 pos_2 morf_2 case_2 gender_2 number_2  person_2  \\\n",
              "46506        Art     same   ADJ   amod    NaN      NaN      NaN       NaN   \n",
              "46507        NaN       is  VERB    cop    NaN      NaN     Sing       3.0   \n",
              "46508        Art     same   ADJ   amod    NaN      NaN      NaN       NaN   \n",
              "46509        NaN     have  VERB   ROOT    NaN      NaN      NaN       NaN   \n",
              "46510        NaN  parties  NOUN   ROOT    NaN      NaN     Plur       NaN   \n",
              "\n",
              "      tense_2 pronType_2 token_3 pos_3 morf_3 case_3 gender_3 number_3  \\\n",
              "46506     NaN        NaN    food  NOUN   ROOT    NaN      NaN     Sing   \n",
              "46507    Pres        NaN   tired   ADJ   ROOT    NaN      NaN      NaN   \n",
              "46508     NaN        NaN    soup  NOUN   ROOT    NaN      NaN     Sing   \n",
              "46509    Pres        NaN       a   DET    det    NaN      NaN      NaN   \n",
              "46510     NaN        NaN     NaN   NaN    NaN    NaN      NaN      NaN   \n",
              "\n",
              "       person_3 tense_3 pronType_3   token_4 pos_4 morf_4 case_4 gender_4  \\\n",
              "46506       NaN     NaN        NaN       NaN   NaN    NaN    NaN      NaN   \n",
              "46507       NaN     NaN        NaN       NaN   NaN    NaN    NaN      NaN   \n",
              "46508       NaN     NaN        NaN       NaN   NaN    NaN    NaN      NaN   \n",
              "46509       NaN     NaN        Art  personal   ADJ   amod    NaN      NaN   \n",
              "46510       NaN     NaN        NaN       NaN   NaN    NaN    NaN      NaN   \n",
              "\n",
              "      number_4  person_4 tense_4 pronType_4   token_5 pos_5 morf_5 case_5  \\\n",
              "46506      NaN       NaN     NaN        NaN       NaN   NaN    NaN    NaN   \n",
              "46507      NaN       NaN     NaN        NaN       NaN   NaN    NaN    NaN   \n",
              "46508      NaN       NaN     NaN        NaN       NaN   NaN    NaN    NaN   \n",
              "46509      NaN       NaN     NaN        NaN  computer  NOUN   dobj    NaN   \n",
              "46510      NaN       NaN     NaN        NaN       NaN   NaN    NaN    NaN   \n",
              "\n",
              "      gender_5 number_5  person_5 tense_5 pronType_5 token_6 pos_6 morf_6  \\\n",
              "46506      NaN      NaN       NaN     NaN        NaN     NaN   NaN    NaN   \n",
              "46507      NaN      NaN       NaN     NaN        NaN     NaN   NaN    NaN   \n",
              "46508      NaN      NaN       NaN     NaN        NaN     NaN   NaN    NaN   \n",
              "46509      NaN     Sing       NaN     NaN        NaN     NaN   NaN    NaN   \n",
              "46510      NaN      NaN       NaN     NaN        NaN     NaN   NaN    NaN   \n",
              "\n",
              "      case_6 gender_6 number_6  person_6 tense_6 pronType_6 token_7 pos_7  \\\n",
              "46506    NaN      NaN      NaN       NaN     NaN        NaN     NaN   NaN   \n",
              "46507    NaN      NaN      NaN       NaN     NaN        NaN     NaN   NaN   \n",
              "46508    NaN      NaN      NaN       NaN     NaN        NaN     NaN   NaN   \n",
              "46509    NaN      NaN      NaN       NaN     NaN        NaN     NaN   NaN   \n",
              "46510    NaN      NaN      NaN       NaN     NaN        NaN     NaN   NaN   \n",
              "\n",
              "      morf_7 case_7 gender_7 number_7  person_7 tense_7 pronType_7 token_8  \\\n",
              "46506    NaN    NaN      NaN      NaN       NaN     NaN        NaN     NaN   \n",
              "46507    NaN    NaN      NaN      NaN       NaN     NaN        NaN     NaN   \n",
              "46508    NaN    NaN      NaN      NaN       NaN     NaN        NaN     NaN   \n",
              "46509    NaN    NaN      NaN      NaN       NaN     NaN        NaN     NaN   \n",
              "46510    NaN    NaN      NaN      NaN       NaN     NaN        NaN     NaN   \n",
              "\n",
              "      pos_8 morf_8 case_8 gender_8 number_8  person_8 tense_8 pronType_8  \\\n",
              "46506   NaN    NaN    NaN      NaN      NaN       NaN     NaN        NaN   \n",
              "46507   NaN    NaN    NaN      NaN      NaN       NaN     NaN        NaN   \n",
              "46508   NaN    NaN    NaN      NaN      NaN       NaN     NaN        NaN   \n",
              "46509   NaN    NaN    NaN      NaN      NaN       NaN     NaN        NaN   \n",
              "46510   NaN    NaN    NaN      NaN      NaN       NaN     NaN        NaN   \n",
              "\n",
              "      token_9 pos_9 morf_9 case_9 gender_9 number_9  person_9 tense_9  \\\n",
              "46506     NaN   NaN    NaN    NaN      NaN      NaN       NaN     NaN   \n",
              "46507     NaN   NaN    NaN    NaN      NaN      NaN       NaN     NaN   \n",
              "46508     NaN   NaN    NaN    NaN      NaN      NaN       NaN     NaN   \n",
              "46509     NaN   NaN    NaN    NaN      NaN      NaN       NaN     NaN   \n",
              "46510     NaN   NaN    NaN    NaN      NaN      NaN       NaN     NaN   \n",
              "\n",
              "      pronType_9 token_10 pos_10 morf_10 case_10  gender_10 number_10  \\\n",
              "46506        NaN      NaN    NaN     NaN     NaN        NaN       NaN   \n",
              "46507        NaN      NaN    NaN     NaN     NaN        NaN       NaN   \n",
              "46508        NaN      NaN    NaN     NaN     NaN        NaN       NaN   \n",
              "46509        NaN      NaN    NaN     NaN     NaN        NaN       NaN   \n",
              "46510        NaN      NaN    NaN     NaN     NaN        NaN       NaN   \n",
              "\n",
              "       person_10 tense_10 pronType_10 token_11 pos_11 morf_11 case_11  \\\n",
              "46506        NaN      NaN         NaN      NaN    NaN     NaN     NaN   \n",
              "46507        NaN      NaN         NaN      NaN    NaN     NaN     NaN   \n",
              "46508        NaN      NaN         NaN      NaN    NaN     NaN     NaN   \n",
              "46509        NaN      NaN         NaN      NaN    NaN     NaN     NaN   \n",
              "46510        NaN      NaN         NaN      NaN    NaN     NaN     NaN   \n",
              "\n",
              "       gender_11 number_11  person_11  tense_11  pronType_11 token_12 pos_12  \\\n",
              "46506        NaN       NaN        NaN       NaN          NaN      NaN    NaN   \n",
              "46507        NaN       NaN        NaN       NaN          NaN      NaN    NaN   \n",
              "46508        NaN       NaN        NaN       NaN          NaN      NaN    NaN   \n",
              "46509        NaN       NaN        NaN       NaN          NaN      NaN    NaN   \n",
              "46510        NaN       NaN        NaN       NaN          NaN      NaN    NaN   \n",
              "\n",
              "      morf_12  case_12  gender_12 number_12  person_12  tense_12  pronType_12  \\\n",
              "46506     NaN      NaN        NaN       NaN        NaN       NaN          NaN   \n",
              "46507     NaN      NaN        NaN       NaN        NaN       NaN          NaN   \n",
              "46508     NaN      NaN        NaN       NaN        NaN       NaN          NaN   \n",
              "46509     NaN      NaN        NaN       NaN        NaN       NaN          NaN   \n",
              "46510     NaN      NaN        NaN       NaN        NaN       NaN          NaN   \n",
              "\n",
              "      token_13 pos_13 morf_13  case_13  gender_13  number_13  person_13  \\\n",
              "46506      NaN    NaN     NaN      NaN        NaN        NaN        NaN   \n",
              "46507      NaN    NaN     NaN      NaN        NaN        NaN        NaN   \n",
              "46508      NaN    NaN     NaN      NaN        NaN        NaN        NaN   \n",
              "46509      NaN    NaN     NaN      NaN        NaN        NaN        NaN   \n",
              "46510      NaN    NaN     NaN      NaN        NaN        NaN        NaN   \n",
              "\n",
              "       tense_13  pronType_13 token_14 pos_14 morf_14  case_14  gender_14  \\\n",
              "46506       NaN          NaN      NaN    NaN     NaN      NaN        NaN   \n",
              "46507       NaN          NaN      NaN    NaN     NaN      NaN        NaN   \n",
              "46508       NaN          NaN      NaN    NaN     NaN      NaN        NaN   \n",
              "46509       NaN          NaN      NaN    NaN     NaN      NaN        NaN   \n",
              "46510       NaN          NaN      NaN    NaN     NaN      NaN        NaN   \n",
              "\n",
              "       number_14  person_14  tense_14  pronType_14  acc_sum  \n",
              "46506        NaN        NaN       NaN          NaN      0.0  \n",
              "46507        NaN        NaN       NaN          NaN      0.0  \n",
              "46508        NaN        NaN       NaN          NaN      0.0  \n",
              "46509        NaN        NaN       NaN          NaN      0.0  \n",
              "46510        NaN        NaN       NaN          NaN      0.0  "
            ],
            "text/html": [
              "\n",
              "  <div id=\"df-5a56850c-0943-4fb5-a19e-585bff3dc1aa\" class=\"colab-df-container\">\n",
              "    <div>\n",
              "<style scoped>\n",
              "    .dataframe tbody tr th:only-of-type {\n",
              "        vertical-align: middle;\n",
              "    }\n",
              "\n",
              "    .dataframe tbody tr th {\n",
              "        vertical-align: top;\n",
              "    }\n",
              "\n",
              "    .dataframe thead th {\n",
              "        text-align: right;\n",
              "    }\n",
              "</style>\n",
              "<table border=\"1\" class=\"dataframe\">\n",
              "  <thead>\n",
              "    <tr style=\"text-align: right;\">\n",
              "      <th></th>\n",
              "      <th>prompt</th>\n",
              "      <th>user</th>\n",
              "      <th>countries</th>\n",
              "      <th>days</th>\n",
              "      <th>session</th>\n",
              "      <th>format</th>\n",
              "      <th>time</th>\n",
              "      <th>token_1</th>\n",
              "      <th>pos_1</th>\n",
              "      <th>morf_1</th>\n",
              "      <th>case_1</th>\n",
              "      <th>gender_1</th>\n",
              "      <th>number_1</th>\n",
              "      <th>person_1</th>\n",
              "      <th>tense_1</th>\n",
              "      <th>pronType_1</th>\n",
              "      <th>token_2</th>\n",
              "      <th>pos_2</th>\n",
              "      <th>morf_2</th>\n",
              "      <th>case_2</th>\n",
              "      <th>gender_2</th>\n",
              "      <th>number_2</th>\n",
              "      <th>person_2</th>\n",
              "      <th>tense_2</th>\n",
              "      <th>pronType_2</th>\n",
              "      <th>token_3</th>\n",
              "      <th>pos_3</th>\n",
              "      <th>morf_3</th>\n",
              "      <th>case_3</th>\n",
              "      <th>gender_3</th>\n",
              "      <th>number_3</th>\n",
              "      <th>person_3</th>\n",
              "      <th>tense_3</th>\n",
              "      <th>pronType_3</th>\n",
              "      <th>token_4</th>\n",
              "      <th>pos_4</th>\n",
              "      <th>morf_4</th>\n",
              "      <th>case_4</th>\n",
              "      <th>gender_4</th>\n",
              "      <th>number_4</th>\n",
              "      <th>person_4</th>\n",
              "      <th>tense_4</th>\n",
              "      <th>pronType_4</th>\n",
              "      <th>token_5</th>\n",
              "      <th>pos_5</th>\n",
              "      <th>morf_5</th>\n",
              "      <th>case_5</th>\n",
              "      <th>gender_5</th>\n",
              "      <th>number_5</th>\n",
              "      <th>person_5</th>\n",
              "      <th>tense_5</th>\n",
              "      <th>pronType_5</th>\n",
              "      <th>token_6</th>\n",
              "      <th>pos_6</th>\n",
              "      <th>morf_6</th>\n",
              "      <th>case_6</th>\n",
              "      <th>gender_6</th>\n",
              "      <th>number_6</th>\n",
              "      <th>person_6</th>\n",
              "      <th>tense_6</th>\n",
              "      <th>pronType_6</th>\n",
              "      <th>token_7</th>\n",
              "      <th>pos_7</th>\n",
              "      <th>morf_7</th>\n",
              "      <th>case_7</th>\n",
              "      <th>gender_7</th>\n",
              "      <th>number_7</th>\n",
              "      <th>person_7</th>\n",
              "      <th>tense_7</th>\n",
              "      <th>pronType_7</th>\n",
              "      <th>token_8</th>\n",
              "      <th>pos_8</th>\n",
              "      <th>morf_8</th>\n",
              "      <th>case_8</th>\n",
              "      <th>gender_8</th>\n",
              "      <th>number_8</th>\n",
              "      <th>person_8</th>\n",
              "      <th>tense_8</th>\n",
              "      <th>pronType_8</th>\n",
              "      <th>token_9</th>\n",
              "      <th>pos_9</th>\n",
              "      <th>morf_9</th>\n",
              "      <th>case_9</th>\n",
              "      <th>gender_9</th>\n",
              "      <th>number_9</th>\n",
              "      <th>person_9</th>\n",
              "      <th>tense_9</th>\n",
              "      <th>pronType_9</th>\n",
              "      <th>token_10</th>\n",
              "      <th>pos_10</th>\n",
              "      <th>morf_10</th>\n",
              "      <th>case_10</th>\n",
              "      <th>gender_10</th>\n",
              "      <th>number_10</th>\n",
              "      <th>person_10</th>\n",
              "      <th>tense_10</th>\n",
              "      <th>pronType_10</th>\n",
              "      <th>token_11</th>\n",
              "      <th>pos_11</th>\n",
              "      <th>morf_11</th>\n",
              "      <th>case_11</th>\n",
              "      <th>gender_11</th>\n",
              "      <th>number_11</th>\n",
              "      <th>person_11</th>\n",
              "      <th>tense_11</th>\n",
              "      <th>pronType_11</th>\n",
              "      <th>token_12</th>\n",
              "      <th>pos_12</th>\n",
              "      <th>morf_12</th>\n",
              "      <th>case_12</th>\n",
              "      <th>gender_12</th>\n",
              "      <th>number_12</th>\n",
              "      <th>person_12</th>\n",
              "      <th>tense_12</th>\n",
              "      <th>pronType_12</th>\n",
              "      <th>token_13</th>\n",
              "      <th>pos_13</th>\n",
              "      <th>morf_13</th>\n",
              "      <th>case_13</th>\n",
              "      <th>gender_13</th>\n",
              "      <th>number_13</th>\n",
              "      <th>person_13</th>\n",
              "      <th>tense_13</th>\n",
              "      <th>pronType_13</th>\n",
              "      <th>token_14</th>\n",
              "      <th>pos_14</th>\n",
              "      <th>morf_14</th>\n",
              "      <th>case_14</th>\n",
              "      <th>gender_14</th>\n",
              "      <th>number_14</th>\n",
              "      <th>person_14</th>\n",
              "      <th>tense_14</th>\n",
              "      <th>pronType_14</th>\n",
              "      <th>acc_sum</th>\n",
              "    </tr>\n",
              "  </thead>\n",
              "  <tbody>\n",
              "    <tr>\n",
              "      <th>46506</th>\n",
              "      <td>La misma comida</td>\n",
              "      <td>kqASumTJ</td>\n",
              "      <td>AR</td>\n",
              "      <td>1.179</td>\n",
              "      <td>lesson</td>\n",
              "      <td>reverse_tap</td>\n",
              "      <td>5.0</td>\n",
              "      <td>The</td>\n",
              "      <td>DET</td>\n",
              "      <td>det</td>\n",
              "      <td>NaN</td>\n",
              "      <td>NaN</td>\n",
              "      <td>NaN</td>\n",
              "      <td>NaN</td>\n",
              "      <td>NaN</td>\n",
              "      <td>Art</td>\n",
              "      <td>same</td>\n",
              "      <td>ADJ</td>\n",
              "      <td>amod</td>\n",
              "      <td>NaN</td>\n",
              "      <td>NaN</td>\n",
              "      <td>NaN</td>\n",
              "      <td>NaN</td>\n",
              "      <td>NaN</td>\n",
              "      <td>NaN</td>\n",
              "      <td>food</td>\n",
              "      <td>NOUN</td>\n",
              "      <td>ROOT</td>\n",
              "      <td>NaN</td>\n",
              "      <td>NaN</td>\n",
              "      <td>Sing</td>\n",
              "      <td>NaN</td>\n",
              "      <td>NaN</td>\n",
              "      <td>NaN</td>\n",
              "      <td>NaN</td>\n",
              "      <td>NaN</td>\n",
              "      <td>NaN</td>\n",
              "      <td>NaN</td>\n",
              "      <td>NaN</td>\n",
              "      <td>NaN</td>\n",
              "      <td>NaN</td>\n",
              "      <td>NaN</td>\n",
              "      <td>NaN</td>\n",
              "      <td>NaN</td>\n",
              "      <td>NaN</td>\n",
              "      <td>NaN</td>\n",
              "      <td>NaN</td>\n",
              "      <td>NaN</td>\n",
              "      <td>NaN</td>\n",
              "      <td>NaN</td>\n",
              "      <td>NaN</td>\n",
              "      <td>NaN</td>\n",
              "      <td>NaN</td>\n",
              "      <td>NaN</td>\n",
              "      <td>NaN</td>\n",
              "      <td>NaN</td>\n",
              "      <td>NaN</td>\n",
              "      <td>NaN</td>\n",
              "      <td>NaN</td>\n",
              "      <td>NaN</td>\n",
              "      <td>NaN</td>\n",
              "      <td>NaN</td>\n",
              "      <td>NaN</td>\n",
              "      <td>NaN</td>\n",
              "      <td>NaN</td>\n",
              "      <td>NaN</td>\n",
              "      <td>NaN</td>\n",
              "      <td>NaN</td>\n",
              "      <td>NaN</td>\n",
              "      <td>NaN</td>\n",
              "      <td>NaN</td>\n",
              "      <td>NaN</td>\n",
              "      <td>NaN</td>\n",
              "      <td>NaN</td>\n",
              "      <td>NaN</td>\n",
              "      <td>NaN</td>\n",
              "      <td>NaN</td>\n",
              "      <td>NaN</td>\n",
              "      <td>NaN</td>\n",
              "      <td>NaN</td>\n",
              "      <td>NaN</td>\n",
              "      <td>NaN</td>\n",
              "      <td>NaN</td>\n",
              "      <td>NaN</td>\n",
              "      <td>NaN</td>\n",
              "      <td>NaN</td>\n",
              "      <td>NaN</td>\n",
              "      <td>NaN</td>\n",
              "      <td>NaN</td>\n",
              "      <td>NaN</td>\n",
              "      <td>NaN</td>\n",
              "      <td>NaN</td>\n",
              "      <td>NaN</td>\n",
              "      <td>NaN</td>\n",
              "      <td>NaN</td>\n",
              "      <td>NaN</td>\n",
              "      <td>NaN</td>\n",
              "      <td>NaN</td>\n",
              "      <td>NaN</td>\n",
              "      <td>NaN</td>\n",
              "      <td>NaN</td>\n",
              "      <td>NaN</td>\n",
              "      <td>NaN</td>\n",
              "      <td>NaN</td>\n",
              "      <td>NaN</td>\n",
              "      <td>NaN</td>\n",
              "      <td>NaN</td>\n",
              "      <td>NaN</td>\n",
              "      <td>NaN</td>\n",
              "      <td>NaN</td>\n",
              "      <td>NaN</td>\n",
              "      <td>NaN</td>\n",
              "      <td>NaN</td>\n",
              "      <td>NaN</td>\n",
              "      <td>NaN</td>\n",
              "      <td>NaN</td>\n",
              "      <td>NaN</td>\n",
              "      <td>NaN</td>\n",
              "      <td>NaN</td>\n",
              "      <td>NaN</td>\n",
              "      <td>NaN</td>\n",
              "      <td>NaN</td>\n",
              "      <td>NaN</td>\n",
              "      <td>NaN</td>\n",
              "      <td>NaN</td>\n",
              "      <td>NaN</td>\n",
              "      <td>NaN</td>\n",
              "      <td>NaN</td>\n",
              "      <td>NaN</td>\n",
              "      <td>NaN</td>\n",
              "      <td>NaN</td>\n",
              "      <td>NaN</td>\n",
              "      <td>NaN</td>\n",
              "      <td>0.0</td>\n",
              "    </tr>\n",
              "    <tr>\n",
              "      <th>46507</th>\n",
              "      <td>Él está cansado.</td>\n",
              "      <td>kqASumTJ</td>\n",
              "      <td>AR</td>\n",
              "      <td>1.179</td>\n",
              "      <td>lesson</td>\n",
              "      <td>reverse_tap</td>\n",
              "      <td>3.0</td>\n",
              "      <td>He</td>\n",
              "      <td>PRON</td>\n",
              "      <td>nsubj</td>\n",
              "      <td>Nom</td>\n",
              "      <td>Masc</td>\n",
              "      <td>Sing</td>\n",
              "      <td>3.0</td>\n",
              "      <td>NaN</td>\n",
              "      <td>NaN</td>\n",
              "      <td>is</td>\n",
              "      <td>VERB</td>\n",
              "      <td>cop</td>\n",
              "      <td>NaN</td>\n",
              "      <td>NaN</td>\n",
              "      <td>Sing</td>\n",
              "      <td>3.0</td>\n",
              "      <td>Pres</td>\n",
              "      <td>NaN</td>\n",
              "      <td>tired</td>\n",
              "      <td>ADJ</td>\n",
              "      <td>ROOT</td>\n",
              "      <td>NaN</td>\n",
              "      <td>NaN</td>\n",
              "      <td>NaN</td>\n",
              "      <td>NaN</td>\n",
              "      <td>NaN</td>\n",
              "      <td>NaN</td>\n",
              "      <td>NaN</td>\n",
              "      <td>NaN</td>\n",
              "      <td>NaN</td>\n",
              "      <td>NaN</td>\n",
              "      <td>NaN</td>\n",
              "      <td>NaN</td>\n",
              "      <td>NaN</td>\n",
              "      <td>NaN</td>\n",
              "      <td>NaN</td>\n",
              "      <td>NaN</td>\n",
              "      <td>NaN</td>\n",
              "      <td>NaN</td>\n",
              "      <td>NaN</td>\n",
              "      <td>NaN</td>\n",
              "      <td>NaN</td>\n",
              "      <td>NaN</td>\n",
              "      <td>NaN</td>\n",
              "      <td>NaN</td>\n",
              "      <td>NaN</td>\n",
              "      <td>NaN</td>\n",
              "      <td>NaN</td>\n",
              "      <td>NaN</td>\n",
              "      <td>NaN</td>\n",
              "      <td>NaN</td>\n",
              "      <td>NaN</td>\n",
              "      <td>NaN</td>\n",
              "      <td>NaN</td>\n",
              "      <td>NaN</td>\n",
              "      <td>NaN</td>\n",
              "      <td>NaN</td>\n",
              "      <td>NaN</td>\n",
              "      <td>NaN</td>\n",
              "      <td>NaN</td>\n",
              "      <td>NaN</td>\n",
              "      <td>NaN</td>\n",
              "      <td>NaN</td>\n",
              "      <td>NaN</td>\n",
              "      <td>NaN</td>\n",
              "      <td>NaN</td>\n",
              "      <td>NaN</td>\n",
              "      <td>NaN</td>\n",
              "      <td>NaN</td>\n",
              "      <td>NaN</td>\n",
              "      <td>NaN</td>\n",
              "      <td>NaN</td>\n",
              "      <td>NaN</td>\n",
              "      <td>NaN</td>\n",
              "      <td>NaN</td>\n",
              "      <td>NaN</td>\n",
              "      <td>NaN</td>\n",
              "      <td>NaN</td>\n",
              "      <td>NaN</td>\n",
              "      <td>NaN</td>\n",
              "      <td>NaN</td>\n",
              "      <td>NaN</td>\n",
              "      <td>NaN</td>\n",
              "      <td>NaN</td>\n",
              "      <td>NaN</td>\n",
              "      <td>NaN</td>\n",
              "      <td>NaN</td>\n",
              "      <td>NaN</td>\n",
              "      <td>NaN</td>\n",
              "      <td>NaN</td>\n",
              "      <td>NaN</td>\n",
              "      <td>NaN</td>\n",
              "      <td>NaN</td>\n",
              "      <td>NaN</td>\n",
              "      <td>NaN</td>\n",
              "      <td>NaN</td>\n",
              "      <td>NaN</td>\n",
              "      <td>NaN</td>\n",
              "      <td>NaN</td>\n",
              "      <td>NaN</td>\n",
              "      <td>NaN</td>\n",
              "      <td>NaN</td>\n",
              "      <td>NaN</td>\n",
              "      <td>NaN</td>\n",
              "      <td>NaN</td>\n",
              "      <td>NaN</td>\n",
              "      <td>NaN</td>\n",
              "      <td>NaN</td>\n",
              "      <td>NaN</td>\n",
              "      <td>NaN</td>\n",
              "      <td>NaN</td>\n",
              "      <td>NaN</td>\n",
              "      <td>NaN</td>\n",
              "      <td>NaN</td>\n",
              "      <td>NaN</td>\n",
              "      <td>NaN</td>\n",
              "      <td>NaN</td>\n",
              "      <td>NaN</td>\n",
              "      <td>NaN</td>\n",
              "      <td>NaN</td>\n",
              "      <td>NaN</td>\n",
              "      <td>NaN</td>\n",
              "      <td>NaN</td>\n",
              "      <td>NaN</td>\n",
              "      <td>NaN</td>\n",
              "      <td>NaN</td>\n",
              "      <td>0.0</td>\n",
              "    </tr>\n",
              "    <tr>\n",
              "      <th>46508</th>\n",
              "      <td>La misma sopa</td>\n",
              "      <td>kqASumTJ</td>\n",
              "      <td>AR</td>\n",
              "      <td>1.179</td>\n",
              "      <td>lesson</td>\n",
              "      <td>reverse_tap</td>\n",
              "      <td>4.0</td>\n",
              "      <td>The</td>\n",
              "      <td>DET</td>\n",
              "      <td>det</td>\n",
              "      <td>NaN</td>\n",
              "      <td>NaN</td>\n",
              "      <td>NaN</td>\n",
              "      <td>NaN</td>\n",
              "      <td>NaN</td>\n",
              "      <td>Art</td>\n",
              "      <td>same</td>\n",
              "      <td>ADJ</td>\n",
              "      <td>amod</td>\n",
              "      <td>NaN</td>\n",
              "      <td>NaN</td>\n",
              "      <td>NaN</td>\n",
              "      <td>NaN</td>\n",
              "      <td>NaN</td>\n",
              "      <td>NaN</td>\n",
              "      <td>soup</td>\n",
              "      <td>NOUN</td>\n",
              "      <td>ROOT</td>\n",
              "      <td>NaN</td>\n",
              "      <td>NaN</td>\n",
              "      <td>Sing</td>\n",
              "      <td>NaN</td>\n",
              "      <td>NaN</td>\n",
              "      <td>NaN</td>\n",
              "      <td>NaN</td>\n",
              "      <td>NaN</td>\n",
              "      <td>NaN</td>\n",
              "      <td>NaN</td>\n",
              "      <td>NaN</td>\n",
              "      <td>NaN</td>\n",
              "      <td>NaN</td>\n",
              "      <td>NaN</td>\n",
              "      <td>NaN</td>\n",
              "      <td>NaN</td>\n",
              "      <td>NaN</td>\n",
              "      <td>NaN</td>\n",
              "      <td>NaN</td>\n",
              "      <td>NaN</td>\n",
              "      <td>NaN</td>\n",
              "      <td>NaN</td>\n",
              "      <td>NaN</td>\n",
              "      <td>NaN</td>\n",
              "      <td>NaN</td>\n",
              "      <td>NaN</td>\n",
              "      <td>NaN</td>\n",
              "      <td>NaN</td>\n",
              "      <td>NaN</td>\n",
              "      <td>NaN</td>\n",
              "      <td>NaN</td>\n",
              "      <td>NaN</td>\n",
              "      <td>NaN</td>\n",
              "      <td>NaN</td>\n",
              "      <td>NaN</td>\n",
              "      <td>NaN</td>\n",
              "      <td>NaN</td>\n",
              "      <td>NaN</td>\n",
              "      <td>NaN</td>\n",
              "      <td>NaN</td>\n",
              "      <td>NaN</td>\n",
              "      <td>NaN</td>\n",
              "      <td>NaN</td>\n",
              "      <td>NaN</td>\n",
              "      <td>NaN</td>\n",
              "      <td>NaN</td>\n",
              "      <td>NaN</td>\n",
              "      <td>NaN</td>\n",
              "      <td>NaN</td>\n",
              "      <td>NaN</td>\n",
              "      <td>NaN</td>\n",
              "      <td>NaN</td>\n",
              "      <td>NaN</td>\n",
              "      <td>NaN</td>\n",
              "      <td>NaN</td>\n",
              "      <td>NaN</td>\n",
              "      <td>NaN</td>\n",
              "      <td>NaN</td>\n",
              "      <td>NaN</td>\n",
              "      <td>NaN</td>\n",
              "      <td>NaN</td>\n",
              "      <td>NaN</td>\n",
              "      <td>NaN</td>\n",
              "      <td>NaN</td>\n",
              "      <td>NaN</td>\n",
              "      <td>NaN</td>\n",
              "      <td>NaN</td>\n",
              "      <td>NaN</td>\n",
              "      <td>NaN</td>\n",
              "      <td>NaN</td>\n",
              "      <td>NaN</td>\n",
              "      <td>NaN</td>\n",
              "      <td>NaN</td>\n",
              "      <td>NaN</td>\n",
              "      <td>NaN</td>\n",
              "      <td>NaN</td>\n",
              "      <td>NaN</td>\n",
              "      <td>NaN</td>\n",
              "      <td>NaN</td>\n",
              "      <td>NaN</td>\n",
              "      <td>NaN</td>\n",
              "      <td>NaN</td>\n",
              "      <td>NaN</td>\n",
              "      <td>NaN</td>\n",
              "      <td>NaN</td>\n",
              "      <td>NaN</td>\n",
              "      <td>NaN</td>\n",
              "      <td>NaN</td>\n",
              "      <td>NaN</td>\n",
              "      <td>NaN</td>\n",
              "      <td>NaN</td>\n",
              "      <td>NaN</td>\n",
              "      <td>NaN</td>\n",
              "      <td>NaN</td>\n",
              "      <td>NaN</td>\n",
              "      <td>NaN</td>\n",
              "      <td>NaN</td>\n",
              "      <td>NaN</td>\n",
              "      <td>NaN</td>\n",
              "      <td>NaN</td>\n",
              "      <td>NaN</td>\n",
              "      <td>NaN</td>\n",
              "      <td>NaN</td>\n",
              "      <td>NaN</td>\n",
              "      <td>NaN</td>\n",
              "      <td>0.0</td>\n",
              "    </tr>\n",
              "    <tr>\n",
              "      <th>46509</th>\n",
              "      <td></td>\n",
              "      <td>kqASumTJ</td>\n",
              "      <td>AR</td>\n",
              "      <td>1.182</td>\n",
              "      <td>lesson</td>\n",
              "      <td>listen</td>\n",
              "      <td>32.0</td>\n",
              "      <td>I</td>\n",
              "      <td>PRON</td>\n",
              "      <td>nsubj</td>\n",
              "      <td>Nom</td>\n",
              "      <td>NaN</td>\n",
              "      <td>Sing</td>\n",
              "      <td>1.0</td>\n",
              "      <td>NaN</td>\n",
              "      <td>NaN</td>\n",
              "      <td>have</td>\n",
              "      <td>VERB</td>\n",
              "      <td>ROOT</td>\n",
              "      <td>NaN</td>\n",
              "      <td>NaN</td>\n",
              "      <td>NaN</td>\n",
              "      <td>NaN</td>\n",
              "      <td>Pres</td>\n",
              "      <td>NaN</td>\n",
              "      <td>a</td>\n",
              "      <td>DET</td>\n",
              "      <td>det</td>\n",
              "      <td>NaN</td>\n",
              "      <td>NaN</td>\n",
              "      <td>NaN</td>\n",
              "      <td>NaN</td>\n",
              "      <td>NaN</td>\n",
              "      <td>Art</td>\n",
              "      <td>personal</td>\n",
              "      <td>ADJ</td>\n",
              "      <td>amod</td>\n",
              "      <td>NaN</td>\n",
              "      <td>NaN</td>\n",
              "      <td>NaN</td>\n",
              "      <td>NaN</td>\n",
              "      <td>NaN</td>\n",
              "      <td>NaN</td>\n",
              "      <td>computer</td>\n",
              "      <td>NOUN</td>\n",
              "      <td>dobj</td>\n",
              "      <td>NaN</td>\n",
              "      <td>NaN</td>\n",
              "      <td>Sing</td>\n",
              "      <td>NaN</td>\n",
              "      <td>NaN</td>\n",
              "      <td>NaN</td>\n",
              "      <td>NaN</td>\n",
              "      <td>NaN</td>\n",
              "      <td>NaN</td>\n",
              "      <td>NaN</td>\n",
              "      <td>NaN</td>\n",
              "      <td>NaN</td>\n",
              "      <td>NaN</td>\n",
              "      <td>NaN</td>\n",
              "      <td>NaN</td>\n",
              "      <td>NaN</td>\n",
              "      <td>NaN</td>\n",
              "      <td>NaN</td>\n",
              "      <td>NaN</td>\n",
              "      <td>NaN</td>\n",
              "      <td>NaN</td>\n",
              "      <td>NaN</td>\n",
              "      <td>NaN</td>\n",
              "      <td>NaN</td>\n",
              "      <td>NaN</td>\n",
              "      <td>NaN</td>\n",
              "      <td>NaN</td>\n",
              "      <td>NaN</td>\n",
              "      <td>NaN</td>\n",
              "      <td>NaN</td>\n",
              "      <td>NaN</td>\n",
              "      <td>NaN</td>\n",
              "      <td>NaN</td>\n",
              "      <td>NaN</td>\n",
              "      <td>NaN</td>\n",
              "      <td>NaN</td>\n",
              "      <td>NaN</td>\n",
              "      <td>NaN</td>\n",
              "      <td>NaN</td>\n",
              "      <td>NaN</td>\n",
              "      <td>NaN</td>\n",
              "      <td>NaN</td>\n",
              "      <td>NaN</td>\n",
              "      <td>NaN</td>\n",
              "      <td>NaN</td>\n",
              "      <td>NaN</td>\n",
              "      <td>NaN</td>\n",
              "      <td>NaN</td>\n",
              "      <td>NaN</td>\n",
              "      <td>NaN</td>\n",
              "      <td>NaN</td>\n",
              "      <td>NaN</td>\n",
              "      <td>NaN</td>\n",
              "      <td>NaN</td>\n",
              "      <td>NaN</td>\n",
              "      <td>NaN</td>\n",
              "      <td>NaN</td>\n",
              "      <td>NaN</td>\n",
              "      <td>NaN</td>\n",
              "      <td>NaN</td>\n",
              "      <td>NaN</td>\n",
              "      <td>NaN</td>\n",
              "      <td>NaN</td>\n",
              "      <td>NaN</td>\n",
              "      <td>NaN</td>\n",
              "      <td>NaN</td>\n",
              "      <td>NaN</td>\n",
              "      <td>NaN</td>\n",
              "      <td>NaN</td>\n",
              "      <td>NaN</td>\n",
              "      <td>NaN</td>\n",
              "      <td>NaN</td>\n",
              "      <td>NaN</td>\n",
              "      <td>NaN</td>\n",
              "      <td>NaN</td>\n",
              "      <td>NaN</td>\n",
              "      <td>NaN</td>\n",
              "      <td>NaN</td>\n",
              "      <td>NaN</td>\n",
              "      <td>NaN</td>\n",
              "      <td>NaN</td>\n",
              "      <td>NaN</td>\n",
              "      <td>NaN</td>\n",
              "      <td>NaN</td>\n",
              "      <td>NaN</td>\n",
              "      <td>NaN</td>\n",
              "      <td>NaN</td>\n",
              "      <td>0.0</td>\n",
              "    </tr>\n",
              "    <tr>\n",
              "      <th>46510</th>\n",
              "      <td>Fiestas privadas</td>\n",
              "      <td>kqASumTJ</td>\n",
              "      <td>AR</td>\n",
              "      <td>1.182</td>\n",
              "      <td>lesson</td>\n",
              "      <td>reverse_tap</td>\n",
              "      <td>13.0</td>\n",
              "      <td>Private</td>\n",
              "      <td>VERB</td>\n",
              "      <td>amod</td>\n",
              "      <td>NaN</td>\n",
              "      <td>NaN</td>\n",
              "      <td>NaN</td>\n",
              "      <td>NaN</td>\n",
              "      <td>NaN</td>\n",
              "      <td>NaN</td>\n",
              "      <td>parties</td>\n",
              "      <td>NOUN</td>\n",
              "      <td>ROOT</td>\n",
              "      <td>NaN</td>\n",
              "      <td>NaN</td>\n",
              "      <td>Plur</td>\n",
              "      <td>NaN</td>\n",
              "      <td>NaN</td>\n",
              "      <td>NaN</td>\n",
              "      <td>NaN</td>\n",
              "      <td>NaN</td>\n",
              "      <td>NaN</td>\n",
              "      <td>NaN</td>\n",
              "      <td>NaN</td>\n",
              "      <td>NaN</td>\n",
              "      <td>NaN</td>\n",
              "      <td>NaN</td>\n",
              "      <td>NaN</td>\n",
              "      <td>NaN</td>\n",
              "      <td>NaN</td>\n",
              "      <td>NaN</td>\n",
              "      <td>NaN</td>\n",
              "      <td>NaN</td>\n",
              "      <td>NaN</td>\n",
              "      <td>NaN</td>\n",
              "      <td>NaN</td>\n",
              "      <td>NaN</td>\n",
              "      <td>NaN</td>\n",
              "      <td>NaN</td>\n",
              "      <td>NaN</td>\n",
              "      <td>NaN</td>\n",
              "      <td>NaN</td>\n",
              "      <td>NaN</td>\n",
              "      <td>NaN</td>\n",
              "      <td>NaN</td>\n",
              "      <td>NaN</td>\n",
              "      <td>NaN</td>\n",
              "      <td>NaN</td>\n",
              "      <td>NaN</td>\n",
              "      <td>NaN</td>\n",
              "      <td>NaN</td>\n",
              "      <td>NaN</td>\n",
              "      <td>NaN</td>\n",
              "      <td>NaN</td>\n",
              "      <td>NaN</td>\n",
              "      <td>NaN</td>\n",
              "      <td>NaN</td>\n",
              "      <td>NaN</td>\n",
              "      <td>NaN</td>\n",
              "      <td>NaN</td>\n",
              "      <td>NaN</td>\n",
              "      <td>NaN</td>\n",
              "      <td>NaN</td>\n",
              "      <td>NaN</td>\n",
              "      <td>NaN</td>\n",
              "      <td>NaN</td>\n",
              "      <td>NaN</td>\n",
              "      <td>NaN</td>\n",
              "      <td>NaN</td>\n",
              "      <td>NaN</td>\n",
              "      <td>NaN</td>\n",
              "      <td>NaN</td>\n",
              "      <td>NaN</td>\n",
              "      <td>NaN</td>\n",
              "      <td>NaN</td>\n",
              "      <td>NaN</td>\n",
              "      <td>NaN</td>\n",
              "      <td>NaN</td>\n",
              "      <td>NaN</td>\n",
              "      <td>NaN</td>\n",
              "      <td>NaN</td>\n",
              "      <td>NaN</td>\n",
              "      <td>NaN</td>\n",
              "      <td>NaN</td>\n",
              "      <td>NaN</td>\n",
              "      <td>NaN</td>\n",
              "      <td>NaN</td>\n",
              "      <td>NaN</td>\n",
              "      <td>NaN</td>\n",
              "      <td>NaN</td>\n",
              "      <td>NaN</td>\n",
              "      <td>NaN</td>\n",
              "      <td>NaN</td>\n",
              "      <td>NaN</td>\n",
              "      <td>NaN</td>\n",
              "      <td>NaN</td>\n",
              "      <td>NaN</td>\n",
              "      <td>NaN</td>\n",
              "      <td>NaN</td>\n",
              "      <td>NaN</td>\n",
              "      <td>NaN</td>\n",
              "      <td>NaN</td>\n",
              "      <td>NaN</td>\n",
              "      <td>NaN</td>\n",
              "      <td>NaN</td>\n",
              "      <td>NaN</td>\n",
              "      <td>NaN</td>\n",
              "      <td>NaN</td>\n",
              "      <td>NaN</td>\n",
              "      <td>NaN</td>\n",
              "      <td>NaN</td>\n",
              "      <td>NaN</td>\n",
              "      <td>NaN</td>\n",
              "      <td>NaN</td>\n",
              "      <td>NaN</td>\n",
              "      <td>NaN</td>\n",
              "      <td>NaN</td>\n",
              "      <td>NaN</td>\n",
              "      <td>NaN</td>\n",
              "      <td>NaN</td>\n",
              "      <td>NaN</td>\n",
              "      <td>NaN</td>\n",
              "      <td>NaN</td>\n",
              "      <td>NaN</td>\n",
              "      <td>NaN</td>\n",
              "      <td>NaN</td>\n",
              "      <td>NaN</td>\n",
              "      <td>0.0</td>\n",
              "    </tr>\n",
              "  </tbody>\n",
              "</table>\n",
              "</div>\n",
              "    <div class=\"colab-df-buttons\">\n",
              "\n",
              "  <div class=\"colab-df-container\">\n",
              "    <button class=\"colab-df-convert\" onclick=\"convertToInteractive('df-5a56850c-0943-4fb5-a19e-585bff3dc1aa')\"\n",
              "            title=\"Convert this dataframe to an interactive table.\"\n",
              "            style=\"display:none;\">\n",
              "\n",
              "  <svg xmlns=\"http://www.w3.org/2000/svg\" height=\"24px\" viewBox=\"0 -960 960 960\">\n",
              "    <path d=\"M120-120v-720h720v720H120Zm60-500h600v-160H180v160Zm220 220h160v-160H400v160Zm0 220h160v-160H400v160ZM180-400h160v-160H180v160Zm440 0h160v-160H620v160ZM180-180h160v-160H180v160Zm440 0h160v-160H620v160Z\"/>\n",
              "  </svg>\n",
              "    </button>\n",
              "\n",
              "  <style>\n",
              "    .colab-df-container {\n",
              "      display:flex;\n",
              "      gap: 12px;\n",
              "    }\n",
              "\n",
              "    .colab-df-convert {\n",
              "      background-color: #E8F0FE;\n",
              "      border: none;\n",
              "      border-radius: 50%;\n",
              "      cursor: pointer;\n",
              "      display: none;\n",
              "      fill: #1967D2;\n",
              "      height: 32px;\n",
              "      padding: 0 0 0 0;\n",
              "      width: 32px;\n",
              "    }\n",
              "\n",
              "    .colab-df-convert:hover {\n",
              "      background-color: #E2EBFA;\n",
              "      box-shadow: 0px 1px 2px rgba(60, 64, 67, 0.3), 0px 1px 3px 1px rgba(60, 64, 67, 0.15);\n",
              "      fill: #174EA6;\n",
              "    }\n",
              "\n",
              "    .colab-df-buttons div {\n",
              "      margin-bottom: 4px;\n",
              "    }\n",
              "\n",
              "    [theme=dark] .colab-df-convert {\n",
              "      background-color: #3B4455;\n",
              "      fill: #D2E3FC;\n",
              "    }\n",
              "\n",
              "    [theme=dark] .colab-df-convert:hover {\n",
              "      background-color: #434B5C;\n",
              "      box-shadow: 0px 1px 3px 1px rgba(0, 0, 0, 0.15);\n",
              "      filter: drop-shadow(0px 1px 2px rgba(0, 0, 0, 0.3));\n",
              "      fill: #FFFFFF;\n",
              "    }\n",
              "  </style>\n",
              "\n",
              "    <script>\n",
              "      const buttonEl =\n",
              "        document.querySelector('#df-5a56850c-0943-4fb5-a19e-585bff3dc1aa button.colab-df-convert');\n",
              "      buttonEl.style.display =\n",
              "        google.colab.kernel.accessAllowed ? 'block' : 'none';\n",
              "\n",
              "      async function convertToInteractive(key) {\n",
              "        const element = document.querySelector('#df-5a56850c-0943-4fb5-a19e-585bff3dc1aa');\n",
              "        const dataTable =\n",
              "          await google.colab.kernel.invokeFunction('convertToInteractive',\n",
              "                                                    [key], {});\n",
              "        if (!dataTable) return;\n",
              "\n",
              "        const docLinkHtml = 'Like what you see? Visit the ' +\n",
              "          '<a target=\"_blank\" href=https://colab.research.google.com/notebooks/data_table.ipynb>data table notebook</a>'\n",
              "          + ' to learn more about interactive tables.';\n",
              "        element.innerHTML = '';\n",
              "        dataTable['output_type'] = 'display_data';\n",
              "        await google.colab.output.renderOutput(dataTable, element);\n",
              "        const docLink = document.createElement('div');\n",
              "        docLink.innerHTML = docLinkHtml;\n",
              "        element.appendChild(docLink);\n",
              "      }\n",
              "    </script>\n",
              "  </div>\n",
              "\n",
              "\n",
              "<div id=\"df-e01ec8d3-8e10-4c6b-b61f-d93d8c848b05\">\n",
              "  <button class=\"colab-df-quickchart\" onclick=\"quickchart('df-e01ec8d3-8e10-4c6b-b61f-d93d8c848b05')\"\n",
              "            title=\"Suggest charts\"\n",
              "            style=\"display:none;\">\n",
              "\n",
              "<svg xmlns=\"http://www.w3.org/2000/svg\" height=\"24px\"viewBox=\"0 0 24 24\"\n",
              "     width=\"24px\">\n",
              "    <g>\n",
              "        <path d=\"M19 3H5c-1.1 0-2 .9-2 2v14c0 1.1.9 2 2 2h14c1.1 0 2-.9 2-2V5c0-1.1-.9-2-2-2zM9 17H7v-7h2v7zm4 0h-2V7h2v10zm4 0h-2v-4h2v4z\"/>\n",
              "    </g>\n",
              "</svg>\n",
              "  </button>\n",
              "\n",
              "<style>\n",
              "  .colab-df-quickchart {\n",
              "      --bg-color: #E8F0FE;\n",
              "      --fill-color: #1967D2;\n",
              "      --hover-bg-color: #E2EBFA;\n",
              "      --hover-fill-color: #174EA6;\n",
              "      --disabled-fill-color: #AAA;\n",
              "      --disabled-bg-color: #DDD;\n",
              "  }\n",
              "\n",
              "  [theme=dark] .colab-df-quickchart {\n",
              "      --bg-color: #3B4455;\n",
              "      --fill-color: #D2E3FC;\n",
              "      --hover-bg-color: #434B5C;\n",
              "      --hover-fill-color: #FFFFFF;\n",
              "      --disabled-bg-color: #3B4455;\n",
              "      --disabled-fill-color: #666;\n",
              "  }\n",
              "\n",
              "  .colab-df-quickchart {\n",
              "    background-color: var(--bg-color);\n",
              "    border: none;\n",
              "    border-radius: 50%;\n",
              "    cursor: pointer;\n",
              "    display: none;\n",
              "    fill: var(--fill-color);\n",
              "    height: 32px;\n",
              "    padding: 0;\n",
              "    width: 32px;\n",
              "  }\n",
              "\n",
              "  .colab-df-quickchart:hover {\n",
              "    background-color: var(--hover-bg-color);\n",
              "    box-shadow: 0 1px 2px rgba(60, 64, 67, 0.3), 0 1px 3px 1px rgba(60, 64, 67, 0.15);\n",
              "    fill: var(--button-hover-fill-color);\n",
              "  }\n",
              "\n",
              "  .colab-df-quickchart-complete:disabled,\n",
              "  .colab-df-quickchart-complete:disabled:hover {\n",
              "    background-color: var(--disabled-bg-color);\n",
              "    fill: var(--disabled-fill-color);\n",
              "    box-shadow: none;\n",
              "  }\n",
              "\n",
              "  .colab-df-spinner {\n",
              "    border: 2px solid var(--fill-color);\n",
              "    border-color: transparent;\n",
              "    border-bottom-color: var(--fill-color);\n",
              "    animation:\n",
              "      spin 1s steps(1) infinite;\n",
              "  }\n",
              "\n",
              "  @keyframes spin {\n",
              "    0% {\n",
              "      border-color: transparent;\n",
              "      border-bottom-color: var(--fill-color);\n",
              "      border-left-color: var(--fill-color);\n",
              "    }\n",
              "    20% {\n",
              "      border-color: transparent;\n",
              "      border-left-color: var(--fill-color);\n",
              "      border-top-color: var(--fill-color);\n",
              "    }\n",
              "    30% {\n",
              "      border-color: transparent;\n",
              "      border-left-color: var(--fill-color);\n",
              "      border-top-color: var(--fill-color);\n",
              "      border-right-color: var(--fill-color);\n",
              "    }\n",
              "    40% {\n",
              "      border-color: transparent;\n",
              "      border-right-color: var(--fill-color);\n",
              "      border-top-color: var(--fill-color);\n",
              "    }\n",
              "    60% {\n",
              "      border-color: transparent;\n",
              "      border-right-color: var(--fill-color);\n",
              "    }\n",
              "    80% {\n",
              "      border-color: transparent;\n",
              "      border-right-color: var(--fill-color);\n",
              "      border-bottom-color: var(--fill-color);\n",
              "    }\n",
              "    90% {\n",
              "      border-color: transparent;\n",
              "      border-bottom-color: var(--fill-color);\n",
              "    }\n",
              "  }\n",
              "</style>\n",
              "\n",
              "  <script>\n",
              "    async function quickchart(key) {\n",
              "      const quickchartButtonEl =\n",
              "        document.querySelector('#' + key + ' button');\n",
              "      quickchartButtonEl.disabled = true;  // To prevent multiple clicks.\n",
              "      quickchartButtonEl.classList.add('colab-df-spinner');\n",
              "      try {\n",
              "        const charts = await google.colab.kernel.invokeFunction(\n",
              "            'suggestCharts', [key], {});\n",
              "      } catch (error) {\n",
              "        console.error('Error during call to suggestCharts:', error);\n",
              "      }\n",
              "      quickchartButtonEl.classList.remove('colab-df-spinner');\n",
              "      quickchartButtonEl.classList.add('colab-df-quickchart-complete');\n",
              "    }\n",
              "    (() => {\n",
              "      let quickchartButtonEl =\n",
              "        document.querySelector('#df-e01ec8d3-8e10-4c6b-b61f-d93d8c848b05 button');\n",
              "      quickchartButtonEl.style.display =\n",
              "        google.colab.kernel.accessAllowed ? 'block' : 'none';\n",
              "    })();\n",
              "  </script>\n",
              "</div>\n",
              "    </div>\n",
              "  </div>\n"
            ],
            "application/vnd.google.colaboratory.intrinsic+json": {
              "type": "dataframe"
            }
          },
          "metadata": {},
          "execution_count": 8
        }
      ],
      "source": [
        "train.tail(5)"
      ]
    },
    {
      "cell_type": "code",
      "execution_count": 9,
      "id": "0053e883-f9a9-448b-b1bd-2c524275c81f",
      "metadata": {
        "colab": {
          "base_uri": "https://localhost:8080/",
          "height": 226
        },
        "id": "0053e883-f9a9-448b-b1bd-2c524275c81f",
        "outputId": "c875ef74-8947-4b4b-8044-db810e022517"
      },
      "outputs": [
        {
          "output_type": "execute_result",
          "data": {
            "text/plain": [
              "   prompt  user  countries   days  session  format  time  token_1  pos_1  \\\n",
              "0    1483   658        146  0.003      660    1833   9.0       73    319   \n",
              "1    1635   658        146  0.005      660    1833  12.0       73    319   \n",
              "2    1689   658        146  0.008      660    1833   6.0      198    319   \n",
              "3    1617   658        146  0.008      660    1833  13.0      288    319   \n",
              "4    1669   658        146  0.008      660    1833  16.0      188    303   \n",
              "\n",
              "   morf_1  case_1  gender_1  number_1 person_1  tense_1  pronType_1  token_2  \\\n",
              "0     546     298        48       401      1.0       48          48      206   \n",
              "1     546     298        48       401      1.0       48          48      206   \n",
              "2     941      48        48       401      1.0       48          48      417   \n",
              "3     546      48        48       401        0       48          48      220   \n",
              "4     322      48        48       401      3.0      410          48      205   \n",
              "\n",
              "   pos_2  morf_2  case_2  gender_2  number_2 person_2  tense_2  pronType_2  \\\n",
              "0    303     322      48        48       401      1.0      410          48   \n",
              "1    303     322      48        48       401      1.0      410          48   \n",
              "2    320     546      48        48       401        0       48          48   \n",
              "3    303     322      48        48       401      3.0      410          48   \n",
              "4    319     546     298       388       401      3.0       48          48   \n",
              "\n",
              "   token_3  pos_3  morf_3  case_3  gender_3  number_3 person_3  tense_3  \\\n",
              "0       97    221     317      48        48        48        0       48   \n",
              "1      436    213     412      48        48        48        0       48   \n",
              "2      220    303     322      48        48       401      3.0      410   \n",
              "3       97    221     317      48        48        48        0       48   \n",
              "4       97    221     317      48        48        48        0       48   \n",
              "\n",
              "   pronType_3  token_4  pos_4  morf_4  case_4  gender_4  number_4 person_4  \\\n",
              "0         295      330    320     324      48        48       401        0   \n",
              "1          48      613    399     324      48        48        48        0   \n",
              "2          48      506    399     324      48        48        48        0   \n",
              "3         295      430    320     324      48        48       401        0   \n",
              "4         295      330    320     324      48        48       401        0   \n",
              "\n",
              "   tense_4  pronType_4  token_5  pos_5  morf_5  case_5  gender_5  number_5  \\\n",
              "0       48          48       48     48      48      48        48        48   \n",
              "1       48          48       48     48      48      48        48        48   \n",
              "2       48          48       48     48      48      48        48        48   \n",
              "3       48          48       48     48      48      48        48        48   \n",
              "4       48          48       48     48      48      48        48        48   \n",
              "\n",
              "  person_5  tense_5  pronType_5  token_6  pos_6  morf_6  case_6  gender_6  \\\n",
              "0        0       48          48       48     48      48      48        48   \n",
              "1        0       48          48       48     48      48      48        48   \n",
              "2        0       48          48       48     48      48      48        48   \n",
              "3        0       48          48       48     48      48      48        48   \n",
              "4        0       48          48       48     48      48      48        48   \n",
              "\n",
              "   number_6 person_6  tense_6  pronType_6  token_7  pos_7  morf_7  case_7  \\\n",
              "0        48        0       48          48       48     48      48      48   \n",
              "1        48        0       48          48       48     48      48      48   \n",
              "2        48        0       48          48       48     48      48      48   \n",
              "3        48        0       48          48       48     48      48      48   \n",
              "4        48        0       48          48       48     48      48      48   \n",
              "\n",
              "   gender_7  number_7 person_7  tense_7  pronType_7  token_8  pos_8  morf_8  \\\n",
              "0        48        48        0       48          48       48     48      48   \n",
              "1        48        48        0       48          48       48     48      48   \n",
              "2        48        48        0       48          48       48     48      48   \n",
              "3        48        48        0       48          48       48     48      48   \n",
              "4        48        48        0       48          48       48     48      48   \n",
              "\n",
              "   case_8  gender_8  number_8 person_8  tense_8  pronType_8  token_9  pos_9  \\\n",
              "0      48        48        48        0       48          48       48     48   \n",
              "1      48        48        48        0       48          48       48     48   \n",
              "2      48        48        48        0       48          48       48     48   \n",
              "3      48        48        48        0       48          48       48     48   \n",
              "4      48        48        48        0       48          48       48     48   \n",
              "\n",
              "   morf_9  case_9  gender_9  number_9 person_9  tense_9  pronType_9  token_10  \\\n",
              "0      48      48        48        48        0       48          48        48   \n",
              "1      48      48        48        48        0       48          48        48   \n",
              "2      48      48        48        48        0       48          48        48   \n",
              "3      48      48        48        48        0       48          48        48   \n",
              "4      48      48        48        48        0       48          48        48   \n",
              "\n",
              "   pos_10  morf_10  case_10  gender_10  number_10 person_10  tense_10  \\\n",
              "0      48       48       48         48         48         0        48   \n",
              "1      48       48       48         48         48         0        48   \n",
              "2      48       48       48         48         48         0        48   \n",
              "3      48       48       48         48         48         0        48   \n",
              "4      48       48       48         48         48         0        48   \n",
              "\n",
              "   pronType_10  token_11  pos_11  morf_11  case_11  gender_11  number_11  \\\n",
              "0           48        48      48       48       48         48         48   \n",
              "1           48        48      48       48       48         48         48   \n",
              "2           48        48      48       48       48         48         48   \n",
              "3           48        48      48       48       48         48         48   \n",
              "4           48        48      48       48       48         48         48   \n",
              "\n",
              "  person_11  tense_11  pronType_11  token_12  pos_12  morf_12  case_12  \\\n",
              "0         0        48           48        48      48       48       48   \n",
              "1         0        48           48        48      48       48       48   \n",
              "2         0        48           48        48      48       48       48   \n",
              "3         0        48           48        48      48       48       48   \n",
              "4         0        48           48        48      48       48       48   \n",
              "\n",
              "   gender_12  number_12 person_12  tense_12  pronType_12  token_13  pos_13  \\\n",
              "0         48         48         0        48           48        48      48   \n",
              "1         48         48         0        48           48        48      48   \n",
              "2         48         48         0        48           48        48      48   \n",
              "3         48         48         0        48           48        48      48   \n",
              "4         48         48         0        48           48        48      48   \n",
              "\n",
              "   morf_13  case_13  gender_13  number_13 person_13  tense_13  pronType_13  \\\n",
              "0       48       48         48         48         0        48           48   \n",
              "1       48       48         48         48         0        48           48   \n",
              "2       48       48         48         48         0        48           48   \n",
              "3       48       48         48         48         0        48           48   \n",
              "4       48       48         48         48         0        48           48   \n",
              "\n",
              "   token_14  pos_14  morf_14  case_14  gender_14  number_14 person_14  \\\n",
              "0        48      48       48       48         48         48         0   \n",
              "1        48      48       48       48         48         48         0   \n",
              "2        48      48       48       48         48         48         0   \n",
              "3        48      48       48       48         48         48         0   \n",
              "4        48      48       48       48         48         48         0   \n",
              "\n",
              "   tense_14  pronType_14  acc_sum  \n",
              "0        48           48        0  \n",
              "1        48           48        0  \n",
              "2        48           48        0  \n",
              "3        48           48        0  \n",
              "4        48           48        0  "
            ],
            "text/html": [
              "\n",
              "  <div id=\"df-0ebdcf19-7e38-493e-bedb-52bd24105ba0\" class=\"colab-df-container\">\n",
              "    <div>\n",
              "<style scoped>\n",
              "    .dataframe tbody tr th:only-of-type {\n",
              "        vertical-align: middle;\n",
              "    }\n",
              "\n",
              "    .dataframe tbody tr th {\n",
              "        vertical-align: top;\n",
              "    }\n",
              "\n",
              "    .dataframe thead th {\n",
              "        text-align: right;\n",
              "    }\n",
              "</style>\n",
              "<table border=\"1\" class=\"dataframe\">\n",
              "  <thead>\n",
              "    <tr style=\"text-align: right;\">\n",
              "      <th></th>\n",
              "      <th>prompt</th>\n",
              "      <th>user</th>\n",
              "      <th>countries</th>\n",
              "      <th>days</th>\n",
              "      <th>session</th>\n",
              "      <th>format</th>\n",
              "      <th>time</th>\n",
              "      <th>token_1</th>\n",
              "      <th>pos_1</th>\n",
              "      <th>morf_1</th>\n",
              "      <th>case_1</th>\n",
              "      <th>gender_1</th>\n",
              "      <th>number_1</th>\n",
              "      <th>person_1</th>\n",
              "      <th>tense_1</th>\n",
              "      <th>pronType_1</th>\n",
              "      <th>token_2</th>\n",
              "      <th>pos_2</th>\n",
              "      <th>morf_2</th>\n",
              "      <th>case_2</th>\n",
              "      <th>gender_2</th>\n",
              "      <th>number_2</th>\n",
              "      <th>person_2</th>\n",
              "      <th>tense_2</th>\n",
              "      <th>pronType_2</th>\n",
              "      <th>token_3</th>\n",
              "      <th>pos_3</th>\n",
              "      <th>morf_3</th>\n",
              "      <th>case_3</th>\n",
              "      <th>gender_3</th>\n",
              "      <th>number_3</th>\n",
              "      <th>person_3</th>\n",
              "      <th>tense_3</th>\n",
              "      <th>pronType_3</th>\n",
              "      <th>token_4</th>\n",
              "      <th>pos_4</th>\n",
              "      <th>morf_4</th>\n",
              "      <th>case_4</th>\n",
              "      <th>gender_4</th>\n",
              "      <th>number_4</th>\n",
              "      <th>person_4</th>\n",
              "      <th>tense_4</th>\n",
              "      <th>pronType_4</th>\n",
              "      <th>token_5</th>\n",
              "      <th>pos_5</th>\n",
              "      <th>morf_5</th>\n",
              "      <th>case_5</th>\n",
              "      <th>gender_5</th>\n",
              "      <th>number_5</th>\n",
              "      <th>person_5</th>\n",
              "      <th>tense_5</th>\n",
              "      <th>pronType_5</th>\n",
              "      <th>token_6</th>\n",
              "      <th>pos_6</th>\n",
              "      <th>morf_6</th>\n",
              "      <th>case_6</th>\n",
              "      <th>gender_6</th>\n",
              "      <th>number_6</th>\n",
              "      <th>person_6</th>\n",
              "      <th>tense_6</th>\n",
              "      <th>pronType_6</th>\n",
              "      <th>token_7</th>\n",
              "      <th>pos_7</th>\n",
              "      <th>morf_7</th>\n",
              "      <th>case_7</th>\n",
              "      <th>gender_7</th>\n",
              "      <th>number_7</th>\n",
              "      <th>person_7</th>\n",
              "      <th>tense_7</th>\n",
              "      <th>pronType_7</th>\n",
              "      <th>token_8</th>\n",
              "      <th>pos_8</th>\n",
              "      <th>morf_8</th>\n",
              "      <th>case_8</th>\n",
              "      <th>gender_8</th>\n",
              "      <th>number_8</th>\n",
              "      <th>person_8</th>\n",
              "      <th>tense_8</th>\n",
              "      <th>pronType_8</th>\n",
              "      <th>token_9</th>\n",
              "      <th>pos_9</th>\n",
              "      <th>morf_9</th>\n",
              "      <th>case_9</th>\n",
              "      <th>gender_9</th>\n",
              "      <th>number_9</th>\n",
              "      <th>person_9</th>\n",
              "      <th>tense_9</th>\n",
              "      <th>pronType_9</th>\n",
              "      <th>token_10</th>\n",
              "      <th>pos_10</th>\n",
              "      <th>morf_10</th>\n",
              "      <th>case_10</th>\n",
              "      <th>gender_10</th>\n",
              "      <th>number_10</th>\n",
              "      <th>person_10</th>\n",
              "      <th>tense_10</th>\n",
              "      <th>pronType_10</th>\n",
              "      <th>token_11</th>\n",
              "      <th>pos_11</th>\n",
              "      <th>morf_11</th>\n",
              "      <th>case_11</th>\n",
              "      <th>gender_11</th>\n",
              "      <th>number_11</th>\n",
              "      <th>person_11</th>\n",
              "      <th>tense_11</th>\n",
              "      <th>pronType_11</th>\n",
              "      <th>token_12</th>\n",
              "      <th>pos_12</th>\n",
              "      <th>morf_12</th>\n",
              "      <th>case_12</th>\n",
              "      <th>gender_12</th>\n",
              "      <th>number_12</th>\n",
              "      <th>person_12</th>\n",
              "      <th>tense_12</th>\n",
              "      <th>pronType_12</th>\n",
              "      <th>token_13</th>\n",
              "      <th>pos_13</th>\n",
              "      <th>morf_13</th>\n",
              "      <th>case_13</th>\n",
              "      <th>gender_13</th>\n",
              "      <th>number_13</th>\n",
              "      <th>person_13</th>\n",
              "      <th>tense_13</th>\n",
              "      <th>pronType_13</th>\n",
              "      <th>token_14</th>\n",
              "      <th>pos_14</th>\n",
              "      <th>morf_14</th>\n",
              "      <th>case_14</th>\n",
              "      <th>gender_14</th>\n",
              "      <th>number_14</th>\n",
              "      <th>person_14</th>\n",
              "      <th>tense_14</th>\n",
              "      <th>pronType_14</th>\n",
              "      <th>acc_sum</th>\n",
              "    </tr>\n",
              "  </thead>\n",
              "  <tbody>\n",
              "    <tr>\n",
              "      <th>0</th>\n",
              "      <td>1483</td>\n",
              "      <td>658</td>\n",
              "      <td>146</td>\n",
              "      <td>0.003</td>\n",
              "      <td>660</td>\n",
              "      <td>1833</td>\n",
              "      <td>9.0</td>\n",
              "      <td>73</td>\n",
              "      <td>319</td>\n",
              "      <td>546</td>\n",
              "      <td>298</td>\n",
              "      <td>48</td>\n",
              "      <td>401</td>\n",
              "      <td>1.0</td>\n",
              "      <td>48</td>\n",
              "      <td>48</td>\n",
              "      <td>206</td>\n",
              "      <td>303</td>\n",
              "      <td>322</td>\n",
              "      <td>48</td>\n",
              "      <td>48</td>\n",
              "      <td>401</td>\n",
              "      <td>1.0</td>\n",
              "      <td>410</td>\n",
              "      <td>48</td>\n",
              "      <td>97</td>\n",
              "      <td>221</td>\n",
              "      <td>317</td>\n",
              "      <td>48</td>\n",
              "      <td>48</td>\n",
              "      <td>48</td>\n",
              "      <td>0</td>\n",
              "      <td>48</td>\n",
              "      <td>295</td>\n",
              "      <td>330</td>\n",
              "      <td>320</td>\n",
              "      <td>324</td>\n",
              "      <td>48</td>\n",
              "      <td>48</td>\n",
              "      <td>401</td>\n",
              "      <td>0</td>\n",
              "      <td>48</td>\n",
              "      <td>48</td>\n",
              "      <td>48</td>\n",
              "      <td>48</td>\n",
              "      <td>48</td>\n",
              "      <td>48</td>\n",
              "      <td>48</td>\n",
              "      <td>48</td>\n",
              "      <td>0</td>\n",
              "      <td>48</td>\n",
              "      <td>48</td>\n",
              "      <td>48</td>\n",
              "      <td>48</td>\n",
              "      <td>48</td>\n",
              "      <td>48</td>\n",
              "      <td>48</td>\n",
              "      <td>48</td>\n",
              "      <td>0</td>\n",
              "      <td>48</td>\n",
              "      <td>48</td>\n",
              "      <td>48</td>\n",
              "      <td>48</td>\n",
              "      <td>48</td>\n",
              "      <td>48</td>\n",
              "      <td>48</td>\n",
              "      <td>48</td>\n",
              "      <td>0</td>\n",
              "      <td>48</td>\n",
              "      <td>48</td>\n",
              "      <td>48</td>\n",
              "      <td>48</td>\n",
              "      <td>48</td>\n",
              "      <td>48</td>\n",
              "      <td>48</td>\n",
              "      <td>48</td>\n",
              "      <td>0</td>\n",
              "      <td>48</td>\n",
              "      <td>48</td>\n",
              "      <td>48</td>\n",
              "      <td>48</td>\n",
              "      <td>48</td>\n",
              "      <td>48</td>\n",
              "      <td>48</td>\n",
              "      <td>48</td>\n",
              "      <td>0</td>\n",
              "      <td>48</td>\n",
              "      <td>48</td>\n",
              "      <td>48</td>\n",
              "      <td>48</td>\n",
              "      <td>48</td>\n",
              "      <td>48</td>\n",
              "      <td>48</td>\n",
              "      <td>48</td>\n",
              "      <td>0</td>\n",
              "      <td>48</td>\n",
              "      <td>48</td>\n",
              "      <td>48</td>\n",
              "      <td>48</td>\n",
              "      <td>48</td>\n",
              "      <td>48</td>\n",
              "      <td>48</td>\n",
              "      <td>48</td>\n",
              "      <td>0</td>\n",
              "      <td>48</td>\n",
              "      <td>48</td>\n",
              "      <td>48</td>\n",
              "      <td>48</td>\n",
              "      <td>48</td>\n",
              "      <td>48</td>\n",
              "      <td>48</td>\n",
              "      <td>48</td>\n",
              "      <td>0</td>\n",
              "      <td>48</td>\n",
              "      <td>48</td>\n",
              "      <td>48</td>\n",
              "      <td>48</td>\n",
              "      <td>48</td>\n",
              "      <td>48</td>\n",
              "      <td>48</td>\n",
              "      <td>48</td>\n",
              "      <td>0</td>\n",
              "      <td>48</td>\n",
              "      <td>48</td>\n",
              "      <td>48</td>\n",
              "      <td>48</td>\n",
              "      <td>48</td>\n",
              "      <td>48</td>\n",
              "      <td>48</td>\n",
              "      <td>48</td>\n",
              "      <td>0</td>\n",
              "      <td>48</td>\n",
              "      <td>48</td>\n",
              "      <td>0</td>\n",
              "    </tr>\n",
              "    <tr>\n",
              "      <th>1</th>\n",
              "      <td>1635</td>\n",
              "      <td>658</td>\n",
              "      <td>146</td>\n",
              "      <td>0.005</td>\n",
              "      <td>660</td>\n",
              "      <td>1833</td>\n",
              "      <td>12.0</td>\n",
              "      <td>73</td>\n",
              "      <td>319</td>\n",
              "      <td>546</td>\n",
              "      <td>298</td>\n",
              "      <td>48</td>\n",
              "      <td>401</td>\n",
              "      <td>1.0</td>\n",
              "      <td>48</td>\n",
              "      <td>48</td>\n",
              "      <td>206</td>\n",
              "      <td>303</td>\n",
              "      <td>322</td>\n",
              "      <td>48</td>\n",
              "      <td>48</td>\n",
              "      <td>401</td>\n",
              "      <td>1.0</td>\n",
              "      <td>410</td>\n",
              "      <td>48</td>\n",
              "      <td>436</td>\n",
              "      <td>213</td>\n",
              "      <td>412</td>\n",
              "      <td>48</td>\n",
              "      <td>48</td>\n",
              "      <td>48</td>\n",
              "      <td>0</td>\n",
              "      <td>48</td>\n",
              "      <td>48</td>\n",
              "      <td>613</td>\n",
              "      <td>399</td>\n",
              "      <td>324</td>\n",
              "      <td>48</td>\n",
              "      <td>48</td>\n",
              "      <td>48</td>\n",
              "      <td>0</td>\n",
              "      <td>48</td>\n",
              "      <td>48</td>\n",
              "      <td>48</td>\n",
              "      <td>48</td>\n",
              "      <td>48</td>\n",
              "      <td>48</td>\n",
              "      <td>48</td>\n",
              "      <td>48</td>\n",
              "      <td>0</td>\n",
              "      <td>48</td>\n",
              "      <td>48</td>\n",
              "      <td>48</td>\n",
              "      <td>48</td>\n",
              "      <td>48</td>\n",
              "      <td>48</td>\n",
              "      <td>48</td>\n",
              "      <td>48</td>\n",
              "      <td>0</td>\n",
              "      <td>48</td>\n",
              "      <td>48</td>\n",
              "      <td>48</td>\n",
              "      <td>48</td>\n",
              "      <td>48</td>\n",
              "      <td>48</td>\n",
              "      <td>48</td>\n",
              "      <td>48</td>\n",
              "      <td>0</td>\n",
              "      <td>48</td>\n",
              "      <td>48</td>\n",
              "      <td>48</td>\n",
              "      <td>48</td>\n",
              "      <td>48</td>\n",
              "      <td>48</td>\n",
              "      <td>48</td>\n",
              "      <td>48</td>\n",
              "      <td>0</td>\n",
              "      <td>48</td>\n",
              "      <td>48</td>\n",
              "      <td>48</td>\n",
              "      <td>48</td>\n",
              "      <td>48</td>\n",
              "      <td>48</td>\n",
              "      <td>48</td>\n",
              "      <td>48</td>\n",
              "      <td>0</td>\n",
              "      <td>48</td>\n",
              "      <td>48</td>\n",
              "      <td>48</td>\n",
              "      <td>48</td>\n",
              "      <td>48</td>\n",
              "      <td>48</td>\n",
              "      <td>48</td>\n",
              "      <td>48</td>\n",
              "      <td>0</td>\n",
              "      <td>48</td>\n",
              "      <td>48</td>\n",
              "      <td>48</td>\n",
              "      <td>48</td>\n",
              "      <td>48</td>\n",
              "      <td>48</td>\n",
              "      <td>48</td>\n",
              "      <td>48</td>\n",
              "      <td>0</td>\n",
              "      <td>48</td>\n",
              "      <td>48</td>\n",
              "      <td>48</td>\n",
              "      <td>48</td>\n",
              "      <td>48</td>\n",
              "      <td>48</td>\n",
              "      <td>48</td>\n",
              "      <td>48</td>\n",
              "      <td>0</td>\n",
              "      <td>48</td>\n",
              "      <td>48</td>\n",
              "      <td>48</td>\n",
              "      <td>48</td>\n",
              "      <td>48</td>\n",
              "      <td>48</td>\n",
              "      <td>48</td>\n",
              "      <td>48</td>\n",
              "      <td>0</td>\n",
              "      <td>48</td>\n",
              "      <td>48</td>\n",
              "      <td>48</td>\n",
              "      <td>48</td>\n",
              "      <td>48</td>\n",
              "      <td>48</td>\n",
              "      <td>48</td>\n",
              "      <td>48</td>\n",
              "      <td>0</td>\n",
              "      <td>48</td>\n",
              "      <td>48</td>\n",
              "      <td>0</td>\n",
              "    </tr>\n",
              "    <tr>\n",
              "      <th>2</th>\n",
              "      <td>1689</td>\n",
              "      <td>658</td>\n",
              "      <td>146</td>\n",
              "      <td>0.008</td>\n",
              "      <td>660</td>\n",
              "      <td>1833</td>\n",
              "      <td>6.0</td>\n",
              "      <td>198</td>\n",
              "      <td>319</td>\n",
              "      <td>941</td>\n",
              "      <td>48</td>\n",
              "      <td>48</td>\n",
              "      <td>401</td>\n",
              "      <td>1.0</td>\n",
              "      <td>48</td>\n",
              "      <td>48</td>\n",
              "      <td>417</td>\n",
              "      <td>320</td>\n",
              "      <td>546</td>\n",
              "      <td>48</td>\n",
              "      <td>48</td>\n",
              "      <td>401</td>\n",
              "      <td>0</td>\n",
              "      <td>48</td>\n",
              "      <td>48</td>\n",
              "      <td>220</td>\n",
              "      <td>303</td>\n",
              "      <td>322</td>\n",
              "      <td>48</td>\n",
              "      <td>48</td>\n",
              "      <td>401</td>\n",
              "      <td>3.0</td>\n",
              "      <td>410</td>\n",
              "      <td>48</td>\n",
              "      <td>506</td>\n",
              "      <td>399</td>\n",
              "      <td>324</td>\n",
              "      <td>48</td>\n",
              "      <td>48</td>\n",
              "      <td>48</td>\n",
              "      <td>0</td>\n",
              "      <td>48</td>\n",
              "      <td>48</td>\n",
              "      <td>48</td>\n",
              "      <td>48</td>\n",
              "      <td>48</td>\n",
              "      <td>48</td>\n",
              "      <td>48</td>\n",
              "      <td>48</td>\n",
              "      <td>0</td>\n",
              "      <td>48</td>\n",
              "      <td>48</td>\n",
              "      <td>48</td>\n",
              "      <td>48</td>\n",
              "      <td>48</td>\n",
              "      <td>48</td>\n",
              "      <td>48</td>\n",
              "      <td>48</td>\n",
              "      <td>0</td>\n",
              "      <td>48</td>\n",
              "      <td>48</td>\n",
              "      <td>48</td>\n",
              "      <td>48</td>\n",
              "      <td>48</td>\n",
              "      <td>48</td>\n",
              "      <td>48</td>\n",
              "      <td>48</td>\n",
              "      <td>0</td>\n",
              "      <td>48</td>\n",
              "      <td>48</td>\n",
              "      <td>48</td>\n",
              "      <td>48</td>\n",
              "      <td>48</td>\n",
              "      <td>48</td>\n",
              "      <td>48</td>\n",
              "      <td>48</td>\n",
              "      <td>0</td>\n",
              "      <td>48</td>\n",
              "      <td>48</td>\n",
              "      <td>48</td>\n",
              "      <td>48</td>\n",
              "      <td>48</td>\n",
              "      <td>48</td>\n",
              "      <td>48</td>\n",
              "      <td>48</td>\n",
              "      <td>0</td>\n",
              "      <td>48</td>\n",
              "      <td>48</td>\n",
              "      <td>48</td>\n",
              "      <td>48</td>\n",
              "      <td>48</td>\n",
              "      <td>48</td>\n",
              "      <td>48</td>\n",
              "      <td>48</td>\n",
              "      <td>0</td>\n",
              "      <td>48</td>\n",
              "      <td>48</td>\n",
              "      <td>48</td>\n",
              "      <td>48</td>\n",
              "      <td>48</td>\n",
              "      <td>48</td>\n",
              "      <td>48</td>\n",
              "      <td>48</td>\n",
              "      <td>0</td>\n",
              "      <td>48</td>\n",
              "      <td>48</td>\n",
              "      <td>48</td>\n",
              "      <td>48</td>\n",
              "      <td>48</td>\n",
              "      <td>48</td>\n",
              "      <td>48</td>\n",
              "      <td>48</td>\n",
              "      <td>0</td>\n",
              "      <td>48</td>\n",
              "      <td>48</td>\n",
              "      <td>48</td>\n",
              "      <td>48</td>\n",
              "      <td>48</td>\n",
              "      <td>48</td>\n",
              "      <td>48</td>\n",
              "      <td>48</td>\n",
              "      <td>0</td>\n",
              "      <td>48</td>\n",
              "      <td>48</td>\n",
              "      <td>48</td>\n",
              "      <td>48</td>\n",
              "      <td>48</td>\n",
              "      <td>48</td>\n",
              "      <td>48</td>\n",
              "      <td>48</td>\n",
              "      <td>0</td>\n",
              "      <td>48</td>\n",
              "      <td>48</td>\n",
              "      <td>0</td>\n",
              "    </tr>\n",
              "    <tr>\n",
              "      <th>3</th>\n",
              "      <td>1617</td>\n",
              "      <td>658</td>\n",
              "      <td>146</td>\n",
              "      <td>0.008</td>\n",
              "      <td>660</td>\n",
              "      <td>1833</td>\n",
              "      <td>13.0</td>\n",
              "      <td>288</td>\n",
              "      <td>319</td>\n",
              "      <td>546</td>\n",
              "      <td>48</td>\n",
              "      <td>48</td>\n",
              "      <td>401</td>\n",
              "      <td>0</td>\n",
              "      <td>48</td>\n",
              "      <td>48</td>\n",
              "      <td>220</td>\n",
              "      <td>303</td>\n",
              "      <td>322</td>\n",
              "      <td>48</td>\n",
              "      <td>48</td>\n",
              "      <td>401</td>\n",
              "      <td>3.0</td>\n",
              "      <td>410</td>\n",
              "      <td>48</td>\n",
              "      <td>97</td>\n",
              "      <td>221</td>\n",
              "      <td>317</td>\n",
              "      <td>48</td>\n",
              "      <td>48</td>\n",
              "      <td>48</td>\n",
              "      <td>0</td>\n",
              "      <td>48</td>\n",
              "      <td>295</td>\n",
              "      <td>430</td>\n",
              "      <td>320</td>\n",
              "      <td>324</td>\n",
              "      <td>48</td>\n",
              "      <td>48</td>\n",
              "      <td>401</td>\n",
              "      <td>0</td>\n",
              "      <td>48</td>\n",
              "      <td>48</td>\n",
              "      <td>48</td>\n",
              "      <td>48</td>\n",
              "      <td>48</td>\n",
              "      <td>48</td>\n",
              "      <td>48</td>\n",
              "      <td>48</td>\n",
              "      <td>0</td>\n",
              "      <td>48</td>\n",
              "      <td>48</td>\n",
              "      <td>48</td>\n",
              "      <td>48</td>\n",
              "      <td>48</td>\n",
              "      <td>48</td>\n",
              "      <td>48</td>\n",
              "      <td>48</td>\n",
              "      <td>0</td>\n",
              "      <td>48</td>\n",
              "      <td>48</td>\n",
              "      <td>48</td>\n",
              "      <td>48</td>\n",
              "      <td>48</td>\n",
              "      <td>48</td>\n",
              "      <td>48</td>\n",
              "      <td>48</td>\n",
              "      <td>0</td>\n",
              "      <td>48</td>\n",
              "      <td>48</td>\n",
              "      <td>48</td>\n",
              "      <td>48</td>\n",
              "      <td>48</td>\n",
              "      <td>48</td>\n",
              "      <td>48</td>\n",
              "      <td>48</td>\n",
              "      <td>0</td>\n",
              "      <td>48</td>\n",
              "      <td>48</td>\n",
              "      <td>48</td>\n",
              "      <td>48</td>\n",
              "      <td>48</td>\n",
              "      <td>48</td>\n",
              "      <td>48</td>\n",
              "      <td>48</td>\n",
              "      <td>0</td>\n",
              "      <td>48</td>\n",
              "      <td>48</td>\n",
              "      <td>48</td>\n",
              "      <td>48</td>\n",
              "      <td>48</td>\n",
              "      <td>48</td>\n",
              "      <td>48</td>\n",
              "      <td>48</td>\n",
              "      <td>0</td>\n",
              "      <td>48</td>\n",
              "      <td>48</td>\n",
              "      <td>48</td>\n",
              "      <td>48</td>\n",
              "      <td>48</td>\n",
              "      <td>48</td>\n",
              "      <td>48</td>\n",
              "      <td>48</td>\n",
              "      <td>0</td>\n",
              "      <td>48</td>\n",
              "      <td>48</td>\n",
              "      <td>48</td>\n",
              "      <td>48</td>\n",
              "      <td>48</td>\n",
              "      <td>48</td>\n",
              "      <td>48</td>\n",
              "      <td>48</td>\n",
              "      <td>0</td>\n",
              "      <td>48</td>\n",
              "      <td>48</td>\n",
              "      <td>48</td>\n",
              "      <td>48</td>\n",
              "      <td>48</td>\n",
              "      <td>48</td>\n",
              "      <td>48</td>\n",
              "      <td>48</td>\n",
              "      <td>0</td>\n",
              "      <td>48</td>\n",
              "      <td>48</td>\n",
              "      <td>48</td>\n",
              "      <td>48</td>\n",
              "      <td>48</td>\n",
              "      <td>48</td>\n",
              "      <td>48</td>\n",
              "      <td>48</td>\n",
              "      <td>0</td>\n",
              "      <td>48</td>\n",
              "      <td>48</td>\n",
              "      <td>0</td>\n",
              "    </tr>\n",
              "    <tr>\n",
              "      <th>4</th>\n",
              "      <td>1669</td>\n",
              "      <td>658</td>\n",
              "      <td>146</td>\n",
              "      <td>0.008</td>\n",
              "      <td>660</td>\n",
              "      <td>1833</td>\n",
              "      <td>16.0</td>\n",
              "      <td>188</td>\n",
              "      <td>303</td>\n",
              "      <td>322</td>\n",
              "      <td>48</td>\n",
              "      <td>48</td>\n",
              "      <td>401</td>\n",
              "      <td>3.0</td>\n",
              "      <td>410</td>\n",
              "      <td>48</td>\n",
              "      <td>205</td>\n",
              "      <td>319</td>\n",
              "      <td>546</td>\n",
              "      <td>298</td>\n",
              "      <td>388</td>\n",
              "      <td>401</td>\n",
              "      <td>3.0</td>\n",
              "      <td>48</td>\n",
              "      <td>48</td>\n",
              "      <td>97</td>\n",
              "      <td>221</td>\n",
              "      <td>317</td>\n",
              "      <td>48</td>\n",
              "      <td>48</td>\n",
              "      <td>48</td>\n",
              "      <td>0</td>\n",
              "      <td>48</td>\n",
              "      <td>295</td>\n",
              "      <td>330</td>\n",
              "      <td>320</td>\n",
              "      <td>324</td>\n",
              "      <td>48</td>\n",
              "      <td>48</td>\n",
              "      <td>401</td>\n",
              "      <td>0</td>\n",
              "      <td>48</td>\n",
              "      <td>48</td>\n",
              "      <td>48</td>\n",
              "      <td>48</td>\n",
              "      <td>48</td>\n",
              "      <td>48</td>\n",
              "      <td>48</td>\n",
              "      <td>48</td>\n",
              "      <td>0</td>\n",
              "      <td>48</td>\n",
              "      <td>48</td>\n",
              "      <td>48</td>\n",
              "      <td>48</td>\n",
              "      <td>48</td>\n",
              "      <td>48</td>\n",
              "      <td>48</td>\n",
              "      <td>48</td>\n",
              "      <td>0</td>\n",
              "      <td>48</td>\n",
              "      <td>48</td>\n",
              "      <td>48</td>\n",
              "      <td>48</td>\n",
              "      <td>48</td>\n",
              "      <td>48</td>\n",
              "      <td>48</td>\n",
              "      <td>48</td>\n",
              "      <td>0</td>\n",
              "      <td>48</td>\n",
              "      <td>48</td>\n",
              "      <td>48</td>\n",
              "      <td>48</td>\n",
              "      <td>48</td>\n",
              "      <td>48</td>\n",
              "      <td>48</td>\n",
              "      <td>48</td>\n",
              "      <td>0</td>\n",
              "      <td>48</td>\n",
              "      <td>48</td>\n",
              "      <td>48</td>\n",
              "      <td>48</td>\n",
              "      <td>48</td>\n",
              "      <td>48</td>\n",
              "      <td>48</td>\n",
              "      <td>48</td>\n",
              "      <td>0</td>\n",
              "      <td>48</td>\n",
              "      <td>48</td>\n",
              "      <td>48</td>\n",
              "      <td>48</td>\n",
              "      <td>48</td>\n",
              "      <td>48</td>\n",
              "      <td>48</td>\n",
              "      <td>48</td>\n",
              "      <td>0</td>\n",
              "      <td>48</td>\n",
              "      <td>48</td>\n",
              "      <td>48</td>\n",
              "      <td>48</td>\n",
              "      <td>48</td>\n",
              "      <td>48</td>\n",
              "      <td>48</td>\n",
              "      <td>48</td>\n",
              "      <td>0</td>\n",
              "      <td>48</td>\n",
              "      <td>48</td>\n",
              "      <td>48</td>\n",
              "      <td>48</td>\n",
              "      <td>48</td>\n",
              "      <td>48</td>\n",
              "      <td>48</td>\n",
              "      <td>48</td>\n",
              "      <td>0</td>\n",
              "      <td>48</td>\n",
              "      <td>48</td>\n",
              "      <td>48</td>\n",
              "      <td>48</td>\n",
              "      <td>48</td>\n",
              "      <td>48</td>\n",
              "      <td>48</td>\n",
              "      <td>48</td>\n",
              "      <td>0</td>\n",
              "      <td>48</td>\n",
              "      <td>48</td>\n",
              "      <td>48</td>\n",
              "      <td>48</td>\n",
              "      <td>48</td>\n",
              "      <td>48</td>\n",
              "      <td>48</td>\n",
              "      <td>48</td>\n",
              "      <td>0</td>\n",
              "      <td>48</td>\n",
              "      <td>48</td>\n",
              "      <td>0</td>\n",
              "    </tr>\n",
              "  </tbody>\n",
              "</table>\n",
              "</div>\n",
              "    <div class=\"colab-df-buttons\">\n",
              "\n",
              "  <div class=\"colab-df-container\">\n",
              "    <button class=\"colab-df-convert\" onclick=\"convertToInteractive('df-0ebdcf19-7e38-493e-bedb-52bd24105ba0')\"\n",
              "            title=\"Convert this dataframe to an interactive table.\"\n",
              "            style=\"display:none;\">\n",
              "\n",
              "  <svg xmlns=\"http://www.w3.org/2000/svg\" height=\"24px\" viewBox=\"0 -960 960 960\">\n",
              "    <path d=\"M120-120v-720h720v720H120Zm60-500h600v-160H180v160Zm220 220h160v-160H400v160Zm0 220h160v-160H400v160ZM180-400h160v-160H180v160Zm440 0h160v-160H620v160ZM180-180h160v-160H180v160Zm440 0h160v-160H620v160Z\"/>\n",
              "  </svg>\n",
              "    </button>\n",
              "\n",
              "  <style>\n",
              "    .colab-df-container {\n",
              "      display:flex;\n",
              "      gap: 12px;\n",
              "    }\n",
              "\n",
              "    .colab-df-convert {\n",
              "      background-color: #E8F0FE;\n",
              "      border: none;\n",
              "      border-radius: 50%;\n",
              "      cursor: pointer;\n",
              "      display: none;\n",
              "      fill: #1967D2;\n",
              "      height: 32px;\n",
              "      padding: 0 0 0 0;\n",
              "      width: 32px;\n",
              "    }\n",
              "\n",
              "    .colab-df-convert:hover {\n",
              "      background-color: #E2EBFA;\n",
              "      box-shadow: 0px 1px 2px rgba(60, 64, 67, 0.3), 0px 1px 3px 1px rgba(60, 64, 67, 0.15);\n",
              "      fill: #174EA6;\n",
              "    }\n",
              "\n",
              "    .colab-df-buttons div {\n",
              "      margin-bottom: 4px;\n",
              "    }\n",
              "\n",
              "    [theme=dark] .colab-df-convert {\n",
              "      background-color: #3B4455;\n",
              "      fill: #D2E3FC;\n",
              "    }\n",
              "\n",
              "    [theme=dark] .colab-df-convert:hover {\n",
              "      background-color: #434B5C;\n",
              "      box-shadow: 0px 1px 3px 1px rgba(0, 0, 0, 0.15);\n",
              "      filter: drop-shadow(0px 1px 2px rgba(0, 0, 0, 0.3));\n",
              "      fill: #FFFFFF;\n",
              "    }\n",
              "  </style>\n",
              "\n",
              "    <script>\n",
              "      const buttonEl =\n",
              "        document.querySelector('#df-0ebdcf19-7e38-493e-bedb-52bd24105ba0 button.colab-df-convert');\n",
              "      buttonEl.style.display =\n",
              "        google.colab.kernel.accessAllowed ? 'block' : 'none';\n",
              "\n",
              "      async function convertToInteractive(key) {\n",
              "        const element = document.querySelector('#df-0ebdcf19-7e38-493e-bedb-52bd24105ba0');\n",
              "        const dataTable =\n",
              "          await google.colab.kernel.invokeFunction('convertToInteractive',\n",
              "                                                    [key], {});\n",
              "        if (!dataTable) return;\n",
              "\n",
              "        const docLinkHtml = 'Like what you see? Visit the ' +\n",
              "          '<a target=\"_blank\" href=https://colab.research.google.com/notebooks/data_table.ipynb>data table notebook</a>'\n",
              "          + ' to learn more about interactive tables.';\n",
              "        element.innerHTML = '';\n",
              "        dataTable['output_type'] = 'display_data';\n",
              "        await google.colab.output.renderOutput(dataTable, element);\n",
              "        const docLink = document.createElement('div');\n",
              "        docLink.innerHTML = docLinkHtml;\n",
              "        element.appendChild(docLink);\n",
              "      }\n",
              "    </script>\n",
              "  </div>\n",
              "\n",
              "\n",
              "<div id=\"df-842ac8d0-c8d6-4357-8639-8fb215981344\">\n",
              "  <button class=\"colab-df-quickchart\" onclick=\"quickchart('df-842ac8d0-c8d6-4357-8639-8fb215981344')\"\n",
              "            title=\"Suggest charts\"\n",
              "            style=\"display:none;\">\n",
              "\n",
              "<svg xmlns=\"http://www.w3.org/2000/svg\" height=\"24px\"viewBox=\"0 0 24 24\"\n",
              "     width=\"24px\">\n",
              "    <g>\n",
              "        <path d=\"M19 3H5c-1.1 0-2 .9-2 2v14c0 1.1.9 2 2 2h14c1.1 0 2-.9 2-2V5c0-1.1-.9-2-2-2zM9 17H7v-7h2v7zm4 0h-2V7h2v10zm4 0h-2v-4h2v4z\"/>\n",
              "    </g>\n",
              "</svg>\n",
              "  </button>\n",
              "\n",
              "<style>\n",
              "  .colab-df-quickchart {\n",
              "      --bg-color: #E8F0FE;\n",
              "      --fill-color: #1967D2;\n",
              "      --hover-bg-color: #E2EBFA;\n",
              "      --hover-fill-color: #174EA6;\n",
              "      --disabled-fill-color: #AAA;\n",
              "      --disabled-bg-color: #DDD;\n",
              "  }\n",
              "\n",
              "  [theme=dark] .colab-df-quickchart {\n",
              "      --bg-color: #3B4455;\n",
              "      --fill-color: #D2E3FC;\n",
              "      --hover-bg-color: #434B5C;\n",
              "      --hover-fill-color: #FFFFFF;\n",
              "      --disabled-bg-color: #3B4455;\n",
              "      --disabled-fill-color: #666;\n",
              "  }\n",
              "\n",
              "  .colab-df-quickchart {\n",
              "    background-color: var(--bg-color);\n",
              "    border: none;\n",
              "    border-radius: 50%;\n",
              "    cursor: pointer;\n",
              "    display: none;\n",
              "    fill: var(--fill-color);\n",
              "    height: 32px;\n",
              "    padding: 0;\n",
              "    width: 32px;\n",
              "  }\n",
              "\n",
              "  .colab-df-quickchart:hover {\n",
              "    background-color: var(--hover-bg-color);\n",
              "    box-shadow: 0 1px 2px rgba(60, 64, 67, 0.3), 0 1px 3px 1px rgba(60, 64, 67, 0.15);\n",
              "    fill: var(--button-hover-fill-color);\n",
              "  }\n",
              "\n",
              "  .colab-df-quickchart-complete:disabled,\n",
              "  .colab-df-quickchart-complete:disabled:hover {\n",
              "    background-color: var(--disabled-bg-color);\n",
              "    fill: var(--disabled-fill-color);\n",
              "    box-shadow: none;\n",
              "  }\n",
              "\n",
              "  .colab-df-spinner {\n",
              "    border: 2px solid var(--fill-color);\n",
              "    border-color: transparent;\n",
              "    border-bottom-color: var(--fill-color);\n",
              "    animation:\n",
              "      spin 1s steps(1) infinite;\n",
              "  }\n",
              "\n",
              "  @keyframes spin {\n",
              "    0% {\n",
              "      border-color: transparent;\n",
              "      border-bottom-color: var(--fill-color);\n",
              "      border-left-color: var(--fill-color);\n",
              "    }\n",
              "    20% {\n",
              "      border-color: transparent;\n",
              "      border-left-color: var(--fill-color);\n",
              "      border-top-color: var(--fill-color);\n",
              "    }\n",
              "    30% {\n",
              "      border-color: transparent;\n",
              "      border-left-color: var(--fill-color);\n",
              "      border-top-color: var(--fill-color);\n",
              "      border-right-color: var(--fill-color);\n",
              "    }\n",
              "    40% {\n",
              "      border-color: transparent;\n",
              "      border-right-color: var(--fill-color);\n",
              "      border-top-color: var(--fill-color);\n",
              "    }\n",
              "    60% {\n",
              "      border-color: transparent;\n",
              "      border-right-color: var(--fill-color);\n",
              "    }\n",
              "    80% {\n",
              "      border-color: transparent;\n",
              "      border-right-color: var(--fill-color);\n",
              "      border-bottom-color: var(--fill-color);\n",
              "    }\n",
              "    90% {\n",
              "      border-color: transparent;\n",
              "      border-bottom-color: var(--fill-color);\n",
              "    }\n",
              "  }\n",
              "</style>\n",
              "\n",
              "  <script>\n",
              "    async function quickchart(key) {\n",
              "      const quickchartButtonEl =\n",
              "        document.querySelector('#' + key + ' button');\n",
              "      quickchartButtonEl.disabled = true;  // To prevent multiple clicks.\n",
              "      quickchartButtonEl.classList.add('colab-df-spinner');\n",
              "      try {\n",
              "        const charts = await google.colab.kernel.invokeFunction(\n",
              "            'suggestCharts', [key], {});\n",
              "      } catch (error) {\n",
              "        console.error('Error during call to suggestCharts:', error);\n",
              "      }\n",
              "      quickchartButtonEl.classList.remove('colab-df-spinner');\n",
              "      quickchartButtonEl.classList.add('colab-df-quickchart-complete');\n",
              "    }\n",
              "    (() => {\n",
              "      let quickchartButtonEl =\n",
              "        document.querySelector('#df-842ac8d0-c8d6-4357-8639-8fb215981344 button');\n",
              "      quickchartButtonEl.style.display =\n",
              "        google.colab.kernel.accessAllowed ? 'block' : 'none';\n",
              "    })();\n",
              "  </script>\n",
              "</div>\n",
              "    </div>\n",
              "  </div>\n"
            ],
            "application/vnd.google.colaboratory.intrinsic+json": {
              "type": "dataframe",
              "variable_name": "train"
            }
          },
          "metadata": {},
          "execution_count": 9
        }
      ],
      "source": [
        "train = train.replace({np.nan: '0'})\n",
        "train['acc_sum'] = train['acc_sum'].astype(int)\n",
        "\n",
        "#hashing\n",
        "train['prompt'] = train['prompt'].apply(hash_prompt)\n",
        "train['user'] = train['user'].apply(hash_token)\n",
        "train['countries'] = train['countries'].apply(hash_token)\n",
        "train['session'] = train['session'].apply(hash_token)\n",
        "train['format'] = train['format'].apply(hash_token)\n",
        "\n",
        "train['token_1'] = train['token_1'].apply(hash_token)\n",
        "train['token_2'] = train['token_2'].apply(hash_token)\n",
        "train['token_3'] = train['token_3'].apply(hash_token)\n",
        "train['token_4'] = train['token_4'].apply(hash_token)\n",
        "train['token_5'] = train['token_5'].apply(hash_token)\n",
        "train['token_6'] = train['token_6'].apply(hash_token)\n",
        "train['token_7'] = train['token_7'].apply(hash_token)\n",
        "train['token_8'] = train['token_8'].apply(hash_token)\n",
        "train['token_9'] = train['token_9'].apply(hash_token)\n",
        "train['token_10'] = train['token_10'].apply(hash_token)\n",
        "train['token_11'] = train['token_11'].apply(hash_token)\n",
        "train['token_12'] = train['token_12'].apply(hash_token)\n",
        "train['token_13'] = train['token_13'].apply(hash_token)\n",
        "train['token_14'] = train['token_14'].apply(hash_token)\n",
        "\n",
        "train['morf_1'] = train['morf_1'].apply(hash_token)\n",
        "train['morf_2'] = train['morf_2'].apply(hash_token)\n",
        "train['morf_3'] = train['morf_3'].apply(hash_token)\n",
        "train['morf_4'] = train['morf_4'].apply(hash_token)\n",
        "train['morf_5'] = train['morf_5'].apply(hash_token)\n",
        "train['morf_6'] = train['morf_6'].apply(hash_token)\n",
        "train['morf_7'] = train['morf_7'].apply(hash_token)\n",
        "train['morf_8'] = train['morf_8'].apply(hash_token)\n",
        "train['morf_9'] = train['morf_9'].apply(hash_token)\n",
        "train['morf_10'] = train['morf_10'].apply(hash_token)\n",
        "train['morf_11'] = train['morf_11'].apply(hash_token)\n",
        "train['morf_12'] = train['morf_12'].apply(hash_token)\n",
        "train['morf_13'] = train['morf_13'].apply(hash_token)\n",
        "train['morf_14'] = train['morf_14'].apply(hash_token)\n",
        "\n",
        "train['pos_1'] = train['pos_1'].apply(hash_token)\n",
        "train['pos_2'] = train['pos_2'].apply(hash_token)\n",
        "train['pos_3'] = train['pos_3'].apply(hash_token)\n",
        "train['pos_4'] = train['pos_4'].apply(hash_token)\n",
        "train['pos_5'] = train['pos_5'].apply(hash_token)\n",
        "train['pos_6'] = train['pos_6'].apply(hash_token)\n",
        "train['pos_7'] = train['pos_7'].apply(hash_token)\n",
        "train['pos_8'] = train['pos_8'].apply(hash_token)\n",
        "train['pos_9'] = train['pos_9'].apply(hash_token)\n",
        "train['pos_10'] = train['pos_10'].apply(hash_token)\n",
        "train['pos_11'] = train['pos_11'].apply(hash_token)\n",
        "train['pos_12'] = train['pos_12'].apply(hash_token)\n",
        "train['pos_13'] = train['pos_13'].apply(hash_token)\n",
        "train['pos_14'] = train['pos_14'].apply(hash_token)\n",
        "\n",
        "train['case_1'] = train['case_1'].apply(hash_token)\n",
        "train['case_2'] = train['case_2'].apply(hash_token)\n",
        "train['case_3'] = train['case_3'].apply(hash_token)\n",
        "train['case_4'] = train['case_4'].apply(hash_token)\n",
        "train['case_5'] = train['case_5'].apply(hash_token)\n",
        "train['case_6'] = train['case_6'].apply(hash_token)\n",
        "train['case_7'] = train['case_7'].apply(hash_token)\n",
        "train['case_8'] = train['case_8'].apply(hash_token)\n",
        "train['case_9'] = train['case_9'].apply(hash_token)\n",
        "train['case_10'] = train['case_10'].apply(hash_token)\n",
        "train['case_11'] = train['case_11'].apply(hash_token)\n",
        "train['case_12'] = train['case_12'].apply(hash_token)\n",
        "train['case_13'] = train['case_13'].apply(hash_token)\n",
        "train['case_14'] = train['case_14'].apply(hash_token)\n",
        "\n",
        "train['gender_1'] = train['gender_1'].apply(hash_token)\n",
        "train['gender_2'] = train['gender_2'].apply(hash_token)\n",
        "train['gender_3'] = train['gender_3'].apply(hash_token)\n",
        "train['gender_4'] = train['gender_4'].apply(hash_token)\n",
        "train['gender_5'] = train['gender_5'].apply(hash_token)\n",
        "train['gender_6'] = train['gender_6'].apply(hash_token)\n",
        "train['gender_7'] = train['gender_7'].apply(hash_token)\n",
        "train['gender_8'] = train['gender_8'].apply(hash_token)\n",
        "train['gender_9'] = train['gender_9'].apply(hash_token)\n",
        "train['gender_10'] = train['gender_10'].apply(hash_token)\n",
        "train['gender_11'] = train['gender_11'].apply(hash_token)\n",
        "train['gender_12'] = train['gender_12'].apply(hash_token)\n",
        "train['gender_13'] = train['gender_13'].apply(hash_token)\n",
        "train['gender_14'] = train['gender_14'].apply(hash_token)\n",
        "\n",
        "train['tense_1'] = train['tense_1'].apply(hash_token)\n",
        "train['tense_2'] = train['tense_2'].apply(hash_token)\n",
        "train['tense_3'] = train['tense_3'].apply(hash_token)\n",
        "train['tense_4'] = train['tense_4'].apply(hash_token)\n",
        "train['tense_5'] = train['tense_5'].apply(hash_token)\n",
        "train['tense_6'] = train['tense_6'].apply(hash_token)\n",
        "train['tense_7'] = train['tense_7'].apply(hash_token)\n",
        "train['tense_8'] = train['tense_8'].apply(hash_token)\n",
        "train['tense_9'] = train['tense_9'].apply(hash_token)\n",
        "train['tense_10'] = train['tense_10'].apply(hash_token)\n",
        "train['tense_11'] = train['tense_11'].apply(hash_token)\n",
        "train['tense_12'] = train['tense_12'].apply(hash_token)\n",
        "train['tense_13'] = train['tense_13'].apply(hash_token)\n",
        "train['tense_14'] = train['tense_14'].apply(hash_token)\n",
        "\n",
        "train['pronType_1'] = train['pronType_1'].apply(hash_token)\n",
        "train['pronType_2'] = train['pronType_2'].apply(hash_token)\n",
        "train['pronType_3'] = train['pronType_3'].apply(hash_token)\n",
        "train['pronType_4'] = train['pronType_4'].apply(hash_token)\n",
        "train['pronType_5'] = train['pronType_5'].apply(hash_token)\n",
        "train['pronType_6'] = train['pronType_6'].apply(hash_token)\n",
        "train['pronType_7'] = train['pronType_7'].apply(hash_token)\n",
        "train['pronType_8'] = train['pronType_8'].apply(hash_token)\n",
        "train['pronType_9'] = train['pronType_9'].apply(hash_token)\n",
        "train['pronType_10'] = train['pronType_10'].apply(hash_token)\n",
        "train['pronType_11'] = train['pronType_11'].apply(hash_token)\n",
        "train['pronType_12'] = train['pronType_12'].apply(hash_token)\n",
        "train['pronType_13'] = train['pronType_13'].apply(hash_token)\n",
        "train['pronType_14'] = train['pronType_14'].apply(hash_token)\n",
        "\n",
        "train['number_1'] = train['number_1'].apply(hash_token)\n",
        "train['number_2'] = train['number_2'].apply(hash_token)\n",
        "train['number_3'] = train['number_3'].apply(hash_token)\n",
        "train['number_4'] = train['number_4'].apply(hash_token)\n",
        "train['number_5'] = train['number_5'].apply(hash_token)\n",
        "train['number_6'] = train['number_6'].apply(hash_token)\n",
        "train['number_7'] = train['number_7'].apply(hash_token)\n",
        "train['number_8'] = train['number_8'].apply(hash_token)\n",
        "train['number_9'] = train['number_9'].apply(hash_token)\n",
        "train['number_10'] = train['number_10'].apply(hash_token)\n",
        "train['number_11'] = train['number_11'].apply(hash_token)\n",
        "train['number_12'] = train['number_12'].apply(hash_token)\n",
        "train['number_13'] = train['number_13'].apply(hash_token)\n",
        "train['number_14'] = train['number_14'].apply(hash_token)\n",
        "\n",
        "train.head(5)"
      ]
    },
    {
      "cell_type": "code",
      "source": [
        "from sklearn.preprocessing import minmax_scale"
      ],
      "metadata": {
        "id": "q15StRn5g78b"
      },
      "id": "q15StRn5g78b",
      "execution_count": 10,
      "outputs": []
    },
    {
      "cell_type": "code",
      "source": [
        "scaler = minmax_scale"
      ],
      "metadata": {
        "id": "P-SPceAZhGXU"
      },
      "id": "P-SPceAZhGXU",
      "execution_count": 11,
      "outputs": []
    },
    {
      "cell_type": "code",
      "source": [
        "scaled = train\n",
        "cols_to_scale = ['days', 'time', 'person_1', 'person_2', 'person_3', 'person_4', 'person_5', 'person_6', 'person_7',\n",
        "                 'person_8', 'person_9', 'person_10', 'person_11', 'person_12', 'person_13', 'person_14'\n",
        "                 ]\n",
        "scaled[cols_to_scale] = scaler(train[cols_to_scale])\n",
        "scaled.head(5)"
      ],
      "metadata": {
        "colab": {
          "base_uri": "https://localhost:8080/",
          "height": 226
        },
        "id": "ugGE9NRxhKm3",
        "outputId": "ee1e78fe-3c79-4518-b31c-ccbb61bf852a"
      },
      "id": "ugGE9NRxhKm3",
      "execution_count": 12,
      "outputs": [
        {
          "output_type": "execute_result",
          "data": {
            "text/plain": [
              "   prompt  user  countries      days  session  format      time  token_1  \\\n",
              "0    1483   658        146  0.000038      660    1833  0.001129       73   \n",
              "1    1635   658        146  0.000114      660    1833  0.001173       73   \n",
              "2    1689   658        146  0.000229      660    1833  0.001084      198   \n",
              "3    1617   658        146  0.000229      660    1833  0.001188      288   \n",
              "4    1669   658        146  0.000229      660    1833  0.001233      188   \n",
              "\n",
              "   pos_1  morf_1  case_1  gender_1  number_1  person_1  tense_1  pronType_1  \\\n",
              "0    319     546     298        48       401  0.333333       48          48   \n",
              "1    319     546     298        48       401  0.333333       48          48   \n",
              "2    319     941      48        48       401  0.333333       48          48   \n",
              "3    319     546      48        48       401  0.000000       48          48   \n",
              "4    303     322      48        48       401  1.000000      410          48   \n",
              "\n",
              "   token_2  pos_2  morf_2  case_2  gender_2  number_2  person_2  tense_2  \\\n",
              "0      206    303     322      48        48       401  0.333333      410   \n",
              "1      206    303     322      48        48       401  0.333333      410   \n",
              "2      417    320     546      48        48       401  0.000000       48   \n",
              "3      220    303     322      48        48       401  1.000000      410   \n",
              "4      205    319     546     298       388       401  1.000000       48   \n",
              "\n",
              "   pronType_2  token_3  pos_3  morf_3  case_3  gender_3  number_3  person_3  \\\n",
              "0          48       97    221     317      48        48        48       0.0   \n",
              "1          48      436    213     412      48        48        48       0.0   \n",
              "2          48      220    303     322      48        48       401       1.0   \n",
              "3          48       97    221     317      48        48        48       0.0   \n",
              "4          48       97    221     317      48        48        48       0.0   \n",
              "\n",
              "   tense_3  pronType_3  token_4  pos_4  morf_4  case_4  gender_4  number_4  \\\n",
              "0       48         295      330    320     324      48        48       401   \n",
              "1       48          48      613    399     324      48        48        48   \n",
              "2      410          48      506    399     324      48        48        48   \n",
              "3       48         295      430    320     324      48        48       401   \n",
              "4       48         295      330    320     324      48        48       401   \n",
              "\n",
              "   person_4  tense_4  pronType_4  token_5  pos_5  morf_5  case_5  gender_5  \\\n",
              "0       0.0       48          48       48     48      48      48        48   \n",
              "1       0.0       48          48       48     48      48      48        48   \n",
              "2       0.0       48          48       48     48      48      48        48   \n",
              "3       0.0       48          48       48     48      48      48        48   \n",
              "4       0.0       48          48       48     48      48      48        48   \n",
              "\n",
              "   number_5  person_5  tense_5  pronType_5  token_6  pos_6  morf_6  case_6  \\\n",
              "0        48       0.0       48          48       48     48      48      48   \n",
              "1        48       0.0       48          48       48     48      48      48   \n",
              "2        48       0.0       48          48       48     48      48      48   \n",
              "3        48       0.0       48          48       48     48      48      48   \n",
              "4        48       0.0       48          48       48     48      48      48   \n",
              "\n",
              "   gender_6  number_6  person_6  tense_6  pronType_6  token_7  pos_7  morf_7  \\\n",
              "0        48        48       0.0       48          48       48     48      48   \n",
              "1        48        48       0.0       48          48       48     48      48   \n",
              "2        48        48       0.0       48          48       48     48      48   \n",
              "3        48        48       0.0       48          48       48     48      48   \n",
              "4        48        48       0.0       48          48       48     48      48   \n",
              "\n",
              "   case_7  gender_7  number_7  person_7  tense_7  pronType_7  token_8  pos_8  \\\n",
              "0      48        48        48       0.0       48          48       48     48   \n",
              "1      48        48        48       0.0       48          48       48     48   \n",
              "2      48        48        48       0.0       48          48       48     48   \n",
              "3      48        48        48       0.0       48          48       48     48   \n",
              "4      48        48        48       0.0       48          48       48     48   \n",
              "\n",
              "   morf_8  case_8  gender_8  number_8  person_8  tense_8  pronType_8  token_9  \\\n",
              "0      48      48        48        48       0.0       48          48       48   \n",
              "1      48      48        48        48       0.0       48          48       48   \n",
              "2      48      48        48        48       0.0       48          48       48   \n",
              "3      48      48        48        48       0.0       48          48       48   \n",
              "4      48      48        48        48       0.0       48          48       48   \n",
              "\n",
              "   pos_9  morf_9  case_9  gender_9  number_9  person_9  tense_9  pronType_9  \\\n",
              "0     48      48      48        48        48       0.0       48          48   \n",
              "1     48      48      48        48        48       0.0       48          48   \n",
              "2     48      48      48        48        48       0.0       48          48   \n",
              "3     48      48      48        48        48       0.0       48          48   \n",
              "4     48      48      48        48        48       0.0       48          48   \n",
              "\n",
              "   token_10  pos_10  morf_10  case_10  gender_10  number_10  person_10  \\\n",
              "0        48      48       48       48         48         48        0.0   \n",
              "1        48      48       48       48         48         48        0.0   \n",
              "2        48      48       48       48         48         48        0.0   \n",
              "3        48      48       48       48         48         48        0.0   \n",
              "4        48      48       48       48         48         48        0.0   \n",
              "\n",
              "   tense_10  pronType_10  token_11  pos_11  morf_11  case_11  gender_11  \\\n",
              "0        48           48        48      48       48       48         48   \n",
              "1        48           48        48      48       48       48         48   \n",
              "2        48           48        48      48       48       48         48   \n",
              "3        48           48        48      48       48       48         48   \n",
              "4        48           48        48      48       48       48         48   \n",
              "\n",
              "   number_11  person_11  tense_11  pronType_11  token_12  pos_12  morf_12  \\\n",
              "0         48        0.0        48           48        48      48       48   \n",
              "1         48        0.0        48           48        48      48       48   \n",
              "2         48        0.0        48           48        48      48       48   \n",
              "3         48        0.0        48           48        48      48       48   \n",
              "4         48        0.0        48           48        48      48       48   \n",
              "\n",
              "   case_12  gender_12  number_12  person_12  tense_12  pronType_12  token_13  \\\n",
              "0       48         48         48        0.0        48           48        48   \n",
              "1       48         48         48        0.0        48           48        48   \n",
              "2       48         48         48        0.0        48           48        48   \n",
              "3       48         48         48        0.0        48           48        48   \n",
              "4       48         48         48        0.0        48           48        48   \n",
              "\n",
              "   pos_13  morf_13  case_13  gender_13  number_13  person_13  tense_13  \\\n",
              "0      48       48       48         48         48        0.0        48   \n",
              "1      48       48       48         48         48        0.0        48   \n",
              "2      48       48       48         48         48        0.0        48   \n",
              "3      48       48       48         48         48        0.0        48   \n",
              "4      48       48       48         48         48        0.0        48   \n",
              "\n",
              "   pronType_13  token_14  pos_14  morf_14  case_14  gender_14  number_14  \\\n",
              "0           48        48      48       48       48         48         48   \n",
              "1           48        48      48       48       48         48         48   \n",
              "2           48        48      48       48       48         48         48   \n",
              "3           48        48      48       48       48         48         48   \n",
              "4           48        48      48       48       48         48         48   \n",
              "\n",
              "   person_14  tense_14  pronType_14  acc_sum  \n",
              "0        0.0        48           48        0  \n",
              "1        0.0        48           48        0  \n",
              "2        0.0        48           48        0  \n",
              "3        0.0        48           48        0  \n",
              "4        0.0        48           48        0  "
            ],
            "text/html": [
              "\n",
              "  <div id=\"df-4a48995d-e6e2-4427-91cf-6262845f966f\" class=\"colab-df-container\">\n",
              "    <div>\n",
              "<style scoped>\n",
              "    .dataframe tbody tr th:only-of-type {\n",
              "        vertical-align: middle;\n",
              "    }\n",
              "\n",
              "    .dataframe tbody tr th {\n",
              "        vertical-align: top;\n",
              "    }\n",
              "\n",
              "    .dataframe thead th {\n",
              "        text-align: right;\n",
              "    }\n",
              "</style>\n",
              "<table border=\"1\" class=\"dataframe\">\n",
              "  <thead>\n",
              "    <tr style=\"text-align: right;\">\n",
              "      <th></th>\n",
              "      <th>prompt</th>\n",
              "      <th>user</th>\n",
              "      <th>countries</th>\n",
              "      <th>days</th>\n",
              "      <th>session</th>\n",
              "      <th>format</th>\n",
              "      <th>time</th>\n",
              "      <th>token_1</th>\n",
              "      <th>pos_1</th>\n",
              "      <th>morf_1</th>\n",
              "      <th>case_1</th>\n",
              "      <th>gender_1</th>\n",
              "      <th>number_1</th>\n",
              "      <th>person_1</th>\n",
              "      <th>tense_1</th>\n",
              "      <th>pronType_1</th>\n",
              "      <th>token_2</th>\n",
              "      <th>pos_2</th>\n",
              "      <th>morf_2</th>\n",
              "      <th>case_2</th>\n",
              "      <th>gender_2</th>\n",
              "      <th>number_2</th>\n",
              "      <th>person_2</th>\n",
              "      <th>tense_2</th>\n",
              "      <th>pronType_2</th>\n",
              "      <th>token_3</th>\n",
              "      <th>pos_3</th>\n",
              "      <th>morf_3</th>\n",
              "      <th>case_3</th>\n",
              "      <th>gender_3</th>\n",
              "      <th>number_3</th>\n",
              "      <th>person_3</th>\n",
              "      <th>tense_3</th>\n",
              "      <th>pronType_3</th>\n",
              "      <th>token_4</th>\n",
              "      <th>pos_4</th>\n",
              "      <th>morf_4</th>\n",
              "      <th>case_4</th>\n",
              "      <th>gender_4</th>\n",
              "      <th>number_4</th>\n",
              "      <th>person_4</th>\n",
              "      <th>tense_4</th>\n",
              "      <th>pronType_4</th>\n",
              "      <th>token_5</th>\n",
              "      <th>pos_5</th>\n",
              "      <th>morf_5</th>\n",
              "      <th>case_5</th>\n",
              "      <th>gender_5</th>\n",
              "      <th>number_5</th>\n",
              "      <th>person_5</th>\n",
              "      <th>tense_5</th>\n",
              "      <th>pronType_5</th>\n",
              "      <th>token_6</th>\n",
              "      <th>pos_6</th>\n",
              "      <th>morf_6</th>\n",
              "      <th>case_6</th>\n",
              "      <th>gender_6</th>\n",
              "      <th>number_6</th>\n",
              "      <th>person_6</th>\n",
              "      <th>tense_6</th>\n",
              "      <th>pronType_6</th>\n",
              "      <th>token_7</th>\n",
              "      <th>pos_7</th>\n",
              "      <th>morf_7</th>\n",
              "      <th>case_7</th>\n",
              "      <th>gender_7</th>\n",
              "      <th>number_7</th>\n",
              "      <th>person_7</th>\n",
              "      <th>tense_7</th>\n",
              "      <th>pronType_7</th>\n",
              "      <th>token_8</th>\n",
              "      <th>pos_8</th>\n",
              "      <th>morf_8</th>\n",
              "      <th>case_8</th>\n",
              "      <th>gender_8</th>\n",
              "      <th>number_8</th>\n",
              "      <th>person_8</th>\n",
              "      <th>tense_8</th>\n",
              "      <th>pronType_8</th>\n",
              "      <th>token_9</th>\n",
              "      <th>pos_9</th>\n",
              "      <th>morf_9</th>\n",
              "      <th>case_9</th>\n",
              "      <th>gender_9</th>\n",
              "      <th>number_9</th>\n",
              "      <th>person_9</th>\n",
              "      <th>tense_9</th>\n",
              "      <th>pronType_9</th>\n",
              "      <th>token_10</th>\n",
              "      <th>pos_10</th>\n",
              "      <th>morf_10</th>\n",
              "      <th>case_10</th>\n",
              "      <th>gender_10</th>\n",
              "      <th>number_10</th>\n",
              "      <th>person_10</th>\n",
              "      <th>tense_10</th>\n",
              "      <th>pronType_10</th>\n",
              "      <th>token_11</th>\n",
              "      <th>pos_11</th>\n",
              "      <th>morf_11</th>\n",
              "      <th>case_11</th>\n",
              "      <th>gender_11</th>\n",
              "      <th>number_11</th>\n",
              "      <th>person_11</th>\n",
              "      <th>tense_11</th>\n",
              "      <th>pronType_11</th>\n",
              "      <th>token_12</th>\n",
              "      <th>pos_12</th>\n",
              "      <th>morf_12</th>\n",
              "      <th>case_12</th>\n",
              "      <th>gender_12</th>\n",
              "      <th>number_12</th>\n",
              "      <th>person_12</th>\n",
              "      <th>tense_12</th>\n",
              "      <th>pronType_12</th>\n",
              "      <th>token_13</th>\n",
              "      <th>pos_13</th>\n",
              "      <th>morf_13</th>\n",
              "      <th>case_13</th>\n",
              "      <th>gender_13</th>\n",
              "      <th>number_13</th>\n",
              "      <th>person_13</th>\n",
              "      <th>tense_13</th>\n",
              "      <th>pronType_13</th>\n",
              "      <th>token_14</th>\n",
              "      <th>pos_14</th>\n",
              "      <th>morf_14</th>\n",
              "      <th>case_14</th>\n",
              "      <th>gender_14</th>\n",
              "      <th>number_14</th>\n",
              "      <th>person_14</th>\n",
              "      <th>tense_14</th>\n",
              "      <th>pronType_14</th>\n",
              "      <th>acc_sum</th>\n",
              "    </tr>\n",
              "  </thead>\n",
              "  <tbody>\n",
              "    <tr>\n",
              "      <th>0</th>\n",
              "      <td>1483</td>\n",
              "      <td>658</td>\n",
              "      <td>146</td>\n",
              "      <td>0.000038</td>\n",
              "      <td>660</td>\n",
              "      <td>1833</td>\n",
              "      <td>0.001129</td>\n",
              "      <td>73</td>\n",
              "      <td>319</td>\n",
              "      <td>546</td>\n",
              "      <td>298</td>\n",
              "      <td>48</td>\n",
              "      <td>401</td>\n",
              "      <td>0.333333</td>\n",
              "      <td>48</td>\n",
              "      <td>48</td>\n",
              "      <td>206</td>\n",
              "      <td>303</td>\n",
              "      <td>322</td>\n",
              "      <td>48</td>\n",
              "      <td>48</td>\n",
              "      <td>401</td>\n",
              "      <td>0.333333</td>\n",
              "      <td>410</td>\n",
              "      <td>48</td>\n",
              "      <td>97</td>\n",
              "      <td>221</td>\n",
              "      <td>317</td>\n",
              "      <td>48</td>\n",
              "      <td>48</td>\n",
              "      <td>48</td>\n",
              "      <td>0.0</td>\n",
              "      <td>48</td>\n",
              "      <td>295</td>\n",
              "      <td>330</td>\n",
              "      <td>320</td>\n",
              "      <td>324</td>\n",
              "      <td>48</td>\n",
              "      <td>48</td>\n",
              "      <td>401</td>\n",
              "      <td>0.0</td>\n",
              "      <td>48</td>\n",
              "      <td>48</td>\n",
              "      <td>48</td>\n",
              "      <td>48</td>\n",
              "      <td>48</td>\n",
              "      <td>48</td>\n",
              "      <td>48</td>\n",
              "      <td>48</td>\n",
              "      <td>0.0</td>\n",
              "      <td>48</td>\n",
              "      <td>48</td>\n",
              "      <td>48</td>\n",
              "      <td>48</td>\n",
              "      <td>48</td>\n",
              "      <td>48</td>\n",
              "      <td>48</td>\n",
              "      <td>48</td>\n",
              "      <td>0.0</td>\n",
              "      <td>48</td>\n",
              "      <td>48</td>\n",
              "      <td>48</td>\n",
              "      <td>48</td>\n",
              "      <td>48</td>\n",
              "      <td>48</td>\n",
              "      <td>48</td>\n",
              "      <td>48</td>\n",
              "      <td>0.0</td>\n",
              "      <td>48</td>\n",
              "      <td>48</td>\n",
              "      <td>48</td>\n",
              "      <td>48</td>\n",
              "      <td>48</td>\n",
              "      <td>48</td>\n",
              "      <td>48</td>\n",
              "      <td>48</td>\n",
              "      <td>0.0</td>\n",
              "      <td>48</td>\n",
              "      <td>48</td>\n",
              "      <td>48</td>\n",
              "      <td>48</td>\n",
              "      <td>48</td>\n",
              "      <td>48</td>\n",
              "      <td>48</td>\n",
              "      <td>48</td>\n",
              "      <td>0.0</td>\n",
              "      <td>48</td>\n",
              "      <td>48</td>\n",
              "      <td>48</td>\n",
              "      <td>48</td>\n",
              "      <td>48</td>\n",
              "      <td>48</td>\n",
              "      <td>48</td>\n",
              "      <td>48</td>\n",
              "      <td>0.0</td>\n",
              "      <td>48</td>\n",
              "      <td>48</td>\n",
              "      <td>48</td>\n",
              "      <td>48</td>\n",
              "      <td>48</td>\n",
              "      <td>48</td>\n",
              "      <td>48</td>\n",
              "      <td>48</td>\n",
              "      <td>0.0</td>\n",
              "      <td>48</td>\n",
              "      <td>48</td>\n",
              "      <td>48</td>\n",
              "      <td>48</td>\n",
              "      <td>48</td>\n",
              "      <td>48</td>\n",
              "      <td>48</td>\n",
              "      <td>48</td>\n",
              "      <td>0.0</td>\n",
              "      <td>48</td>\n",
              "      <td>48</td>\n",
              "      <td>48</td>\n",
              "      <td>48</td>\n",
              "      <td>48</td>\n",
              "      <td>48</td>\n",
              "      <td>48</td>\n",
              "      <td>48</td>\n",
              "      <td>0.0</td>\n",
              "      <td>48</td>\n",
              "      <td>48</td>\n",
              "      <td>48</td>\n",
              "      <td>48</td>\n",
              "      <td>48</td>\n",
              "      <td>48</td>\n",
              "      <td>48</td>\n",
              "      <td>48</td>\n",
              "      <td>0.0</td>\n",
              "      <td>48</td>\n",
              "      <td>48</td>\n",
              "      <td>0</td>\n",
              "    </tr>\n",
              "    <tr>\n",
              "      <th>1</th>\n",
              "      <td>1635</td>\n",
              "      <td>658</td>\n",
              "      <td>146</td>\n",
              "      <td>0.000114</td>\n",
              "      <td>660</td>\n",
              "      <td>1833</td>\n",
              "      <td>0.001173</td>\n",
              "      <td>73</td>\n",
              "      <td>319</td>\n",
              "      <td>546</td>\n",
              "      <td>298</td>\n",
              "      <td>48</td>\n",
              "      <td>401</td>\n",
              "      <td>0.333333</td>\n",
              "      <td>48</td>\n",
              "      <td>48</td>\n",
              "      <td>206</td>\n",
              "      <td>303</td>\n",
              "      <td>322</td>\n",
              "      <td>48</td>\n",
              "      <td>48</td>\n",
              "      <td>401</td>\n",
              "      <td>0.333333</td>\n",
              "      <td>410</td>\n",
              "      <td>48</td>\n",
              "      <td>436</td>\n",
              "      <td>213</td>\n",
              "      <td>412</td>\n",
              "      <td>48</td>\n",
              "      <td>48</td>\n",
              "      <td>48</td>\n",
              "      <td>0.0</td>\n",
              "      <td>48</td>\n",
              "      <td>48</td>\n",
              "      <td>613</td>\n",
              "      <td>399</td>\n",
              "      <td>324</td>\n",
              "      <td>48</td>\n",
              "      <td>48</td>\n",
              "      <td>48</td>\n",
              "      <td>0.0</td>\n",
              "      <td>48</td>\n",
              "      <td>48</td>\n",
              "      <td>48</td>\n",
              "      <td>48</td>\n",
              "      <td>48</td>\n",
              "      <td>48</td>\n",
              "      <td>48</td>\n",
              "      <td>48</td>\n",
              "      <td>0.0</td>\n",
              "      <td>48</td>\n",
              "      <td>48</td>\n",
              "      <td>48</td>\n",
              "      <td>48</td>\n",
              "      <td>48</td>\n",
              "      <td>48</td>\n",
              "      <td>48</td>\n",
              "      <td>48</td>\n",
              "      <td>0.0</td>\n",
              "      <td>48</td>\n",
              "      <td>48</td>\n",
              "      <td>48</td>\n",
              "      <td>48</td>\n",
              "      <td>48</td>\n",
              "      <td>48</td>\n",
              "      <td>48</td>\n",
              "      <td>48</td>\n",
              "      <td>0.0</td>\n",
              "      <td>48</td>\n",
              "      <td>48</td>\n",
              "      <td>48</td>\n",
              "      <td>48</td>\n",
              "      <td>48</td>\n",
              "      <td>48</td>\n",
              "      <td>48</td>\n",
              "      <td>48</td>\n",
              "      <td>0.0</td>\n",
              "      <td>48</td>\n",
              "      <td>48</td>\n",
              "      <td>48</td>\n",
              "      <td>48</td>\n",
              "      <td>48</td>\n",
              "      <td>48</td>\n",
              "      <td>48</td>\n",
              "      <td>48</td>\n",
              "      <td>0.0</td>\n",
              "      <td>48</td>\n",
              "      <td>48</td>\n",
              "      <td>48</td>\n",
              "      <td>48</td>\n",
              "      <td>48</td>\n",
              "      <td>48</td>\n",
              "      <td>48</td>\n",
              "      <td>48</td>\n",
              "      <td>0.0</td>\n",
              "      <td>48</td>\n",
              "      <td>48</td>\n",
              "      <td>48</td>\n",
              "      <td>48</td>\n",
              "      <td>48</td>\n",
              "      <td>48</td>\n",
              "      <td>48</td>\n",
              "      <td>48</td>\n",
              "      <td>0.0</td>\n",
              "      <td>48</td>\n",
              "      <td>48</td>\n",
              "      <td>48</td>\n",
              "      <td>48</td>\n",
              "      <td>48</td>\n",
              "      <td>48</td>\n",
              "      <td>48</td>\n",
              "      <td>48</td>\n",
              "      <td>0.0</td>\n",
              "      <td>48</td>\n",
              "      <td>48</td>\n",
              "      <td>48</td>\n",
              "      <td>48</td>\n",
              "      <td>48</td>\n",
              "      <td>48</td>\n",
              "      <td>48</td>\n",
              "      <td>48</td>\n",
              "      <td>0.0</td>\n",
              "      <td>48</td>\n",
              "      <td>48</td>\n",
              "      <td>48</td>\n",
              "      <td>48</td>\n",
              "      <td>48</td>\n",
              "      <td>48</td>\n",
              "      <td>48</td>\n",
              "      <td>48</td>\n",
              "      <td>0.0</td>\n",
              "      <td>48</td>\n",
              "      <td>48</td>\n",
              "      <td>0</td>\n",
              "    </tr>\n",
              "    <tr>\n",
              "      <th>2</th>\n",
              "      <td>1689</td>\n",
              "      <td>658</td>\n",
              "      <td>146</td>\n",
              "      <td>0.000229</td>\n",
              "      <td>660</td>\n",
              "      <td>1833</td>\n",
              "      <td>0.001084</td>\n",
              "      <td>198</td>\n",
              "      <td>319</td>\n",
              "      <td>941</td>\n",
              "      <td>48</td>\n",
              "      <td>48</td>\n",
              "      <td>401</td>\n",
              "      <td>0.333333</td>\n",
              "      <td>48</td>\n",
              "      <td>48</td>\n",
              "      <td>417</td>\n",
              "      <td>320</td>\n",
              "      <td>546</td>\n",
              "      <td>48</td>\n",
              "      <td>48</td>\n",
              "      <td>401</td>\n",
              "      <td>0.000000</td>\n",
              "      <td>48</td>\n",
              "      <td>48</td>\n",
              "      <td>220</td>\n",
              "      <td>303</td>\n",
              "      <td>322</td>\n",
              "      <td>48</td>\n",
              "      <td>48</td>\n",
              "      <td>401</td>\n",
              "      <td>1.0</td>\n",
              "      <td>410</td>\n",
              "      <td>48</td>\n",
              "      <td>506</td>\n",
              "      <td>399</td>\n",
              "      <td>324</td>\n",
              "      <td>48</td>\n",
              "      <td>48</td>\n",
              "      <td>48</td>\n",
              "      <td>0.0</td>\n",
              "      <td>48</td>\n",
              "      <td>48</td>\n",
              "      <td>48</td>\n",
              "      <td>48</td>\n",
              "      <td>48</td>\n",
              "      <td>48</td>\n",
              "      <td>48</td>\n",
              "      <td>48</td>\n",
              "      <td>0.0</td>\n",
              "      <td>48</td>\n",
              "      <td>48</td>\n",
              "      <td>48</td>\n",
              "      <td>48</td>\n",
              "      <td>48</td>\n",
              "      <td>48</td>\n",
              "      <td>48</td>\n",
              "      <td>48</td>\n",
              "      <td>0.0</td>\n",
              "      <td>48</td>\n",
              "      <td>48</td>\n",
              "      <td>48</td>\n",
              "      <td>48</td>\n",
              "      <td>48</td>\n",
              "      <td>48</td>\n",
              "      <td>48</td>\n",
              "      <td>48</td>\n",
              "      <td>0.0</td>\n",
              "      <td>48</td>\n",
              "      <td>48</td>\n",
              "      <td>48</td>\n",
              "      <td>48</td>\n",
              "      <td>48</td>\n",
              "      <td>48</td>\n",
              "      <td>48</td>\n",
              "      <td>48</td>\n",
              "      <td>0.0</td>\n",
              "      <td>48</td>\n",
              "      <td>48</td>\n",
              "      <td>48</td>\n",
              "      <td>48</td>\n",
              "      <td>48</td>\n",
              "      <td>48</td>\n",
              "      <td>48</td>\n",
              "      <td>48</td>\n",
              "      <td>0.0</td>\n",
              "      <td>48</td>\n",
              "      <td>48</td>\n",
              "      <td>48</td>\n",
              "      <td>48</td>\n",
              "      <td>48</td>\n",
              "      <td>48</td>\n",
              "      <td>48</td>\n",
              "      <td>48</td>\n",
              "      <td>0.0</td>\n",
              "      <td>48</td>\n",
              "      <td>48</td>\n",
              "      <td>48</td>\n",
              "      <td>48</td>\n",
              "      <td>48</td>\n",
              "      <td>48</td>\n",
              "      <td>48</td>\n",
              "      <td>48</td>\n",
              "      <td>0.0</td>\n",
              "      <td>48</td>\n",
              "      <td>48</td>\n",
              "      <td>48</td>\n",
              "      <td>48</td>\n",
              "      <td>48</td>\n",
              "      <td>48</td>\n",
              "      <td>48</td>\n",
              "      <td>48</td>\n",
              "      <td>0.0</td>\n",
              "      <td>48</td>\n",
              "      <td>48</td>\n",
              "      <td>48</td>\n",
              "      <td>48</td>\n",
              "      <td>48</td>\n",
              "      <td>48</td>\n",
              "      <td>48</td>\n",
              "      <td>48</td>\n",
              "      <td>0.0</td>\n",
              "      <td>48</td>\n",
              "      <td>48</td>\n",
              "      <td>48</td>\n",
              "      <td>48</td>\n",
              "      <td>48</td>\n",
              "      <td>48</td>\n",
              "      <td>48</td>\n",
              "      <td>48</td>\n",
              "      <td>0.0</td>\n",
              "      <td>48</td>\n",
              "      <td>48</td>\n",
              "      <td>0</td>\n",
              "    </tr>\n",
              "    <tr>\n",
              "      <th>3</th>\n",
              "      <td>1617</td>\n",
              "      <td>658</td>\n",
              "      <td>146</td>\n",
              "      <td>0.000229</td>\n",
              "      <td>660</td>\n",
              "      <td>1833</td>\n",
              "      <td>0.001188</td>\n",
              "      <td>288</td>\n",
              "      <td>319</td>\n",
              "      <td>546</td>\n",
              "      <td>48</td>\n",
              "      <td>48</td>\n",
              "      <td>401</td>\n",
              "      <td>0.000000</td>\n",
              "      <td>48</td>\n",
              "      <td>48</td>\n",
              "      <td>220</td>\n",
              "      <td>303</td>\n",
              "      <td>322</td>\n",
              "      <td>48</td>\n",
              "      <td>48</td>\n",
              "      <td>401</td>\n",
              "      <td>1.000000</td>\n",
              "      <td>410</td>\n",
              "      <td>48</td>\n",
              "      <td>97</td>\n",
              "      <td>221</td>\n",
              "      <td>317</td>\n",
              "      <td>48</td>\n",
              "      <td>48</td>\n",
              "      <td>48</td>\n",
              "      <td>0.0</td>\n",
              "      <td>48</td>\n",
              "      <td>295</td>\n",
              "      <td>430</td>\n",
              "      <td>320</td>\n",
              "      <td>324</td>\n",
              "      <td>48</td>\n",
              "      <td>48</td>\n",
              "      <td>401</td>\n",
              "      <td>0.0</td>\n",
              "      <td>48</td>\n",
              "      <td>48</td>\n",
              "      <td>48</td>\n",
              "      <td>48</td>\n",
              "      <td>48</td>\n",
              "      <td>48</td>\n",
              "      <td>48</td>\n",
              "      <td>48</td>\n",
              "      <td>0.0</td>\n",
              "      <td>48</td>\n",
              "      <td>48</td>\n",
              "      <td>48</td>\n",
              "      <td>48</td>\n",
              "      <td>48</td>\n",
              "      <td>48</td>\n",
              "      <td>48</td>\n",
              "      <td>48</td>\n",
              "      <td>0.0</td>\n",
              "      <td>48</td>\n",
              "      <td>48</td>\n",
              "      <td>48</td>\n",
              "      <td>48</td>\n",
              "      <td>48</td>\n",
              "      <td>48</td>\n",
              "      <td>48</td>\n",
              "      <td>48</td>\n",
              "      <td>0.0</td>\n",
              "      <td>48</td>\n",
              "      <td>48</td>\n",
              "      <td>48</td>\n",
              "      <td>48</td>\n",
              "      <td>48</td>\n",
              "      <td>48</td>\n",
              "      <td>48</td>\n",
              "      <td>48</td>\n",
              "      <td>0.0</td>\n",
              "      <td>48</td>\n",
              "      <td>48</td>\n",
              "      <td>48</td>\n",
              "      <td>48</td>\n",
              "      <td>48</td>\n",
              "      <td>48</td>\n",
              "      <td>48</td>\n",
              "      <td>48</td>\n",
              "      <td>0.0</td>\n",
              "      <td>48</td>\n",
              "      <td>48</td>\n",
              "      <td>48</td>\n",
              "      <td>48</td>\n",
              "      <td>48</td>\n",
              "      <td>48</td>\n",
              "      <td>48</td>\n",
              "      <td>48</td>\n",
              "      <td>0.0</td>\n",
              "      <td>48</td>\n",
              "      <td>48</td>\n",
              "      <td>48</td>\n",
              "      <td>48</td>\n",
              "      <td>48</td>\n",
              "      <td>48</td>\n",
              "      <td>48</td>\n",
              "      <td>48</td>\n",
              "      <td>0.0</td>\n",
              "      <td>48</td>\n",
              "      <td>48</td>\n",
              "      <td>48</td>\n",
              "      <td>48</td>\n",
              "      <td>48</td>\n",
              "      <td>48</td>\n",
              "      <td>48</td>\n",
              "      <td>48</td>\n",
              "      <td>0.0</td>\n",
              "      <td>48</td>\n",
              "      <td>48</td>\n",
              "      <td>48</td>\n",
              "      <td>48</td>\n",
              "      <td>48</td>\n",
              "      <td>48</td>\n",
              "      <td>48</td>\n",
              "      <td>48</td>\n",
              "      <td>0.0</td>\n",
              "      <td>48</td>\n",
              "      <td>48</td>\n",
              "      <td>48</td>\n",
              "      <td>48</td>\n",
              "      <td>48</td>\n",
              "      <td>48</td>\n",
              "      <td>48</td>\n",
              "      <td>48</td>\n",
              "      <td>0.0</td>\n",
              "      <td>48</td>\n",
              "      <td>48</td>\n",
              "      <td>0</td>\n",
              "    </tr>\n",
              "    <tr>\n",
              "      <th>4</th>\n",
              "      <td>1669</td>\n",
              "      <td>658</td>\n",
              "      <td>146</td>\n",
              "      <td>0.000229</td>\n",
              "      <td>660</td>\n",
              "      <td>1833</td>\n",
              "      <td>0.001233</td>\n",
              "      <td>188</td>\n",
              "      <td>303</td>\n",
              "      <td>322</td>\n",
              "      <td>48</td>\n",
              "      <td>48</td>\n",
              "      <td>401</td>\n",
              "      <td>1.000000</td>\n",
              "      <td>410</td>\n",
              "      <td>48</td>\n",
              "      <td>205</td>\n",
              "      <td>319</td>\n",
              "      <td>546</td>\n",
              "      <td>298</td>\n",
              "      <td>388</td>\n",
              "      <td>401</td>\n",
              "      <td>1.000000</td>\n",
              "      <td>48</td>\n",
              "      <td>48</td>\n",
              "      <td>97</td>\n",
              "      <td>221</td>\n",
              "      <td>317</td>\n",
              "      <td>48</td>\n",
              "      <td>48</td>\n",
              "      <td>48</td>\n",
              "      <td>0.0</td>\n",
              "      <td>48</td>\n",
              "      <td>295</td>\n",
              "      <td>330</td>\n",
              "      <td>320</td>\n",
              "      <td>324</td>\n",
              "      <td>48</td>\n",
              "      <td>48</td>\n",
              "      <td>401</td>\n",
              "      <td>0.0</td>\n",
              "      <td>48</td>\n",
              "      <td>48</td>\n",
              "      <td>48</td>\n",
              "      <td>48</td>\n",
              "      <td>48</td>\n",
              "      <td>48</td>\n",
              "      <td>48</td>\n",
              "      <td>48</td>\n",
              "      <td>0.0</td>\n",
              "      <td>48</td>\n",
              "      <td>48</td>\n",
              "      <td>48</td>\n",
              "      <td>48</td>\n",
              "      <td>48</td>\n",
              "      <td>48</td>\n",
              "      <td>48</td>\n",
              "      <td>48</td>\n",
              "      <td>0.0</td>\n",
              "      <td>48</td>\n",
              "      <td>48</td>\n",
              "      <td>48</td>\n",
              "      <td>48</td>\n",
              "      <td>48</td>\n",
              "      <td>48</td>\n",
              "      <td>48</td>\n",
              "      <td>48</td>\n",
              "      <td>0.0</td>\n",
              "      <td>48</td>\n",
              "      <td>48</td>\n",
              "      <td>48</td>\n",
              "      <td>48</td>\n",
              "      <td>48</td>\n",
              "      <td>48</td>\n",
              "      <td>48</td>\n",
              "      <td>48</td>\n",
              "      <td>0.0</td>\n",
              "      <td>48</td>\n",
              "      <td>48</td>\n",
              "      <td>48</td>\n",
              "      <td>48</td>\n",
              "      <td>48</td>\n",
              "      <td>48</td>\n",
              "      <td>48</td>\n",
              "      <td>48</td>\n",
              "      <td>0.0</td>\n",
              "      <td>48</td>\n",
              "      <td>48</td>\n",
              "      <td>48</td>\n",
              "      <td>48</td>\n",
              "      <td>48</td>\n",
              "      <td>48</td>\n",
              "      <td>48</td>\n",
              "      <td>48</td>\n",
              "      <td>0.0</td>\n",
              "      <td>48</td>\n",
              "      <td>48</td>\n",
              "      <td>48</td>\n",
              "      <td>48</td>\n",
              "      <td>48</td>\n",
              "      <td>48</td>\n",
              "      <td>48</td>\n",
              "      <td>48</td>\n",
              "      <td>0.0</td>\n",
              "      <td>48</td>\n",
              "      <td>48</td>\n",
              "      <td>48</td>\n",
              "      <td>48</td>\n",
              "      <td>48</td>\n",
              "      <td>48</td>\n",
              "      <td>48</td>\n",
              "      <td>48</td>\n",
              "      <td>0.0</td>\n",
              "      <td>48</td>\n",
              "      <td>48</td>\n",
              "      <td>48</td>\n",
              "      <td>48</td>\n",
              "      <td>48</td>\n",
              "      <td>48</td>\n",
              "      <td>48</td>\n",
              "      <td>48</td>\n",
              "      <td>0.0</td>\n",
              "      <td>48</td>\n",
              "      <td>48</td>\n",
              "      <td>48</td>\n",
              "      <td>48</td>\n",
              "      <td>48</td>\n",
              "      <td>48</td>\n",
              "      <td>48</td>\n",
              "      <td>48</td>\n",
              "      <td>0.0</td>\n",
              "      <td>48</td>\n",
              "      <td>48</td>\n",
              "      <td>0</td>\n",
              "    </tr>\n",
              "  </tbody>\n",
              "</table>\n",
              "</div>\n",
              "    <div class=\"colab-df-buttons\">\n",
              "\n",
              "  <div class=\"colab-df-container\">\n",
              "    <button class=\"colab-df-convert\" onclick=\"convertToInteractive('df-4a48995d-e6e2-4427-91cf-6262845f966f')\"\n",
              "            title=\"Convert this dataframe to an interactive table.\"\n",
              "            style=\"display:none;\">\n",
              "\n",
              "  <svg xmlns=\"http://www.w3.org/2000/svg\" height=\"24px\" viewBox=\"0 -960 960 960\">\n",
              "    <path d=\"M120-120v-720h720v720H120Zm60-500h600v-160H180v160Zm220 220h160v-160H400v160Zm0 220h160v-160H400v160ZM180-400h160v-160H180v160Zm440 0h160v-160H620v160ZM180-180h160v-160H180v160Zm440 0h160v-160H620v160Z\"/>\n",
              "  </svg>\n",
              "    </button>\n",
              "\n",
              "  <style>\n",
              "    .colab-df-container {\n",
              "      display:flex;\n",
              "      gap: 12px;\n",
              "    }\n",
              "\n",
              "    .colab-df-convert {\n",
              "      background-color: #E8F0FE;\n",
              "      border: none;\n",
              "      border-radius: 50%;\n",
              "      cursor: pointer;\n",
              "      display: none;\n",
              "      fill: #1967D2;\n",
              "      height: 32px;\n",
              "      padding: 0 0 0 0;\n",
              "      width: 32px;\n",
              "    }\n",
              "\n",
              "    .colab-df-convert:hover {\n",
              "      background-color: #E2EBFA;\n",
              "      box-shadow: 0px 1px 2px rgba(60, 64, 67, 0.3), 0px 1px 3px 1px rgba(60, 64, 67, 0.15);\n",
              "      fill: #174EA6;\n",
              "    }\n",
              "\n",
              "    .colab-df-buttons div {\n",
              "      margin-bottom: 4px;\n",
              "    }\n",
              "\n",
              "    [theme=dark] .colab-df-convert {\n",
              "      background-color: #3B4455;\n",
              "      fill: #D2E3FC;\n",
              "    }\n",
              "\n",
              "    [theme=dark] .colab-df-convert:hover {\n",
              "      background-color: #434B5C;\n",
              "      box-shadow: 0px 1px 3px 1px rgba(0, 0, 0, 0.15);\n",
              "      filter: drop-shadow(0px 1px 2px rgba(0, 0, 0, 0.3));\n",
              "      fill: #FFFFFF;\n",
              "    }\n",
              "  </style>\n",
              "\n",
              "    <script>\n",
              "      const buttonEl =\n",
              "        document.querySelector('#df-4a48995d-e6e2-4427-91cf-6262845f966f button.colab-df-convert');\n",
              "      buttonEl.style.display =\n",
              "        google.colab.kernel.accessAllowed ? 'block' : 'none';\n",
              "\n",
              "      async function convertToInteractive(key) {\n",
              "        const element = document.querySelector('#df-4a48995d-e6e2-4427-91cf-6262845f966f');\n",
              "        const dataTable =\n",
              "          await google.colab.kernel.invokeFunction('convertToInteractive',\n",
              "                                                    [key], {});\n",
              "        if (!dataTable) return;\n",
              "\n",
              "        const docLinkHtml = 'Like what you see? Visit the ' +\n",
              "          '<a target=\"_blank\" href=https://colab.research.google.com/notebooks/data_table.ipynb>data table notebook</a>'\n",
              "          + ' to learn more about interactive tables.';\n",
              "        element.innerHTML = '';\n",
              "        dataTable['output_type'] = 'display_data';\n",
              "        await google.colab.output.renderOutput(dataTable, element);\n",
              "        const docLink = document.createElement('div');\n",
              "        docLink.innerHTML = docLinkHtml;\n",
              "        element.appendChild(docLink);\n",
              "      }\n",
              "    </script>\n",
              "  </div>\n",
              "\n",
              "\n",
              "<div id=\"df-471167d2-7380-46b4-b063-9df4f4dc802a\">\n",
              "  <button class=\"colab-df-quickchart\" onclick=\"quickchart('df-471167d2-7380-46b4-b063-9df4f4dc802a')\"\n",
              "            title=\"Suggest charts\"\n",
              "            style=\"display:none;\">\n",
              "\n",
              "<svg xmlns=\"http://www.w3.org/2000/svg\" height=\"24px\"viewBox=\"0 0 24 24\"\n",
              "     width=\"24px\">\n",
              "    <g>\n",
              "        <path d=\"M19 3H5c-1.1 0-2 .9-2 2v14c0 1.1.9 2 2 2h14c1.1 0 2-.9 2-2V5c0-1.1-.9-2-2-2zM9 17H7v-7h2v7zm4 0h-2V7h2v10zm4 0h-2v-4h2v4z\"/>\n",
              "    </g>\n",
              "</svg>\n",
              "  </button>\n",
              "\n",
              "<style>\n",
              "  .colab-df-quickchart {\n",
              "      --bg-color: #E8F0FE;\n",
              "      --fill-color: #1967D2;\n",
              "      --hover-bg-color: #E2EBFA;\n",
              "      --hover-fill-color: #174EA6;\n",
              "      --disabled-fill-color: #AAA;\n",
              "      --disabled-bg-color: #DDD;\n",
              "  }\n",
              "\n",
              "  [theme=dark] .colab-df-quickchart {\n",
              "      --bg-color: #3B4455;\n",
              "      --fill-color: #D2E3FC;\n",
              "      --hover-bg-color: #434B5C;\n",
              "      --hover-fill-color: #FFFFFF;\n",
              "      --disabled-bg-color: #3B4455;\n",
              "      --disabled-fill-color: #666;\n",
              "  }\n",
              "\n",
              "  .colab-df-quickchart {\n",
              "    background-color: var(--bg-color);\n",
              "    border: none;\n",
              "    border-radius: 50%;\n",
              "    cursor: pointer;\n",
              "    display: none;\n",
              "    fill: var(--fill-color);\n",
              "    height: 32px;\n",
              "    padding: 0;\n",
              "    width: 32px;\n",
              "  }\n",
              "\n",
              "  .colab-df-quickchart:hover {\n",
              "    background-color: var(--hover-bg-color);\n",
              "    box-shadow: 0 1px 2px rgba(60, 64, 67, 0.3), 0 1px 3px 1px rgba(60, 64, 67, 0.15);\n",
              "    fill: var(--button-hover-fill-color);\n",
              "  }\n",
              "\n",
              "  .colab-df-quickchart-complete:disabled,\n",
              "  .colab-df-quickchart-complete:disabled:hover {\n",
              "    background-color: var(--disabled-bg-color);\n",
              "    fill: var(--disabled-fill-color);\n",
              "    box-shadow: none;\n",
              "  }\n",
              "\n",
              "  .colab-df-spinner {\n",
              "    border: 2px solid var(--fill-color);\n",
              "    border-color: transparent;\n",
              "    border-bottom-color: var(--fill-color);\n",
              "    animation:\n",
              "      spin 1s steps(1) infinite;\n",
              "  }\n",
              "\n",
              "  @keyframes spin {\n",
              "    0% {\n",
              "      border-color: transparent;\n",
              "      border-bottom-color: var(--fill-color);\n",
              "      border-left-color: var(--fill-color);\n",
              "    }\n",
              "    20% {\n",
              "      border-color: transparent;\n",
              "      border-left-color: var(--fill-color);\n",
              "      border-top-color: var(--fill-color);\n",
              "    }\n",
              "    30% {\n",
              "      border-color: transparent;\n",
              "      border-left-color: var(--fill-color);\n",
              "      border-top-color: var(--fill-color);\n",
              "      border-right-color: var(--fill-color);\n",
              "    }\n",
              "    40% {\n",
              "      border-color: transparent;\n",
              "      border-right-color: var(--fill-color);\n",
              "      border-top-color: var(--fill-color);\n",
              "    }\n",
              "    60% {\n",
              "      border-color: transparent;\n",
              "      border-right-color: var(--fill-color);\n",
              "    }\n",
              "    80% {\n",
              "      border-color: transparent;\n",
              "      border-right-color: var(--fill-color);\n",
              "      border-bottom-color: var(--fill-color);\n",
              "    }\n",
              "    90% {\n",
              "      border-color: transparent;\n",
              "      border-bottom-color: var(--fill-color);\n",
              "    }\n",
              "  }\n",
              "</style>\n",
              "\n",
              "  <script>\n",
              "    async function quickchart(key) {\n",
              "      const quickchartButtonEl =\n",
              "        document.querySelector('#' + key + ' button');\n",
              "      quickchartButtonEl.disabled = true;  // To prevent multiple clicks.\n",
              "      quickchartButtonEl.classList.add('colab-df-spinner');\n",
              "      try {\n",
              "        const charts = await google.colab.kernel.invokeFunction(\n",
              "            'suggestCharts', [key], {});\n",
              "      } catch (error) {\n",
              "        console.error('Error during call to suggestCharts:', error);\n",
              "      }\n",
              "      quickchartButtonEl.classList.remove('colab-df-spinner');\n",
              "      quickchartButtonEl.classList.add('colab-df-quickchart-complete');\n",
              "    }\n",
              "    (() => {\n",
              "      let quickchartButtonEl =\n",
              "        document.querySelector('#df-471167d2-7380-46b4-b063-9df4f4dc802a button');\n",
              "      quickchartButtonEl.style.display =\n",
              "        google.colab.kernel.accessAllowed ? 'block' : 'none';\n",
              "    })();\n",
              "  </script>\n",
              "</div>\n",
              "    </div>\n",
              "  </div>\n"
            ],
            "application/vnd.google.colaboratory.intrinsic+json": {
              "type": "dataframe",
              "variable_name": "scaled"
            }
          },
          "metadata": {},
          "execution_count": 12
        }
      ]
    },
    {
      "cell_type": "markdown",
      "id": "8030d41f-9015-4ac6-8f44-c09ab4bf70aa",
      "metadata": {
        "id": "8030d41f-9015-4ac6-8f44-c09ab4bf70aa"
      },
      "source": [
        "Resampling"
      ]
    },
    {
      "cell_type": "code",
      "execution_count": 13,
      "id": "f0a3487f-3b25-48ca-9fdc-77e639f41720",
      "metadata": {
        "id": "f0a3487f-3b25-48ca-9fdc-77e639f41720"
      },
      "outputs": [],
      "source": [
        "X = train.drop('acc_sum', axis = 1)\n",
        "y = train['acc_sum'].astype(int)"
      ]
    },
    {
      "cell_type": "code",
      "source": [
        "print('Total values:', train.shape[0])\n",
        "print('Classes:')\n",
        "print(y.value_counts())\n",
        "y.value_counts(normalize = True) *100"
      ],
      "metadata": {
        "colab": {
          "base_uri": "https://localhost:8080/"
        },
        "id": "-5rYyI4UDM3i",
        "outputId": "f9ee7329-8613-49d4-f8a5-df8a81cb1564"
      },
      "id": "-5rYyI4UDM3i",
      "execution_count": 14,
      "outputs": [
        {
          "output_type": "stream",
          "name": "stdout",
          "text": [
            "Total values: 46511\n",
            "Classes:\n",
            "acc_sum\n",
            "0    33796\n",
            "1    12715\n",
            "Name: count, dtype: int64\n"
          ]
        },
        {
          "output_type": "execute_result",
          "data": {
            "text/plain": [
              "acc_sum\n",
              "0    72.662381\n",
              "1    27.337619\n",
              "Name: proportion, dtype: float64"
            ]
          },
          "metadata": {},
          "execution_count": 14
        }
      ]
    },
    {
      "cell_type": "code",
      "source": [
        "X_scaled = scaled.drop('acc_sum', axis = 1)\n",
        "y_scaled = scaled['acc_sum'].astype(int)"
      ],
      "metadata": {
        "id": "QLHTLcj0hbtO"
      },
      "id": "QLHTLcj0hbtO",
      "execution_count": 15,
      "outputs": []
    },
    {
      "cell_type": "code",
      "source": [
        "print('Total values:', scaled.shape[0])\n",
        "print('Classes:')\n",
        "print(y_scaled.value_counts())\n",
        "y_scaled.value_counts(normalize = True) *100"
      ],
      "metadata": {
        "colab": {
          "base_uri": "https://localhost:8080/"
        },
        "id": "aqRK5jaAht3p",
        "outputId": "e356837f-baf5-499d-8277-347d0aefc010"
      },
      "id": "aqRK5jaAht3p",
      "execution_count": 16,
      "outputs": [
        {
          "output_type": "stream",
          "name": "stdout",
          "text": [
            "Total values: 46511\n",
            "Classes:\n",
            "acc_sum\n",
            "0    33796\n",
            "1    12715\n",
            "Name: count, dtype: int64\n"
          ]
        },
        {
          "output_type": "execute_result",
          "data": {
            "text/plain": [
              "acc_sum\n",
              "0    72.662381\n",
              "1    27.337619\n",
              "Name: proportion, dtype: float64"
            ]
          },
          "metadata": {},
          "execution_count": 16
        }
      ]
    },
    {
      "cell_type": "code",
      "source": [
        "from sklearn.model_selection import train_test_split"
      ],
      "metadata": {
        "id": "8oZiWGr4Eoef"
      },
      "id": "8oZiWGr4Eoef",
      "execution_count": 17,
      "outputs": []
    },
    {
      "cell_type": "code",
      "execution_count": 18,
      "id": "ccdefd35-0dca-48ab-9f1b-76b658c481a6",
      "metadata": {
        "id": "ccdefd35-0dca-48ab-9f1b-76b658c481a6"
      },
      "outputs": [],
      "source": [
        "X_train, X_test, y_train, y_test = train_test_split(X,\n",
        "                                                    y, test_size = 0.20,\n",
        "                                                    random_state = 24)"
      ]
    },
    {
      "cell_type": "code",
      "source": [
        "print('Total values:', X_train.shape[0])\n",
        "print('Classes:')\n",
        "print(y_train.value_counts())\n",
        "y_train.value_counts(normalize = True) *100"
      ],
      "metadata": {
        "colab": {
          "base_uri": "https://localhost:8080/"
        },
        "id": "-EN1f071llUf",
        "outputId": "f8d73aee-d414-4390-9484-54df2b7c4f3b"
      },
      "id": "-EN1f071llUf",
      "execution_count": 19,
      "outputs": [
        {
          "output_type": "stream",
          "name": "stdout",
          "text": [
            "Total values: 37208\n",
            "Classes:\n",
            "acc_sum\n",
            "0    27018\n",
            "1    10190\n",
            "Name: count, dtype: int64\n"
          ]
        },
        {
          "output_type": "execute_result",
          "data": {
            "text/plain": [
              "acc_sum\n",
              "0    72.613416\n",
              "1    27.386584\n",
              "Name: proportion, dtype: float64"
            ]
          },
          "metadata": {},
          "execution_count": 19
        }
      ]
    },
    {
      "cell_type": "code",
      "source": [
        "y_train.value_counts().plot(kind = 'bar', title = 'English-Spanish training dataset')"
      ],
      "metadata": {
        "colab": {
          "base_uri": "https://localhost:8080/",
          "height": 484
        },
        "id": "Msx-xnJAduBo",
        "outputId": "14fe7a40-f562-45da-a620-c870d073e430"
      },
      "id": "Msx-xnJAduBo",
      "execution_count": 20,
      "outputs": [
        {
          "output_type": "execute_result",
          "data": {
            "text/plain": [
              "<Axes: title={'center': 'English-Spanish training dataset'}, xlabel='acc_sum'>"
            ]
          },
          "metadata": {},
          "execution_count": 20
        },
        {
          "output_type": "display_data",
          "data": {
            "text/plain": [
              "<Figure size 640x480 with 1 Axes>"
            ],
            "image/png": "[encoded data removed]"
          },
          "metadata": {}
        }
      ]
    },
    {
      "cell_type": "code",
      "source": [
        "print('Total values:', X_test.shape[0])\n",
        "print('Classes:')\n",
        "y_test.value_counts()"
      ],
      "metadata": {
        "colab": {
          "base_uri": "https://localhost:8080/"
        },
        "id": "V16NnoAZmtiU",
        "outputId": "81ae00bc-3adc-452e-9e22-2611b2d5d64c"
      },
      "id": "V16NnoAZmtiU",
      "execution_count": 21,
      "outputs": [
        {
          "output_type": "stream",
          "name": "stdout",
          "text": [
            "Total values: 9303\n",
            "Classes:\n"
          ]
        },
        {
          "output_type": "execute_result",
          "data": {
            "text/plain": [
              "acc_sum\n",
              "0    6778\n",
              "1    2525\n",
              "Name: count, dtype: int64"
            ]
          },
          "metadata": {},
          "execution_count": 21
        }
      ]
    },
    {
      "cell_type": "code",
      "source": [
        "Xs_train, Xs_test, ys_train, ys_test = train_test_split(X_scaled,\n",
        "                                                    y_scaled, test_size = 0.20,\n",
        "                                                    random_state = 24)"
      ],
      "metadata": {
        "id": "u92yXgt3h56K"
      },
      "id": "u92yXgt3h56K",
      "execution_count": 22,
      "outputs": []
    },
    {
      "cell_type": "code",
      "source": [
        "print('Total values:', Xs_train.shape[0])\n",
        "print('Classes:')\n",
        "ys_train.value_counts()"
      ],
      "metadata": {
        "colab": {
          "base_uri": "https://localhost:8080/"
        },
        "id": "u0prDvO3h_5L",
        "outputId": "3f653182-6d6a-4ab2-a4f1-c754c2ec94de"
      },
      "id": "u0prDvO3h_5L",
      "execution_count": 23,
      "outputs": [
        {
          "output_type": "stream",
          "name": "stdout",
          "text": [
            "Total values: 37208\n",
            "Classes:\n"
          ]
        },
        {
          "output_type": "execute_result",
          "data": {
            "text/plain": [
              "acc_sum\n",
              "0    27018\n",
              "1    10190\n",
              "Name: count, dtype: int64"
            ]
          },
          "metadata": {},
          "execution_count": 23
        }
      ]
    },
    {
      "cell_type": "code",
      "source": [
        "print('Total values:', Xs_test.shape[0])\n",
        "print('Classes:')\n",
        "ys_test.value_counts()"
      ],
      "metadata": {
        "colab": {
          "base_uri": "https://localhost:8080/"
        },
        "id": "OLWEGxH8iHFD",
        "outputId": "eae5ebd8-c127-46f2-b40b-6fce8eb92677"
      },
      "id": "OLWEGxH8iHFD",
      "execution_count": 24,
      "outputs": [
        {
          "output_type": "stream",
          "name": "stdout",
          "text": [
            "Total values: 9303\n",
            "Classes:\n"
          ]
        },
        {
          "output_type": "execute_result",
          "data": {
            "text/plain": [
              "acc_sum\n",
              "0    6778\n",
              "1    2525\n",
              "Name: count, dtype: int64"
            ]
          },
          "metadata": {},
          "execution_count": 24
        }
      ]
    },
    {
      "cell_type": "code",
      "execution_count": 25,
      "id": "0a1f7fba-30bf-45b8-a9de-a55a3d34f957",
      "metadata": {
        "colab": {
          "base_uri": "https://localhost:8080/"
        },
        "id": "0a1f7fba-30bf-45b8-a9de-a55a3d34f957",
        "outputId": "a8e87e87-9872-4c21-91b7-a70af079cfad"
      },
      "outputs": [
        {
          "output_type": "stream",
          "name": "stdout",
          "text": [
            "Collecting imblearn\n",
            "  Downloading imblearn-0.0-py2.py3-none-any.whl (1.9 kB)\n",
            "Requirement already satisfied: imbalanced-learn in /usr/local/lib/python3.10/dist-packages (from imblearn) (0.10.1)\n",
            "Requirement already satisfied: numpy>=1.17.3 in /usr/local/lib/python3.10/dist-packages (from imbalanced-learn->imblearn) (1.25.2)\n",
            "Requirement already satisfied: scipy>=1.3.2 in /usr/local/lib/python3.10/dist-packages (from imbalanced-learn->imblearn) (1.11.4)\n",
            "Requirement already satisfied: scikit-learn>=1.0.2 in /usr/local/lib/python3.10/dist-packages (from imbalanced-learn->imblearn) (1.2.2)\n",
            "Requirement already satisfied: joblib>=1.1.1 in /usr/local/lib/python3.10/dist-packages (from imbalanced-learn->imblearn) (1.4.2)\n",
            "Requirement already satisfied: threadpoolctl>=2.0.0 in /usr/local/lib/python3.10/dist-packages (from imbalanced-learn->imblearn) (3.5.0)\n",
            "Installing collected packages: imblearn\n",
            "Successfully installed imblearn-0.0\n"
          ]
        }
      ],
      "source": [
        "!pip install imblearn"
      ]
    },
    {
      "cell_type": "markdown",
      "source": [
        "Oversampling"
      ],
      "metadata": {
        "id": "L5MjZlBz-WA9"
      },
      "id": "L5MjZlBz-WA9"
    },
    {
      "cell_type": "code",
      "execution_count": 26,
      "id": "zB1e1do0NCOY",
      "metadata": {
        "id": "zB1e1do0NCOY"
      },
      "outputs": [],
      "source": [
        "from imblearn.over_sampling import RandomOverSampler"
      ]
    },
    {
      "cell_type": "code",
      "execution_count": 27,
      "id": "IJKDK_HENFJ_",
      "metadata": {
        "id": "IJKDK_HENFJ_"
      },
      "outputs": [],
      "source": [
        "ros = RandomOverSampler(sampling_strategy = \"not majority\")"
      ]
    },
    {
      "cell_type": "code",
      "execution_count": 28,
      "id": "GAwe4rCvNIPK",
      "metadata": {
        "id": "GAwe4rCvNIPK"
      },
      "outputs": [],
      "source": [
        "X_over, y_over = ros.fit_resample(X_train, y_train)"
      ]
    },
    {
      "cell_type": "code",
      "source": [
        "print('Total values:', X_over.shape[0])\n",
        "print('Classes:')\n",
        "y_over.value_counts()"
      ],
      "metadata": {
        "colab": {
          "base_uri": "https://localhost:8080/"
        },
        "id": "9g50A33CltMA",
        "outputId": "1d91f1cb-4204-4f5f-ee2c-e61435839803"
      },
      "id": "9g50A33CltMA",
      "execution_count": 29,
      "outputs": [
        {
          "output_type": "stream",
          "name": "stdout",
          "text": [
            "Total values: 54036\n",
            "Classes:\n"
          ]
        },
        {
          "output_type": "execute_result",
          "data": {
            "text/plain": [
              "acc_sum\n",
              "0    27018\n",
              "1    27018\n",
              "Name: count, dtype: int64"
            ]
          },
          "metadata": {},
          "execution_count": 29
        }
      ]
    },
    {
      "cell_type": "code",
      "execution_count": 30,
      "id": "f1e402b8-48e0-45f2-ae3f-5b6211002fc9",
      "metadata": {
        "colab": {
          "base_uri": "https://localhost:8080/",
          "height": 484
        },
        "id": "f1e402b8-48e0-45f2-ae3f-5b6211002fc9",
        "outputId": "e6e638da-d393-4268-fc2a-b375106b9629"
      },
      "outputs": [
        {
          "output_type": "execute_result",
          "data": {
            "text/plain": [
              "<Axes: title={'center': 'Oversampled training en-es dataset'}, xlabel='acc_sum'>"
            ]
          },
          "metadata": {},
          "execution_count": 30
        },
        {
          "output_type": "display_data",
          "data": {
            "text/plain": [
              "<Figure size 640x480 with 1 Axes>"
            ],
            "image/png": "[encoded data removed]"
          },
          "metadata": {}
        }
      ],
      "source": [
        "y_over.value_counts().plot(kind = 'bar', title = 'Oversampled training en-es dataset')"
      ]
    },
    {
      "cell_type": "code",
      "source": [
        "Xs_over, ys_over = ros.fit_resample(Xs_train, ys_train)\n",
        "print('Total values:', Xs_over.shape[0])\n",
        "print('Classes:')\n",
        "ys_over.value_counts()"
      ],
      "metadata": {
        "colab": {
          "base_uri": "https://localhost:8080/"
        },
        "id": "ZEY4X7LEiSIW",
        "outputId": "899165be-215e-4941-891e-f51442131567"
      },
      "id": "ZEY4X7LEiSIW",
      "execution_count": 31,
      "outputs": [
        {
          "output_type": "stream",
          "name": "stdout",
          "text": [
            "Total values: 54036\n",
            "Classes:\n"
          ]
        },
        {
          "output_type": "execute_result",
          "data": {
            "text/plain": [
              "acc_sum\n",
              "0    27018\n",
              "1    27018\n",
              "Name: count, dtype: int64"
            ]
          },
          "metadata": {},
          "execution_count": 31
        }
      ]
    },
    {
      "cell_type": "markdown",
      "source": [
        "Undersampling"
      ],
      "metadata": {
        "id": "_QfvODre-ahw"
      },
      "id": "_QfvODre-ahw"
    },
    {
      "cell_type": "code",
      "execution_count": 32,
      "id": "6e23c8dc-da03-4ecd-851a-0a2472142516",
      "metadata": {
        "id": "6e23c8dc-da03-4ecd-851a-0a2472142516"
      },
      "outputs": [],
      "source": [
        "from imblearn.under_sampling import RandomUnderSampler"
      ]
    },
    {
      "cell_type": "code",
      "source": [
        "rus = RandomUnderSampler(sampling_strategy = \"not minority\")"
      ],
      "metadata": {
        "id": "XJaaxMgb-r5K"
      },
      "id": "XJaaxMgb-r5K",
      "execution_count": 33,
      "outputs": []
    },
    {
      "cell_type": "code",
      "execution_count": 34,
      "id": "2642eca7-0995-4239-96f5-6505feff3b3a",
      "metadata": {
        "id": "2642eca7-0995-4239-96f5-6505feff3b3a"
      },
      "outputs": [],
      "source": [
        "X_under, y_under = rus.fit_resample(X_train, y_train)"
      ]
    },
    {
      "cell_type": "code",
      "source": [
        "print('Total values:', X_under.shape[0])\n",
        "print('Classes:')\n",
        "y_under.value_counts()"
      ],
      "metadata": {
        "colab": {
          "base_uri": "https://localhost:8080/"
        },
        "id": "BNllL7H4lxCY",
        "outputId": "eda33ece-9b30-4460-83e3-d6b0d7ae8479"
      },
      "id": "BNllL7H4lxCY",
      "execution_count": 35,
      "outputs": [
        {
          "output_type": "stream",
          "name": "stdout",
          "text": [
            "Total values: 20380\n",
            "Classes:\n"
          ]
        },
        {
          "output_type": "execute_result",
          "data": {
            "text/plain": [
              "acc_sum\n",
              "0    10190\n",
              "1    10190\n",
              "Name: count, dtype: int64"
            ]
          },
          "metadata": {},
          "execution_count": 35
        }
      ]
    },
    {
      "cell_type": "code",
      "source": [
        "y_under.value_counts().plot(kind = 'bar', title = 'Undersampled training en-es dataset')"
      ],
      "metadata": {
        "colab": {
          "base_uri": "https://localhost:8080/",
          "height": 484
        },
        "id": "gnrVSUwy-uOD",
        "outputId": "d71c3dea-40ac-438e-e19b-c808c15d614a"
      },
      "id": "gnrVSUwy-uOD",
      "execution_count": 36,
      "outputs": [
        {
          "output_type": "execute_result",
          "data": {
            "text/plain": [
              "<Axes: title={'center': 'Undersampled training en-es dataset'}, xlabel='acc_sum'>"
            ]
          },
          "metadata": {},
          "execution_count": 36
        },
        {
          "output_type": "display_data",
          "data": {
            "text/plain": [
              "<Figure size 640x480 with 1 Axes>"
            ],
            "image/png": "[encoded data removed]"
          },
          "metadata": {}
        }
      ]
    },
    {
      "cell_type": "code",
      "source": [
        "Xs_under, ys_under = rus.fit_resample(Xs_train, ys_train)\n",
        "print('Total values:', Xs_under.shape[0])\n",
        "print('Classes:')\n",
        "ys_under.value_counts()"
      ],
      "metadata": {
        "colab": {
          "base_uri": "https://localhost:8080/"
        },
        "id": "D1q9PrvfihxF",
        "outputId": "cacf201c-0012-4b2e-ebba-7786d343a77f"
      },
      "id": "D1q9PrvfihxF",
      "execution_count": 37,
      "outputs": [
        {
          "output_type": "stream",
          "name": "stdout",
          "text": [
            "Total values: 20380\n",
            "Classes:\n"
          ]
        },
        {
          "output_type": "execute_result",
          "data": {
            "text/plain": [
              "acc_sum\n",
              "0    10190\n",
              "1    10190\n",
              "Name: count, dtype: int64"
            ]
          },
          "metadata": {},
          "execution_count": 37
        }
      ]
    },
    {
      "cell_type": "markdown",
      "source": [
        "Decision Tree model - oversampled dataset"
      ],
      "metadata": {
        "id": "fNRBBxCVA4Da"
      },
      "id": "fNRBBxCVA4Da"
    },
    {
      "cell_type": "code",
      "execution_count": 38,
      "id": "48cbddae-c0e1-4691-9e92-9e6cbbe9fc40",
      "metadata": {
        "id": "48cbddae-c0e1-4691-9e92-9e6cbbe9fc40"
      },
      "outputs": [],
      "source": [
        "from sklearn.tree import DecisionTreeClassifier\n",
        "from sklearn import metrics"
      ]
    },
    {
      "cell_type": "code",
      "source": [
        "parameter = {\n",
        "    'criterion' :['entropy', 'gini', 'log_loss'],\n",
        "    'max_depth':[30, 40, 50, 60],\n",
        "    'max_features':['sqrt', 'log2'],\n",
        "    'min_samples_split':[10, 20, 30, 40, 50],\n",
        "    'min_samples_leaf': [10, 20, 30, 40, 50]\n",
        "}\n",
        "\n",
        "model = DecisionTreeClassifier()\n",
        "from sklearn.model_selection import RandomizedSearchCV\n",
        "cv = RandomizedSearchCV(model, param_distributions = parameter, n_iter = 50)"
      ],
      "metadata": {
        "id": "eLaxVmLsEO6C"
      },
      "id": "eLaxVmLsEO6C",
      "execution_count": 39,
      "outputs": []
    },
    {
      "cell_type": "code",
      "source": [
        "cv.fit(X_over, y_over)\n",
        "cv.score(X_over, y_over)\n",
        "cv.best_params_"
      ],
      "metadata": {
        "colab": {
          "base_uri": "https://localhost:8080/"
        },
        "id": "tnk1ApWVEZP-",
        "outputId": "0ea7c250-7b4b-4e49-e2ca-212f0d535cf8"
      },
      "id": "tnk1ApWVEZP-",
      "execution_count": 40,
      "outputs": [
        {
          "output_type": "execute_result",
          "data": {
            "text/plain": [
              "{'min_samples_split': 10,\n",
              " 'min_samples_leaf': 10,\n",
              " 'max_features': 'sqrt',\n",
              " 'max_depth': 40,\n",
              " 'criterion': 'gini'}"
            ]
          },
          "metadata": {},
          "execution_count": 40
        }
      ]
    },
    {
      "cell_type": "code",
      "execution_count": 41,
      "id": "1c4f62ce-ee3a-45a3-8cfb-ac6577e58232",
      "metadata": {
        "id": "1c4f62ce-ee3a-45a3-8cfb-ac6577e58232"
      },
      "outputs": [],
      "source": [
        "dt_o = DecisionTreeClassifier(criterion = 'gini',\n",
        "                                 max_depth = 40,\n",
        "                                 max_features = 'sqrt',\n",
        "                                 min_samples_leaf = 10,\n",
        "                                 min_samples_split = 10\n",
        "                                 )"
      ]
    },
    {
      "cell_type": "code",
      "execution_count": 42,
      "id": "1c3d08f9-03c5-416e-836d-a05d7402e63c",
      "metadata": {
        "colab": {
          "base_uri": "https://localhost:8080/",
          "height": 92
        },
        "id": "1c3d08f9-03c5-416e-836d-a05d7402e63c",
        "outputId": "279468f0-34a7-481e-ff03-13b3ba58c836"
      },
      "outputs": [
        {
          "output_type": "execute_result",
          "data": {
            "text/plain": [
              "DecisionTreeClassifier(max_depth=40, max_features='sqrt', min_samples_leaf=10,\n",
              "                       min_samples_split=10)"
            ],
            "text/html": [
              "<style>#sk-container-id-1 {color: black;background-color: white;}#sk-container-id-1 pre{padding: 0;}#sk-container-id-1 div.sk-toggleable {background-color: white;}#sk-container-id-1 label.sk-toggleable__label {cursor: pointer;display: block;width: 100%;margin-bottom: 0;padding: 0.3em;box-sizing: border-box;text-align: center;}#sk-container-id-1 label.sk-toggleable__label-arrow:before {content: \"▸\";float: left;margin-right: 0.25em;color: #696969;}#sk-container-id-1 label.sk-toggleable__label-arrow:hover:before {color: black;}#sk-container-id-1 div.sk-estimator:hover label.sk-toggleable__label-arrow:before {color: black;}#sk-container-id-1 div.sk-toggleable__content {max-height: 0;max-width: 0;overflow: hidden;text-align: left;background-color: #f0f8ff;}#sk-container-id-1 div.sk-toggleable__content pre {margin: 0.2em;color: black;border-radius: 0.25em;background-color: #f0f8ff;}#sk-container-id-1 input.sk-toggleable__control:checked~div.sk-toggleable__content {max-height: 200px;max-width: 100%;overflow: auto;}#sk-container-id-1 input.sk-toggleable__control:checked~label.sk-toggleable__label-arrow:before {content: \"▾\";}#sk-container-id-1 div.sk-estimator input.sk-toggleable__control:checked~label.sk-toggleable__label {background-color: #d4ebff;}#sk-container-id-1 div.sk-label input.sk-toggleable__control:checked~label.sk-toggleable__label {background-color: #d4ebff;}#sk-container-id-1 input.sk-hidden--visually {border: 0;clip: rect(1px 1px 1px 1px);clip: rect(1px, 1px, 1px, 1px);height: 1px;margin: -1px;overflow: hidden;padding: 0;position: absolute;width: 1px;}#sk-container-id-1 div.sk-estimator {font-family: monospace;background-color: #f0f8ff;border: 1px dotted black;border-radius: 0.25em;box-sizing: border-box;margin-bottom: 0.5em;}#sk-container-id-1 div.sk-estimator:hover {background-color: #d4ebff;}#sk-container-id-1 div.sk-parallel-item::after {content: \"\";width: 100%;border-bottom: 1px solid gray;flex-grow: 1;}#sk-container-id-1 div.sk-label:hover label.sk-toggleable__label {background-color: #d4ebff;}#sk-container-id-1 div.sk-serial::before {content: \"\";position: absolute;border-left: 1px solid gray;box-sizing: border-box;top: 0;bottom: 0;left: 50%;z-index: 0;}#sk-container-id-1 div.sk-serial {display: flex;flex-direction: column;align-items: center;background-color: white;padding-right: 0.2em;padding-left: 0.2em;position: relative;}#sk-container-id-1 div.sk-item {position: relative;z-index: 1;}#sk-container-id-1 div.sk-parallel {display: flex;align-items: stretch;justify-content: center;background-color: white;position: relative;}#sk-container-id-1 div.sk-item::before, #sk-container-id-1 div.sk-parallel-item::before {content: \"\";position: absolute;border-left: 1px solid gray;box-sizing: border-box;top: 0;bottom: 0;left: 50%;z-index: -1;}#sk-container-id-1 div.sk-parallel-item {display: flex;flex-direction: column;z-index: 1;position: relative;background-color: white;}#sk-container-id-1 div.sk-parallel-item:first-child::after {align-self: flex-end;width: 50%;}#sk-container-id-1 div.sk-parallel-item:last-child::after {align-self: flex-start;width: 50%;}#sk-container-id-1 div.sk-parallel-item:only-child::after {width: 0;}#sk-container-id-1 div.sk-dashed-wrapped {border: 1px dashed gray;margin: 0 0.4em 0.5em 0.4em;box-sizing: border-box;padding-bottom: 0.4em;background-color: white;}#sk-container-id-1 div.sk-label label {font-family: monospace;font-weight: bold;display: inline-block;line-height: 1.2em;}#sk-container-id-1 div.sk-label-container {text-align: center;}#sk-container-id-1 div.sk-container {/* jupyter's `normalize.less` sets `[hidden] { display: none; }` but bootstrap.min.css set `[hidden] { display: none !important; }` so we also need the `!important` here to be able to override the default hidden behavior on the sphinx rendered scikit-learn.org. See: https://github.com/scikit-learn/scikit-learn/issues/21755 */display: inline-block !important;position: relative;}#sk-container-id-1 div.sk-text-repr-fallback {display: none;}</style><div id=\"sk-container-id-1\" class=\"sk-top-container\"><div class=\"sk-text-repr-fallback\"><pre>DecisionTreeClassifier(max_depth=40, max_features=&#x27;sqrt&#x27;, min_samples_leaf=10,\n",
              "                       min_samples_split=10)</pre><b>In a Jupyter environment, please rerun this cell to show the HTML representation or trust the notebook. <br />On GitHub, the HTML representation is unable to render, please try loading this page with nbviewer.org.</b></div><div class=\"sk-container\" hidden><div class=\"sk-item\"><div class=\"sk-estimator sk-toggleable\"><input class=\"sk-toggleable__control sk-hidden--visually\" id=\"sk-estimator-id-1\" type=\"checkbox\" checked><label for=\"sk-estimator-id-1\" class=\"sk-toggleable__label sk-toggleable__label-arrow\">DecisionTreeClassifier</label><div class=\"sk-toggleable__content\"><pre>DecisionTreeClassifier(max_depth=40, max_features=&#x27;sqrt&#x27;, min_samples_leaf=10,\n",
              "                       min_samples_split=10)</pre></div></div></div></div></div>"
            ]
          },
          "metadata": {},
          "execution_count": 42
        }
      ],
      "source": [
        "dt_o.fit(X_over, y_over)"
      ]
    },
    {
      "cell_type": "code",
      "execution_count": 43,
      "id": "b7dce8a3-03bf-40ef-9358-515ce82c5038",
      "metadata": {
        "id": "b7dce8a3-03bf-40ef-9358-515ce82c5038"
      },
      "outputs": [],
      "source": [
        "y_o_dt = dt_o.predict(X_test)"
      ]
    },
    {
      "cell_type": "code",
      "execution_count": 44,
      "id": "3f474eef-9fb0-4cbb-807f-09787f814a65",
      "metadata": {
        "id": "3f474eef-9fb0-4cbb-807f-09787f814a65"
      },
      "outputs": [],
      "source": [
        "from sklearn.metrics import classification_report"
      ]
    },
    {
      "cell_type": "code",
      "execution_count": 45,
      "id": "80a18455-c74b-49df-983c-cc6c9331b468",
      "metadata": {
        "colab": {
          "base_uri": "https://localhost:8080/"
        },
        "id": "80a18455-c74b-49df-983c-cc6c9331b468",
        "outputId": "a06e981a-1efd-44b7-f4d4-96f145da8313"
      },
      "outputs": [
        {
          "output_type": "stream",
          "name": "stdout",
          "text": [
            "              precision    recall  f1-score   support\n",
            "\n",
            "           0       0.82      0.64      0.72      6778\n",
            "           1       0.39      0.63      0.48      2525\n",
            "\n",
            "    accuracy                           0.64      9303\n",
            "   macro avg       0.61      0.63      0.60      9303\n",
            "weighted avg       0.71      0.64      0.66      9303\n",
            "\n"
          ]
        }
      ],
      "source": [
        "print(classification_report(y_test, y_o_dt))"
      ]
    },
    {
      "cell_type": "code",
      "execution_count": 46,
      "id": "ea5ca264-9717-499d-b5b3-33b43abe715a",
      "metadata": {
        "id": "ea5ca264-9717-499d-b5b3-33b43abe715a"
      },
      "outputs": [],
      "source": [
        "from sklearn.metrics import accuracy_score, confusion_matrix, roc_auc_score, roc_curve"
      ]
    },
    {
      "cell_type": "code",
      "source": [
        "y_prob_o = dt_o.predict_proba(X_test)[:, 1]"
      ],
      "metadata": {
        "id": "lnd2E-Ry05n3"
      },
      "id": "lnd2E-Ry05n3",
      "execution_count": 47,
      "outputs": []
    },
    {
      "cell_type": "code",
      "execution_count": 48,
      "id": "6d94647b-97a0-40e7-87df-aad02116a8f9",
      "metadata": {
        "colab": {
          "base_uri": "https://localhost:8080/"
        },
        "id": "6d94647b-97a0-40e7-87df-aad02116a8f9",
        "outputId": "66a7bdd3-cabf-4cc1-9570-65ff1bbc69ce"
      },
      "outputs": [
        {
          "output_type": "execute_result",
          "data": {
            "text/plain": [
              "0.6924724720922962"
            ]
          },
          "metadata": {},
          "execution_count": 48
        }
      ],
      "source": [
        "roc_auc_score(y_test, y_prob_o)"
      ]
    },
    {
      "cell_type": "code",
      "execution_count": 49,
      "id": "Wp8gmuDP8bcP",
      "metadata": {
        "id": "Wp8gmuDP8bcP"
      },
      "outputs": [],
      "source": [
        "fpr_o, tpr_o, _ = roc_curve(y_test,  y_prob_o)"
      ]
    },
    {
      "cell_type": "code",
      "execution_count": 50,
      "id": "GMvs0HZt9N4l",
      "metadata": {
        "colab": {
          "base_uri": "https://localhost:8080/",
          "height": 472
        },
        "id": "GMvs0HZt9N4l",
        "outputId": "2a9a083d-5888-42a1-8e81-ee8021dadc54"
      },
      "outputs": [
        {
          "output_type": "display_data",
          "data": {
            "text/plain": [
              "<Figure size 640x480 with 1 Axes>"
            ],
            "image/png": "[encoded data removed]"
          },
          "metadata": {}
        }
      ],
      "source": [
        "plt.plot(fpr_o, tpr_o)\n",
        "plt.ylabel('True Positive Rate')\n",
        "plt.xlabel('False Positive Rate')\n",
        "plt.title('Decision Tree, Oversampled en-es dataset')\n",
        "plt.show()"
      ]
    },
    {
      "cell_type": "code",
      "execution_count": 51,
      "id": "bcf49f5c-5d11-45f3-ac01-cc11e7dc4730",
      "metadata": {
        "id": "bcf49f5c-5d11-45f3-ac01-cc11e7dc4730"
      },
      "outputs": [],
      "source": [
        "confusion_matrix_oversampled = confusion_matrix(y_test, y_o_dt)"
      ]
    },
    {
      "cell_type": "code",
      "execution_count": 52,
      "id": "11a85485-d117-4797-b1fe-21e4aef3e94a",
      "metadata": {
        "colab": {
          "base_uri": "https://localhost:8080/"
        },
        "id": "11a85485-d117-4797-b1fe-21e4aef3e94a",
        "outputId": "16157e19-2573-4dc8-a11f-046068cb4132"
      },
      "outputs": [
        {
          "output_type": "stream",
          "name": "stdout",
          "text": [
            "[[4343 2435]\n",
            " [ 945 1580]]\n"
          ]
        }
      ],
      "source": [
        "print(confusion_matrix_oversampled)"
      ]
    },
    {
      "cell_type": "markdown",
      "source": [
        "Decision Tree - Undersampled dataset"
      ],
      "metadata": {
        "id": "7RvQKXpABrUP"
      },
      "id": "7RvQKXpABrUP"
    },
    {
      "cell_type": "code",
      "source": [
        "cv.fit(X_under, y_under)\n",
        "cv.score(X_under, y_under)\n",
        "cv.best_params_"
      ],
      "metadata": {
        "id": "jJh2IQpI3Xbk",
        "outputId": "39ea57b6-13e0-4d7a-9e91-e2a15a328bc2",
        "colab": {
          "base_uri": "https://localhost:8080/"
        }
      },
      "id": "jJh2IQpI3Xbk",
      "execution_count": 53,
      "outputs": [
        {
          "output_type": "execute_result",
          "data": {
            "text/plain": [
              "{'min_samples_split': 10,\n",
              " 'min_samples_leaf': 40,\n",
              " 'max_features': 'sqrt',\n",
              " 'max_depth': 30,\n",
              " 'criterion': 'entropy'}"
            ]
          },
          "metadata": {},
          "execution_count": 53
        }
      ]
    },
    {
      "cell_type": "code",
      "source": [
        "dt_u = DecisionTreeClassifier(criterion = 'entropy',\n",
        "                                 max_depth = 30,\n",
        "                                 max_features = 'sqrt',\n",
        "                                 min_samples_leaf = 40,\n",
        "                                 min_samples_split = 10\n",
        "                                 )"
      ],
      "metadata": {
        "id": "Omr0b06yBvBm"
      },
      "id": "Omr0b06yBvBm",
      "execution_count": 54,
      "outputs": []
    },
    {
      "cell_type": "code",
      "source": [
        "dt_u.fit(X_under, y_under)"
      ],
      "metadata": {
        "colab": {
          "base_uri": "https://localhost:8080/",
          "height": 92
        },
        "id": "TQBiCVcPBvE1",
        "outputId": "d2e9d1db-3098-4ec8-b884-05ece5354fc3"
      },
      "id": "TQBiCVcPBvE1",
      "execution_count": 55,
      "outputs": [
        {
          "output_type": "execute_result",
          "data": {
            "text/plain": [
              "DecisionTreeClassifier(criterion='entropy', max_depth=30, max_features='sqrt',\n",
              "                       min_samples_leaf=40, min_samples_split=10)"
            ],
            "text/html": [
              "<style>#sk-container-id-2 {color: black;background-color: white;}#sk-container-id-2 pre{padding: 0;}#sk-container-id-2 div.sk-toggleable {background-color: white;}#sk-container-id-2 label.sk-toggleable__label {cursor: pointer;display: block;width: 100%;margin-bottom: 0;padding: 0.3em;box-sizing: border-box;text-align: center;}#sk-container-id-2 label.sk-toggleable__label-arrow:before {content: \"▸\";float: left;margin-right: 0.25em;color: #696969;}#sk-container-id-2 label.sk-toggleable__label-arrow:hover:before {color: black;}#sk-container-id-2 div.sk-estimator:hover label.sk-toggleable__label-arrow:before {color: black;}#sk-container-id-2 div.sk-toggleable__content {max-height: 0;max-width: 0;overflow: hidden;text-align: left;background-color: #f0f8ff;}#sk-container-id-2 div.sk-toggleable__content pre {margin: 0.2em;color: black;border-radius: 0.25em;background-color: #f0f8ff;}#sk-container-id-2 input.sk-toggleable__control:checked~div.sk-toggleable__content {max-height: 200px;max-width: 100%;overflow: auto;}#sk-container-id-2 input.sk-toggleable__control:checked~label.sk-toggleable__label-arrow:before {content: \"▾\";}#sk-container-id-2 div.sk-estimator input.sk-toggleable__control:checked~label.sk-toggleable__label {background-color: #d4ebff;}#sk-container-id-2 div.sk-label input.sk-toggleable__control:checked~label.sk-toggleable__label {background-color: #d4ebff;}#sk-container-id-2 input.sk-hidden--visually {border: 0;clip: rect(1px 1px 1px 1px);clip: rect(1px, 1px, 1px, 1px);height: 1px;margin: -1px;overflow: hidden;padding: 0;position: absolute;width: 1px;}#sk-container-id-2 div.sk-estimator {font-family: monospace;background-color: #f0f8ff;border: 1px dotted black;border-radius: 0.25em;box-sizing: border-box;margin-bottom: 0.5em;}#sk-container-id-2 div.sk-estimator:hover {background-color: #d4ebff;}#sk-container-id-2 div.sk-parallel-item::after {content: \"\";width: 100%;border-bottom: 1px solid gray;flex-grow: 1;}#sk-container-id-2 div.sk-label:hover label.sk-toggleable__label {background-color: #d4ebff;}#sk-container-id-2 div.sk-serial::before {content: \"\";position: absolute;border-left: 1px solid gray;box-sizing: border-box;top: 0;bottom: 0;left: 50%;z-index: 0;}#sk-container-id-2 div.sk-serial {display: flex;flex-direction: column;align-items: center;background-color: white;padding-right: 0.2em;padding-left: 0.2em;position: relative;}#sk-container-id-2 div.sk-item {position: relative;z-index: 1;}#sk-container-id-2 div.sk-parallel {display: flex;align-items: stretch;justify-content: center;background-color: white;position: relative;}#sk-container-id-2 div.sk-item::before, #sk-container-id-2 div.sk-parallel-item::before {content: \"\";position: absolute;border-left: 1px solid gray;box-sizing: border-box;top: 0;bottom: 0;left: 50%;z-index: -1;}#sk-container-id-2 div.sk-parallel-item {display: flex;flex-direction: column;z-index: 1;position: relative;background-color: white;}#sk-container-id-2 div.sk-parallel-item:first-child::after {align-self: flex-end;width: 50%;}#sk-container-id-2 div.sk-parallel-item:last-child::after {align-self: flex-start;width: 50%;}#sk-container-id-2 div.sk-parallel-item:only-child::after {width: 0;}#sk-container-id-2 div.sk-dashed-wrapped {border: 1px dashed gray;margin: 0 0.4em 0.5em 0.4em;box-sizing: border-box;padding-bottom: 0.4em;background-color: white;}#sk-container-id-2 div.sk-label label {font-family: monospace;font-weight: bold;display: inline-block;line-height: 1.2em;}#sk-container-id-2 div.sk-label-container {text-align: center;}#sk-container-id-2 div.sk-container {/* jupyter's `normalize.less` sets `[hidden] { display: none; }` but bootstrap.min.css set `[hidden] { display: none !important; }` so we also need the `!important` here to be able to override the default hidden behavior on the sphinx rendered scikit-learn.org. See: https://github.com/scikit-learn/scikit-learn/issues/21755 */display: inline-block !important;position: relative;}#sk-container-id-2 div.sk-text-repr-fallback {display: none;}</style><div id=\"sk-container-id-2\" class=\"sk-top-container\"><div class=\"sk-text-repr-fallback\"><pre>DecisionTreeClassifier(criterion=&#x27;entropy&#x27;, max_depth=30, max_features=&#x27;sqrt&#x27;,\n",
              "                       min_samples_leaf=40, min_samples_split=10)</pre><b>In a Jupyter environment, please rerun this cell to show the HTML representation or trust the notebook. <br />On GitHub, the HTML representation is unable to render, please try loading this page with nbviewer.org.</b></div><div class=\"sk-container\" hidden><div class=\"sk-item\"><div class=\"sk-estimator sk-toggleable\"><input class=\"sk-toggleable__control sk-hidden--visually\" id=\"sk-estimator-id-2\" type=\"checkbox\" checked><label for=\"sk-estimator-id-2\" class=\"sk-toggleable__label sk-toggleable__label-arrow\">DecisionTreeClassifier</label><div class=\"sk-toggleable__content\"><pre>DecisionTreeClassifier(criterion=&#x27;entropy&#x27;, max_depth=30, max_features=&#x27;sqrt&#x27;,\n",
              "                       min_samples_leaf=40, min_samples_split=10)</pre></div></div></div></div></div>"
            ]
          },
          "metadata": {},
          "execution_count": 55
        }
      ]
    },
    {
      "cell_type": "code",
      "source": [
        "y_u_dt = dt_u.predict(X_test)"
      ],
      "metadata": {
        "id": "oc06vZBCBvHx"
      },
      "id": "oc06vZBCBvHx",
      "execution_count": 56,
      "outputs": []
    },
    {
      "cell_type": "code",
      "source": [
        "print(classification_report(y_test, y_u_dt))"
      ],
      "metadata": {
        "colab": {
          "base_uri": "https://localhost:8080/"
        },
        "id": "Hvdddp_FBvJ7",
        "outputId": "3d33b6a3-0684-4d2d-eb6b-02ff2bc25112"
      },
      "id": "Hvdddp_FBvJ7",
      "execution_count": 57,
      "outputs": [
        {
          "output_type": "stream",
          "name": "stdout",
          "text": [
            "              precision    recall  f1-score   support\n",
            "\n",
            "           0       0.83      0.60      0.69      6778\n",
            "           1       0.38      0.68      0.49      2525\n",
            "\n",
            "    accuracy                           0.62      9303\n",
            "   macro avg       0.61      0.64      0.59      9303\n",
            "weighted avg       0.71      0.62      0.64      9303\n",
            "\n"
          ]
        }
      ]
    },
    {
      "cell_type": "code",
      "source": [
        "y_prob_u = dt_u.predict_proba(X_test)[:, 1]"
      ],
      "metadata": {
        "id": "NRH3w5sr6Qsk"
      },
      "id": "NRH3w5sr6Qsk",
      "execution_count": 58,
      "outputs": []
    },
    {
      "cell_type": "code",
      "source": [
        "roc_auc_score(y_test, y_prob_u)"
      ],
      "metadata": {
        "colab": {
          "base_uri": "https://localhost:8080/"
        },
        "id": "AokQdVQfBvMu",
        "outputId": "5dbc5871-8570-48cc-e404-be1b899a6c80"
      },
      "id": "AokQdVQfBvMu",
      "execution_count": 59,
      "outputs": [
        {
          "output_type": "execute_result",
          "data": {
            "text/plain": [
              "0.6959476056782427"
            ]
          },
          "metadata": {},
          "execution_count": 59
        }
      ]
    },
    {
      "cell_type": "code",
      "source": [
        "fpr_u, tpr_u, _ = roc_curve(y_test,  y_prob_u)"
      ],
      "metadata": {
        "id": "NNYIRPVmBvnZ"
      },
      "id": "NNYIRPVmBvnZ",
      "execution_count": 60,
      "outputs": []
    },
    {
      "cell_type": "code",
      "source": [
        "plt.plot(fpr_u, tpr_u)\n",
        "plt.ylabel('True Positive Rate')\n",
        "plt.xlabel('False Positive Rate')\n",
        "plt.title('Decision Tree, Undersampled en-es dataset')\n",
        "plt.show()"
      ],
      "metadata": {
        "colab": {
          "base_uri": "https://localhost:8080/",
          "height": 472
        },
        "id": "RZeEWME-BvqD",
        "outputId": "fd89f71d-5eac-457d-95a0-9cca390df5c7"
      },
      "id": "RZeEWME-BvqD",
      "execution_count": 61,
      "outputs": [
        {
          "output_type": "display_data",
          "data": {
            "text/plain": [
              "<Figure size 640x480 with 1 Axes>"
            ],
            "image/png": "[encoded data removed]"
          },
          "metadata": {}
        }
      ]
    },
    {
      "cell_type": "code",
      "source": [
        "confusion_matrix_undersampled = confusion_matrix(y_test, y_u_dt)"
      ],
      "metadata": {
        "id": "4oKf5qp8CrQg"
      },
      "id": "4oKf5qp8CrQg",
      "execution_count": 62,
      "outputs": []
    },
    {
      "cell_type": "code",
      "source": [
        "print(confusion_matrix_undersampled)"
      ],
      "metadata": {
        "colab": {
          "base_uri": "https://localhost:8080/"
        },
        "id": "uvOZQVqxCrYN",
        "outputId": "6598c60d-ef22-4bbc-fb9f-c80f68f60413"
      },
      "id": "uvOZQVqxCrYN",
      "execution_count": 63,
      "outputs": [
        {
          "output_type": "stream",
          "name": "stdout",
          "text": [
            "[[4036 2742]\n",
            " [ 816 1709]]\n"
          ]
        }
      ]
    },
    {
      "cell_type": "code",
      "source": [
        "plt.plot(fpr_o, tpr_o, label= \"Oversampled\")\n",
        "plt.plot(fpr_u, tpr_u, label= \"Undersapled\")\n",
        "plt.legend()\n",
        "plt.ylabel('True Positive Rate')\n",
        "plt.xlabel('False Positive Rate')\n",
        "plt.title('Decision Tree, English-Spanish dataset')\n",
        "plt.show()"
      ],
      "metadata": {
        "colab": {
          "base_uri": "https://localhost:8080/",
          "height": 472
        },
        "id": "6BsOSfZZ-oMo",
        "outputId": "7d00e48a-cb8f-4944-f953-a82a4c7f8bbe"
      },
      "id": "6BsOSfZZ-oMo",
      "execution_count": 64,
      "outputs": [
        {
          "output_type": "display_data",
          "data": {
            "text/plain": [
              "<Figure size 640x480 with 1 Axes>"
            ],
            "image/png": "[encoded data removed]"
          },
          "metadata": {}
        }
      ]
    },
    {
      "cell_type": "markdown",
      "source": [
        "Gradient Boosted Decision Tree"
      ],
      "metadata": {
        "id": "jogVejgtgLfU"
      },
      "id": "jogVejgtgLfU"
    },
    {
      "cell_type": "code",
      "source": [
        "from sklearn.ensemble import GradientBoostingClassifier"
      ],
      "metadata": {
        "id": "s51Z1mZAgKnt"
      },
      "id": "s51Z1mZAgKnt",
      "execution_count": 65,
      "outputs": []
    },
    {
      "cell_type": "code",
      "source": [
        "parameter = {\n",
        "    'n_estimators':[10, 20, 30, 40, 50],\n",
        "    'max_depth':[30, 40, 50, 60],\n",
        "    'max_features':['sqrt', 'log2'],\n",
        "    'min_samples_split':[10, 20, 30, 40, 50],\n",
        "    'min_samples_leaf': [10, 20, 30, 40, 50]\n",
        "}\n",
        "\n",
        "model = GradientBoostingClassifier()\n",
        "from sklearn.model_selection import RandomizedSearchCV\n",
        "cv = RandomizedSearchCV(model, param_distributions = parameter, n_iter = 50)"
      ],
      "metadata": {
        "id": "jF59AsJ9gdth"
      },
      "id": "jF59AsJ9gdth",
      "execution_count": 66,
      "outputs": []
    },
    {
      "cell_type": "code",
      "source": [
        "cv.fit(X_over, y_over)\n",
        "cv.score(X_over, y_over)\n",
        "cv.best_params_"
      ],
      "metadata": {
        "colab": {
          "base_uri": "https://localhost:8080/"
        },
        "id": "_tVJ9htygdxM",
        "outputId": "3e2032cf-4089-405b-db7e-b26dffee7d57"
      },
      "id": "_tVJ9htygdxM",
      "execution_count": 67,
      "outputs": [
        {
          "output_type": "execute_result",
          "data": {
            "text/plain": [
              "{'n_estimators': 50,\n",
              " 'min_samples_split': 10,\n",
              " 'min_samples_leaf': 10,\n",
              " 'max_features': 'sqrt',\n",
              " 'max_depth': 60}"
            ]
          },
          "metadata": {},
          "execution_count": 67
        }
      ]
    },
    {
      "cell_type": "code",
      "source": [
        "gbdt_o = GradientBoostingClassifier(n_estimators = 50,\n",
        "                                 max_depth = 60,\n",
        "                                 max_features = 'sqrt',\n",
        "                                 min_samples_leaf = 10,\n",
        "                                 min_samples_split = 10\n",
        "                                 )"
      ],
      "metadata": {
        "id": "s_HF1ds-gdz2"
      },
      "id": "s_HF1ds-gdz2",
      "execution_count": 68,
      "outputs": []
    },
    {
      "cell_type": "code",
      "source": [
        "gbdt_o.fit(X_over, y_over)"
      ],
      "metadata": {
        "colab": {
          "base_uri": "https://localhost:8080/",
          "height": 109
        },
        "id": "ocEtFl9agd2N",
        "outputId": "4d86c76a-4980-49ab-f700-980c9e46503d"
      },
      "id": "ocEtFl9agd2N",
      "execution_count": 69,
      "outputs": [
        {
          "output_type": "execute_result",
          "data": {
            "text/plain": [
              "GradientBoostingClassifier(max_depth=60, max_features='sqrt',\n",
              "                           min_samples_leaf=10, min_samples_split=10,\n",
              "                           n_estimators=50)"
            ],
            "text/html": [
              "<style>#sk-container-id-3 {color: black;background-color: white;}#sk-container-id-3 pre{padding: 0;}#sk-container-id-3 div.sk-toggleable {background-color: white;}#sk-container-id-3 label.sk-toggleable__label {cursor: pointer;display: block;width: 100%;margin-bottom: 0;padding: 0.3em;box-sizing: border-box;text-align: center;}#sk-container-id-3 label.sk-toggleable__label-arrow:before {content: \"▸\";float: left;margin-right: 0.25em;color: #696969;}#sk-container-id-3 label.sk-toggleable__label-arrow:hover:before {color: black;}#sk-container-id-3 div.sk-estimator:hover label.sk-toggleable__label-arrow:before {color: black;}#sk-container-id-3 div.sk-toggleable__content {max-height: 0;max-width: 0;overflow: hidden;text-align: left;background-color: #f0f8ff;}#sk-container-id-3 div.sk-toggleable__content pre {margin: 0.2em;color: black;border-radius: 0.25em;background-color: #f0f8ff;}#sk-container-id-3 input.sk-toggleable__control:checked~div.sk-toggleable__content {max-height: 200px;max-width: 100%;overflow: auto;}#sk-container-id-3 input.sk-toggleable__control:checked~label.sk-toggleable__label-arrow:before {content: \"▾\";}#sk-container-id-3 div.sk-estimator input.sk-toggleable__control:checked~label.sk-toggleable__label {background-color: #d4ebff;}#sk-container-id-3 div.sk-label input.sk-toggleable__control:checked~label.sk-toggleable__label {background-color: #d4ebff;}#sk-container-id-3 input.sk-hidden--visually {border: 0;clip: rect(1px 1px 1px 1px);clip: rect(1px, 1px, 1px, 1px);height: 1px;margin: -1px;overflow: hidden;padding: 0;position: absolute;width: 1px;}#sk-container-id-3 div.sk-estimator {font-family: monospace;background-color: #f0f8ff;border: 1px dotted black;border-radius: 0.25em;box-sizing: border-box;margin-bottom: 0.5em;}#sk-container-id-3 div.sk-estimator:hover {background-color: #d4ebff;}#sk-container-id-3 div.sk-parallel-item::after {content: \"\";width: 100%;border-bottom: 1px solid gray;flex-grow: 1;}#sk-container-id-3 div.sk-label:hover label.sk-toggleable__label {background-color: #d4ebff;}#sk-container-id-3 div.sk-serial::before {content: \"\";position: absolute;border-left: 1px solid gray;box-sizing: border-box;top: 0;bottom: 0;left: 50%;z-index: 0;}#sk-container-id-3 div.sk-serial {display: flex;flex-direction: column;align-items: center;background-color: white;padding-right: 0.2em;padding-left: 0.2em;position: relative;}#sk-container-id-3 div.sk-item {position: relative;z-index: 1;}#sk-container-id-3 div.sk-parallel {display: flex;align-items: stretch;justify-content: center;background-color: white;position: relative;}#sk-container-id-3 div.sk-item::before, #sk-container-id-3 div.sk-parallel-item::before {content: \"\";position: absolute;border-left: 1px solid gray;box-sizing: border-box;top: 0;bottom: 0;left: 50%;z-index: -1;}#sk-container-id-3 div.sk-parallel-item {display: flex;flex-direction: column;z-index: 1;position: relative;background-color: white;}#sk-container-id-3 div.sk-parallel-item:first-child::after {align-self: flex-end;width: 50%;}#sk-container-id-3 div.sk-parallel-item:last-child::after {align-self: flex-start;width: 50%;}#sk-container-id-3 div.sk-parallel-item:only-child::after {width: 0;}#sk-container-id-3 div.sk-dashed-wrapped {border: 1px dashed gray;margin: 0 0.4em 0.5em 0.4em;box-sizing: border-box;padding-bottom: 0.4em;background-color: white;}#sk-container-id-3 div.sk-label label {font-family: monospace;font-weight: bold;display: inline-block;line-height: 1.2em;}#sk-container-id-3 div.sk-label-container {text-align: center;}#sk-container-id-3 div.sk-container {/* jupyter's `normalize.less` sets `[hidden] { display: none; }` but bootstrap.min.css set `[hidden] { display: none !important; }` so we also need the `!important` here to be able to override the default hidden behavior on the sphinx rendered scikit-learn.org. See: https://github.com/scikit-learn/scikit-learn/issues/21755 */display: inline-block !important;position: relative;}#sk-container-id-3 div.sk-text-repr-fallback {display: none;}</style><div id=\"sk-container-id-3\" class=\"sk-top-container\"><div class=\"sk-text-repr-fallback\"><pre>GradientBoostingClassifier(max_depth=60, max_features=&#x27;sqrt&#x27;,\n",
              "                           min_samples_leaf=10, min_samples_split=10,\n",
              "                           n_estimators=50)</pre><b>In a Jupyter environment, please rerun this cell to show the HTML representation or trust the notebook. <br />On GitHub, the HTML representation is unable to render, please try loading this page with nbviewer.org.</b></div><div class=\"sk-container\" hidden><div class=\"sk-item\"><div class=\"sk-estimator sk-toggleable\"><input class=\"sk-toggleable__control sk-hidden--visually\" id=\"sk-estimator-id-3\" type=\"checkbox\" checked><label for=\"sk-estimator-id-3\" class=\"sk-toggleable__label sk-toggleable__label-arrow\">GradientBoostingClassifier</label><div class=\"sk-toggleable__content\"><pre>GradientBoostingClassifier(max_depth=60, max_features=&#x27;sqrt&#x27;,\n",
              "                           min_samples_leaf=10, min_samples_split=10,\n",
              "                           n_estimators=50)</pre></div></div></div></div></div>"
            ]
          },
          "metadata": {},
          "execution_count": 69
        }
      ]
    },
    {
      "cell_type": "code",
      "source": [
        "y_o_gbdt = gbdt_o.predict(X_test)"
      ],
      "metadata": {
        "id": "KPCPvB0Qgd4p"
      },
      "id": "KPCPvB0Qgd4p",
      "execution_count": 70,
      "outputs": []
    },
    {
      "cell_type": "code",
      "source": [
        "print(classification_report(y_test, y_o_gbdt))"
      ],
      "metadata": {
        "colab": {
          "base_uri": "https://localhost:8080/"
        },
        "id": "Kk6xRmzpgd6l",
        "outputId": "ee07b983-c45f-4a93-bd9e-3d7750e56145"
      },
      "id": "Kk6xRmzpgd6l",
      "execution_count": 71,
      "outputs": [
        {
          "output_type": "stream",
          "name": "stdout",
          "text": [
            "              precision    recall  f1-score   support\n",
            "\n",
            "           0       0.83      0.80      0.82      6778\n",
            "           1       0.52      0.57      0.54      2525\n",
            "\n",
            "    accuracy                           0.74      9303\n",
            "   macro avg       0.68      0.69      0.68      9303\n",
            "weighted avg       0.75      0.74      0.74      9303\n",
            "\n"
          ]
        }
      ]
    },
    {
      "cell_type": "code",
      "source": [
        "y_prob_o = gbdt_o.predict_proba(X_test)[:, 1]\n",
        "roc_auc_score(y_test, y_prob_o)"
      ],
      "metadata": {
        "colab": {
          "base_uri": "https://localhost:8080/"
        },
        "id": "LnuMy8kzj4OE",
        "outputId": "61b381ea-00f6-4245-fecc-86c65558eab2"
      },
      "id": "LnuMy8kzj4OE",
      "execution_count": 72,
      "outputs": [
        {
          "output_type": "execute_result",
          "data": {
            "text/plain": [
              "0.7718488470269274"
            ]
          },
          "metadata": {},
          "execution_count": 72
        }
      ]
    },
    {
      "cell_type": "code",
      "source": [
        "fpr_o, tpr_o, _ = roc_curve(y_test,  y_prob_o)"
      ],
      "metadata": {
        "id": "Se9e-lo2j7ub"
      },
      "id": "Se9e-lo2j7ub",
      "execution_count": 73,
      "outputs": []
    },
    {
      "cell_type": "code",
      "source": [
        "plt.plot(fpr_o, tpr_o)\n",
        "plt.ylabel('True Positive Rate')\n",
        "plt.xlabel('False Positive Rate')\n",
        "plt.title('Gradient Boosted Decision Tree, Oversampled en-es dataset')\n",
        "plt.show()"
      ],
      "metadata": {
        "colab": {
          "base_uri": "https://localhost:8080/",
          "height": 472
        },
        "id": "M0BwAGockHDR",
        "outputId": "b293ba4b-3696-4c71-80b9-adc730842777"
      },
      "id": "M0BwAGockHDR",
      "execution_count": 74,
      "outputs": [
        {
          "output_type": "display_data",
          "data": {
            "text/plain": [
              "<Figure size 640x480 with 1 Axes>"
            ],
            "image/png": "[encoded data removed]"
          },
          "metadata": {}
        }
      ]
    },
    {
      "cell_type": "code",
      "source": [
        "confusion_matrix_oversampled = confusion_matrix(y_test, y_o_gbdt)"
      ],
      "metadata": {
        "id": "iBhkXEQMkJbj"
      },
      "id": "iBhkXEQMkJbj",
      "execution_count": 75,
      "outputs": []
    },
    {
      "cell_type": "code",
      "source": [
        "print(confusion_matrix_oversampled)"
      ],
      "metadata": {
        "colab": {
          "base_uri": "https://localhost:8080/"
        },
        "id": "X9sKjndUkNNn",
        "outputId": "26a939dc-4c8d-41df-85c1-153ad1eb54e4"
      },
      "id": "X9sKjndUkNNn",
      "execution_count": 76,
      "outputs": [
        {
          "output_type": "stream",
          "name": "stdout",
          "text": [
            "[[5454 1324]\n",
            " [1092 1433]]\n"
          ]
        }
      ]
    },
    {
      "cell_type": "markdown",
      "source": [
        "Gradient Boosted Decision Tree - Undersampled"
      ],
      "metadata": {
        "id": "XEyOUTGNkRkS"
      },
      "id": "XEyOUTGNkRkS"
    },
    {
      "cell_type": "code",
      "source": [
        "cv.fit(X_under, y_under)\n",
        "cv.score(X_under, y_under)\n",
        "cv.best_params_"
      ],
      "metadata": {
        "colab": {
          "base_uri": "https://localhost:8080/"
        },
        "id": "USH1_LCWkQSU",
        "outputId": "b5e88aca-a4aa-4449-d43b-4a9f1f5b1881"
      },
      "id": "USH1_LCWkQSU",
      "execution_count": 77,
      "outputs": [
        {
          "output_type": "execute_result",
          "data": {
            "text/plain": [
              "{'n_estimators': 50,\n",
              " 'min_samples_split': 40,\n",
              " 'min_samples_leaf': 20,\n",
              " 'max_features': 'sqrt',\n",
              " 'max_depth': 50}"
            ]
          },
          "metadata": {},
          "execution_count": 77
        }
      ]
    },
    {
      "cell_type": "code",
      "source": [
        "gbdt_u = GradientBoostingClassifier(n_estimators = 50,\n",
        "                                 max_depth = 50,\n",
        "                                 max_features = 'sqrt',\n",
        "                                 min_samples_leaf = 20,\n",
        "                                 min_samples_split = 40\n",
        "                                 )"
      ],
      "metadata": {
        "id": "xswMPdVCkXJK"
      },
      "id": "xswMPdVCkXJK",
      "execution_count": 78,
      "outputs": []
    },
    {
      "cell_type": "code",
      "source": [
        "gbdt_u.fit(X_under, y_under)"
      ],
      "metadata": {
        "colab": {
          "base_uri": "https://localhost:8080/",
          "height": 109
        },
        "id": "PWYLMURgkbVh",
        "outputId": "a9e5611b-ed38-4d30-9638-ed8f614e41af"
      },
      "id": "PWYLMURgkbVh",
      "execution_count": 79,
      "outputs": [
        {
          "output_type": "execute_result",
          "data": {
            "text/plain": [
              "GradientBoostingClassifier(max_depth=50, max_features='sqrt',\n",
              "                           min_samples_leaf=20, min_samples_split=40,\n",
              "                           n_estimators=50)"
            ],
            "text/html": [
              "<style>#sk-container-id-4 {color: black;background-color: white;}#sk-container-id-4 pre{padding: 0;}#sk-container-id-4 div.sk-toggleable {background-color: white;}#sk-container-id-4 label.sk-toggleable__label {cursor: pointer;display: block;width: 100%;margin-bottom: 0;padding: 0.3em;box-sizing: border-box;text-align: center;}#sk-container-id-4 label.sk-toggleable__label-arrow:before {content: \"▸\";float: left;margin-right: 0.25em;color: #696969;}#sk-container-id-4 label.sk-toggleable__label-arrow:hover:before {color: black;}#sk-container-id-4 div.sk-estimator:hover label.sk-toggleable__label-arrow:before {color: black;}#sk-container-id-4 div.sk-toggleable__content {max-height: 0;max-width: 0;overflow: hidden;text-align: left;background-color: #f0f8ff;}#sk-container-id-4 div.sk-toggleable__content pre {margin: 0.2em;color: black;border-radius: 0.25em;background-color: #f0f8ff;}#sk-container-id-4 input.sk-toggleable__control:checked~div.sk-toggleable__content {max-height: 200px;max-width: 100%;overflow: auto;}#sk-container-id-4 input.sk-toggleable__control:checked~label.sk-toggleable__label-arrow:before {content: \"▾\";}#sk-container-id-4 div.sk-estimator input.sk-toggleable__control:checked~label.sk-toggleable__label {background-color: #d4ebff;}#sk-container-id-4 div.sk-label input.sk-toggleable__control:checked~label.sk-toggleable__label {background-color: #d4ebff;}#sk-container-id-4 input.sk-hidden--visually {border: 0;clip: rect(1px 1px 1px 1px);clip: rect(1px, 1px, 1px, 1px);height: 1px;margin: -1px;overflow: hidden;padding: 0;position: absolute;width: 1px;}#sk-container-id-4 div.sk-estimator {font-family: monospace;background-color: #f0f8ff;border: 1px dotted black;border-radius: 0.25em;box-sizing: border-box;margin-bottom: 0.5em;}#sk-container-id-4 div.sk-estimator:hover {background-color: #d4ebff;}#sk-container-id-4 div.sk-parallel-item::after {content: \"\";width: 100%;border-bottom: 1px solid gray;flex-grow: 1;}#sk-container-id-4 div.sk-label:hover label.sk-toggleable__label {background-color: #d4ebff;}#sk-container-id-4 div.sk-serial::before {content: \"\";position: absolute;border-left: 1px solid gray;box-sizing: border-box;top: 0;bottom: 0;left: 50%;z-index: 0;}#sk-container-id-4 div.sk-serial {display: flex;flex-direction: column;align-items: center;background-color: white;padding-right: 0.2em;padding-left: 0.2em;position: relative;}#sk-container-id-4 div.sk-item {position: relative;z-index: 1;}#sk-container-id-4 div.sk-parallel {display: flex;align-items: stretch;justify-content: center;background-color: white;position: relative;}#sk-container-id-4 div.sk-item::before, #sk-container-id-4 div.sk-parallel-item::before {content: \"\";position: absolute;border-left: 1px solid gray;box-sizing: border-box;top: 0;bottom: 0;left: 50%;z-index: -1;}#sk-container-id-4 div.sk-parallel-item {display: flex;flex-direction: column;z-index: 1;position: relative;background-color: white;}#sk-container-id-4 div.sk-parallel-item:first-child::after {align-self: flex-end;width: 50%;}#sk-container-id-4 div.sk-parallel-item:last-child::after {align-self: flex-start;width: 50%;}#sk-container-id-4 div.sk-parallel-item:only-child::after {width: 0;}#sk-container-id-4 div.sk-dashed-wrapped {border: 1px dashed gray;margin: 0 0.4em 0.5em 0.4em;box-sizing: border-box;padding-bottom: 0.4em;background-color: white;}#sk-container-id-4 div.sk-label label {font-family: monospace;font-weight: bold;display: inline-block;line-height: 1.2em;}#sk-container-id-4 div.sk-label-container {text-align: center;}#sk-container-id-4 div.sk-container {/* jupyter's `normalize.less` sets `[hidden] { display: none; }` but bootstrap.min.css set `[hidden] { display: none !important; }` so we also need the `!important` here to be able to override the default hidden behavior on the sphinx rendered scikit-learn.org. See: https://github.com/scikit-learn/scikit-learn/issues/21755 */display: inline-block !important;position: relative;}#sk-container-id-4 div.sk-text-repr-fallback {display: none;}</style><div id=\"sk-container-id-4\" class=\"sk-top-container\"><div class=\"sk-text-repr-fallback\"><pre>GradientBoostingClassifier(max_depth=50, max_features=&#x27;sqrt&#x27;,\n",
              "                           min_samples_leaf=20, min_samples_split=40,\n",
              "                           n_estimators=50)</pre><b>In a Jupyter environment, please rerun this cell to show the HTML representation or trust the notebook. <br />On GitHub, the HTML representation is unable to render, please try loading this page with nbviewer.org.</b></div><div class=\"sk-container\" hidden><div class=\"sk-item\"><div class=\"sk-estimator sk-toggleable\"><input class=\"sk-toggleable__control sk-hidden--visually\" id=\"sk-estimator-id-4\" type=\"checkbox\" checked><label for=\"sk-estimator-id-4\" class=\"sk-toggleable__label sk-toggleable__label-arrow\">GradientBoostingClassifier</label><div class=\"sk-toggleable__content\"><pre>GradientBoostingClassifier(max_depth=50, max_features=&#x27;sqrt&#x27;,\n",
              "                           min_samples_leaf=20, min_samples_split=40,\n",
              "                           n_estimators=50)</pre></div></div></div></div></div>"
            ]
          },
          "metadata": {},
          "execution_count": 79
        }
      ]
    },
    {
      "cell_type": "code",
      "source": [
        "y_u_gbdt = gbdt_u.predict(X_test)"
      ],
      "metadata": {
        "id": "iCtBLyKqtFGJ"
      },
      "id": "iCtBLyKqtFGJ",
      "execution_count": 80,
      "outputs": []
    },
    {
      "cell_type": "code",
      "source": [
        "print(classification_report(y_test, y_u_gbdt))"
      ],
      "metadata": {
        "colab": {
          "base_uri": "https://localhost:8080/"
        },
        "id": "4yubsW_Jr99f",
        "outputId": "632c298c-e4ae-44e0-d542-d95dcf507a77"
      },
      "id": "4yubsW_Jr99f",
      "execution_count": 81,
      "outputs": [
        {
          "output_type": "stream",
          "name": "stdout",
          "text": [
            "              precision    recall  f1-score   support\n",
            "\n",
            "           0       0.87      0.67      0.76      6778\n",
            "           1       0.45      0.74      0.56      2525\n",
            "\n",
            "    accuracy                           0.69      9303\n",
            "   macro avg       0.66      0.70      0.66      9303\n",
            "weighted avg       0.76      0.69      0.70      9303\n",
            "\n"
          ]
        }
      ]
    },
    {
      "cell_type": "code",
      "source": [
        "y_prob_u = gbdt_u.predict_proba(X_test)[:, 1]\n",
        "roc_auc_score(y_test, y_prob_u)"
      ],
      "metadata": {
        "colab": {
          "base_uri": "https://localhost:8080/"
        },
        "id": "mnSCedI3kg_8",
        "outputId": "add68cc9-4460-4ebc-fdf1-1c3a9aecb777"
      },
      "id": "mnSCedI3kg_8",
      "execution_count": 82,
      "outputs": [
        {
          "output_type": "execute_result",
          "data": {
            "text/plain": [
              "0.7775005039601038"
            ]
          },
          "metadata": {},
          "execution_count": 82
        }
      ]
    },
    {
      "cell_type": "code",
      "source": [
        "fpr_u, tpr_u, _ = roc_curve(y_test,  y_prob_u)"
      ],
      "metadata": {
        "id": "Fi1Re9sEkmbj"
      },
      "id": "Fi1Re9sEkmbj",
      "execution_count": 83,
      "outputs": []
    },
    {
      "cell_type": "code",
      "source": [
        "plt.plot(fpr_u, tpr_u)\n",
        "plt.ylabel('True Positive Rate')\n",
        "plt.xlabel('False Positive Rate')\n",
        "plt.title('Gradient Boosted Decision Tree, Undersampled en-es dataset')\n",
        "plt.show()"
      ],
      "metadata": {
        "colab": {
          "base_uri": "https://localhost:8080/",
          "height": 472
        },
        "id": "y4FeMz32kr-U",
        "outputId": "6e4a9ffd-10be-461c-d661-6c1c776c9b9e"
      },
      "id": "y4FeMz32kr-U",
      "execution_count": 84,
      "outputs": [
        {
          "output_type": "display_data",
          "data": {
            "text/plain": [
              "<Figure size 640x480 with 1 Axes>"
            ],
            "image/png": "[encoded data removed]"
          },
          "metadata": {}
        }
      ]
    },
    {
      "cell_type": "code",
      "source": [
        "confusion_matrix_undersampled = confusion_matrix(y_test, y_u_gbdt)\n",
        "print(confusion_matrix_undersampled)"
      ],
      "metadata": {
        "colab": {
          "base_uri": "https://localhost:8080/"
        },
        "id": "K-Je4UT1kubQ",
        "outputId": "896bf1b9-a6ff-4b8a-a058-21f0009eb8ae"
      },
      "id": "K-Je4UT1kubQ",
      "execution_count": 85,
      "outputs": [
        {
          "output_type": "stream",
          "name": "stdout",
          "text": [
            "[[4531 2247]\n",
            " [ 659 1866]]\n"
          ]
        }
      ]
    },
    {
      "cell_type": "code",
      "source": [
        "plt.plot(fpr_o, tpr_o, label= \"Oversampled\")\n",
        "plt.plot(fpr_u, tpr_u, label= \"Undersapled\")\n",
        "plt.legend()\n",
        "plt.ylabel('True Positive Rate')\n",
        "plt.xlabel('False Positive Rate')\n",
        "plt.title('Gradient Boosted Decision Tree, English-Spanish dataset')\n",
        "plt.show()"
      ],
      "metadata": {
        "colab": {
          "base_uri": "https://localhost:8080/",
          "height": 472
        },
        "id": "0fdgcSF9kvvP",
        "outputId": "679c6f07-4e48-47e1-9853-c67688709662"
      },
      "id": "0fdgcSF9kvvP",
      "execution_count": 86,
      "outputs": [
        {
          "output_type": "display_data",
          "data": {
            "text/plain": [
              "<Figure size 640x480 with 1 Axes>"
            ],
            "image/png": "[encoded data removed]"
          },
          "metadata": {}
        }
      ]
    },
    {
      "cell_type": "markdown",
      "source": [
        "Logistic Regression - oversampled"
      ],
      "metadata": {
        "id": "FT2wh4mUlDGu"
      },
      "id": "FT2wh4mUlDGu"
    },
    {
      "cell_type": "code",
      "source": [
        "from sklearn.linear_model import LogisticRegression"
      ],
      "metadata": {
        "id": "8tggo9EilBKb"
      },
      "id": "8tggo9EilBKb",
      "execution_count": 87,
      "outputs": []
    },
    {
      "cell_type": "code",
      "source": [
        "parameter = {\n",
        "    'C':[0.01, 0.1, 1, 10, 100],\n",
        "    'solver':['liblinear'],\n",
        "    'max_iter':[9000],\n",
        "    'penalty':['l1'],\n",
        "}\n",
        "\n",
        "model = LogisticRegression()\n",
        "from sklearn.model_selection import GridSearchCV\n",
        "cv = GridSearchCV(model, param_grid = parameter)"
      ],
      "metadata": {
        "id": "EGDC8MMJq562"
      },
      "id": "EGDC8MMJq562",
      "execution_count": 88,
      "outputs": []
    },
    {
      "cell_type": "code",
      "source": [
        "cv.fit(Xs_over, ys_over)\n",
        "cv.score(Xs_over, ys_over)\n",
        "cv.best_params_"
      ],
      "metadata": {
        "id": "nC-cm8HNsIDO",
        "colab": {
          "base_uri": "https://localhost:8080/"
        },
        "outputId": "8db06ebf-3ae3-49b6-91d9-22d54ca87201"
      },
      "id": "nC-cm8HNsIDO",
      "execution_count": 89,
      "outputs": [
        {
          "output_type": "execute_result",
          "data": {
            "text/plain": [
              "{'C': 0.1, 'max_iter': 9000, 'penalty': 'l1', 'solver': 'liblinear'}"
            ]
          },
          "metadata": {},
          "execution_count": 89
        }
      ]
    },
    {
      "cell_type": "code",
      "source": [
        "log_o = LogisticRegression(C = 0.1, solver = 'liblinear', penalty = 'l1', max_iter = 9000)"
      ],
      "metadata": {
        "id": "4r83-xFAmOYu"
      },
      "id": "4r83-xFAmOYu",
      "execution_count": 90,
      "outputs": []
    },
    {
      "cell_type": "code",
      "source": [
        "log_o.fit(Xs_over, ys_over)"
      ],
      "metadata": {
        "id": "UdWKwIv-mWBm",
        "colab": {
          "base_uri": "https://localhost:8080/",
          "height": 74
        },
        "outputId": "0bc92e76-7e2a-4c4b-f577-e1c8175f785c"
      },
      "id": "UdWKwIv-mWBm",
      "execution_count": 91,
      "outputs": [
        {
          "output_type": "execute_result",
          "data": {
            "text/plain": [
              "LogisticRegression(C=0.1, max_iter=9000, penalty='l1', solver='liblinear')"
            ],
            "text/html": [
              "<style>#sk-container-id-5 {color: black;background-color: white;}#sk-container-id-5 pre{padding: 0;}#sk-container-id-5 div.sk-toggleable {background-color: white;}#sk-container-id-5 label.sk-toggleable__label {cursor: pointer;display: block;width: 100%;margin-bottom: 0;padding: 0.3em;box-sizing: border-box;text-align: center;}#sk-container-id-5 label.sk-toggleable__label-arrow:before {content: \"▸\";float: left;margin-right: 0.25em;color: #696969;}#sk-container-id-5 label.sk-toggleable__label-arrow:hover:before {color: black;}#sk-container-id-5 div.sk-estimator:hover label.sk-toggleable__label-arrow:before {color: black;}#sk-container-id-5 div.sk-toggleable__content {max-height: 0;max-width: 0;overflow: hidden;text-align: left;background-color: #f0f8ff;}#sk-container-id-5 div.sk-toggleable__content pre {margin: 0.2em;color: black;border-radius: 0.25em;background-color: #f0f8ff;}#sk-container-id-5 input.sk-toggleable__control:checked~div.sk-toggleable__content {max-height: 200px;max-width: 100%;overflow: auto;}#sk-container-id-5 input.sk-toggleable__control:checked~label.sk-toggleable__label-arrow:before {content: \"▾\";}#sk-container-id-5 div.sk-estimator input.sk-toggleable__control:checked~label.sk-toggleable__label {background-color: #d4ebff;}#sk-container-id-5 div.sk-label input.sk-toggleable__control:checked~label.sk-toggleable__label {background-color: #d4ebff;}#sk-container-id-5 input.sk-hidden--visually {border: 0;clip: rect(1px 1px 1px 1px);clip: rect(1px, 1px, 1px, 1px);height: 1px;margin: -1px;overflow: hidden;padding: 0;position: absolute;width: 1px;}#sk-container-id-5 div.sk-estimator {font-family: monospace;background-color: #f0f8ff;border: 1px dotted black;border-radius: 0.25em;box-sizing: border-box;margin-bottom: 0.5em;}#sk-container-id-5 div.sk-estimator:hover {background-color: #d4ebff;}#sk-container-id-5 div.sk-parallel-item::after {content: \"\";width: 100%;border-bottom: 1px solid gray;flex-grow: 1;}#sk-container-id-5 div.sk-label:hover label.sk-toggleable__label {background-color: #d4ebff;}#sk-container-id-5 div.sk-serial::before {content: \"\";position: absolute;border-left: 1px solid gray;box-sizing: border-box;top: 0;bottom: 0;left: 50%;z-index: 0;}#sk-container-id-5 div.sk-serial {display: flex;flex-direction: column;align-items: center;background-color: white;padding-right: 0.2em;padding-left: 0.2em;position: relative;}#sk-container-id-5 div.sk-item {position: relative;z-index: 1;}#sk-container-id-5 div.sk-parallel {display: flex;align-items: stretch;justify-content: center;background-color: white;position: relative;}#sk-container-id-5 div.sk-item::before, #sk-container-id-5 div.sk-parallel-item::before {content: \"\";position: absolute;border-left: 1px solid gray;box-sizing: border-box;top: 0;bottom: 0;left: 50%;z-index: -1;}#sk-container-id-5 div.sk-parallel-item {display: flex;flex-direction: column;z-index: 1;position: relative;background-color: white;}#sk-container-id-5 div.sk-parallel-item:first-child::after {align-self: flex-end;width: 50%;}#sk-container-id-5 div.sk-parallel-item:last-child::after {align-self: flex-start;width: 50%;}#sk-container-id-5 div.sk-parallel-item:only-child::after {width: 0;}#sk-container-id-5 div.sk-dashed-wrapped {border: 1px dashed gray;margin: 0 0.4em 0.5em 0.4em;box-sizing: border-box;padding-bottom: 0.4em;background-color: white;}#sk-container-id-5 div.sk-label label {font-family: monospace;font-weight: bold;display: inline-block;line-height: 1.2em;}#sk-container-id-5 div.sk-label-container {text-align: center;}#sk-container-id-5 div.sk-container {/* jupyter's `normalize.less` sets `[hidden] { display: none; }` but bootstrap.min.css set `[hidden] { display: none !important; }` so we also need the `!important` here to be able to override the default hidden behavior on the sphinx rendered scikit-learn.org. See: https://github.com/scikit-learn/scikit-learn/issues/21755 */display: inline-block !important;position: relative;}#sk-container-id-5 div.sk-text-repr-fallback {display: none;}</style><div id=\"sk-container-id-5\" class=\"sk-top-container\"><div class=\"sk-text-repr-fallback\"><pre>LogisticRegression(C=0.1, max_iter=9000, penalty=&#x27;l1&#x27;, solver=&#x27;liblinear&#x27;)</pre><b>In a Jupyter environment, please rerun this cell to show the HTML representation or trust the notebook. <br />On GitHub, the HTML representation is unable to render, please try loading this page with nbviewer.org.</b></div><div class=\"sk-container\" hidden><div class=\"sk-item\"><div class=\"sk-estimator sk-toggleable\"><input class=\"sk-toggleable__control sk-hidden--visually\" id=\"sk-estimator-id-5\" type=\"checkbox\" checked><label for=\"sk-estimator-id-5\" class=\"sk-toggleable__label sk-toggleable__label-arrow\">LogisticRegression</label><div class=\"sk-toggleable__content\"><pre>LogisticRegression(C=0.1, max_iter=9000, penalty=&#x27;l1&#x27;, solver=&#x27;liblinear&#x27;)</pre></div></div></div></div></div>"
            ]
          },
          "metadata": {},
          "execution_count": 91
        }
      ]
    },
    {
      "cell_type": "code",
      "source": [
        "y_o_log = log_o.predict(Xs_test)"
      ],
      "metadata": {
        "id": "XpOVJDoQmfaF"
      },
      "id": "XpOVJDoQmfaF",
      "execution_count": 92,
      "outputs": []
    },
    {
      "cell_type": "code",
      "source": [
        "print(classification_report(ys_test, y_o_log))"
      ],
      "metadata": {
        "id": "2rC7IUwDmoEt",
        "colab": {
          "base_uri": "https://localhost:8080/"
        },
        "outputId": "b2cfee54-2edd-4bf9-f4a9-105e20771739"
      },
      "id": "2rC7IUwDmoEt",
      "execution_count": 93,
      "outputs": [
        {
          "output_type": "stream",
          "name": "stdout",
          "text": [
            "              precision    recall  f1-score   support\n",
            "\n",
            "           0       0.84      0.61      0.71      6778\n",
            "           1       0.40      0.70      0.51      2525\n",
            "\n",
            "    accuracy                           0.63      9303\n",
            "   macro avg       0.62      0.65      0.61      9303\n",
            "weighted avg       0.72      0.63      0.65      9303\n",
            "\n"
          ]
        }
      ]
    },
    {
      "cell_type": "code",
      "source": [
        "y_prob_o = log_o.predict_proba(Xs_test)[:, 1]\n",
        "roc_auc_score(ys_test, y_prob_o)"
      ],
      "metadata": {
        "id": "C1uJeZk4mona",
        "colab": {
          "base_uri": "https://localhost:8080/"
        },
        "outputId": "ba0d31b5-bad2-4a84-e8d8-261460bad393"
      },
      "id": "C1uJeZk4mona",
      "execution_count": 94,
      "outputs": [
        {
          "output_type": "execute_result",
          "data": {
            "text/plain": [
              "0.6970299951210819"
            ]
          },
          "metadata": {},
          "execution_count": 94
        }
      ]
    },
    {
      "cell_type": "code",
      "source": [
        "fpr_o, tpr_o, _ = roc_curve(ys_test,  y_prob_o)"
      ],
      "metadata": {
        "id": "5DXxrYUimsJM"
      },
      "id": "5DXxrYUimsJM",
      "execution_count": 95,
      "outputs": []
    },
    {
      "cell_type": "code",
      "source": [
        "plt.plot(fpr_o, tpr_o)\n",
        "plt.ylabel('True Positive Rate')\n",
        "plt.xlabel('False Positive Rate')\n",
        "plt.title('Logistic Regression, Oversampled en-es dataset')\n",
        "plt.show()"
      ],
      "metadata": {
        "id": "imNHfMosnsD2",
        "colab": {
          "base_uri": "https://localhost:8080/",
          "height": 472
        },
        "outputId": "33379a8f-d514-4c1d-c507-6ccfea3fab82"
      },
      "id": "imNHfMosnsD2",
      "execution_count": 96,
      "outputs": [
        {
          "output_type": "display_data",
          "data": {
            "text/plain": [
              "<Figure size 640x480 with 1 Axes>"
            ],
            "image/png": "[encoded data removed]"
          },
          "metadata": {}
        }
      ]
    },
    {
      "cell_type": "code",
      "source": [
        "confusion_matrix_oversampled = confusion_matrix(ys_test, y_o_log)\n",
        "print(confusion_matrix_oversampled)"
      ],
      "metadata": {
        "id": "cTpLZFJunvMH",
        "colab": {
          "base_uri": "https://localhost:8080/"
        },
        "outputId": "5f04af30-a5cd-4d6f-be92-3f52693947a1"
      },
      "id": "cTpLZFJunvMH",
      "execution_count": 97,
      "outputs": [
        {
          "output_type": "stream",
          "name": "stdout",
          "text": [
            "[[4137 2641]\n",
            " [ 763 1762]]\n"
          ]
        }
      ]
    },
    {
      "cell_type": "markdown",
      "source": [
        "Logistic Regression - undersampled"
      ],
      "metadata": {
        "id": "iOQe_nB3n4HR"
      },
      "id": "iOQe_nB3n4HR"
    },
    {
      "cell_type": "code",
      "source": [
        "cv.fit(Xs_under, ys_under)\n",
        "cv.score(Xs_under, ys_under)\n",
        "cv.best_params_"
      ],
      "metadata": {
        "id": "IhGHosSin0S1",
        "colab": {
          "base_uri": "https://localhost:8080/"
        },
        "outputId": "d17a5dd0-2dbf-4c45-8da4-9982f82188c2"
      },
      "id": "IhGHosSin0S1",
      "execution_count": 98,
      "outputs": [
        {
          "output_type": "execute_result",
          "data": {
            "text/plain": [
              "{'C': 100, 'max_iter': 9000, 'penalty': 'l1', 'solver': 'liblinear'}"
            ]
          },
          "metadata": {},
          "execution_count": 98
        }
      ]
    },
    {
      "cell_type": "code",
      "source": [
        "log_u = LogisticRegression(C = 100, solver = 'liblinear', penalty = 'l1', max_iter = 9000)"
      ],
      "metadata": {
        "id": "OzgOAn8Vn_fh"
      },
      "id": "OzgOAn8Vn_fh",
      "execution_count": 99,
      "outputs": []
    },
    {
      "cell_type": "code",
      "source": [
        "log_u.fit(Xs_under, ys_under)"
      ],
      "metadata": {
        "id": "xLsJ1nbboDDX",
        "colab": {
          "base_uri": "https://localhost:8080/",
          "height": 74
        },
        "outputId": "8149af6f-53f3-4f0a-c392-baa41022bbde"
      },
      "id": "xLsJ1nbboDDX",
      "execution_count": 100,
      "outputs": [
        {
          "output_type": "execute_result",
          "data": {
            "text/plain": [
              "LogisticRegression(C=100, max_iter=9000, penalty='l1', solver='liblinear')"
            ],
            "text/html": [
              "<style>#sk-container-id-6 {color: black;background-color: white;}#sk-container-id-6 pre{padding: 0;}#sk-container-id-6 div.sk-toggleable {background-color: white;}#sk-container-id-6 label.sk-toggleable__label {cursor: pointer;display: block;width: 100%;margin-bottom: 0;padding: 0.3em;box-sizing: border-box;text-align: center;}#sk-container-id-6 label.sk-toggleable__label-arrow:before {content: \"▸\";float: left;margin-right: 0.25em;color: #696969;}#sk-container-id-6 label.sk-toggleable__label-arrow:hover:before {color: black;}#sk-container-id-6 div.sk-estimator:hover label.sk-toggleable__label-arrow:before {color: black;}#sk-container-id-6 div.sk-toggleable__content {max-height: 0;max-width: 0;overflow: hidden;text-align: left;background-color: #f0f8ff;}#sk-container-id-6 div.sk-toggleable__content pre {margin: 0.2em;color: black;border-radius: 0.25em;background-color: #f0f8ff;}#sk-container-id-6 input.sk-toggleable__control:checked~div.sk-toggleable__content {max-height: 200px;max-width: 100%;overflow: auto;}#sk-container-id-6 input.sk-toggleable__control:checked~label.sk-toggleable__label-arrow:before {content: \"▾\";}#sk-container-id-6 div.sk-estimator input.sk-toggleable__control:checked~label.sk-toggleable__label {background-color: #d4ebff;}#sk-container-id-6 div.sk-label input.sk-toggleable__control:checked~label.sk-toggleable__label {background-color: #d4ebff;}#sk-container-id-6 input.sk-hidden--visually {border: 0;clip: rect(1px 1px 1px 1px);clip: rect(1px, 1px, 1px, 1px);height: 1px;margin: -1px;overflow: hidden;padding: 0;position: absolute;width: 1px;}#sk-container-id-6 div.sk-estimator {font-family: monospace;background-color: #f0f8ff;border: 1px dotted black;border-radius: 0.25em;box-sizing: border-box;margin-bottom: 0.5em;}#sk-container-id-6 div.sk-estimator:hover {background-color: #d4ebff;}#sk-container-id-6 div.sk-parallel-item::after {content: \"\";width: 100%;border-bottom: 1px solid gray;flex-grow: 1;}#sk-container-id-6 div.sk-label:hover label.sk-toggleable__label {background-color: #d4ebff;}#sk-container-id-6 div.sk-serial::before {content: \"\";position: absolute;border-left: 1px solid gray;box-sizing: border-box;top: 0;bottom: 0;left: 50%;z-index: 0;}#sk-container-id-6 div.sk-serial {display: flex;flex-direction: column;align-items: center;background-color: white;padding-right: 0.2em;padding-left: 0.2em;position: relative;}#sk-container-id-6 div.sk-item {position: relative;z-index: 1;}#sk-container-id-6 div.sk-parallel {display: flex;align-items: stretch;justify-content: center;background-color: white;position: relative;}#sk-container-id-6 div.sk-item::before, #sk-container-id-6 div.sk-parallel-item::before {content: \"\";position: absolute;border-left: 1px solid gray;box-sizing: border-box;top: 0;bottom: 0;left: 50%;z-index: -1;}#sk-container-id-6 div.sk-parallel-item {display: flex;flex-direction: column;z-index: 1;position: relative;background-color: white;}#sk-container-id-6 div.sk-parallel-item:first-child::after {align-self: flex-end;width: 50%;}#sk-container-id-6 div.sk-parallel-item:last-child::after {align-self: flex-start;width: 50%;}#sk-container-id-6 div.sk-parallel-item:only-child::after {width: 0;}#sk-container-id-6 div.sk-dashed-wrapped {border: 1px dashed gray;margin: 0 0.4em 0.5em 0.4em;box-sizing: border-box;padding-bottom: 0.4em;background-color: white;}#sk-container-id-6 div.sk-label label {font-family: monospace;font-weight: bold;display: inline-block;line-height: 1.2em;}#sk-container-id-6 div.sk-label-container {text-align: center;}#sk-container-id-6 div.sk-container {/* jupyter's `normalize.less` sets `[hidden] { display: none; }` but bootstrap.min.css set `[hidden] { display: none !important; }` so we also need the `!important` here to be able to override the default hidden behavior on the sphinx rendered scikit-learn.org. See: https://github.com/scikit-learn/scikit-learn/issues/21755 */display: inline-block !important;position: relative;}#sk-container-id-6 div.sk-text-repr-fallback {display: none;}</style><div id=\"sk-container-id-6\" class=\"sk-top-container\"><div class=\"sk-text-repr-fallback\"><pre>LogisticRegression(C=100, max_iter=9000, penalty=&#x27;l1&#x27;, solver=&#x27;liblinear&#x27;)</pre><b>In a Jupyter environment, please rerun this cell to show the HTML representation or trust the notebook. <br />On GitHub, the HTML representation is unable to render, please try loading this page with nbviewer.org.</b></div><div class=\"sk-container\" hidden><div class=\"sk-item\"><div class=\"sk-estimator sk-toggleable\"><input class=\"sk-toggleable__control sk-hidden--visually\" id=\"sk-estimator-id-6\" type=\"checkbox\" checked><label for=\"sk-estimator-id-6\" class=\"sk-toggleable__label sk-toggleable__label-arrow\">LogisticRegression</label><div class=\"sk-toggleable__content\"><pre>LogisticRegression(C=100, max_iter=9000, penalty=&#x27;l1&#x27;, solver=&#x27;liblinear&#x27;)</pre></div></div></div></div></div>"
            ]
          },
          "metadata": {},
          "execution_count": 100
        }
      ]
    },
    {
      "cell_type": "code",
      "source": [
        "y_u_log = log_u.predict(Xs_test)"
      ],
      "metadata": {
        "id": "RQ5KgSwnoIEp"
      },
      "id": "RQ5KgSwnoIEp",
      "execution_count": 101,
      "outputs": []
    },
    {
      "cell_type": "code",
      "source": [
        "print(classification_report(ys_test, y_u_log))"
      ],
      "metadata": {
        "id": "QRdfJwCLoKC0",
        "colab": {
          "base_uri": "https://localhost:8080/"
        },
        "outputId": "4d8ed29d-fc58-48ab-db08-a61e5f9e38c3"
      },
      "id": "QRdfJwCLoKC0",
      "execution_count": 102,
      "outputs": [
        {
          "output_type": "stream",
          "name": "stdout",
          "text": [
            "              precision    recall  f1-score   support\n",
            "\n",
            "           0       0.84      0.62      0.71      6778\n",
            "           1       0.40      0.69      0.51      2525\n",
            "\n",
            "    accuracy                           0.64      9303\n",
            "   macro avg       0.62      0.65      0.61      9303\n",
            "weighted avg       0.72      0.64      0.66      9303\n",
            "\n"
          ]
        }
      ]
    },
    {
      "cell_type": "code",
      "source": [
        "y_prob_u = log_u.predict_proba(Xs_test)[:, 1]\n",
        "roc_auc_score(ys_test, y_prob_u)"
      ],
      "metadata": {
        "id": "zWKJ3KsVoM5M",
        "colab": {
          "base_uri": "https://localhost:8080/"
        },
        "outputId": "a95853a4-4978-4046-9059-e885c2a4e885"
      },
      "id": "zWKJ3KsVoM5M",
      "execution_count": 103,
      "outputs": [
        {
          "output_type": "execute_result",
          "data": {
            "text/plain": [
              "0.7017779712465197"
            ]
          },
          "metadata": {},
          "execution_count": 103
        }
      ]
    },
    {
      "cell_type": "code",
      "source": [
        "fpr_u, tpr_u, _ = roc_curve(ys_test,  y_prob_u)"
      ],
      "metadata": {
        "id": "ljL46BDYocjG"
      },
      "id": "ljL46BDYocjG",
      "execution_count": 105,
      "outputs": []
    },
    {
      "cell_type": "code",
      "source": [
        "plt.plot(fpr_u, tpr_u)\n",
        "plt.ylabel('True Positive Rate')\n",
        "plt.xlabel('False Positive Rate')\n",
        "plt.title('Logistic Regression, Undersampled en-es dataset')\n",
        "plt.show()"
      ],
      "metadata": {
        "id": "zqqsyJdFpDSF",
        "colab": {
          "base_uri": "https://localhost:8080/",
          "height": 472
        },
        "outputId": "0d3df26b-cbbd-4182-82c0-2da6e7b5d313"
      },
      "id": "zqqsyJdFpDSF",
      "execution_count": 106,
      "outputs": [
        {
          "output_type": "display_data",
          "data": {
            "text/plain": [
              "<Figure size 640x480 with 1 Axes>"
            ],
            "image/png": "[encoded data removed]"
          },
          "metadata": {}
        }
      ]
    },
    {
      "cell_type": "code",
      "source": [
        "confusion_matrix_undersampled = confusion_matrix(ys_test, y_u_log)\n",
        "print(confusion_matrix_undersampled)"
      ],
      "metadata": {
        "id": "NGxH_SQBpG4v",
        "colab": {
          "base_uri": "https://localhost:8080/"
        },
        "outputId": "1c0f20fb-43f4-419f-c0bb-88a00b8c4d4e"
      },
      "id": "NGxH_SQBpG4v",
      "execution_count": 107,
      "outputs": [
        {
          "output_type": "stream",
          "name": "stdout",
          "text": [
            "[[4181 2597]\n",
            " [ 786 1739]]\n"
          ]
        }
      ]
    },
    {
      "cell_type": "code",
      "source": [
        "plt.plot(fpr_o, tpr_o, label= \"Oversampled\")\n",
        "plt.plot(fpr_u, tpr_u, label= \"Undersapled\")\n",
        "plt.legend()\n",
        "plt.ylabel('True Positive Rate')\n",
        "plt.xlabel('False Positive Rate')\n",
        "plt.title('Logistic Regresssion, English-Spanish dataset')\n",
        "plt.show()"
      ],
      "metadata": {
        "id": "qtWAnNeEpUER",
        "colab": {
          "base_uri": "https://localhost:8080/",
          "height": 472
        },
        "outputId": "4fdee47d-83ae-4e81-8e79-78171daf24fc"
      },
      "id": "qtWAnNeEpUER",
      "execution_count": 108,
      "outputs": [
        {
          "output_type": "display_data",
          "data": {
            "text/plain": [
              "<Figure size 640x480 with 1 Axes>"
            ],
            "image/png": "[encoded data removed]"
          },
          "metadata": {}
        }
      ]
    }
  ],
  "metadata": {
    "colab": {
      "provenance": []
    },
    "kernelspec": {
      "display_name": "Python 3 (ipykernel)",
      "language": "python",
      "name": "python3"
    },
    "language_info": {
      "codemirror_mode": {
        "name": "ipython",
        "version": 3
      },
      "file_extension": ".py",
      "mimetype": "text/x-python",
      "name": "python",
      "nbconvert_exporter": "python",
      "pygments_lexer": "ipython3",
      "version": "3.10.6"
    }
  },
  "nbformat": 4,
  "nbformat_minor": 5
}